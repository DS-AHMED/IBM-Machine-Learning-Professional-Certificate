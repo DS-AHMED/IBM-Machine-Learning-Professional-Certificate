{
 "cells": [
  {
   "cell_type": "code",
   "execution_count": 1,
   "id": "6733a431",
   "metadata": {},
   "outputs": [],
   "source": [
    "import pandas as pd\n",
    "import numpy as np"
   ]
  },
  {
   "cell_type": "code",
   "execution_count": null,
   "id": "ed22820a",
   "metadata": {},
   "outputs": [
    {
     "name": "stdout",
     "output_type": "stream",
     "text": [
      "Found existing installation: tensorflow 2.12.0\n",
      "Uninstalling tensorflow-2.12.0:\n",
      "  Would remove:\n",
      "    /Users/ahmadkhair/anaconda3/bin/estimator_ckpt_converter\n",
      "    /Users/ahmadkhair/anaconda3/bin/import_pb_to_tensorboard\n",
      "    /Users/ahmadkhair/anaconda3/bin/saved_model_cli\n",
      "    /Users/ahmadkhair/anaconda3/bin/tensorboard\n",
      "    /Users/ahmadkhair/anaconda3/bin/tf_upgrade_v2\n",
      "    /Users/ahmadkhair/anaconda3/bin/tflite_convert\n",
      "    /Users/ahmadkhair/anaconda3/bin/toco\n",
      "    /Users/ahmadkhair/anaconda3/bin/toco_from_protos\n",
      "    /Users/ahmadkhair/anaconda3/lib/python3.10/site-packages/tensorflow-2.12.0.dist-info/*\n",
      "    /Users/ahmadkhair/anaconda3/lib/python3.10/site-packages/tensorflow/*\n",
      "Proceed (Y/n)? "
     ]
    }
   ],
   "source": [
    "!pip uninstall tensorflow"
   ]
  },
  {
   "cell_type": "code",
   "execution_count": 2,
   "id": "fe47c317",
   "metadata": {},
   "outputs": [
    {
     "name": "stderr",
     "output_type": "stream",
     "text": [
      "2023-05-20 09:44:08.633335: I tensorflow/core/platform/cpu_feature_guard.cc:193] This TensorFlow binary is optimized with oneAPI Deep Neural Network Library (oneDNN) to use the following CPU instructions in performance-critical operations:  SSE4.1 SSE4.2\n",
      "To enable them in other operations, rebuild TensorFlow with the appropriate compiler flags.\n"
     ]
    }
   ],
   "source": [
    "import tensorflow"
   ]
  },
  {
   "cell_type": "code",
   "execution_count": 3,
   "id": "b11faa66",
   "metadata": {},
   "outputs": [],
   "source": [
    "import tensorflow.keras"
   ]
  },
  {
   "cell_type": "code",
   "execution_count": null,
   "id": "1dfd346d",
   "metadata": {},
   "outputs": [],
   "source": []
  }
 ],
 "metadata": {
  "kernelspec": {
   "display_name": "Python 3 (ipykernel)",
   "language": "python",
   "name": "python3"
  },
  "language_info": {
   "codemirror_mode": {
    "name": "ipython",
    "version": 3
   },
   "file_extension": ".py",
   "mimetype": "text/x-python",
   "name": "python",
   "nbconvert_exporter": "python",
   "pygments_lexer": "ipython3",
   "version": "3.10.9"
  }
 },
 "nbformat": 4,
 "nbformat_minor": 5
}
