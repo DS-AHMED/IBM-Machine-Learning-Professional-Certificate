{
 "cells": [
  {
   "cell_type": "markdown",
   "id": "b3233739-19db-405c-93c0-72de387f30a8",
   "metadata": {},
   "source": [
    "<center>\n",
    "    <img src=\"https://cf-courses-data.s3.us.cloud-object-storage.appdomain.cloud/assets/logos/SN_web_lightmode.png\" width=\"300\" alt=\"cognitiveclass.ai logo\">\n",
    "</center>\n"
   ]
  },
  {
   "cell_type": "markdown",
   "id": "84902af4-a9b7-4d69-b4c6-881c24d1f2cb",
   "metadata": {
    "tags": []
   },
   "source": [
    "# **Introduction to Model APIs in Keras**\n"
   ]
  },
  {
   "cell_type": "markdown",
   "id": "ba0281fd-a93d-4cdb-a250-26ae13483452",
   "metadata": {},
   "source": [
    "Estimated time needed: **45** minutes\n"
   ]
  },
  {
   "cell_type": "markdown",
   "id": "ce8c2619-e91a-4017-aad1-b229aa750608",
   "metadata": {},
   "source": [
    "In this lab, we will use a simple example to introduce you to different ways of creating models in Keras. \n"
   ]
  },
  {
   "cell_type": "markdown",
   "id": "cd1ae5e5-5063-41c4-ae69-363b525877a8",
   "metadata": {},
   "source": [
    "## __Table of Contents__\n",
    "\n",
    "<ol>\n",
    "    <li><a href=\"#Objectives\">Objectives</a></li>\n",
    "    <li>\n",
    "        <a href=\"#Setup\">Setup</a>\n",
    "        <ol>\n",
    "            <li><a href=\"#Installing-Required-Libraries\">Installing Required Libraries</a></li>\n",
    "            <li><a href=\"#Importing-Required-Libraries\">Importing Required Libraries</a></li>\n",
    "            <li><a href=\"#Defining-Helper-Functions\">Defining Helper Functions</a></li>\n",
    "        </ol>\n",
    "    </li>\n",
    "    <li><a href=\"#Types of Model APIs in Keras\">Types of Model APIs in Keras</a>\n",
    "        <ol>\n",
    "            <li><a href=\"#Task Definition\">Task Definition</a></li>\n",
    "            <li><a href=\"#The Sequential Model API\">The Sequential Model API</a></li>\n",
    "            <li><a href=\"#The Functional Model API\">The Functional Model API</a></li>\n",
    "            <li><a href=\"#Model Subclassing\">Model Subclassing</a></li>\n",
    "        </ol>\n",
    "    </li>\n"
   ]
  },
  {
   "cell_type": "markdown",
   "id": "3ab84007-4c13-45ef-aa7a-49c4a9c6206e",
   "metadata": {},
   "source": [
    "## Objectives\n",
    "\n",
    "After completing this lab you will be able to:\n",
    "\n",
    "- __Understand__ different use cases for the Sequential and Functional APIs\n",
    "- __Build__ custom models using sub-classing in Keras\n"
   ]
  },
  {
   "cell_type": "markdown",
   "id": "de8a04ee-d7fd-4876-aa4c-5fd0f60c1646",
   "metadata": {},
   "source": [
    "## Setup\n"
   ]
  },
  {
   "cell_type": "markdown",
   "id": "999d07c6-a64f-4e29-9bf4-f06510935973",
   "metadata": {},
   "source": [
    "For this lab, we will be using the following libraries:\n",
    "\n",
    "*   [`pandas`](https://pandas.pydata.org/?utm_medium=Exinfluencer&utm_source=Exinfluencer&utm_content=000026UJ&utm_term=10006555&utm_id=NA-SkillsNetwork-Channel-SkillsNetworkCoursesIBMML0187ENSkillsNetwork31430127-2021-01-01) for managing the data.\n",
    "*   [`numpy`](https://numpy.org/?utm_medium=Exinfluencer&utm_source=Exinfluencer&utm_content=000026UJ&utm_term=10006555&utm_id=NA-SkillsNetwork-Channel-SkillsNetworkCoursesIBMML0187ENSkillsNetwork31430127-2021-01-01) for mathematical operations.\n",
    "*   [`sklearn`](https://scikit-learn.org/stable/?utm_medium=Exinfluencer&utm_source=Exinfluencer&utm_content=000026UJ&utm_term=10006555&utm_id=NA-SkillsNetwork-Channel-SkillsNetworkCoursesIBMML0187ENSkillsNetwork31430127-2021-01-01) for machine learning and machine-learning-pipeline related functions.\n",
    "*   [`seaborn`](https://seaborn.pydata.org/?utm_medium=Exinfluencer&utm_source=Exinfluencer&utm_content=000026UJ&utm_term=10006555&utm_id=NA-SkillsNetwork-Channel-SkillsNetworkCoursesIBMML0187ENSkillsNetwork31430127-2021-01-01) for visualizing the data.\n",
    "*   [`matplotlib`](https://matplotlib.org/?utm_medium=Exinfluencer&utm_source=Exinfluencer&utm_content=000026UJ&utm_term=10006555&utm_id=NA-SkillsNetwork-Channel-SkillsNetworkCoursesIBMML0187ENSkillsNetwork31430127-2021-01-01) for additional plotting tools.\n",
    "*   [`keras`](https://keras.io/?utm_medium=Exinfluencer&utm_source=Exinfluencer&utm_content=000026UJ&utm_term=10006555&utm_id=NA-SkillsNetwork-Channel-SkillsNetworkCoursesIBMML0187ENSkillsNetwork31430127-2021-01-01) for loading datasets.\n"
   ]
  },
  {
   "cell_type": "markdown",
   "id": "7dcff019-bd2f-4dc5-abf5-3bf62feb7611",
   "metadata": {},
   "source": [
    "### Installing Required Libraries\n",
    "\n",
    "The following required libraries are pre-installed in the Skills Network Labs environment. However, if you run these notebook commands in a different Jupyter environment (like Watson Studio or Ananconda), you will need to install these libraries by removing the `#` sign before `!pip install mlxtend` in the following code cell.\n"
   ]
  },
  {
   "cell_type": "markdown",
   "id": "1f3688ea-98b1-4e60-86c0-63cc99dc670c",
   "metadata": {},
   "source": [
    "The following required libraries are __not__ pre-installed in the Skills Network Labs environment. __You will need to run the following cell__ to install them:\n"
   ]
  },
  {
   "cell_type": "code",
   "execution_count": 1,
   "id": "0886f3c9-585d-42e6-b193-b70fc75fdd60",
   "metadata": {
    "tags": []
   },
   "outputs": [],
   "source": [
    "%%capture\n",
    "\n",
    "!pip install mlxtend\n",
    "!pip install --upgrade tensorflow"
   ]
  },
  {
   "cell_type": "markdown",
   "id": "0b233019-1d4b-4d85-b35d-b42a96b3a0f5",
   "metadata": {},
   "source": [
    "### Importing Required Libraries\n"
   ]
  },
  {
   "cell_type": "code",
   "execution_count": 2,
   "id": "1a44ff15-1ab5-4a6a-99ed-55eedd4e423f",
   "metadata": {
    "tags": []
   },
   "outputs": [
    {
     "name": "stderr",
     "output_type": "stream",
     "text": [
      "2023-05-16 07:15:05.754029: I tensorflow/core/platform/cpu_feature_guard.cc:193] This TensorFlow binary is optimized with oneAPI Deep Neural Network Library (oneDNN) to use the following CPU instructions in performance-critical operations:  AVX2 FMA\n",
      "To enable them in other operations, rebuild TensorFlow with the appropriate compiler flags.\n",
      "2023-05-16 07:15:05.940615: W tensorflow/compiler/xla/stream_executor/platform/default/dso_loader.cc:64] Could not load dynamic library 'libcudart.so.11.0'; dlerror: libcudart.so.11.0: cannot open shared object file: No such file or directory\n",
      "2023-05-16 07:15:05.940695: I tensorflow/compiler/xla/stream_executor/cuda/cudart_stub.cc:29] Ignore above cudart dlerror if you do not have a GPU set up on your machine.\n",
      "2023-05-16 07:15:07.118959: W tensorflow/compiler/xla/stream_executor/platform/default/dso_loader.cc:64] Could not load dynamic library 'libnvinfer.so.7'; dlerror: libnvinfer.so.7: cannot open shared object file: No such file or directory\n",
      "2023-05-16 07:15:07.119293: W tensorflow/compiler/xla/stream_executor/platform/default/dso_loader.cc:64] Could not load dynamic library 'libnvinfer_plugin.so.7'; dlerror: libnvinfer_plugin.so.7: cannot open shared object file: No such file or directory\n",
      "2023-05-16 07:15:07.119347: W tensorflow/compiler/tf2tensorrt/utils/py_utils.cc:38] TF-TRT Warning: Cannot dlopen some TensorRT libraries. If you would like to use Nvidia GPU with TensorRT, please make sure the missing libraries mentioned above are installed properly.\n"
     ]
    },
    {
     "name": "stdout",
     "output_type": "stream",
     "text": [
      "2.11.0\n"
     ]
    }
   ],
   "source": [
    "import numpy as np\n",
    "from matplotlib import pyplot as plt\n",
    "import pandas as pd\n",
    "import numpy as np\n",
    "import keras\n",
    "import tensorflow as tf\n",
    "print(tf.__version__)\n",
    "from sklearn import preprocessing\n",
    "from tensorflow.keras.utils import to_categorical\n",
    "from tensorflow.keras import layers\n",
    "from keras.models import Sequential\n",
    "from keras.layers import Dense\n",
    "from keras.wrappers.scikit_learn import KerasClassifier\n",
    "from sklearn.model_selection import cross_val_score\n",
    "from sklearn.preprocessing import LabelEncoder\n",
    "from sklearn.model_selection import StratifiedKFold\n",
    "from sklearn.preprocessing import StandardScaler\n",
    "from sklearn.pipeline import Pipeline\n",
    "from sklearn.utils import shuffle\n",
    "from sklearn import metrics\n",
    "from sklearn.model_selection import train_test_split\n",
    "seed = 7\n",
    "np.random.seed(seed)\n"
   ]
  },
  {
   "cell_type": "markdown",
   "id": "9e95d0b0-36bb-49ad-bd84-38305bac56c2",
   "metadata": {},
   "source": [
    "## Types of Model APIs in Keras \n"
   ]
  },
  {
   "cell_type": "markdown",
   "id": "e7f92508-544d-4101-b142-d62dcba45e0c",
   "metadata": {},
   "source": [
    "There are three main ways of creating models in Keras.\n"
   ]
  },
  {
   "cell_type": "markdown",
   "id": "a12a76f7-9523-4463-ae35-a34625093ae3",
   "metadata": {},
   "source": [
    "* **The Sequential Model**: This is a straightforward way of stacking layers but is limited to having a single-input and single-output stack of layers. \n",
    "* **The Functional API**: This can support arbitrary model architectures, and is more flexible in enabling complex implementations.\n",
    "\n",
    "* **Model subclassing**: This is a way of implementing models from scratch. This is mainly used for out-of-the-box research use cases.\n"
   ]
  },
  {
   "cell_type": "markdown",
   "id": "4f01148a-3229-4606-a2b0-4bb612419496",
   "metadata": {},
   "source": [
    "In the rest of the lab, we will go through all of these ways of creating models, and walk through a use case for implementing and training each of these model architectures in Keras and Tensorflow. \n"
   ]
  },
  {
   "cell_type": "markdown",
   "id": "9a8d39ee-48f7-433d-9a8e-12a611d118a0",
   "metadata": {},
   "source": [
    "### __Task Definition__\n"
   ]
  },
  {
   "cell_type": "markdown",
   "id": "dc19026b-e930-4d73-a65c-4d63d714a0d7",
   "metadata": {},
   "source": [
    "In this lab, we will be performing a simple classification task using the 'Sonar' dataset from [UCI](http://archive.ics.uci.edu/ml/datasets/connectionist+bench+\\(sonar,+mines+vs.+rocks\\)?utm_medium=Exinfluencer&utm_source=Exinfluencer&utm_content=000026UJ&utm_term=10006555&utm_id=NA-SkillsNetwork-Channel-SkillsNetworkCoursesIBMDeveloperSkillsNetworkML311Coursera747-2022-01-01).\n",
    "\n",
    "\n",
    "> The label associated with each record contains the letter \"R\" if the object is a rock and \"M\" if it is a mine (metal cylinder). The numbers in the labels are in increasing order of aspect angle, but they do not encode the angle directly.\n",
    "\n"
   ]
  },
  {
   "cell_type": "markdown",
   "id": "a337273e-f66e-43ae-9c34-afce25c6709c",
   "metadata": {},
   "source": [
    "Let's start by reading in the dataset and defining our feature and target variables.\n"
   ]
  },
  {
   "cell_type": "code",
   "execution_count": 3,
   "id": "a74db411-7dde-4eab-990b-de764a35071a",
   "metadata": {
    "tags": []
   },
   "outputs": [],
   "source": [
    "dataframe = pd.read_csv(\"https://cf-courses-data.s3.us.cloud-object-storage.appdomain.cloud/IBMDeveloperSkillsNetwork-ML311-Coursera/labs/Module1/L1/data/sonar.csv\", header=None)\n",
    "\n",
    "dataset = dataframe.values\n",
    "\n",
    "X = dataset[:, 0:60].astype(float)\n",
    "y = dataset[:, 60]\n",
    "\n",
    "# encode labels\n",
    "le = LabelEncoder()\n",
    "encoded_y = le.fit(y).transform(y)"
   ]
  },
  {
   "cell_type": "markdown",
   "id": "44bf3071-0e20-409e-b19f-2f792ec83014",
   "metadata": {},
   "source": [
    "Now, we will split the dataset into a training and testing set with a 80:20 ratio.\n"
   ]
  },
  {
   "cell_type": "code",
   "execution_count": 4,
   "id": "39676f22-261a-4812-a719-c1e9692b4ba0",
   "metadata": {
    "tags": []
   },
   "outputs": [],
   "source": [
    "X_train, X_test, y_train, y_test = train_test_split(X, encoded_y, test_size=0.20, random_state=42)"
   ]
  },
  {
   "cell_type": "markdown",
   "id": "3f9938cc-3181-47fb-82e0-d3a5a372b752",
   "metadata": {},
   "source": [
    "### **The Sequential Model API** \n"
   ]
  },
  {
   "cell_type": "markdown",
   "id": "5cca2b8d-665a-404a-a1a1-5eed88688cfe",
   "metadata": {},
   "source": [
    "The Sequential model API groups a linear stack of layers into a `tf.keras.Model`. It doesn't allow you to create models that share layers, have branches, multiple inputs, or multiple outputs. It does provide training and inference features on this model.  \n",
    "\n",
    "<img src=\"https://cf-courses-data.s3.us.cloud-object-storage.appdomain.cloud/IBMDeveloperSkillsNetwork-ML311-Coursera/labs/Module1/L1/images/sequential_model.png\" alt=\"The Sequential model API\" width=\"50%\">\n"
   ]
  },
  {
   "cell_type": "markdown",
   "id": "a89eb4fa-5d39-43e2-8317-e960146055c9",
   "metadata": {},
   "source": [
    "\n",
    "As you'll see, using the Sequential API is simple and straightforward, but is only appropriate for simpler, more straightforward tasks. Later in this notebook you'll spend some time building with a more flexible, powerful alternative: the Functional API.\n"
   ]
  },
  {
   "cell_type": "markdown",
   "id": "60909897-6a2f-440f-b1c5-e04bae8e71bf",
   "metadata": {},
   "source": [
    "### Create the Sequential Model\n"
   ]
  },
  {
   "cell_type": "markdown",
   "id": "d958e519-d718-42f7-85b4-d606975cc0b7",
   "metadata": {},
   "source": [
    "We start off by initializing the model as an instance of the Sequential class, like so: `model = Sequential()`. We follow this by adding layers, normalization layers, methods, softmax classifiers, and so on to the class, one at a time, using `model.add()`. This can be used to add different types of layer instances on top of the layer stack. Similarly, we can use `model.pop()` to remove the last layer of the model. \n",
    "\n",
    "Typically, the first layer receives an `input_shape` argument. This is because, in Keras, the shape of the weights is based on the shape of the inputs. The weights are only created when the model first sees some input data. After that, we can omit this argument and automate the inference of the input shape.\n",
    "\n",
    "Note that if your model is non-linear or contains layers with multiple inputs or outputs, a Sequential model wouldn't be the right choice. \n"
   ]
  },
  {
   "cell_type": "code",
   "execution_count": 5,
   "id": "95c17592-d05c-46cf-a5ed-ee77c92fe192",
   "metadata": {
    "tags": []
   },
   "outputs": [],
   "source": [
    "def baseline_model():\n",
    "    model = Sequential()\n",
    "    model.add(Dense(60, activation='relu', input_shape=(60,)))\n",
    "    model.add(Dense(60, activation='relu'))\n",
    "    model.add(Dense(1, activation='sigmoid'))\n",
    "    model.compile(optimizer='adam',\n",
    "              loss='binary_crossentropy',\n",
    "              metrics=['accuracy'])\n",
    "\n",
    "    return model"
   ]
  },
  {
   "cell_type": "code",
   "execution_count": 6,
   "id": "e91d028f-3502-437f-9cc7-9ea03bcf8997",
   "metadata": {
    "tags": []
   },
   "outputs": [
    {
     "name": "stderr",
     "output_type": "stream",
     "text": [
      "2023-05-16 07:19:12.102478: W tensorflow/compiler/xla/stream_executor/platform/default/dso_loader.cc:64] Could not load dynamic library 'libcuda.so.1'; dlerror: libcuda.so.1: cannot open shared object file: No such file or directory\n",
      "2023-05-16 07:19:12.102574: W tensorflow/compiler/xla/stream_executor/cuda/cuda_driver.cc:265] failed call to cuInit: UNKNOWN ERROR (303)\n",
      "2023-05-16 07:19:12.102624: I tensorflow/compiler/xla/stream_executor/cuda/cuda_diagnostics.cc:156] kernel driver does not appear to be running on this host (jupyterlab-ahmadking31j): /proc/driver/nvidia/version does not exist\n",
      "2023-05-16 07:19:12.103215: I tensorflow/core/platform/cpu_feature_guard.cc:193] This TensorFlow binary is optimized with oneAPI Deep Neural Network Library (oneDNN) to use the following CPU instructions in performance-critical operations:  AVX2 FMA\n",
      "To enable them in other operations, rebuild TensorFlow with the appropriate compiler flags.\n"
     ]
    },
    {
     "name": "stdout",
     "output_type": "stream",
     "text": [
      "Model: \"sequential\"\n",
      "_________________________________________________________________\n",
      " Layer (type)                Output Shape              Param #   \n",
      "=================================================================\n",
      " dense (Dense)               (None, 60)                3660      \n",
      "                                                                 \n",
      " dense_1 (Dense)             (None, 60)                3660      \n",
      "                                                                 \n",
      " dense_2 (Dense)             (None, 1)                 61        \n",
      "                                                                 \n",
      "=================================================================\n",
      "Total params: 7,381\n",
      "Trainable params: 7,381\n",
      "Non-trainable params: 0\n",
      "_________________________________________________________________\n"
     ]
    }
   ],
   "source": [
    "estimator = baseline_model()\n",
    "estimator.summary()"
   ]
  },
  {
   "cell_type": "markdown",
   "id": "26074245-6410-4071-9042-c5b0c3f0b838",
   "metadata": {},
   "source": [
    "### Train and Evaluate the Model\n"
   ]
  },
  {
   "cell_type": "markdown",
   "id": "365f8278-fd4a-48d2-a380-5e666f7bbc29",
   "metadata": {},
   "source": [
    "After creating the model, compiling it with your choice of optimizer and loss function, and doing a sanity check on its contents, you are now ready to build.\n",
    "\n",
    "Simply call the `.fit()` to train the model. \n"
   ]
  },
  {
   "cell_type": "code",
   "execution_count": 7,
   "id": "12475702-e582-4858-aa45-eabc5d1b6a26",
   "metadata": {
    "tags": []
   },
   "outputs": [
    {
     "name": "stdout",
     "output_type": "stream",
     "text": [
      "Epoch 1/10\n",
      "11/11 [==============================] - 1s 8ms/step - loss: 0.7003 - accuracy: 0.4759\n",
      "Epoch 2/10\n",
      "11/11 [==============================] - 0s 8ms/step - loss: 0.6803 - accuracy: 0.5482\n",
      "Epoch 3/10\n",
      "11/11 [==============================] - 0s 6ms/step - loss: 0.6649 - accuracy: 0.6687\n",
      "Epoch 4/10\n",
      "11/11 [==============================] - 0s 7ms/step - loss: 0.6487 - accuracy: 0.7470\n",
      "Epoch 5/10\n",
      "11/11 [==============================] - 0s 8ms/step - loss: 0.6291 - accuracy: 0.7229\n",
      "Epoch 6/10\n",
      "11/11 [==============================] - 0s 7ms/step - loss: 0.6136 - accuracy: 0.6747\n",
      "Epoch 7/10\n",
      "11/11 [==============================] - 0s 10ms/step - loss: 0.5899 - accuracy: 0.7470\n",
      "Epoch 8/10\n",
      "11/11 [==============================] - 0s 6ms/step - loss: 0.5727 - accuracy: 0.7952\n",
      "Epoch 9/10\n",
      "11/11 [==============================] - 0s 5ms/step - loss: 0.5493 - accuracy: 0.7831\n",
      "Epoch 10/10\n",
      "11/11 [==============================] - 0s 4ms/step - loss: 0.5188 - accuracy: 0.7831\n"
     ]
    },
    {
     "data": {
      "text/plain": [
       "<keras.callbacks.History at 0x7fd52858bb50>"
      ]
     },
     "execution_count": 7,
     "metadata": {},
     "output_type": "execute_result"
    }
   ],
   "source": [
    "# Write your solution here\n",
    "estimator.fit(X_train, y_train, epochs=10, batch_size=16)"
   ]
  },
  {
   "cell_type": "markdown",
   "id": "e0aa1fba-00e2-4d06-92c6-e654b27707d1",
   "metadata": {},
   "source": [
    "<details>\n",
    "    <summary>Click here for Solution</summary>\n",
    "\n",
    "```python\n",
    "estimator.fit(X_train, y_train, epochs=10, batch_size=16)\n",
    "```\n",
    "\n",
    "</details>\n"
   ]
  },
  {
   "cell_type": "markdown",
   "id": "b82c8a0c-1faa-4cfe-b69c-e39159e1e268",
   "metadata": {},
   "source": [
    "After that completes, just use `.predict()` to evaluate against your test set. In this case, the `accuracy` will be used as the metric.\n"
   ]
  },
  {
   "cell_type": "code",
   "execution_count": 8,
   "id": "4cb5b7ac-562a-45c7-b681-501317b60b32",
   "metadata": {
    "tags": []
   },
   "outputs": [
    {
     "name": "stdout",
     "output_type": "stream",
     "text": [
      "2/2 [==============================] - 0s 12ms/step\n"
     ]
    },
    {
     "data": {
      "text/plain": [
       "0.8571428571428571"
      ]
     },
     "execution_count": 8,
     "metadata": {},
     "output_type": "execute_result"
    }
   ],
   "source": [
    "y_pred = estimator.predict(X_test)\n",
    "y_pred = [1 if x >= 0.5 else 0 for x in y_pred]\n",
    "metrics.accuracy_score(y_pred, y_test)"
   ]
  },
  {
   "cell_type": "markdown",
   "id": "a54021b3-71b3-46e5-b9df-c4020bb0038c",
   "metadata": {},
   "source": [
    "### **The Functional Model API**\n"
   ]
  },
  {
   "cell_type": "markdown",
   "id": "3d024141-8452-4e1e-a90f-2a3118021848",
   "metadata": {},
   "source": [
    "The Sequential class in Keras is typically used for implementing basic neural network architectures. The `Functional` class is typically preferred by most deep learning practitioners as it is more flexible and enables more complex implementations. It allows you to have non-linear topologies, different layers, multiple inputs and outputs. You can easily define branches in your architectures and easily share layers inside architectures. A Functional model is a graph where the nodes of the layers can connect in many more ways than one.\n",
    "\n",
    "<img src=\"https://cf-courses-data.s3.us.cloud-object-storage.appdomain.cloud/IBMDeveloperSkillsNetwork-ML311-Coursera/labs/Module1/L1/images/functional_model.png\" alt=\"The Sequential model API\" width=\"50%\">\n",
    "\n",
    "\n",
    "All models that are implemented in `Sequential()` can easily be implemented in `Functional()`. Some examples of models that are implemented in `Functional()` include ResNet, GoogleNet, Xception. \n"
   ]
  },
  {
   "cell_type": "markdown",
   "id": "d4e9a02e-68aa-4f62-9803-f613743a05ea",
   "metadata": {},
   "source": [
    "Both `Sequential()` and `Functional()` use the same training, evaluation, and inference functions. \n",
    "\n",
    "The Model class offers a built in training loop through the `.fit()` method, and a built-in evaluation loop using the `.evaluate()` method. \n",
    "\n",
    "The following is a simple example of fitting and evaluating a model on MNIST test data:    \n"
   ]
  },
  {
   "cell_type": "markdown",
   "id": "6d158779-0e09-4032-8c26-046465c638cd",
   "metadata": {},
   "source": [
    "We will start by loading the dataset directly using Keras.\n"
   ]
  },
  {
   "cell_type": "code",
   "execution_count": 9,
   "id": "1282f468-7a78-4c22-9d8c-04eed8088a71",
   "metadata": {
    "tags": []
   },
   "outputs": [],
   "source": [
    "def functional_model():\n",
    "    inputs = keras.Input(shape=(60,))\n",
    "    layer1 = Dense(60, activation='relu')(inputs)\n",
    "    layer2 = Dense(60, activation='relu')(layer1)\n",
    "    outputs = Dense(1, activation='sigmoid')(layer2)\n",
    "\n",
    "    model = keras.Model(inputs, outputs)\n",
    "    \n",
    "    # Compile model, write code below\n",
    "    model.compile(optimizer='adam',\n",
    "              loss='binary_crossentropy',\n",
    "              metrics=['accuracy'])\n",
    "\n",
    "    return model"
   ]
  },
  {
   "cell_type": "code",
   "execution_count": 10,
   "id": "60b1e36b-8dd9-47e5-8e5c-d967071a1bf6",
   "metadata": {
    "tags": []
   },
   "outputs": [
    {
     "name": "stdout",
     "output_type": "stream",
     "text": [
      "Model: \"sequential\"\n",
      "_________________________________________________________________\n",
      " Layer (type)                Output Shape              Param #   \n",
      "=================================================================\n",
      " dense (Dense)               (None, 60)                3660      \n",
      "                                                                 \n",
      " dense_1 (Dense)             (None, 60)                3660      \n",
      "                                                                 \n",
      " dense_2 (Dense)             (None, 1)                 61        \n",
      "                                                                 \n",
      "=================================================================\n",
      "Total params: 7,381\n",
      "Trainable params: 7,381\n",
      "Non-trainable params: 0\n",
      "_________________________________________________________________\n"
     ]
    }
   ],
   "source": [
    "functional_estimator=functional_model()\n",
    "estimator.summary()"
   ]
  },
  {
   "cell_type": "code",
   "execution_count": 11,
   "id": "4967db2f-12c1-4031-b56d-874b6553d360",
   "metadata": {
    "tags": []
   },
   "outputs": [
    {
     "name": "stdout",
     "output_type": "stream",
     "text": [
      "Epoch 1/10\n",
      "11/11 [==============================] - 1s 6ms/step - loss: 0.7086 - accuracy: 0.4157\n",
      "Epoch 2/10\n",
      "11/11 [==============================] - 0s 6ms/step - loss: 0.6842 - accuracy: 0.5181\n",
      "Epoch 3/10\n",
      "11/11 [==============================] - 0s 6ms/step - loss: 0.6584 - accuracy: 0.6928\n",
      "Epoch 4/10\n",
      "11/11 [==============================] - 0s 6ms/step - loss: 0.6432 - accuracy: 0.6867\n",
      "Epoch 5/10\n",
      "11/11 [==============================] - 0s 6ms/step - loss: 0.6269 - accuracy: 0.6566\n",
      "Epoch 6/10\n",
      "11/11 [==============================] - 0s 6ms/step - loss: 0.5963 - accuracy: 0.7590\n",
      "Epoch 7/10\n",
      "11/11 [==============================] - 0s 6ms/step - loss: 0.5751 - accuracy: 0.7711\n",
      "Epoch 8/10\n",
      "11/11 [==============================] - 0s 6ms/step - loss: 0.5548 - accuracy: 0.7289\n",
      "Epoch 9/10\n",
      "11/11 [==============================] - 0s 6ms/step - loss: 0.5345 - accuracy: 0.7590\n",
      "Epoch 10/10\n",
      "11/11 [==============================] - 0s 5ms/step - loss: 0.5090 - accuracy: 0.7831\n"
     ]
    },
    {
     "data": {
      "text/plain": [
       "<keras.callbacks.History at 0x7fd528530d10>"
      ]
     },
     "execution_count": 11,
     "metadata": {},
     "output_type": "execute_result"
    }
   ],
   "source": [
    "functional_estimator.fit(X_train, y_train, epochs=10, batch_size=16)"
   ]
  },
  {
   "cell_type": "markdown",
   "id": "a3e43c38-10a2-4432-9d98-44580dfe865f",
   "metadata": {},
   "source": [
    "Similar to what we did before, evaluate the estimator's performance on the test dataset, and print out the accuracy.\n"
   ]
  },
  {
   "cell_type": "code",
   "execution_count": 12,
   "id": "29686369-7bb8-4a91-bfa3-edc4fb021f76",
   "metadata": {
    "tags": []
   },
   "outputs": [
    {
     "name": "stdout",
     "output_type": "stream",
     "text": [
      "2/2 [==============================] - 0s 4ms/step\n"
     ]
    },
    {
     "data": {
      "text/plain": [
       "0.8809523809523809"
      ]
     },
     "execution_count": 12,
     "metadata": {},
     "output_type": "execute_result"
    }
   ],
   "source": [
    "# Write your solution here\n",
    "y_pred = functional_estimator.predict(X_test)\n",
    "y_pred = [1 if x >= 0.5 else 0 for x in y_pred]\n",
    "metrics.accuracy_score(y_pred, y_test)"
   ]
  },
  {
   "cell_type": "markdown",
   "id": "940973bc-a318-4098-b405-96d66f24ffe0",
   "metadata": {},
   "source": [
    "<details>\n",
    "    <summary>Click here for Solution</summary>\n",
    "\n",
    "```python\n",
    "y_pred = functional_estimator.predict(X_test)\n",
    "y_pred = [1 if x >= 0.5 else 0 for x in y_pred]\n",
    "metrics.accuracy_score(y_pred, y_test)\n",
    "```\n",
    "\n",
    "</details>\n"
   ]
  },
  {
   "cell_type": "markdown",
   "id": "7c55d0bc-87ff-433f-8c81-0bcec33c9b0f",
   "metadata": {},
   "source": [
    "### **Model Subclassing**\n"
   ]
  },
  {
   "cell_type": "markdown",
   "id": "934c8188-de62-4946-bc02-90ddea3cde1d",
   "metadata": {},
   "source": [
    "Next, we will learn how to make new models and classes using model sub-classing. This method is more flexible and can be used to implement out-of-box models, but this comes at a cost, it is a lot harder to utilize than `Sequential()` and `Functional()` API. \n",
    "\n",
    "<img src=\"https://cf-courses-data.s3.us.cloud-object-storage.appdomain.cloud/IBMDeveloperSkillsNetwork-ML311-Coursera/labs/Module1/L1/images/subclassing.png\" alt=\"The Sequential model API\" width=\"30%\">\n",
    "\n",
    "\n",
    "We will implement a custom model that performs a type of convolution or pooling. In the following example, we will implement a Sequential model but define it with multiple inputs and outputs. \n"
   ]
  },
  {
   "cell_type": "code",
   "execution_count": 13,
   "id": "ab4aca5f-9116-4034-87c1-0b44d5fc6ec8",
   "metadata": {
    "tags": []
   },
   "outputs": [],
   "source": [
    "class MyModel(tf.keras.Model):\n",
    "    def __init__(self):\n",
    "        super().__init__()\n",
    "        self.dense1 = Dense(60, activation = 'relu')\n",
    "        self.dense2 = Dense(60, activation = 'relu')\n",
    "        self.dense3 = Dense(1, activation = 'sigmoid')\n",
    "\n",
    "    def call(self, inputs):\n",
    "        x = self.dense1(inputs)\n",
    "        x = self.dense2(x)\n",
    "        return self.dense3(x)\n",
    "    \n",
    "def subclass_model():\n",
    "    inputs = keras.Input(shape=(60,))\n",
    "    mymodel = MyModel()\n",
    "    outputs = mymodel.call(inputs)\n",
    "\n",
    "    model = keras.Model(inputs, outputs)\n",
    "    model.compile(optimizer='adam',\n",
    "              loss='binary_crossentropy',\n",
    "              metrics=['accuracy'])\n",
    "    \n",
    "    return model"
   ]
  },
  {
   "cell_type": "code",
   "execution_count": 35,
   "id": "d86167ab-f04c-4ad2-9837-ba517321e897",
   "metadata": {},
   "outputs": [
    {
     "name": "stdout",
     "output_type": "stream",
     "text": [
      "Epoch 1/15\n",
      "11/11 [==============================] - 0s 4ms/step - loss: 0.6960 - accuracy: 0.5120\n",
      "Epoch 2/15\n",
      "11/11 [==============================] - 0s 4ms/step - loss: 0.6757 - accuracy: 0.5482\n",
      "Epoch 3/15\n",
      "11/11 [==============================] - 0s 4ms/step - loss: 0.6547 - accuracy: 0.6265\n",
      "Epoch 4/15\n",
      "11/11 [==============================] - 0s 4ms/step - loss: 0.6361 - accuracy: 0.6807\n",
      "Epoch 5/15\n",
      "11/11 [==============================] - 0s 4ms/step - loss: 0.6213 - accuracy: 0.6687\n",
      "Epoch 6/15\n",
      "11/11 [==============================] - 0s 4ms/step - loss: 0.6051 - accuracy: 0.6747\n",
      "Epoch 7/15\n",
      "11/11 [==============================] - 0s 4ms/step - loss: 0.5843 - accuracy: 0.7410\n",
      "Epoch 8/15\n",
      "11/11 [==============================] - 0s 4ms/step - loss: 0.5580 - accuracy: 0.7289\n",
      "Epoch 9/15\n",
      "11/11 [==============================] - 0s 4ms/step - loss: 0.5451 - accuracy: 0.7831\n",
      "Epoch 10/15\n",
      "11/11 [==============================] - 0s 3ms/step - loss: 0.5213 - accuracy: 0.7349\n",
      "Epoch 11/15\n",
      "11/11 [==============================] - 0s 4ms/step - loss: 0.4954 - accuracy: 0.7952\n",
      "Epoch 12/15\n",
      "11/11 [==============================] - 0s 4ms/step - loss: 0.4823 - accuracy: 0.8012\n",
      "Epoch 13/15\n",
      "11/11 [==============================] - 0s 4ms/step - loss: 0.4659 - accuracy: 0.7831\n",
      "Epoch 14/15\n",
      "11/11 [==============================] - 0s 4ms/step - loss: 0.4549 - accuracy: 0.8313\n",
      "Epoch 15/15\n",
      "11/11 [==============================] - 0s 4ms/step - loss: 0.4582 - accuracy: 0.7410\n"
     ]
    },
    {
     "data": {
      "text/plain": [
       "<keras.callbacks.History at 0x7f7932a77f90>"
      ]
     },
     "execution_count": 35,
     "metadata": {},
     "output_type": "execute_result"
    }
   ],
   "source": [
    "subclass_estimator = subclass_model()\n",
    "subclass_estimator.fit(X_train, y_train, epochs=15, batch_size=16)"
   ]
  },
  {
   "cell_type": "code",
   "execution_count": 38,
   "id": "09e3b627-5b12-4aa6-abb4-6371c2717366",
   "metadata": {},
   "outputs": [
    {
     "name": "stdout",
     "output_type": "stream",
     "text": [
      "7/7 [==============================] - 0s 1ms/step\n"
     ]
    },
    {
     "data": {
      "text/plain": [
       "0.8413461538461539"
      ]
     },
     "execution_count": 38,
     "metadata": {},
     "output_type": "execute_result"
    }
   ],
   "source": [
    "y_pred = subclass_estimator.predict(X)\n",
    "y_pred = [1 if x >= 0.5 else 0 for x in y_pred]\n",
    "metrics.accuracy_score(y_pred, encoded_y)"
   ]
  },
  {
   "cell_type": "markdown",
   "id": "cb393ec9-74c9-48c2-8dd9-df0f4569f1b7",
   "metadata": {},
   "source": [
    "## References\n"
   ]
  },
  {
   "cell_type": "markdown",
   "id": "4a8a71c3-060f-40bf-89ab-1e99e6a206a4",
   "metadata": {},
   "source": [
    "* Sequential Model: https://www.tensorflow.org/guide/keras/sequential_model\n",
    "\n",
    "* Functional Model: https://www.tensorflow.org/guide/keras/functional\n"
   ]
  },
  {
   "cell_type": "markdown",
   "id": "fef30c78-3cb1-439f-8a51-f364e4d07a1b",
   "metadata": {},
   "source": [
    "## Authors\n"
   ]
  },
  {
   "cell_type": "markdown",
   "id": "52aa29b4-1844-49b8-9b1d-e527bc2b191f",
   "metadata": {},
   "source": [
    "[Kopal Garg](https://www.linkedin.com/in/gargkopal/?utm_medium=Exinfluencer&utm_source=Exinfluencer&utm_content=000026UJ&utm_term=10006555&utm_id=NA-SkillsNetwork-Channel-SkillsNetworkCoursesIBMDeveloperSkillsNetworkML311Coursera35714171-2022-01-01)\n",
    "\n",
    "Kopal Garg is a Masters student in computer science at the University of Toronto, and a recent Biomedical Engineer from the University of Waterloo. \n"
   ]
  },
  {
   "cell_type": "markdown",
   "id": "69572fa3-31c6-422a-818d-4b09a702107d",
   "metadata": {},
   "source": [
    "## Change Log\n"
   ]
  },
  {
   "cell_type": "markdown",
   "id": "733e088f-d9a6-4eae-a3be-38bdcd43b07f",
   "metadata": {},
   "source": [
    "|Date (YYYY-MM-DD)|Version|Changed By|Change Description|\n",
    "|-|-|-|-|\n",
    "|2022-08-17|0.1|Kopal Garg|Created Lab|\n",
    "|2022-09-08|0.1|Steve Hord|QA pass edits|\n"
   ]
  },
  {
   "cell_type": "markdown",
   "id": "85865ef1-5ec3-4ee7-8965-0685125ad0f8",
   "metadata": {},
   "source": [
    "Copyright © 2022 IBM Corporation. All rights reserved.\n"
   ]
  }
 ],
 "metadata": {
  "kernelspec": {
   "display_name": "Python",
   "language": "python",
   "name": "conda-env-python-py"
  },
  "language_info": {
   "codemirror_mode": {
    "name": "ipython",
    "version": 3
   },
   "file_extension": ".py",
   "mimetype": "text/x-python",
   "name": "python",
   "nbconvert_exporter": "python",
   "pygments_lexer": "ipython3",
   "version": "3.7.12"
  }
 },
 "nbformat": 4,
 "nbformat_minor": 5
}
