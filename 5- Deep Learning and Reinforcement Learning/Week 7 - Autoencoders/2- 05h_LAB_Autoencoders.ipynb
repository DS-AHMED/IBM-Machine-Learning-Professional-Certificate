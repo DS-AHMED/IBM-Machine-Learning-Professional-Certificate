{
 "cells": [
  {
   "cell_type": "markdown",
   "metadata": {},
   "source": [
    "<p style=\"text-align:center\">\n",
    "    <a href=\"https://skills.network/?utm_medium=Exinfluencer&utm_source=Exinfluencer&utm_content=000026UJ&utm_term=10006555&utm_id=NA-SkillsNetwork-Channel-SkillsNetworkCoursesIBMDeveloperSkillsNetworkML311Coursera747-2022-01-01\" target=\"_blank\">\n",
    "    <img src=\"https://cf-courses-data.s3.us.cloud-object-storage.appdomain.cloud/assets/logos/SN_web_lightmode.png\" width=\"200\" alt=\"Skills Network Logo\"  />\n",
    "    </a>\n",
    "</p>\n"
   ]
  },
  {
   "cell_type": "markdown",
   "metadata": {},
   "source": [
    "# Machine Learning Foundation\n",
    "\n",
    "## Course 5, Part h: Autoencoders LAB\n"
   ]
  },
  {
   "cell_type": "markdown",
   "metadata": {},
   "source": [
    "## Learning Objectives \n",
    "\n",
    "1. Implement the following dimensionality reduction techniques on the MNIST data:\n",
    "    * PCA\n",
    "    * Autoencoders\n",
    "    * Variational autoencoders\n",
    "2. Use appropriate scoring metrics to compare the performance of each.\n"
   ]
  },
  {
   "cell_type": "markdown",
   "metadata": {},
   "source": [
    "**Note:** Please run the following cell to upgrade tensorflow to avoid warnings and importing errors in this lab. **RESTART THE KERNEL after the upgrade.**\n"
   ]
  },
  {
   "cell_type": "code",
   "execution_count": 12,
   "metadata": {
    "tags": []
   },
   "outputs": [],
   "source": [
    "%%capture\n",
    "!pip install --upgrade tensorflow "
   ]
  },
  {
   "cell_type": "markdown",
   "metadata": {},
   "source": [
    "Make sure that the version of tensorflow is greater than 2.9.0.\n"
   ]
  },
  {
   "cell_type": "code",
   "execution_count": 13,
   "metadata": {
    "tags": []
   },
   "outputs": [
    {
     "name": "stdout",
     "output_type": "stream",
     "text": [
      "1.14.0\n"
     ]
    }
   ],
   "source": [
    "import warnings\n",
    "warnings.simplefilter(\"ignore\")\n",
    "\n",
    "import tensorflow as tf\n",
    "print(tf.__version__)"
   ]
  },
  {
   "cell_type": "markdown",
   "metadata": {},
   "source": [
    "## Importing Required Libraries\n"
   ]
  },
  {
   "cell_type": "code",
   "execution_count": 14,
   "metadata": {
    "tags": []
   },
   "outputs": [
    {
     "ename": "ModuleNotFoundError",
     "evalue": "No module named 'tensorflow.compat'",
     "output_type": "error",
     "traceback": [
      "\u001b[0;31m---------------------------------------------------------------------------\u001b[0m",
      "\u001b[0;31mModuleNotFoundError\u001b[0m                       Traceback (most recent call last)",
      "\u001b[0;32m/tmp/ipykernel_71/4041493168.py\u001b[0m in \u001b[0;36m<module>\u001b[0;34m\u001b[0m\n\u001b[1;32m      1\u001b[0m \u001b[0;32mfrom\u001b[0m \u001b[0mtensorflow\u001b[0m \u001b[0;32mimport\u001b[0m \u001b[0mkeras\u001b[0m\u001b[0;34m\u001b[0m\u001b[0;34m\u001b[0m\u001b[0m\n\u001b[0;32m----> 2\u001b[0;31m \u001b[0;32mfrom\u001b[0m \u001b[0mkeras\u001b[0m\u001b[0;34m.\u001b[0m\u001b[0mdatasets\u001b[0m \u001b[0;32mimport\u001b[0m \u001b[0mmnist\u001b[0m\u001b[0;34m\u001b[0m\u001b[0;34m\u001b[0m\u001b[0m\n\u001b[0m\u001b[1;32m      3\u001b[0m \u001b[0;32mimport\u001b[0m \u001b[0mnumpy\u001b[0m \u001b[0;32mas\u001b[0m \u001b[0mnp\u001b[0m\u001b[0;34m\u001b[0m\u001b[0;34m\u001b[0m\u001b[0m\n\u001b[1;32m      4\u001b[0m \u001b[0mnp\u001b[0m\u001b[0;34m.\u001b[0m\u001b[0mset_printoptions\u001b[0m\u001b[0;34m(\u001b[0m\u001b[0mprecision\u001b[0m\u001b[0;34m=\u001b[0m\u001b[0;36m2\u001b[0m\u001b[0;34m)\u001b[0m\u001b[0;34m\u001b[0m\u001b[0;34m\u001b[0m\u001b[0m\n\u001b[1;32m      5\u001b[0m \u001b[0;34m\u001b[0m\u001b[0m\n",
      "\u001b[0;32m~/conda/envs/python/lib/python3.7/site-packages/keras/__init__.py\u001b[0m in \u001b[0;36m<module>\u001b[0;34m\u001b[0m\n\u001b[1;32m     19\u001b[0m \"\"\"\n\u001b[1;32m     20\u001b[0m \u001b[0;32mfrom\u001b[0m \u001b[0mkeras\u001b[0m \u001b[0;32mimport\u001b[0m \u001b[0mdistribute\u001b[0m\u001b[0;34m\u001b[0m\u001b[0;34m\u001b[0m\u001b[0m\n\u001b[0;32m---> 21\u001b[0;31m \u001b[0;32mfrom\u001b[0m \u001b[0mkeras\u001b[0m \u001b[0;32mimport\u001b[0m \u001b[0mmodels\u001b[0m\u001b[0;34m\u001b[0m\u001b[0;34m\u001b[0m\u001b[0m\n\u001b[0m\u001b[1;32m     22\u001b[0m \u001b[0;32mfrom\u001b[0m \u001b[0mkeras\u001b[0m\u001b[0;34m.\u001b[0m\u001b[0mengine\u001b[0m\u001b[0;34m.\u001b[0m\u001b[0minput_layer\u001b[0m \u001b[0;32mimport\u001b[0m \u001b[0mInput\u001b[0m\u001b[0;34m\u001b[0m\u001b[0;34m\u001b[0m\u001b[0m\n\u001b[1;32m     23\u001b[0m \u001b[0;32mfrom\u001b[0m \u001b[0mkeras\u001b[0m\u001b[0;34m.\u001b[0m\u001b[0mengine\u001b[0m\u001b[0;34m.\u001b[0m\u001b[0msequential\u001b[0m \u001b[0;32mimport\u001b[0m \u001b[0mSequential\u001b[0m\u001b[0;34m\u001b[0m\u001b[0;34m\u001b[0m\u001b[0m\n",
      "\u001b[0;32m~/conda/envs/python/lib/python3.7/site-packages/keras/models/__init__.py\u001b[0m in \u001b[0;36m<module>\u001b[0;34m\u001b[0m\n\u001b[1;32m     16\u001b[0m \u001b[0;34m\u001b[0m\u001b[0m\n\u001b[1;32m     17\u001b[0m \u001b[0;34m\u001b[0m\u001b[0m\n\u001b[0;32m---> 18\u001b[0;31m \u001b[0;32mfrom\u001b[0m \u001b[0mkeras\u001b[0m\u001b[0;34m.\u001b[0m\u001b[0mengine\u001b[0m\u001b[0;34m.\u001b[0m\u001b[0mfunctional\u001b[0m \u001b[0;32mimport\u001b[0m \u001b[0mFunctional\u001b[0m\u001b[0;34m\u001b[0m\u001b[0;34m\u001b[0m\u001b[0m\n\u001b[0m\u001b[1;32m     19\u001b[0m \u001b[0;32mfrom\u001b[0m \u001b[0mkeras\u001b[0m\u001b[0;34m.\u001b[0m\u001b[0mengine\u001b[0m\u001b[0;34m.\u001b[0m\u001b[0msequential\u001b[0m \u001b[0;32mimport\u001b[0m \u001b[0mSequential\u001b[0m\u001b[0;34m\u001b[0m\u001b[0;34m\u001b[0m\u001b[0m\n\u001b[1;32m     20\u001b[0m \u001b[0;32mfrom\u001b[0m \u001b[0mkeras\u001b[0m\u001b[0;34m.\u001b[0m\u001b[0mengine\u001b[0m\u001b[0;34m.\u001b[0m\u001b[0mtraining\u001b[0m \u001b[0;32mimport\u001b[0m \u001b[0mModel\u001b[0m\u001b[0;34m\u001b[0m\u001b[0;34m\u001b[0m\u001b[0m\n",
      "\u001b[0;32m~/conda/envs/python/lib/python3.7/site-packages/keras/engine/functional.py\u001b[0m in \u001b[0;36m<module>\u001b[0;34m\u001b[0m\n\u001b[1;32m     22\u001b[0m \u001b[0;32mimport\u001b[0m \u001b[0mwarnings\u001b[0m\u001b[0;34m\u001b[0m\u001b[0;34m\u001b[0m\u001b[0m\n\u001b[1;32m     23\u001b[0m \u001b[0;34m\u001b[0m\u001b[0m\n\u001b[0;32m---> 24\u001b[0;31m \u001b[0;32mimport\u001b[0m \u001b[0mtensorflow\u001b[0m\u001b[0;34m.\u001b[0m\u001b[0mcompat\u001b[0m\u001b[0;34m.\u001b[0m\u001b[0mv2\u001b[0m \u001b[0;32mas\u001b[0m \u001b[0mtf\u001b[0m\u001b[0;34m\u001b[0m\u001b[0;34m\u001b[0m\u001b[0m\n\u001b[0m\u001b[1;32m     25\u001b[0m \u001b[0;34m\u001b[0m\u001b[0m\n\u001b[1;32m     26\u001b[0m \u001b[0;32mfrom\u001b[0m \u001b[0mkeras\u001b[0m \u001b[0;32mimport\u001b[0m \u001b[0mbackend\u001b[0m\u001b[0;34m\u001b[0m\u001b[0;34m\u001b[0m\u001b[0m\n",
      "\u001b[0;31mModuleNotFoundError\u001b[0m: No module named 'tensorflow.compat'"
     ]
    }
   ],
   "source": [
    "from tensorflow import keras\n",
    "from keras.datasets import mnist\n",
    "import numpy as np\n",
    "np.set_printoptions(precision=2)\n",
    "\n",
    "import matplotlib.pyplot as plt"
   ]
  },
  {
   "cell_type": "markdown",
   "metadata": {},
   "source": [
    "## MNIST data\n"
   ]
  },
  {
   "cell_type": "markdown",
   "metadata": {},
   "source": [
    "Throughout this lesson, we'll be working with the famous [MNIST dataset](https://en.wikipedia.org/wiki/MNIST_database?utm_medium=Exinfluencer&utm_source=Exinfluencer&utm_content=000026UJ&utm_term=10006555&utm_id=NA-SkillsNetwork-Channel-SkillsNetworkCoursesIBMDeveloperSkillsNetworkML311Coursera747-2022-01-01), which contains 70,000 handwritten black-and-white images, which are traditionally split into 60k training images and 10k validation images.\n"
   ]
  },
  {
   "cell_type": "code",
   "execution_count": null,
   "metadata": {
    "tags": []
   },
   "outputs": [],
   "source": [
    "(x_train, y_train), (x_test, y_test) = mnist.load_data();"
   ]
  },
  {
   "cell_type": "markdown",
   "metadata": {},
   "source": [
    "### Preprocess MNIST\n"
   ]
  },
  {
   "cell_type": "markdown",
   "metadata": {},
   "source": [
    "We'll preprocess by scaling images pixels to be between 0 and 1.\n"
   ]
  },
  {
   "cell_type": "code",
   "execution_count": null,
   "metadata": {
    "tags": []
   },
   "outputs": [],
   "source": [
    "x_train = x_train.astype('float') / 255.\n",
    "x_test = x_test.astype('float') / 255."
   ]
  },
  {
   "cell_type": "markdown",
   "metadata": {},
   "source": [
    "### Part 1: PCA\n"
   ]
  },
  {
   "cell_type": "markdown",
   "metadata": {},
   "source": [
    "We'll use PCA as a baseline with which we can compare our deep learning models.\n"
   ]
  },
  {
   "cell_type": "markdown",
   "metadata": {},
   "source": [
    "For PCA we'll treat each image like a \"row\" of data and flatten our data, so each observation is 784 columns:\n"
   ]
  },
  {
   "cell_type": "code",
   "execution_count": null,
   "metadata": {
    "tags": []
   },
   "outputs": [],
   "source": [
    "x_train_flat = x_train.reshape((len(x_train), np.prod(x_train.shape[1:])))\n",
    "x_test_flat = x_test.reshape((len(x_test), np.prod(x_test.shape[1:])))\n",
    "print(x_train_flat.shape)\n",
    "print(x_test_flat.shape)"
   ]
  },
  {
   "cell_type": "markdown",
   "metadata": {},
   "source": [
    "Recall that PCA will do a **matrix decomposition** of the data to find the **eigenvectors** - these **eigenvectors** will be the **principal components** of the data, or the \"latent features\" that describe a maximal amount of variance in the data. We will sort the eigenvectors by their eigenvalues, and those eigenvectors with the largest eigenvalues (the scales) will be selected as the principal components to achieve dimensionality reduction.\n"
   ]
  },
  {
   "cell_type": "markdown",
   "metadata": {},
   "source": [
    "PCA works better if our features are scaled, so let's do that. \n"
   ]
  },
  {
   "cell_type": "code",
   "execution_count": null,
   "metadata": {
    "tags": []
   },
   "outputs": [],
   "source": [
    "from sklearn.preprocessing import StandardScaler\n",
    "s = StandardScaler().fit(x_train_flat)\n",
    "x_train_scaled = s.transform(x_train_flat)"
   ]
  },
  {
   "cell_type": "code",
   "execution_count": null,
   "metadata": {
    "tags": []
   },
   "outputs": [],
   "source": [
    "from sklearn.decomposition import PCA\n",
    "\n",
    "def mnist_pca(x_data, n_components):\n",
    "    pca = PCA(n_components=n_components)\n",
    "\n",
    "    fit_pca = pca.fit(x_data)\n",
    "    \n",
    "    print(\"Variance explained with {0} components:\".format(n_components), \n",
    "          round(sum(fit_pca.explained_variance_ratio_), 2))\n",
    "\n",
    "    return fit_pca, fit_pca.transform(x_data)"
   ]
  },
  {
   "cell_type": "code",
   "execution_count": null,
   "metadata": {
    "tags": []
   },
   "outputs": [],
   "source": [
    "pca_full, mnist_data_full = mnist_pca(x_train_scaled, 784)"
   ]
  },
  {
   "cell_type": "code",
   "execution_count": null,
   "metadata": {
    "tags": []
   },
   "outputs": [],
   "source": [
    "plt.plot(np.cumsum(pca_full.explained_variance_ratio_))\n",
    "plt.title(\"Proportion of PCA variance\\nexplained by number of components\")\n",
    "plt.xlabel(\"Number of components\")\n",
    "plt.ylabel(\"Proportion of variance explained\");"
   ]
  },
  {
   "cell_type": "markdown",
   "metadata": {},
   "source": [
    "We need about 250 components to explain 90% of the variance in the data!\n"
   ]
  },
  {
   "cell_type": "markdown",
   "metadata": {},
   "source": [
    "For visualization purposes, let's extract just two components and plot them:\n"
   ]
  },
  {
   "cell_type": "code",
   "execution_count": null,
   "metadata": {
    "tags": []
   },
   "outputs": [],
   "source": [
    "pca_2, mnist_data_2 = mnist_pca(x_train_scaled, 2)"
   ]
  },
  {
   "cell_type": "code",
   "execution_count": null,
   "metadata": {
    "tags": []
   },
   "outputs": [],
   "source": [
    "num_images_per_class = 250\n",
    "fig = plt.figure(figsize=(12,12))\n",
    "for number in list(range(10)):\n",
    "    mask = y_train == number\n",
    "    x_data = mnist_data_2[mask, 0][:num_images_per_class]\n",
    "    y_data = mnist_data_2[mask, 1][:num_images_per_class]\n",
    "    plt.scatter(x_data, y_data, label=number, alpha=1)\n",
    "plt.legend();"
   ]
  },
  {
   "cell_type": "markdown",
   "metadata": {},
   "source": [
    "We can already see that the latent features PCA is learning _somewhat_ disentangle the features here, and a neural network could certainly help with this.\n"
   ]
  },
  {
   "cell_type": "markdown",
   "metadata": {},
   "source": [
    "### Scoring PCA\n"
   ]
  },
  {
   "cell_type": "markdown",
   "metadata": {},
   "source": [
    "What we really care about is: how good is PCA at creating a low dimensional representation of the MNIST data?\n",
    "\n",
    "As with all models, we should test performance on a different dataset than we trained on:\n"
   ]
  },
  {
   "cell_type": "code",
   "execution_count": null,
   "metadata": {
    "tags": []
   },
   "outputs": [],
   "source": [
    "pca_64, mnist_data_64 = mnist_pca(x_train_scaled, 64)"
   ]
  },
  {
   "cell_type": "code",
   "execution_count": null,
   "metadata": {
    "tags": []
   },
   "outputs": [],
   "source": [
    "s = StandardScaler().fit(x_test_flat)\n",
    "x_test_scaled = s.transform(x_test_flat)"
   ]
  },
  {
   "cell_type": "code",
   "execution_count": null,
   "metadata": {
    "tags": []
   },
   "outputs": [],
   "source": [
    "x_test_flat_64 = pca_64.transform(x_test_scaled)\n",
    "x_test_reconstructed_64 = pca_64.inverse_transform(x_test_flat_64)"
   ]
  },
  {
   "cell_type": "code",
   "execution_count": null,
   "metadata": {
    "tags": []
   },
   "outputs": [],
   "source": [
    "x_test_reconstructed_64.shape"
   ]
  },
  {
   "cell_type": "code",
   "execution_count": null,
   "metadata": {
    "tags": []
   },
   "outputs": [],
   "source": [
    "true = x_test_scaled\n",
    "reconstructed = x_test_reconstructed_64"
   ]
  },
  {
   "cell_type": "code",
   "execution_count": null,
   "metadata": {
    "tags": []
   },
   "outputs": [],
   "source": [
    "def mse_reconstruction(true, reconstructed):\n",
    "    return np.sum(np.power(true - reconstructed, 2) / true.shape[1])"
   ]
  },
  {
   "cell_type": "code",
   "execution_count": null,
   "metadata": {
    "tags": []
   },
   "outputs": [],
   "source": [
    "mse_reconstruction(true, reconstructed)"
   ]
  },
  {
   "cell_type": "markdown",
   "metadata": {},
   "source": [
    "Average MSE of **90.6**, using 64 components, for PCA.\n"
   ]
  },
  {
   "cell_type": "markdown",
   "metadata": {},
   "source": [
    "### Simple AE\n"
   ]
  },
  {
   "cell_type": "markdown",
   "metadata": {},
   "source": [
    "Now let's build an autoencoder! Fundamentally, an autoencoder is an neural network where the input is the same as the output. The hope for such networks is that one of the hidden layers will \"learn a compressed representation\" of the data, similar to the way PCA does.\n"
   ]
  },
  {
   "cell_type": "code",
   "execution_count": null,
   "metadata": {
    "tags": []
   },
   "outputs": [],
   "source": [
    "from keras.layers import Input, Dense\n",
    "from keras.models import Model"
   ]
  },
  {
   "cell_type": "markdown",
   "metadata": {},
   "source": [
    "In practice, when implementing autoencoders using `Keras`, we define _three_ models:\n",
    "\n",
    "* The \"full autoencoder\", here `full_model`, will take inputs and try to reconstruct them\n",
    "* The \"encoder\", here `encoder_model`, will take inputs and try to reconstruct them\n",
    "* The \"decoder\", here `decoder_model`, will take the latent space and try to reconstruct it\n"
   ]
  },
  {
   "cell_type": "code",
   "execution_count": null,
   "metadata": {
    "tags": []
   },
   "outputs": [],
   "source": [
    "ENCODING_DIM = 64\n",
    "\n",
    "# Encoder model\n",
    "inputs = Input(shape=(784,)) \n",
    "encoded = Dense(ENCODING_DIM, activation=\"sigmoid\")(inputs)\n",
    "encoder_model = Model(inputs, encoded, name='encoder')\n",
    "\n",
    "# Decoder model\n",
    "encoded_inputs = Input(shape=(ENCODING_DIM,), name='encoding')\n",
    "reconstruction = Dense(784, activation=\"sigmoid\")(encoded_inputs)\n",
    "decoder_model = Model(encoded_inputs, reconstruction, name='decoder')\n",
    "\n",
    "# Defining the full model as the combination of the two\n",
    "outputs = decoder_model(encoder_model(inputs))\n",
    "full_model = Model(inputs, outputs, name='full_ae')"
   ]
  },
  {
   "cell_type": "code",
   "execution_count": null,
   "metadata": {
    "tags": []
   },
   "outputs": [],
   "source": [
    "full_model.compile(optimizer='rmsprop',\n",
    "                 loss='binary_crossentropy',\n",
    "                 metrics=['accuracy'])"
   ]
  },
  {
   "cell_type": "code",
   "execution_count": null,
   "metadata": {
    "tags": []
   },
   "outputs": [],
   "source": [
    "history = full_model.fit(x_train_flat, x_train_flat, shuffle=True, epochs=1, batch_size=32)"
   ]
  },
  {
   "cell_type": "markdown",
   "metadata": {},
   "source": [
    "Feel free to do `.summary` and `visual` on this trained model now.\n"
   ]
  },
  {
   "cell_type": "markdown",
   "metadata": {},
   "source": [
    "Recall that with Keras, training the model with layers 1-5 trains the smaller model simultaneously, as long as they are built off of the same underlying objects!\n"
   ]
  },
  {
   "cell_type": "code",
   "execution_count": null,
   "metadata": {
    "tags": []
   },
   "outputs": [],
   "source": [
    "encoded_images = encoder_model.predict(x_test_flat)\n",
    "encoded_images.shape"
   ]
  },
  {
   "cell_type": "markdown",
   "metadata": {},
   "source": [
    "So, the \"encoder model\" has already been trained! For example, the encoding for the first image in the test dataset is:\n"
   ]
  },
  {
   "cell_type": "code",
   "execution_count": null,
   "metadata": {
    "tags": []
   },
   "outputs": [],
   "source": [
    "encoded_images[0]"
   ]
  },
  {
   "cell_type": "markdown",
   "metadata": {},
   "source": [
    "As we can see, the `encoder_model` has been trained!\n"
   ]
  },
  {
   "cell_type": "markdown",
   "metadata": {},
   "source": [
    "### Exercise 1\n",
    "\n",
    "With PCA, we compared the pixel-wise difference between the reconstructed images and the original images to score how good the model was. \n",
    "\n",
    "Your task is now to do the same using the autoencoder. You'll have to think about what needs to get fed through the autoencoder to do this. Your steps are:\n",
    "\n",
    "1. Use the trained autoencoder to generate reconstructed images.\n",
    "2. Compute the pixel-wise distance between the reconstructed images and the original images. \n",
    "\n",
    "Is your result higher or lower than what you got with PCA?\n"
   ]
  },
  {
   "cell_type": "code",
   "execution_count": null,
   "metadata": {
    "tags": []
   },
   "outputs": [],
   "source": [
    "### BEGIN SOLUTION\n",
    "# Generate reconstructed images\n",
    "decoded_images = full_model.predict(x_test_flat)\n",
    "mse_reconstruction(decoded_images, x_test_flat)\n",
    "### END SOLUTION"
   ]
  },
  {
   "cell_type": "markdown",
   "metadata": {},
   "source": [
    "Significantly worse!\n"
   ]
  },
  {
   "cell_type": "markdown",
   "metadata": {},
   "source": [
    "### Exercise 2:\n",
    "\n",
    "One of the reasons this model does worse than PCA is that is isn't a \"Deep Learning\" model. Go ahead and add an extra hidden Dense layer to both the `encoder_model` and the `decoder_model`.\n"
   ]
  },
  {
   "cell_type": "code",
   "execution_count": null,
   "metadata": {
    "tags": []
   },
   "outputs": [],
   "source": [
    "ENCODING_DIM = 64\n",
    "HIDDEN_DIM = 256\n",
    "### BEGIN SOLUTION\n",
    "# Encoder model\n",
    "inputs = Input(shape=(784,)) \n",
    "encoded = Dense(ENCODING_DIM, activation=\"relu\")(inputs)\n",
    "encoder_hidden = Dense(HIDDEN_DIM, activation=\"sigmoid\")(encoded)\n",
    "encoder_model = Model(inputs, encoded, name='encoder')\n",
    "\n",
    "# Decoder model\n",
    "encoded_inputs = Input(shape=(ENCODING_DIM,), name='encoding')\n",
    "decoder_hidden = Dense(HIDDEN_DIM, activation=\"relu\")(encoded_inputs)\n",
    "reconstruction = Dense(784, activation=\"sigmoid\")(decoder_hidden)\n",
    "decoder_model = Model(encoded_inputs, reconstruction, name='decoder')\n",
    "\n",
    "# Defining the full model as the combination of the two\n",
    "outputs = decoder_model(encoder_model(inputs))\n",
    "full_model = Model(inputs, outputs, name='full_ae')"
   ]
  },
  {
   "cell_type": "code",
   "execution_count": null,
   "metadata": {
    "tags": []
   },
   "outputs": [],
   "source": [
    "full_model.compile(optimizer='rmsprop',\n",
    "                 loss='binary_crossentropy',\n",
    "                 metrics=['accuracy'])"
   ]
  },
  {
   "cell_type": "code",
   "execution_count": null,
   "metadata": {
    "tags": []
   },
   "outputs": [],
   "source": [
    "history = full_model.fit(x_train_flat, x_train_flat, shuffle=True, epochs=2, batch_size=32)"
   ]
  },
  {
   "cell_type": "code",
   "execution_count": null,
   "metadata": {
    "tags": []
   },
   "outputs": [],
   "source": [
    "# Generate reconstructed images\n",
    "decoded_images = full_model.predict(x_test_flat)\n",
    "mse_reconstruction(decoded_images, x_test_flat)\n",
    "### END SOLUTION"
   ]
  },
  {
   "cell_type": "markdown",
   "metadata": {},
   "source": [
    "Better than PCA!\n"
   ]
  },
  {
   "cell_type": "markdown",
   "metadata": {},
   "source": [
    "### Exercise 3:\n"
   ]
  },
  {
   "cell_type": "markdown",
   "metadata": {},
   "source": [
    "You've probably noticed we've only been training our model for one epoch. Let's test to see how our model's reconstruction loss decreases as we train it more. \n",
    "\n",
    "Write code that:\n",
    "\n",
    "1. Trains the autoencoder for 5 epochs\n",
    "2. Prints the reconstruction loss after each epoch\n",
    "\n",
    "Does the reconstruction loss decrease after each epoch?\n"
   ]
  },
  {
   "cell_type": "code",
   "execution_count": null,
   "metadata": {
    "tags": []
   },
   "outputs": [],
   "source": [
    "def train_ae_epochs(num_epochs=1):\n",
    "### BEGIN SOLUTION\n",
    "    ENCODING_DIM = 64\n",
    "    HIDDEN_DIM = 256\n",
    "\n",
    "    # Encoder model\n",
    "    inputs = Input(shape=(784,)) \n",
    "    encoded = Dense(ENCODING_DIM, activation=\"relu\")(inputs)\n",
    "    encoder_hidden = Dense(HIDDEN_DIM, activation=\"sigmoid\")(encoded)\n",
    "    encoder_model = Model(inputs, encoded, name='encoder')\n",
    "\n",
    "    # Decoder model\n",
    "    encoded_inputs = Input(shape=(ENCODING_DIM,), name='encoding')\n",
    "    decoder_hidden = Dense(HIDDEN_DIM, activation=\"relu\")(encoded_inputs)\n",
    "    reconstruction = Dense(784, activation=\"sigmoid\")(decoder_hidden)\n",
    "    decoder_model = Model(encoded_inputs, reconstruction, name='decoder')\n",
    "\n",
    "    # Defining the full model as the combination of the two\n",
    "    outputs = decoder_model(encoder_model(inputs))\n",
    "    full_model = Model(inputs, outputs, name='full_ae')\n",
    "    \n",
    "    full_model = Model(inputs=inputs, \n",
    "                       outputs=outputs)\n",
    "\n",
    "    full_model.compile(optimizer='rmsprop',\n",
    "                     loss='binary_crossentropy',\n",
    "                     metrics=['accuracy'])\n",
    "    mse_res = []\n",
    "    for i in range(num_epochs):\n",
    "        history = full_model.fit(x_train_flat, x_train_flat, shuffle=True, epochs=1, batch_size=32)\n",
    "    \n",
    "        decoded_images = full_model.predict(x_test_flat)\n",
    "        reconstruction_loss = mse_reconstruction(decoded_images, x_test_flat)\n",
    "        mse_res.append(reconstruction_loss)\n",
    "        print(\"Reconstruction loss after epoch {0} is {1}\"\n",
    "              .format(i+1, reconstruction_loss))\n",
    "### END SOLUTION       \n",
    "    return mse_res\n"
   ]
  },
  {
   "cell_type": "code",
   "execution_count": null,
   "metadata": {
    "tags": []
   },
   "outputs": [],
   "source": [
    "train_ae_epochs(5)"
   ]
  },
  {
   "cell_type": "markdown",
   "metadata": {},
   "source": [
    "This is promising: even though the loss and accuracy don't appear to be changing much, as we train our autoencoder for longer, it does appear to be getting better and better at reconstructing the (unseen) test images.\n"
   ]
  },
  {
   "cell_type": "markdown",
   "metadata": {},
   "source": [
    "### Variational autoencoder\n"
   ]
  },
  {
   "cell_type": "markdown",
   "metadata": {},
   "source": [
    "VAEs are a way have neural networks learn representations of data, as with regular autoencoders. This time, however, the neural network will learn parameters of a normal distribution that will have observations drawn from it that will be transformed back into images. This results in two dimensional latent representation of the data once the variational autoencoder is trained, where one dimension represents the mean of the normal distribution and the other dimension represents the standard deviation.\n"
   ]
  },
  {
   "cell_type": "markdown",
   "metadata": {},
   "source": [
    "At a high level, the actual steps of a VAE are:\n",
    "\n",
    "1. The first neural network, the \"encoder\", predicts two vectors for each image, which will then be interpreted as means and standard deviations and transformed into a normal distribution.\n",
    "3. The second neural network, the \"decoder\", takes the results of this operation and tries to reconstruct the original image.\n",
    "4. The entire system is trained with backpropagation. At each iteration, _two_ losses are computed:\n",
    "    * One loss simply penalizes the system for producing images that don't match the original images.\n",
    "    * The other loss penalizes the encoder model for not correctly producing statistics from the image that match a standard normal distribution. \n",
    "   \n",
    "The details are contained in the presentation. \n"
   ]
  },
  {
   "cell_type": "code",
   "execution_count": null,
   "metadata": {
    "tags": []
   },
   "outputs": [],
   "source": [
    "from keras.layers import Lambda, Input, Dense\n",
    "from keras.models import Model\n",
    "from keras.datasets import mnist\n",
    "from keras.losses import mse, binary_crossentropy\n",
    "from keras.utils import plot_model\n",
    "from keras import backend as K\n",
    "\n",
    "import numpy as np\n",
    "import matplotlib.pyplot as plt\n",
    "import os"
   ]
  },
  {
   "cell_type": "markdown",
   "metadata": {},
   "source": [
    "The function below involves transforming the VAE encoder outputs into a normally distributed output. \n",
    "\n",
    "Recall that the VAE encoder generates vectors representing $\\mu$ and $log(\\sigma)$. These are then transformed into the generator input via \n",
    "\n",
    "$$ G_{in} = \\mu + \\sigma * \\epsilon $$\n",
    "\n",
    "where $ \\epsilon $ ~ $ N(0, 1) $.\n"
   ]
  },
  {
   "cell_type": "code",
   "execution_count": 34,
   "metadata": {
    "tags": []
   },
   "outputs": [],
   "source": [
    "def sampling(args):\n",
    "    \"\"\"\n",
    "    Transforms parameters defining the latent space into a normal distribution.\n",
    "    \"\"\"\n",
    "    # Need to unpack arguments like this because of the way the Keras \"Lambda\" function works.\n",
    "    mu, log_sigma = args\n",
    "    # by default, random_normal has mean=0 and std=1.0\n",
    "    epsilon = K.random_normal(shape=tf.shape(mu))\n",
    "    sigma = K.exp(log_sigma)\n",
    "    return mu + K.exp(0.5 * sigma) * epsilon"
   ]
  },
  {
   "cell_type": "code",
   "execution_count": 35,
   "metadata": {
    "tags": []
   },
   "outputs": [],
   "source": [
    "hidden_dim = 256\n",
    "batch_size = 128\n",
    "latent_dim = 2 \n",
    "# this is the dimension of each of the vectors representing the two parameters\n",
    "# that will get transformed into a normal distribution\n",
    "epochs = 1\n",
    "\n",
    "\n",
    "# VAE model = encoder + decoder\n",
    "# build encoder model\n",
    "inputs = Input(shape=(784, ), name='encoder_input')\n",
    "x = Dense(hidden_dim, activation='relu')(inputs)\n",
    "\n",
    "\n",
    "z_mean = Dense(latent_dim, name='z_mean')(x)\n",
    "z_log_var = Dense(latent_dim, name='z_log_var')(x)\n",
    "# NOTE: output of encoder model is *2* n-dimensional vectors:\n",
    "\n",
    "z = Lambda(sampling, name='z')([z_mean, z_log_var])\n",
    "# z is now one n dimensional vector representing the inputs \n",
    "encoder_model = Model(inputs, [z_mean, z_log_var, z], name='encoder')"
   ]
  },
  {
   "cell_type": "markdown",
   "metadata": {},
   "source": [
    "We'll have the `encoder_model` output `z_mean`, `z_log_var`, and `z` so we can plot the images as a function of these later.\n"
   ]
  },
  {
   "cell_type": "code",
   "execution_count": 36,
   "metadata": {
    "tags": []
   },
   "outputs": [],
   "source": [
    "# build decoder model\n",
    "latent_inputs = Input(shape=(latent_dim,),)\n",
    "x = Dense(hidden_dim, activation='relu')(latent_inputs)\n",
    "outputs = Dense(784, activation='sigmoid')(x)\n",
    "\n",
    "decoder_model = Model(latent_inputs, outputs, name='decoder')\n",
    "\n",
    "\n",
    "# instantiate VAE model\n",
    "outputs = decoder_model(encoder_model(inputs)[2])\n",
    "vae_model = Model(inputs, outputs, name='vae_mlp')"
   ]
  },
  {
   "cell_type": "markdown",
   "metadata": {},
   "source": [
    "#### Examine each layer\n"
   ]
  },
  {
   "cell_type": "code",
   "execution_count": 37,
   "metadata": {
    "tags": []
   },
   "outputs": [
    {
     "name": "stdout",
     "output_type": "stream",
     "text": [
      "Layer 1\n",
      "Name encoder_input\n",
      "Input shape [(None, 784)]\n",
      "Output shape [(None, 784)]\n",
      "No weights for this layer\n",
      "Layer 2\n",
      "Name encoder\n",
      "Input shape (None, 784)\n",
      "Output shape [(None, 2), (None, 2), (None, 2)]\n",
      "Weights 1\n",
      "Name dense_10/kernel:0\n",
      "Weights shape: [784, 256]\n",
      "Weights 2\n",
      "Name dense_10/bias:0\n",
      "Weights shape: [256]\n",
      "Weights 3\n",
      "Name z_mean/kernel:0\n",
      "Weights shape: [256, 2]\n",
      "Weights 4\n",
      "Name z_mean/bias:0\n",
      "Weights shape: [2]\n",
      "Weights 5\n",
      "Name z_log_var/kernel:0\n",
      "Weights shape: [256, 2]\n",
      "Weights 6\n",
      "Name z_log_var/bias:0\n",
      "Weights shape: [2]\n",
      "Layer 3\n",
      "Name decoder\n",
      "Input shape (None, 2)\n",
      "Output shape (None, 784)\n",
      "Weights 1\n",
      "Name dense_11/kernel:0\n",
      "Weights shape: [2, 256]\n",
      "Weights 2\n",
      "Name dense_11/bias:0\n",
      "Weights shape: [256]\n",
      "Weights 3\n",
      "Name dense_12/kernel:0\n",
      "Weights shape: [256, 784]\n",
      "Weights 4\n",
      "Name dense_12/bias:0\n",
      "Weights shape: [784]\n"
     ]
    }
   ],
   "source": [
    "for i, layer in enumerate(vae_model.layers):\n",
    "    print(\"Layer\", i+1)\n",
    "    print(\"Name\", layer.name)\n",
    "    print(\"Input shape\", layer.input_shape)\n",
    "    print(\"Output shape\", layer.output_shape)\n",
    "    if not layer.weights:\n",
    "        print(\"No weights for this layer\")\n",
    "        continue\n",
    "    for i, weight in enumerate(layer.weights):\n",
    "        print(\"Weights\", i+1)\n",
    "        print(\"Name\", weight.name)\n",
    "        print(\"Weights shape:\", weight.shape.as_list())"
   ]
  },
  {
   "cell_type": "markdown",
   "metadata": {},
   "source": [
    "### Review of variational autoencoder loss:\n",
    "\n",
    "**Part 1:**\n",
    "\n",
    "We know Variational Autoencoders use the first part of their architecture - the encoder - to output zeros for the mean and zeros for the log variance (equal to a \"real\" variance of 1). \n",
    "\n",
    "We also know that the penalty for a given prediction of $\\mu_{pred}$ and $log(\\sigma)_{pred}$ is:\n",
    "\n",
    "$$\n",
    "\\frac{1}{2} * (e^{log(\\sigma)_{pred}} - (1 + log(\\sigma)_{pred}) + (\\mu_{pred})^2 )\n",
    "$$\n",
    "\n",
    "* **Note 1**: we predict $\\log(\\sigma)$ because predicting $\\sigma$ directly could result in a negative value, and having a negative value for the variance of a distribution makes no sense.\n",
    "* **Note 2**: the cost function has two components, both of which penalize us for having results that deviate from a standard normal distribution.\n",
    "    * The first part penalizes the $log(\\sigma)_{pred}$ from being away from 0, using the fact that $e^x - (x+1)$ is minimized at $x=0$.\n",
    "    * The second part simply penalizes $\\mu_{pred}$ from being away from 0.\n",
    "\n",
    "This loss, representing a measure of the difference between these two distributions, is called the **KL Loss**.\n",
    "\n",
    "**Part 2:**\n",
    "\n",
    "The other part of the loss is simply the difference between the outputted image and the image fed in. The standard way of penalizing a difference between these two quantities is to use a `binary_crossentropy` function.\n",
    "\n",
    "### Exercise 4:\n",
    "\n",
    "Compute the loss for variational autoencoders. It should have two components:\n",
    "\n",
    "1. The reconstruction loss. Use the `binary_crossentropy` Keras function to compute the loss. \n",
    "    \n",
    "    **Note**: The `binary_crossentropy` function returns an average by default, so we  multiply this component of the loss by the number of pixels in the image (784) to get the total loss.\n",
    "    \n",
    "2. The KL loss. Use the formula above, and the `z_mean` and `z_log_var` functions to fill in the missing piece below.\n",
    "    \n",
    "    **Note**: We sum across the latent dimension to get a total loss for each input image.\n",
    "    \n",
    "Fill in the missing pieces:\n"
   ]
  },
  {
   "cell_type": "code",
   "execution_count": 38,
   "metadata": {
    "tags": []
   },
   "outputs": [
    {
     "ename": "SyntaxError",
     "evalue": "invalid syntax (268980940.py, line 1)",
     "output_type": "error",
     "traceback": [
      "\u001b[0;36m  File \u001b[0;32m\"/tmp/ipykernel_66/268980940.py\"\u001b[0;36m, line \u001b[0;32m1\u001b[0m\n\u001b[0;31m    reconstruction_loss = #your code here\u001b[0m\n\u001b[0m                                         ^\u001b[0m\n\u001b[0;31mSyntaxError\u001b[0m\u001b[0;31m:\u001b[0m invalid syntax\n"
     ]
    }
   ],
   "source": [
    "reconstruction_loss = #your code here"
   ]
  },
  {
   "cell_type": "markdown",
   "metadata": {},
   "source": [
    "<details>\n",
    "    <summary>Click here for Solution</summary>\n",
    "\n",
    "```python\n",
    "\n",
    "reconstruction_loss = binary_crossentropy(inputs, outputs)\n",
    "reconstruction_loss *= 784\n",
    "\n",
    "```\n",
    "\n",
    "</details>\n"
   ]
  },
  {
   "cell_type": "code",
   "execution_count": null,
   "metadata": {
    "tags": []
   },
   "outputs": [],
   "source": [
    "kl_loss = # YOUR CODE HERE"
   ]
  },
  {
   "cell_type": "markdown",
   "metadata": {},
   "source": [
    "<details>\n",
    "    <summary>Click here for Solution</summary>\n",
    "\n",
    "```python\n",
    "\n",
    "kl_loss = 0.5 * (K.exp(z_log_var) - (1 + z_log_var) + K.square(z_mean))\n",
    "kl_loss = K.sum(kl_loss, axis=-1)\n",
    "\n",
    "\n",
    "```\n",
    "\n",
    "</details>\n"
   ]
  },
  {
   "cell_type": "code",
   "execution_count": null,
   "metadata": {
    "tags": []
   },
   "outputs": [],
   "source": [
    "total_vae_loss = K.mean(reconstruction_loss + kl_loss)"
   ]
  },
  {
   "cell_type": "markdown",
   "metadata": {},
   "source": [
    "### Compiling and fitting the model\n"
   ]
  },
  {
   "cell_type": "code",
   "execution_count": null,
   "metadata": {},
   "outputs": [],
   "source": [
    "vae_model.add_loss(total_vae_loss)\n",
    "\n",
    "vae_model.compile(optimizer='rmsprop',\n",
    "                  metrics=['accuracy'])\n",
    "    \n",
    "vae_model.summary()"
   ]
  },
  {
   "cell_type": "code",
   "execution_count": null,
   "metadata": {},
   "outputs": [],
   "source": [
    "vae_model.fit(x_train_flat,\n",
    "              x_train_flat,\n",
    "              epochs=epochs,\n",
    "              batch_size=batch_size)"
   ]
  },
  {
   "cell_type": "code",
   "execution_count": null,
   "metadata": {},
   "outputs": [],
   "source": [
    "history = full_model.fit(x_train_flat, x_train_flat, shuffle=True, epochs=1, batch_size=32)"
   ]
  },
  {
   "cell_type": "markdown",
   "metadata": {},
   "source": [
    "### Exercise 5:\n",
    "\n",
    "Compute the reconstruction error for the variational autoencoder. Is it higher or lower than for the autoencoder was after one epoch? Why do you think that is?\n"
   ]
  },
  {
   "cell_type": "code",
   "execution_count": null,
   "metadata": {},
   "outputs": [],
   "source": [
    "### BEGIN SOLUTION\n",
    "# Generate reconstructed images\n",
    "decoded_images = vae_model.predict(x_test_flat)\n",
    "mse_reconstruction(decoded_images, x_test_flat)\n",
    "### END SOLUTION"
   ]
  },
  {
   "cell_type": "markdown",
   "metadata": {},
   "source": [
    "Much higher (\"worse\")! This is because a variational auto encoder is designed to maximize the interpretability of the latent space, _not_ to minimize reconstruction error. \n",
    "\n",
    "Below, we'll show how you can visualize the latent space that this variational autoencoder has learned:\n"
   ]
  },
  {
   "cell_type": "markdown",
   "metadata": {},
   "source": [
    "#### Plotting the latent space:\n"
   ]
  },
  {
   "cell_type": "code",
   "execution_count": null,
   "metadata": {},
   "outputs": [],
   "source": [
    "models = encoder_model, decoder_model \n",
    "data = x_test_flat, y_test"
   ]
  },
  {
   "cell_type": "code",
   "execution_count": null,
   "metadata": {},
   "outputs": [],
   "source": [
    "def plot_results_var(models,\n",
    "                 data,\n",
    "                 batch_size=128,\n",
    "                 model_name=\"vae_mnist\",\n",
    "                    lim=4):\n",
    "    \"\"\"Plots labels and MNIST digits as function of 2-dim latent vector\n",
    "    # Arguments:\n",
    "        models (tuple): encoder and decoder models\n",
    "        data (tuple): test data and label\n",
    "        batch_size (int): prediction batch size\n",
    "        model_name (string): which model is using this function\n",
    "    \"\"\"\n",
    "\n",
    "    encoder, decoder = models\n",
    "    x_test, y_test = data\n",
    "    os.makedirs(model_name, exist_ok=True)\n",
    "\n",
    "    filename = os.path.join(model_name, \"vae_mean.png\")\n",
    "    \n",
    "    # display a 2D plot of the digit classes in the latent space\n",
    "    _, z_log_var, _ = encoder.predict(x_test,\n",
    "                                   batch_size=batch_size)\n",
    "    print(z_log_var)\n",
    "    plt.figure(figsize=(8, 7))\n",
    "    plt.scatter(z_log_var[:, 0], z_log_var[:, 1], c=y_test)\n",
    "    plt.colorbar()\n",
    "    plt.xlabel(\"z[0]\")\n",
    "    plt.ylabel(\"z[1]\")\n",
    "    plt.savefig(filename)\n",
    "    plt.show()\n",
    "\n",
    "    filename = os.path.join(model_name, \"digits_over_latent.png\")\n",
    "    # display a 10x10 2D manifold of digits\n",
    "    n = 10\n",
    "    digit_size = 28\n",
    "    figure = np.zeros((digit_size * n, digit_size * n))\n",
    "    # linearly spaced coordinates corresponding to the 2D plot\n",
    "    # of digit classes in the latent space\n",
    "    grid_x = np.linspace(-1.0 * lim, lim, n)\n",
    "    grid_y = np.linspace(-1.0 * lim, lim, n)[::-1]\n",
    "\n",
    "    for i, yi in enumerate(grid_y):\n",
    "        for j, xi in enumerate(grid_x):\n",
    "            z_sample = np.array([[xi, yi]])\n",
    "            x_decoded = decoder.predict(z_sample, verbose=0)\n",
    "            digit = x_decoded[0].reshape(digit_size, digit_size)\n",
    "            figure[i * digit_size: (i + 1) * digit_size,\n",
    "                   j * digit_size: (j + 1) * digit_size] = digit\n",
    "\n",
    "    plt.figure(figsize=(8, 8))\n",
    "    start_range = digit_size // 2\n",
    "    end_range = n * digit_size + start_range + 1\n",
    "    pixel_range = np.arange(start_range, end_range, digit_size+1)\n",
    "    sample_range_x = np.round(grid_x, 1)\n",
    "    sample_range_y = np.round(grid_y, 1)\n",
    "    plt.xticks(pixel_range, sample_range_x)\n",
    "    plt.yticks(pixel_range, sample_range_y)\n",
    "    plt.xlabel(\"z[0]\")\n",
    "    plt.ylabel(\"z[1]\")\n",
    "    plt.imshow(figure, cmap='Greys_r')\n",
    "    plt.savefig(filename)\n",
    "    plt.show()"
   ]
  },
  {
   "cell_type": "code",
   "execution_count": null,
   "metadata": {},
   "outputs": [],
   "source": [
    "plot_results_var(models,\n",
    "             data,\n",
    "             batch_size=batch_size,\n",
    "             model_name=\"vae_mlp\", \n",
    "             lim=5)"
   ]
  },
  {
   "cell_type": "markdown",
   "metadata": {},
   "source": [
    "Interesting results for just one epoch! As with the autoencoder above, you can modify the architecture of the VAE to try and produce better results, even adding convolutions.\n"
   ]
  },
  {
   "cell_type": "markdown",
   "metadata": {},
   "source": [
    "### Exercise 6\n",
    "\n",
    "Train VAE and AE for 10 epochs each, and plot the reconstruction MSE as a function of the number of epochs for each. Which one seems to have more potential to continuously learn as it is given more compute time? Is this surprising to you?\n"
   ]
  },
  {
   "cell_type": "code",
   "execution_count": null,
   "metadata": {},
   "outputs": [],
   "source": [
    "### BEGIN SOLUTION \n",
    "# Gather AE loss \n",
    "loss_ae = train_ae_epochs(10)"
   ]
  },
  {
   "cell_type": "code",
   "execution_count": null,
   "metadata": {},
   "outputs": [],
   "source": [
    "# VAE model loss"
   ]
  },
  {
   "cell_type": "code",
   "execution_count": null,
   "metadata": {},
   "outputs": [],
   "source": [
    "vae_mse = []\n",
    "for i in range(10):\n",
    "    vae_model.fit(x_train_flat,\n",
    "            epochs=1,\n",
    "            batch_size=batch_size)\n",
    "    decoded_images = vae_model.predict(x_test_flat)\n",
    "    vae_mse.append(mse_reconstruction(decoded_images, x_test_flat))"
   ]
  },
  {
   "cell_type": "code",
   "execution_count": null,
   "metadata": {},
   "outputs": [],
   "source": [
    "# Plot scaled losses\n",
    "plt.plot(range(10), loss_ae/(.01*loss_ae[0]), label='AE')\n",
    "plt.plot(range(10), vae_mse/(.01*vae_mse[0]), label='VAE')\n",
    "plt.xlabel('Epochs')\n",
    "plt.ylabel('MSE Recon. Loss (% of Epoch 1 loss)')\n",
    "plt.legend()\n",
    "### END SOLUTION "
   ]
  },
  {
   "cell_type": "markdown",
   "metadata": {},
   "source": [
    "---\n",
    "### Machine Learning Foundation (C) 2020 IBM Corporation\n"
   ]
  }
 ],
 "metadata": {
  "kernelspec": {
   "display_name": "Python",
   "language": "python",
   "name": "conda-env-python-py"
  },
  "language_info": {
   "codemirror_mode": {
    "name": "ipython",
    "version": 3
   },
   "file_extension": ".py",
   "mimetype": "text/x-python",
   "name": "python",
   "nbconvert_exporter": "python",
   "pygments_lexer": "ipython3",
   "version": "3.7.12"
  }
 },
 "nbformat": 4,
 "nbformat_minor": 4
}
