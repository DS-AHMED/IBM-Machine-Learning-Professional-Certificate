{
 "cells": [
  {
   "cell_type": "markdown",
   "id": "5eceb412",
   "metadata": {},
   "source": [
    "# Bank Customer Churn Prediciton using Clustering algorithm\n",
    "\n",
    "\n",
    "![title](bank.jpeg)\n",
    "\n",
    "In today's data-driven world, businesses are constantly looking for ways to leverage customer data to improve their services and increase profitability. One area where this is particularly important is in the banking industry, where customer churn can have a significant impact on revenue and profitability. Customer churn refers to the rate at which customers stop doing business with a bank or switch to a competitor. By analyzing customer data, banks can identify patterns and trends that may indicate a customer is likely to churn, allowing them to take proactive measures to retain the customer.\n",
    "\n",
    "One approach to predicting customer churn is to use machine learning techniques, such as classification and clustering, to analyze customer data and identify patterns that may indicate a customer is at risk of churning. Classification models are used to predict whether a customer is likely to churn or not based on their demographic and transactional data. However, these models may not always be accurate, as they do not take into account the unique characteristics of each customer.\n",
    "\n",
    "To improve the accuracy of churn prediction, clustering techniques can be used to group customers into similar segments based on their characteristics and behavior. By doing so, it is possible to identify more specific trends and patterns that may indicate a customer is at risk of churning. Once customers are clustered, separate classification models can be built for each cluster, allowing for more accurate predictions based on each customer's unique characteristics.\n",
    "\n",
    "Comparing the accuracy of classification models built using the whole dataset versus models built for each cluster can help to determine which approach is more effective. If the cluster-specific models outperform the classification model on the whole dataset, this suggests that clustering is a useful technique for improving churn prediction accuracy. Additionally, this approach can help banks to identify specific factors that are driving customer churn in each cluster, allowing them to take more targeted and effective measures to retain customers.\n",
    "\n",
    "In summary, using machine learning techniques such as classification and clustering can help banks to analyze customer data and predict churn more accurately. By building separate models for each cluster, banks can take a more targeted approach to customer retention, improving the effectiveness of their efforts to retain customers and increase profitability."
   ]
  },
  {
   "cell_type": "code",
   "execution_count": 1,
   "id": "9312d2c4",
   "metadata": {},
   "outputs": [],
   "source": [
    "# here we will import the needed library in this project\n",
    "# Preprocessing\n",
    "import numpy as np\n",
    "import pandas as pd\n",
    "from sklearn.preprocessing import LabelBinarizer\n",
    "from sklearn.preprocessing import label_binarize\n",
    "from sklearn.preprocessing import MinMaxScaler\n",
    "\n",
    "\n",
    "# Machine Leanring\n",
    "from sklearn.cluster import DBSCAN\n",
    "from sklearn.cluster import KMeans\n",
    "from sklearn.linear_model import LogisticRegression\n",
    "from sklearn.model_selection import train_test_split\n",
    "from sklearn.metrics import accuracy_score, precision_recall_fscore_support # To evaluate models\n",
    "from sklearn.model_selection import GridSearchCV\n",
    "\n",
    "\n",
    "\n",
    "# Visualization \n",
    "import seaborn as sns\n",
    "import matplotlib.pyplot as plt"
   ]
  },
  {
   "cell_type": "code",
   "execution_count": 2,
   "id": "238020d8",
   "metadata": {},
   "outputs": [],
   "source": [
    "# here we will define some helper functions that we'ill use for this project \n",
    "# evaluation metrics stored in a dictionary\n",
    "def evaluate_metrics(yt, yp):\n",
    "    results_pos = {}\n",
    "    results_pos['accuracy'] = accuracy_score(yt, yp)\n",
    "    \n",
    "    precision, recall, f_beta, _ = precision_recall_fscore_support(yt, yp)\n",
    "    W_precision, W_recall, W_fbeta, _ = precision_recall_fscore_support(yt, yp, average = 'weighted')\n",
    "    \n",
    "    results_pos['precision'] = precision\n",
    "    results_pos['Weighted precision'] = W_precision\n",
    "    results_pos['recall'] = recall\n",
    "    results_pos['Weighted recall'] = W_recall\n",
    "    results_pos['f1score'] = f_beta\n",
    "    results_pos['Weighted f1score'] = W_fbeta\n",
    "    return results_pos"
   ]
  },
  {
   "cell_type": "markdown",
   "id": "f8ddf285",
   "metadata": {},
   "source": [
    "## 1- Importing the Data and Perform EDAs\n"
   ]
  },
  {
   "cell_type": "code",
   "execution_count": 3,
   "id": "fca56560",
   "metadata": {},
   "outputs": [],
   "source": [
    "df = pd.read_csv('Churn Modeling.csv')"
   ]
  },
  {
   "cell_type": "code",
   "execution_count": 4,
   "id": "9c42504a",
   "metadata": {},
   "outputs": [
    {
     "data": {
      "text/html": [
       "<div>\n",
       "<style scoped>\n",
       "    .dataframe tbody tr th:only-of-type {\n",
       "        vertical-align: middle;\n",
       "    }\n",
       "\n",
       "    .dataframe tbody tr th {\n",
       "        vertical-align: top;\n",
       "    }\n",
       "\n",
       "    .dataframe thead th {\n",
       "        text-align: right;\n",
       "    }\n",
       "</style>\n",
       "<table border=\"1\" class=\"dataframe\">\n",
       "  <thead>\n",
       "    <tr style=\"text-align: right;\">\n",
       "      <th></th>\n",
       "      <th>RowNumber</th>\n",
       "      <th>CustomerId</th>\n",
       "      <th>Surname</th>\n",
       "      <th>CreditScore</th>\n",
       "      <th>Geography</th>\n",
       "      <th>Gender</th>\n",
       "      <th>Age</th>\n",
       "      <th>Tenure</th>\n",
       "      <th>Balance</th>\n",
       "      <th>NumOfProducts</th>\n",
       "      <th>HasCrCard</th>\n",
       "      <th>IsActiveMember</th>\n",
       "      <th>EstimatedSalary</th>\n",
       "      <th>Exited</th>\n",
       "    </tr>\n",
       "  </thead>\n",
       "  <tbody>\n",
       "    <tr>\n",
       "      <th>0</th>\n",
       "      <td>1</td>\n",
       "      <td>15634602</td>\n",
       "      <td>Hargrave</td>\n",
       "      <td>619</td>\n",
       "      <td>France</td>\n",
       "      <td>Female</td>\n",
       "      <td>42</td>\n",
       "      <td>2</td>\n",
       "      <td>0.00</td>\n",
       "      <td>1</td>\n",
       "      <td>1</td>\n",
       "      <td>1</td>\n",
       "      <td>101348.88</td>\n",
       "      <td>1</td>\n",
       "    </tr>\n",
       "    <tr>\n",
       "      <th>1</th>\n",
       "      <td>2</td>\n",
       "      <td>15647311</td>\n",
       "      <td>Hill</td>\n",
       "      <td>608</td>\n",
       "      <td>Spain</td>\n",
       "      <td>Female</td>\n",
       "      <td>41</td>\n",
       "      <td>1</td>\n",
       "      <td>83807.86</td>\n",
       "      <td>1</td>\n",
       "      <td>0</td>\n",
       "      <td>1</td>\n",
       "      <td>112542.58</td>\n",
       "      <td>0</td>\n",
       "    </tr>\n",
       "    <tr>\n",
       "      <th>2</th>\n",
       "      <td>3</td>\n",
       "      <td>15619304</td>\n",
       "      <td>Onio</td>\n",
       "      <td>502</td>\n",
       "      <td>France</td>\n",
       "      <td>Female</td>\n",
       "      <td>42</td>\n",
       "      <td>8</td>\n",
       "      <td>159660.80</td>\n",
       "      <td>3</td>\n",
       "      <td>1</td>\n",
       "      <td>0</td>\n",
       "      <td>113931.57</td>\n",
       "      <td>1</td>\n",
       "    </tr>\n",
       "    <tr>\n",
       "      <th>3</th>\n",
       "      <td>4</td>\n",
       "      <td>15701354</td>\n",
       "      <td>Boni</td>\n",
       "      <td>699</td>\n",
       "      <td>France</td>\n",
       "      <td>Female</td>\n",
       "      <td>39</td>\n",
       "      <td>1</td>\n",
       "      <td>0.00</td>\n",
       "      <td>2</td>\n",
       "      <td>0</td>\n",
       "      <td>0</td>\n",
       "      <td>93826.63</td>\n",
       "      <td>0</td>\n",
       "    </tr>\n",
       "    <tr>\n",
       "      <th>4</th>\n",
       "      <td>5</td>\n",
       "      <td>15737888</td>\n",
       "      <td>Mitchell</td>\n",
       "      <td>850</td>\n",
       "      <td>Spain</td>\n",
       "      <td>Female</td>\n",
       "      <td>43</td>\n",
       "      <td>2</td>\n",
       "      <td>125510.82</td>\n",
       "      <td>1</td>\n",
       "      <td>1</td>\n",
       "      <td>1</td>\n",
       "      <td>79084.10</td>\n",
       "      <td>0</td>\n",
       "    </tr>\n",
       "  </tbody>\n",
       "</table>\n",
       "</div>"
      ],
      "text/plain": [
       "   RowNumber  CustomerId   Surname  CreditScore Geography  Gender  Age  \\\n",
       "0          1    15634602  Hargrave          619    France  Female   42   \n",
       "1          2    15647311      Hill          608     Spain  Female   41   \n",
       "2          3    15619304      Onio          502    France  Female   42   \n",
       "3          4    15701354      Boni          699    France  Female   39   \n",
       "4          5    15737888  Mitchell          850     Spain  Female   43   \n",
       "\n",
       "   Tenure    Balance  NumOfProducts  HasCrCard  IsActiveMember  \\\n",
       "0       2       0.00              1          1               1   \n",
       "1       1   83807.86              1          0               1   \n",
       "2       8  159660.80              3          1               0   \n",
       "3       1       0.00              2          0               0   \n",
       "4       2  125510.82              1          1               1   \n",
       "\n",
       "   EstimatedSalary  Exited  \n",
       "0        101348.88       1  \n",
       "1        112542.58       0  \n",
       "2        113931.57       1  \n",
       "3         93826.63       0  \n",
       "4         79084.10       0  "
      ]
     },
     "execution_count": 4,
     "metadata": {},
     "output_type": "execute_result"
    }
   ],
   "source": [
    "df.head()"
   ]
  },
  {
   "cell_type": "code",
   "execution_count": 5,
   "id": "c3d96f1d",
   "metadata": {},
   "outputs": [
    {
     "data": {
      "text/plain": [
       "Index(['CreditScore', 'Geography', 'Gender', 'Age', 'Tenure', 'Balance',\n",
       "       'NumOfProducts', 'HasCrCard', 'IsActiveMember', 'EstimatedSalary',\n",
       "       'Exited'],\n",
       "      dtype='object')"
      ]
     },
     "execution_count": 5,
     "metadata": {},
     "output_type": "execute_result"
    }
   ],
   "source": [
    "# removing \"RowNumber\", \"Surname\" and \"CustomerId\" becauuse they don't add any information\n",
    "df_ready = df.drop([\"RowNumber\", \"Surname\", \"CustomerId\"], axis = 1)\n",
    "df_ready.columns"
   ]
  },
  {
   "cell_type": "code",
   "execution_count": 6,
   "id": "fe819b30",
   "metadata": {},
   "outputs": [
    {
     "data": {
      "text/plain": [
       "CreditScore        0\n",
       "Geography          0\n",
       "Gender             0\n",
       "Age                0\n",
       "Tenure             0\n",
       "Balance            0\n",
       "NumOfProducts      0\n",
       "HasCrCard          0\n",
       "IsActiveMember     0\n",
       "EstimatedSalary    0\n",
       "Exited             0\n",
       "dtype: int64"
      ]
     },
     "execution_count": 6,
     "metadata": {},
     "output_type": "execute_result"
    }
   ],
   "source": [
    "# checking if there is missing value in each column\n",
    "df_ready.isnull().sum()"
   ]
  },
  {
   "cell_type": "code",
   "execution_count": 7,
   "id": "59134006",
   "metadata": {
    "scrolled": true
   },
   "outputs": [
    {
     "data": {
      "text/plain": [
       "CreditScore          int64\n",
       "Geography           object\n",
       "Gender              object\n",
       "Age                  int64\n",
       "Tenure               int64\n",
       "Balance            float64\n",
       "NumOfProducts        int64\n",
       "HasCrCard            int64\n",
       "IsActiveMember       int64\n",
       "EstimatedSalary    float64\n",
       "Exited               int64\n",
       "dtype: object"
      ]
     },
     "execution_count": 7,
     "metadata": {},
     "output_type": "execute_result"
    }
   ],
   "source": [
    "# checking each column type\n",
    "df_ready.dtypes"
   ]
  },
  {
   "cell_type": "code",
   "execution_count": 8,
   "id": "5a4b39db",
   "metadata": {
    "scrolled": true
   },
   "outputs": [
    {
     "data": {
      "text/html": [
       "<div>\n",
       "<style scoped>\n",
       "    .dataframe tbody tr th:only-of-type {\n",
       "        vertical-align: middle;\n",
       "    }\n",
       "\n",
       "    .dataframe tbody tr th {\n",
       "        vertical-align: top;\n",
       "    }\n",
       "\n",
       "    .dataframe thead th {\n",
       "        text-align: right;\n",
       "    }\n",
       "</style>\n",
       "<table border=\"1\" class=\"dataframe\">\n",
       "  <thead>\n",
       "    <tr style=\"text-align: right;\">\n",
       "      <th></th>\n",
       "      <th>CreditScore</th>\n",
       "      <th>Geography</th>\n",
       "      <th>Gender</th>\n",
       "      <th>Age</th>\n",
       "      <th>Tenure</th>\n",
       "      <th>Balance</th>\n",
       "      <th>NumOfProducts</th>\n",
       "      <th>HasCrCard</th>\n",
       "      <th>IsActiveMember</th>\n",
       "      <th>EstimatedSalary</th>\n",
       "      <th>Exited</th>\n",
       "    </tr>\n",
       "  </thead>\n",
       "  <tbody>\n",
       "    <tr>\n",
       "      <th>0</th>\n",
       "      <td>619</td>\n",
       "      <td>France</td>\n",
       "      <td>Female</td>\n",
       "      <td>42</td>\n",
       "      <td>2</td>\n",
       "      <td>0.00</td>\n",
       "      <td>1</td>\n",
       "      <td>1</td>\n",
       "      <td>1</td>\n",
       "      <td>101348.88</td>\n",
       "      <td>1</td>\n",
       "    </tr>\n",
       "    <tr>\n",
       "      <th>1</th>\n",
       "      <td>608</td>\n",
       "      <td>Spain</td>\n",
       "      <td>Female</td>\n",
       "      <td>41</td>\n",
       "      <td>1</td>\n",
       "      <td>83807.86</td>\n",
       "      <td>1</td>\n",
       "      <td>0</td>\n",
       "      <td>1</td>\n",
       "      <td>112542.58</td>\n",
       "      <td>0</td>\n",
       "    </tr>\n",
       "    <tr>\n",
       "      <th>2</th>\n",
       "      <td>502</td>\n",
       "      <td>France</td>\n",
       "      <td>Female</td>\n",
       "      <td>42</td>\n",
       "      <td>8</td>\n",
       "      <td>159660.80</td>\n",
       "      <td>3</td>\n",
       "      <td>1</td>\n",
       "      <td>0</td>\n",
       "      <td>113931.57</td>\n",
       "      <td>1</td>\n",
       "    </tr>\n",
       "    <tr>\n",
       "      <th>3</th>\n",
       "      <td>699</td>\n",
       "      <td>France</td>\n",
       "      <td>Female</td>\n",
       "      <td>39</td>\n",
       "      <td>1</td>\n",
       "      <td>0.00</td>\n",
       "      <td>2</td>\n",
       "      <td>0</td>\n",
       "      <td>0</td>\n",
       "      <td>93826.63</td>\n",
       "      <td>0</td>\n",
       "    </tr>\n",
       "    <tr>\n",
       "      <th>4</th>\n",
       "      <td>850</td>\n",
       "      <td>Spain</td>\n",
       "      <td>Female</td>\n",
       "      <td>43</td>\n",
       "      <td>2</td>\n",
       "      <td>125510.82</td>\n",
       "      <td>1</td>\n",
       "      <td>1</td>\n",
       "      <td>1</td>\n",
       "      <td>79084.10</td>\n",
       "      <td>0</td>\n",
       "    </tr>\n",
       "  </tbody>\n",
       "</table>\n",
       "</div>"
      ],
      "text/plain": [
       "   CreditScore Geography  Gender  Age  Tenure    Balance  NumOfProducts  \\\n",
       "0          619    France  Female   42       2       0.00              1   \n",
       "1          608     Spain  Female   41       1   83807.86              1   \n",
       "2          502    France  Female   42       8  159660.80              3   \n",
       "3          699    France  Female   39       1       0.00              2   \n",
       "4          850     Spain  Female   43       2  125510.82              1   \n",
       "\n",
       "   HasCrCard  IsActiveMember  EstimatedSalary  Exited  \n",
       "0          1               1        101348.88       1  \n",
       "1          0               1        112542.58       0  \n",
       "2          1               0        113931.57       1  \n",
       "3          0               0         93826.63       0  \n",
       "4          1               1         79084.10       0  "
      ]
     },
     "execution_count": 8,
     "metadata": {},
     "output_type": "execute_result"
    }
   ],
   "source": [
    "df_ready.head()"
   ]
  },
  {
   "cell_type": "code",
   "execution_count": 9,
   "id": "ba1800db",
   "metadata": {},
   "outputs": [
    {
     "data": {
      "image/png": "[encoded data removed]",
      "text/plain": [
       "<Figure size 1080x1080 with 2 Axes>"
      ]
     },
     "metadata": {
      "needs_background": "light"
     },
     "output_type": "display_data"
    }
   ],
   "source": [
    "corr = df_ready.corr()\n",
    "# Defining the size of the plot\n",
    "plt.figure(figsize=(15,15)) # Set the size of the plot to 15x15 inches\n",
    "# Create a heatmap using seaborn\n",
    "sns.heatmap(corr, cmap='coolwarm', annot=True)\n",
    "\n",
    "# Add title and axis labels\n",
    "plt.title('Correlation Matrix')\n",
    "plt.xlabel('Features')\n",
    "plt.ylabel('Features')\n",
    "\n",
    "# Show the plot\n",
    "plt.show()"
   ]
  },
  {
   "cell_type": "markdown",
   "id": "5e3d3da8",
   "metadata": {},
   "source": [
    "We can see from the correlation plot that \"IsActiveMember\" and \"Exited\" are the most correlated features, this is probabily because those who are active are less likely to exit the bank"
   ]
  },
  {
   "cell_type": "markdown",
   "id": "fbfba40e",
   "metadata": {},
   "source": [
    "## PreProcessing and Encoding"
   ]
  },
  {
   "cell_type": "code",
   "execution_count": 10,
   "id": "348980ae",
   "metadata": {},
   "outputs": [],
   "source": [
    "# Removing the categorical columns since we will be using the eucledian distance\n",
    "df_ready = df_ready.drop('Geography', axis = 1)\n",
    "\n",
    "# we will encode the gender column since it's a binary column\n",
    "df_ready['Gender'] = label_binarize(df_ready.Gender, classes = ['Male', 'Female']).flatten()"
   ]
  },
  {
   "cell_type": "markdown",
   "id": "a02f9db8",
   "metadata": {},
   "source": [
    "## 3- Machine Learning"
   ]
  },
  {
   "cell_type": "code",
   "execution_count": 109,
   "id": "f29c4ad9",
   "metadata": {},
   "outputs": [
    {
     "name": "stdout",
     "output_type": "stream",
     "text": [
      "Training set shape: (7500, 9) (7500,)\n",
      "Testing set shape: (2500, 9) (2500,)\n"
     ]
    }
   ],
   "source": [
    "# splitting the data into test and training set\n",
    "X = df_ready.drop('Exited', axis = 1)\n",
    "y = df_ready.Exited.astype(int)\n",
    "\n",
    "# split the data into training and testing sets\n",
    "X_train, X_test, y_train, y_test = train_test_split(X, y, test_size=0.25, random_state=42)\n",
    "\n",
    "# check the shape of the resulting sets\n",
    "print(\"Training set shape:\", X_train.shape, y_train.shape)\n",
    "print(\"Testing set shape:\", X_test.shape, y_test.shape)"
   ]
  },
  {
   "cell_type": "code",
   "execution_count": 110,
   "id": "6334de69",
   "metadata": {
    "scrolled": true
   },
   "outputs": [
    {
     "data": {
      "text/html": [
       "<div>\n",
       "<style scoped>\n",
       "    .dataframe tbody tr th:only-of-type {\n",
       "        vertical-align: middle;\n",
       "    }\n",
       "\n",
       "    .dataframe tbody tr th {\n",
       "        vertical-align: top;\n",
       "    }\n",
       "\n",
       "    .dataframe thead th {\n",
       "        text-align: right;\n",
       "    }\n",
       "</style>\n",
       "<table border=\"1\" class=\"dataframe\">\n",
       "  <thead>\n",
       "    <tr style=\"text-align: right;\">\n",
       "      <th></th>\n",
       "      <th>CreditScore</th>\n",
       "      <th>Gender</th>\n",
       "      <th>Age</th>\n",
       "      <th>Tenure</th>\n",
       "      <th>Balance</th>\n",
       "      <th>NumOfProducts</th>\n",
       "      <th>HasCrCard</th>\n",
       "      <th>IsActiveMember</th>\n",
       "      <th>EstimatedSalary</th>\n",
       "    </tr>\n",
       "  </thead>\n",
       "  <tbody>\n",
       "    <tr>\n",
       "      <th>4901</th>\n",
       "      <td>0.646</td>\n",
       "      <td>0.0</td>\n",
       "      <td>0.554054</td>\n",
       "      <td>0.0</td>\n",
       "      <td>0.709683</td>\n",
       "      <td>0.333333</td>\n",
       "      <td>0.0</td>\n",
       "      <td>1.0</td>\n",
       "      <td>0.104931</td>\n",
       "    </tr>\n",
       "    <tr>\n",
       "      <th>4375</th>\n",
       "      <td>1.000</td>\n",
       "      <td>0.0</td>\n",
       "      <td>0.310811</td>\n",
       "      <td>0.8</td>\n",
       "      <td>0.242651</td>\n",
       "      <td>0.000000</td>\n",
       "      <td>1.0</td>\n",
       "      <td>0.0</td>\n",
       "      <td>0.158774</td>\n",
       "    </tr>\n",
       "    <tr>\n",
       "      <th>6698</th>\n",
       "      <td>0.750</td>\n",
       "      <td>1.0</td>\n",
       "      <td>0.175676</td>\n",
       "      <td>0.6</td>\n",
       "      <td>0.000000</td>\n",
       "      <td>0.000000</td>\n",
       "      <td>0.0</td>\n",
       "      <td>0.0</td>\n",
       "      <td>0.306365</td>\n",
       "    </tr>\n",
       "    <tr>\n",
       "      <th>9805</th>\n",
       "      <td>0.588</td>\n",
       "      <td>0.0</td>\n",
       "      <td>0.202703</td>\n",
       "      <td>0.7</td>\n",
       "      <td>0.695786</td>\n",
       "      <td>0.000000</td>\n",
       "      <td>0.0</td>\n",
       "      <td>1.0</td>\n",
       "      <td>0.219396</td>\n",
       "    </tr>\n",
       "    <tr>\n",
       "      <th>1101</th>\n",
       "      <td>0.706</td>\n",
       "      <td>0.0</td>\n",
       "      <td>0.148649</td>\n",
       "      <td>0.9</td>\n",
       "      <td>0.000000</td>\n",
       "      <td>0.333333</td>\n",
       "      <td>1.0</td>\n",
       "      <td>0.0</td>\n",
       "      <td>0.253098</td>\n",
       "    </tr>\n",
       "  </tbody>\n",
       "</table>\n",
       "</div>"
      ],
      "text/plain": [
       "      CreditScore  Gender       Age  Tenure   Balance  NumOfProducts  \\\n",
       "4901        0.646     0.0  0.554054     0.0  0.709683       0.333333   \n",
       "4375        1.000     0.0  0.310811     0.8  0.242651       0.000000   \n",
       "6698        0.750     1.0  0.175676     0.6  0.000000       0.000000   \n",
       "9805        0.588     0.0  0.202703     0.7  0.695786       0.000000   \n",
       "1101        0.706     0.0  0.148649     0.9  0.000000       0.333333   \n",
       "\n",
       "      HasCrCard  IsActiveMember  EstimatedSalary  \n",
       "4901        0.0             1.0         0.104931  \n",
       "4375        1.0             0.0         0.158774  \n",
       "6698        0.0             0.0         0.306365  \n",
       "9805        0.0             1.0         0.219396  \n",
       "1101        1.0             0.0         0.253098  "
      ]
     },
     "metadata": {},
     "output_type": "display_data"
    },
    {
     "data": {
      "text/html": [
       "<div>\n",
       "<style scoped>\n",
       "    .dataframe tbody tr th:only-of-type {\n",
       "        vertical-align: middle;\n",
       "    }\n",
       "\n",
       "    .dataframe tbody tr th {\n",
       "        vertical-align: top;\n",
       "    }\n",
       "\n",
       "    .dataframe thead th {\n",
       "        text-align: right;\n",
       "    }\n",
       "</style>\n",
       "<table border=\"1\" class=\"dataframe\">\n",
       "  <thead>\n",
       "    <tr style=\"text-align: right;\">\n",
       "      <th></th>\n",
       "      <th>CreditScore</th>\n",
       "      <th>Gender</th>\n",
       "      <th>Age</th>\n",
       "      <th>Tenure</th>\n",
       "      <th>Balance</th>\n",
       "      <th>NumOfProducts</th>\n",
       "      <th>HasCrCard</th>\n",
       "      <th>IsActiveMember</th>\n",
       "      <th>EstimatedSalary</th>\n",
       "    </tr>\n",
       "  </thead>\n",
       "  <tbody>\n",
       "    <tr>\n",
       "      <th>6252</th>\n",
       "      <td>0.492</td>\n",
       "      <td>0.0</td>\n",
       "      <td>0.189189</td>\n",
       "      <td>0.3</td>\n",
       "      <td>0.447500</td>\n",
       "      <td>0.333333</td>\n",
       "      <td>0.0</td>\n",
       "      <td>0.0</td>\n",
       "      <td>0.208904</td>\n",
       "    </tr>\n",
       "    <tr>\n",
       "      <th>4684</th>\n",
       "      <td>0.546</td>\n",
       "      <td>0.0</td>\n",
       "      <td>0.337838</td>\n",
       "      <td>0.1</td>\n",
       "      <td>0.000000</td>\n",
       "      <td>0.333333</td>\n",
       "      <td>1.0</td>\n",
       "      <td>1.0</td>\n",
       "      <td>0.731908</td>\n",
       "    </tr>\n",
       "    <tr>\n",
       "      <th>1731</th>\n",
       "      <td>0.502</td>\n",
       "      <td>1.0</td>\n",
       "      <td>0.351351</td>\n",
       "      <td>0.4</td>\n",
       "      <td>0.000000</td>\n",
       "      <td>0.333333</td>\n",
       "      <td>1.0</td>\n",
       "      <td>0.0</td>\n",
       "      <td>0.292777</td>\n",
       "    </tr>\n",
       "    <tr>\n",
       "      <th>4742</th>\n",
       "      <td>0.312</td>\n",
       "      <td>0.0</td>\n",
       "      <td>0.554054</td>\n",
       "      <td>0.8</td>\n",
       "      <td>0.551350</td>\n",
       "      <td>0.333333</td>\n",
       "      <td>1.0</td>\n",
       "      <td>1.0</td>\n",
       "      <td>0.853422</td>\n",
       "    </tr>\n",
       "    <tr>\n",
       "      <th>4521</th>\n",
       "      <td>0.420</td>\n",
       "      <td>1.0</td>\n",
       "      <td>0.121622</td>\n",
       "      <td>0.7</td>\n",
       "      <td>0.578391</td>\n",
       "      <td>0.000000</td>\n",
       "      <td>1.0</td>\n",
       "      <td>1.0</td>\n",
       "      <td>0.573346</td>\n",
       "    </tr>\n",
       "  </tbody>\n",
       "</table>\n",
       "</div>"
      ],
      "text/plain": [
       "      CreditScore  Gender       Age  Tenure   Balance  NumOfProducts  \\\n",
       "6252        0.492     0.0  0.189189     0.3  0.447500       0.333333   \n",
       "4684        0.546     0.0  0.337838     0.1  0.000000       0.333333   \n",
       "1731        0.502     1.0  0.351351     0.4  0.000000       0.333333   \n",
       "4742        0.312     0.0  0.554054     0.8  0.551350       0.333333   \n",
       "4521        0.420     1.0  0.121622     0.7  0.578391       0.000000   \n",
       "\n",
       "      HasCrCard  IsActiveMember  EstimatedSalary  \n",
       "6252        0.0             0.0         0.208904  \n",
       "4684        1.0             1.0         0.731908  \n",
       "1731        1.0             0.0         0.292777  \n",
       "4742        1.0             1.0         0.853422  \n",
       "4521        1.0             1.0         0.573346  "
      ]
     },
     "metadata": {},
     "output_type": "display_data"
    }
   ],
   "source": [
    "# scaling the training and the test sets\n",
    "scale = MinMaxScaler()\n",
    "X_train[X_train.columns] = scale.fit_transform(X_train[X_train.columns])\n",
    "X_test[X_test.columns] = scale.fit_transform(X_test[X_test.columns])\n",
    "display(X_train.head())\n",
    "display(X_test.head())"
   ]
  },
  {
   "cell_type": "code",
   "execution_count": 111,
   "id": "7377ae9f",
   "metadata": {},
   "outputs": [],
   "source": [
    "# fitting the logistic regression model\n",
    "lg = LogisticRegression()\n",
    "lg.fit(X_train, y_train)\n",
    "y_pred = lg.predict(X_test)"
   ]
  },
  {
   "cell_type": "code",
   "execution_count": 112,
   "id": "9240b0c1",
   "metadata": {},
   "outputs": [
    {
     "data": {
      "text/plain": [
       "{'accuracy': 0.8096,\n",
       " 'precision': array([0.82642155, 0.56521739]),\n",
       " 'Weighted precision': 0.7744941613844638,\n",
       " 'recall': array([0.96505242, 0.18309859]),\n",
       " 'Weighted recall': 0.8096,\n",
       " 'f1score': array([0.8903731 , 0.27659574]),\n",
       " 'Weighted f1score': 0.7683541617256486}"
      ]
     },
     "execution_count": 112,
     "metadata": {},
     "output_type": "execute_result"
    }
   ],
   "source": [
    "# printing a report for how well the model performed using different accuracy metrics\n",
    "row= evaluate_metrics(y_test,y_pred)\n",
    "row"
   ]
  },
  {
   "cell_type": "code",
   "execution_count": 113,
   "id": "79a431f4",
   "metadata": {},
   "outputs": [
    {
     "data": {
      "text/plain": [
       "[0.8096, 0.7744941613844638, 0.8096, 0.7683541617256486]"
      ]
     },
     "execution_count": 113,
     "metadata": {},
     "output_type": "execute_result"
    }
   ],
   "source": [
    "keys = ['accuracy','Weighted precision','Weighted recall','Weighted f1score']\n",
    "row_results = list()\n",
    "for key in keys:\n",
    "       row_results.append(row.get(key))\n",
    "row_results "
   ]
  },
  {
   "cell_type": "code",
   "execution_count": 114,
   "id": "8b58f59b",
   "metadata": {
    "scrolled": true
   },
   "outputs": [
    {
     "data": {
      "image/png": "[encoded data removed]",
      "text/plain": [
       "<Figure size 432x288 with 1 Axes>"
      ]
     },
     "metadata": {
      "needs_background": "light"
     },
     "output_type": "display_data"
    }
   ],
   "source": [
    "# trying Kmeans to find the best number of clusters that would reduce the inertia\n",
    "inertia = []\n",
    "list_num_clusters = list(range(1,30))\n",
    "for num_clusters in list_num_clusters:\n",
    "    km = KMeans(n_clusters=num_clusters, random_state = 42)\n",
    "    km.fit(X_train)\n",
    "    inertia.append(km.inertia_)\n",
    "    \n",
    "plt.plot(list_num_clusters,inertia)\n",
    "plt.scatter(list_num_clusters,inertia)\n",
    "plt.xlabel('Number of Clusters')\n",
    "plt.ylabel('Inertia');"
   ]
  },
  {
   "cell_type": "markdown",
   "id": "407ececa",
   "metadata": {},
   "source": [
    "the elbow method in kmeans shows that the optimal number of clusters is similar to DBSCAN, we will train a logistic regression model using each algorithm output and compare the results.\n"
   ]
  },
  {
   "cell_type": "code",
   "execution_count": 115,
   "id": "a7f049ac",
   "metadata": {},
   "outputs": [
    {
     "data": {
      "text/html": [
       "<div>\n",
       "<style scoped>\n",
       "    .dataframe tbody tr th:only-of-type {\n",
       "        vertical-align: middle;\n",
       "    }\n",
       "\n",
       "    .dataframe tbody tr th {\n",
       "        vertical-align: top;\n",
       "    }\n",
       "\n",
       "    .dataframe thead th {\n",
       "        text-align: right;\n",
       "    }\n",
       "</style>\n",
       "<table border=\"1\" class=\"dataframe\">\n",
       "  <thead>\n",
       "    <tr style=\"text-align: right;\">\n",
       "      <th></th>\n",
       "      <th>CreditScore</th>\n",
       "      <th>Gender</th>\n",
       "      <th>Age</th>\n",
       "      <th>Tenure</th>\n",
       "      <th>Balance</th>\n",
       "      <th>NumOfProducts</th>\n",
       "      <th>HasCrCard</th>\n",
       "      <th>IsActiveMember</th>\n",
       "      <th>EstimatedSalary</th>\n",
       "      <th>kmeans</th>\n",
       "    </tr>\n",
       "  </thead>\n",
       "  <tbody>\n",
       "    <tr>\n",
       "      <th>4901</th>\n",
       "      <td>0.646</td>\n",
       "      <td>0.0</td>\n",
       "      <td>0.554054</td>\n",
       "      <td>0.0</td>\n",
       "      <td>0.709683</td>\n",
       "      <td>0.333333</td>\n",
       "      <td>0.0</td>\n",
       "      <td>1.0</td>\n",
       "      <td>0.104931</td>\n",
       "      <td>2</td>\n",
       "    </tr>\n",
       "    <tr>\n",
       "      <th>4375</th>\n",
       "      <td>1.000</td>\n",
       "      <td>0.0</td>\n",
       "      <td>0.310811</td>\n",
       "      <td>0.8</td>\n",
       "      <td>0.242651</td>\n",
       "      <td>0.000000</td>\n",
       "      <td>1.0</td>\n",
       "      <td>0.0</td>\n",
       "      <td>0.158774</td>\n",
       "      <td>5</td>\n",
       "    </tr>\n",
       "    <tr>\n",
       "      <th>6698</th>\n",
       "      <td>0.750</td>\n",
       "      <td>1.0</td>\n",
       "      <td>0.175676</td>\n",
       "      <td>0.6</td>\n",
       "      <td>0.000000</td>\n",
       "      <td>0.000000</td>\n",
       "      <td>0.0</td>\n",
       "      <td>0.0</td>\n",
       "      <td>0.306365</td>\n",
       "      <td>7</td>\n",
       "    </tr>\n",
       "    <tr>\n",
       "      <th>9805</th>\n",
       "      <td>0.588</td>\n",
       "      <td>0.0</td>\n",
       "      <td>0.202703</td>\n",
       "      <td>0.7</td>\n",
       "      <td>0.695786</td>\n",
       "      <td>0.000000</td>\n",
       "      <td>0.0</td>\n",
       "      <td>1.0</td>\n",
       "      <td>0.219396</td>\n",
       "      <td>2</td>\n",
       "    </tr>\n",
       "    <tr>\n",
       "      <th>1101</th>\n",
       "      <td>0.706</td>\n",
       "      <td>0.0</td>\n",
       "      <td>0.148649</td>\n",
       "      <td>0.9</td>\n",
       "      <td>0.000000</td>\n",
       "      <td>0.333333</td>\n",
       "      <td>1.0</td>\n",
       "      <td>0.0</td>\n",
       "      <td>0.253098</td>\n",
       "      <td>5</td>\n",
       "    </tr>\n",
       "  </tbody>\n",
       "</table>\n",
       "</div>"
      ],
      "text/plain": [
       "      CreditScore  Gender       Age  Tenure   Balance  NumOfProducts  \\\n",
       "4901        0.646     0.0  0.554054     0.0  0.709683       0.333333   \n",
       "4375        1.000     0.0  0.310811     0.8  0.242651       0.000000   \n",
       "6698        0.750     1.0  0.175676     0.6  0.000000       0.000000   \n",
       "9805        0.588     0.0  0.202703     0.7  0.695786       0.000000   \n",
       "1101        0.706     0.0  0.148649     0.9  0.000000       0.333333   \n",
       "\n",
       "      HasCrCard  IsActiveMember  EstimatedSalary  kmeans  \n",
       "4901        0.0             1.0         0.104931       2  \n",
       "4375        1.0             0.0         0.158774       5  \n",
       "6698        0.0             0.0         0.306365       7  \n",
       "9805        0.0             1.0         0.219396       2  \n",
       "1101        1.0             0.0         0.253098       5  "
      ]
     },
     "metadata": {},
     "output_type": "display_data"
    },
    {
     "data": {
      "text/html": [
       "<div>\n",
       "<style scoped>\n",
       "    .dataframe tbody tr th:only-of-type {\n",
       "        vertical-align: middle;\n",
       "    }\n",
       "\n",
       "    .dataframe tbody tr th {\n",
       "        vertical-align: top;\n",
       "    }\n",
       "\n",
       "    .dataframe thead th {\n",
       "        text-align: right;\n",
       "    }\n",
       "</style>\n",
       "<table border=\"1\" class=\"dataframe\">\n",
       "  <thead>\n",
       "    <tr style=\"text-align: right;\">\n",
       "      <th></th>\n",
       "      <th>CreditScore</th>\n",
       "      <th>Gender</th>\n",
       "      <th>Age</th>\n",
       "      <th>Tenure</th>\n",
       "      <th>Balance</th>\n",
       "      <th>NumOfProducts</th>\n",
       "      <th>HasCrCard</th>\n",
       "      <th>IsActiveMember</th>\n",
       "      <th>EstimatedSalary</th>\n",
       "      <th>kmeans</th>\n",
       "    </tr>\n",
       "  </thead>\n",
       "  <tbody>\n",
       "    <tr>\n",
       "      <th>6252</th>\n",
       "      <td>0.492</td>\n",
       "      <td>0.0</td>\n",
       "      <td>0.189189</td>\n",
       "      <td>0.3</td>\n",
       "      <td>0.447500</td>\n",
       "      <td>0.333333</td>\n",
       "      <td>0.0</td>\n",
       "      <td>0.0</td>\n",
       "      <td>0.208904</td>\n",
       "      <td>3</td>\n",
       "    </tr>\n",
       "    <tr>\n",
       "      <th>4684</th>\n",
       "      <td>0.546</td>\n",
       "      <td>0.0</td>\n",
       "      <td>0.337838</td>\n",
       "      <td>0.1</td>\n",
       "      <td>0.000000</td>\n",
       "      <td>0.333333</td>\n",
       "      <td>1.0</td>\n",
       "      <td>1.0</td>\n",
       "      <td>0.731908</td>\n",
       "      <td>0</td>\n",
       "    </tr>\n",
       "    <tr>\n",
       "      <th>1731</th>\n",
       "      <td>0.502</td>\n",
       "      <td>1.0</td>\n",
       "      <td>0.351351</td>\n",
       "      <td>0.4</td>\n",
       "      <td>0.000000</td>\n",
       "      <td>0.333333</td>\n",
       "      <td>1.0</td>\n",
       "      <td>0.0</td>\n",
       "      <td>0.292777</td>\n",
       "      <td>1</td>\n",
       "    </tr>\n",
       "    <tr>\n",
       "      <th>4742</th>\n",
       "      <td>0.312</td>\n",
       "      <td>0.0</td>\n",
       "      <td>0.554054</td>\n",
       "      <td>0.8</td>\n",
       "      <td>0.551350</td>\n",
       "      <td>0.333333</td>\n",
       "      <td>1.0</td>\n",
       "      <td>1.0</td>\n",
       "      <td>0.853422</td>\n",
       "      <td>0</td>\n",
       "    </tr>\n",
       "    <tr>\n",
       "      <th>4521</th>\n",
       "      <td>0.420</td>\n",
       "      <td>1.0</td>\n",
       "      <td>0.121622</td>\n",
       "      <td>0.7</td>\n",
       "      <td>0.578391</td>\n",
       "      <td>0.000000</td>\n",
       "      <td>1.0</td>\n",
       "      <td>1.0</td>\n",
       "      <td>0.573346</td>\n",
       "      <td>4</td>\n",
       "    </tr>\n",
       "  </tbody>\n",
       "</table>\n",
       "</div>"
      ],
      "text/plain": [
       "      CreditScore  Gender       Age  Tenure   Balance  NumOfProducts  \\\n",
       "6252        0.492     0.0  0.189189     0.3  0.447500       0.333333   \n",
       "4684        0.546     0.0  0.337838     0.1  0.000000       0.333333   \n",
       "1731        0.502     1.0  0.351351     0.4  0.000000       0.333333   \n",
       "4742        0.312     0.0  0.554054     0.8  0.551350       0.333333   \n",
       "4521        0.420     1.0  0.121622     0.7  0.578391       0.000000   \n",
       "\n",
       "      HasCrCard  IsActiveMember  EstimatedSalary  kmeans  \n",
       "6252        0.0             0.0         0.208904       3  \n",
       "4684        1.0             1.0         0.731908       0  \n",
       "1731        1.0             0.0         0.292777       1  \n",
       "4742        1.0             1.0         0.853422       0  \n",
       "4521        1.0             1.0         0.573346       4  "
      ]
     },
     "metadata": {},
     "output_type": "display_data"
    }
   ],
   "source": [
    "# We will choose 8 clusters for k means and then compare the results with DBSCAN\n",
    "kmeans = KMeans(n_clusters=8, random_state=42)\n",
    "kmeans.fit(X_train)\n",
    "labels_train_kmeans = kmeans.labels_\n",
    "labels_test_kmeans = kmeans.predict(X_test)\n",
    "\n",
    "X_train['kmeans'] = labels_train_kmeans\n",
    "X_test['kmeans'] = labels_test_kmeans\n",
    "display(X_train.head())\n",
    "display(X_test.head())"
   ]
  },
  {
   "cell_type": "code",
   "execution_count": 116,
   "id": "a1c0fc9b",
   "metadata": {},
   "outputs": [
    {
     "data": {
      "text/plain": [
       "{'accuracy': 0.8096,\n",
       " 'precision': array([0.82698073, 0.56363636]),\n",
       " 'Weighted precision': 0.7746278684056842,\n",
       " 'recall': array([0.96405392, 0.18712274]),\n",
       " 'Weighted recall': 0.8096,\n",
       " 'f1score': array([0.89027201, 0.28096677]),\n",
       " 'Weighted f1score': 0.7691421315738523}"
      ]
     },
     "execution_count": 116,
     "metadata": {},
     "output_type": "execute_result"
    }
   ],
   "source": [
    "lg = LogisticRegression()\n",
    "lg.fit(X_train, y_train)\n",
    "y_pred = lg.predict(X_test)\n",
    "kmeans_report = evaluate_metrics(y_test,y_pred)\n",
    "kmeans_report"
   ]
  },
  {
   "cell_type": "code",
   "execution_count": 117,
   "id": "092b4e27",
   "metadata": {},
   "outputs": [
    {
     "data": {
      "text/plain": [
       "[0.8096, 0.7746278684056842, 0.8096, 0.7691421315738523]"
      ]
     },
     "execution_count": 117,
     "metadata": {},
     "output_type": "execute_result"
    }
   ],
   "source": [
    "kmeans_results = list()\n",
    "for key in keys:\n",
    "       kmeans_results.append(kmeans_report.get(key))\n",
    "kmeans_results "
   ]
  },
  {
   "cell_type": "code",
   "execution_count": 118,
   "id": "ece067fc",
   "metadata": {},
   "outputs": [],
   "source": [
    "# now we're gonna try DBSCAN clusters instead\n",
    "# Removing kmeans clusters first\n",
    "X_train = X_train.drop('kmeans', axis = 1)\n",
    "X_test = X_test.drop('kmeans', axis = 1)\n",
    "# creating clusters using DBSCAN\n",
    "cluster = DBSCAN(eps=1, min_samples=7)\n",
    "cluster.fit(X_train)\n",
    "np.unique(cluster.labels_)\n",
    "\n",
    "labels_train_DB = cluster.labels_\n",
    "labels_test_DB = cluster.fit_predict(X_test)\n"
   ]
  },
  {
   "cell_type": "code",
   "execution_count": 119,
   "id": "641c6cc4",
   "metadata": {},
   "outputs": [
    {
     "data": {
      "text/plain": [
       "{'accuracy': 0.8088,\n",
       " 'precision': array([0.826273  , 0.55828221]),\n",
       " 'Weighted precision': 0.772996430324652,\n",
       " 'recall': array([0.96405392, 0.18309859]),\n",
       " 'Weighted recall': 0.8088,\n",
       " 'f1score': array([0.88986175, 0.27575758]),\n",
       " 'Weighted f1score': 0.7677778410836475}"
      ]
     },
     "execution_count": 119,
     "metadata": {},
     "output_type": "execute_result"
    }
   ],
   "source": [
    "# Adding the cluster labels to the datasets\n",
    "X_train['DBSCAN'] = labels_train_DB\n",
    "X_test['DBSCAN'] = labels_test_DB\n",
    "\n",
    "# traing a logistic regression model and evaluating the performance\n",
    "lg = LogisticRegression()\n",
    "lg.fit(X_train, y_train)\n",
    "y_pred = lg.predict(X_test)\n",
    "DBSCAN_report = evaluate_metrics(y_test,y_pred)\n",
    "DBSCAN_report\n"
   ]
  },
  {
   "cell_type": "code",
   "execution_count": 120,
   "id": "0eec8a6e",
   "metadata": {},
   "outputs": [
    {
     "data": {
      "text/plain": [
       "[0.8088, 0.772996430324652, 0.8088, 0.7677778410836475]"
      ]
     },
     "execution_count": 120,
     "metadata": {},
     "output_type": "execute_result"
    }
   ],
   "source": [
    "DBSCAN_results = list()\n",
    "for key in keys:\n",
    "       DBSCAN_results.append(DBSCAN_report.get(key))\n",
    "DBSCAN_results "
   ]
  },
  {
   "cell_type": "code",
   "execution_count": 121,
   "id": "6979f53a",
   "metadata": {},
   "outputs": [
    {
     "data": {
      "text/plain": [
       "(7500,)"
      ]
     },
     "execution_count": 121,
     "metadata": {},
     "output_type": "execute_result"
    }
   ],
   "source": [
    "labels_train_DB.shape"
   ]
  },
  {
   "cell_type": "code",
   "execution_count": 122,
   "id": "3ab27113",
   "metadata": {},
   "outputs": [
    {
     "data": {
      "image/png": "[encoded data removed]",
      "text/plain": [
       "<Figure size 432x288 with 1 Axes>"
      ]
     },
     "metadata": {
      "needs_background": "light"
     },
     "output_type": "display_data"
    }
   ],
   "source": [
    "# let's se the correlation between the two clusters \n",
    "plt.scatter(labels_train_kmeans,labels_train_DB)\n",
    "plt.xlabel('Kmeans')\n",
    "plt.ylabel('DBSCAN')\n",
    "plt.show()"
   ]
  },
  {
   "cell_type": "markdown",
   "id": "ba7337d1",
   "metadata": {},
   "source": [
    "as we can see from th graph there isn't much correlation between the two algorithms clusters, although both algortihms generated the same size of clusters. Now let's try to add both algoirthms clusters to the data and see how will that affect the accuracy of the logistic regression model"
   ]
  },
  {
   "cell_type": "code",
   "execution_count": 123,
   "id": "dbe98e31",
   "metadata": {},
   "outputs": [
    {
     "data": {
      "text/html": [
       "<div>\n",
       "<style scoped>\n",
       "    .dataframe tbody tr th:only-of-type {\n",
       "        vertical-align: middle;\n",
       "    }\n",
       "\n",
       "    .dataframe tbody tr th {\n",
       "        vertical-align: top;\n",
       "    }\n",
       "\n",
       "    .dataframe thead th {\n",
       "        text-align: right;\n",
       "    }\n",
       "</style>\n",
       "<table border=\"1\" class=\"dataframe\">\n",
       "  <thead>\n",
       "    <tr style=\"text-align: right;\">\n",
       "      <th></th>\n",
       "      <th>CreditScore</th>\n",
       "      <th>Gender</th>\n",
       "      <th>Age</th>\n",
       "      <th>Tenure</th>\n",
       "      <th>Balance</th>\n",
       "      <th>NumOfProducts</th>\n",
       "      <th>HasCrCard</th>\n",
       "      <th>IsActiveMember</th>\n",
       "      <th>EstimatedSalary</th>\n",
       "      <th>DBSCAN</th>\n",
       "      <th>kmeans</th>\n",
       "    </tr>\n",
       "  </thead>\n",
       "  <tbody>\n",
       "    <tr>\n",
       "      <th>4901</th>\n",
       "      <td>0.646</td>\n",
       "      <td>0.0</td>\n",
       "      <td>0.554054</td>\n",
       "      <td>0.0</td>\n",
       "      <td>0.709683</td>\n",
       "      <td>0.333333</td>\n",
       "      <td>0.0</td>\n",
       "      <td>1.0</td>\n",
       "      <td>0.104931</td>\n",
       "      <td>0</td>\n",
       "      <td>2</td>\n",
       "    </tr>\n",
       "    <tr>\n",
       "      <th>4375</th>\n",
       "      <td>1.000</td>\n",
       "      <td>0.0</td>\n",
       "      <td>0.310811</td>\n",
       "      <td>0.8</td>\n",
       "      <td>0.242651</td>\n",
       "      <td>0.000000</td>\n",
       "      <td>1.0</td>\n",
       "      <td>0.0</td>\n",
       "      <td>0.158774</td>\n",
       "      <td>1</td>\n",
       "      <td>5</td>\n",
       "    </tr>\n",
       "    <tr>\n",
       "      <th>6698</th>\n",
       "      <td>0.750</td>\n",
       "      <td>1.0</td>\n",
       "      <td>0.175676</td>\n",
       "      <td>0.6</td>\n",
       "      <td>0.000000</td>\n",
       "      <td>0.000000</td>\n",
       "      <td>0.0</td>\n",
       "      <td>0.0</td>\n",
       "      <td>0.306365</td>\n",
       "      <td>2</td>\n",
       "      <td>7</td>\n",
       "    </tr>\n",
       "    <tr>\n",
       "      <th>9805</th>\n",
       "      <td>0.588</td>\n",
       "      <td>0.0</td>\n",
       "      <td>0.202703</td>\n",
       "      <td>0.7</td>\n",
       "      <td>0.695786</td>\n",
       "      <td>0.000000</td>\n",
       "      <td>0.0</td>\n",
       "      <td>1.0</td>\n",
       "      <td>0.219396</td>\n",
       "      <td>0</td>\n",
       "      <td>2</td>\n",
       "    </tr>\n",
       "    <tr>\n",
       "      <th>1101</th>\n",
       "      <td>0.706</td>\n",
       "      <td>0.0</td>\n",
       "      <td>0.148649</td>\n",
       "      <td>0.9</td>\n",
       "      <td>0.000000</td>\n",
       "      <td>0.333333</td>\n",
       "      <td>1.0</td>\n",
       "      <td>0.0</td>\n",
       "      <td>0.253098</td>\n",
       "      <td>1</td>\n",
       "      <td>5</td>\n",
       "    </tr>\n",
       "  </tbody>\n",
       "</table>\n",
       "</div>"
      ],
      "text/plain": [
       "      CreditScore  Gender       Age  Tenure   Balance  NumOfProducts  \\\n",
       "4901        0.646     0.0  0.554054     0.0  0.709683       0.333333   \n",
       "4375        1.000     0.0  0.310811     0.8  0.242651       0.000000   \n",
       "6698        0.750     1.0  0.175676     0.6  0.000000       0.000000   \n",
       "9805        0.588     0.0  0.202703     0.7  0.695786       0.000000   \n",
       "1101        0.706     0.0  0.148649     0.9  0.000000       0.333333   \n",
       "\n",
       "      HasCrCard  IsActiveMember  EstimatedSalary  DBSCAN  kmeans  \n",
       "4901        0.0             1.0         0.104931       0       2  \n",
       "4375        1.0             0.0         0.158774       1       5  \n",
       "6698        0.0             0.0         0.306365       2       7  \n",
       "9805        0.0             1.0         0.219396       0       2  \n",
       "1101        1.0             0.0         0.253098       1       5  "
      ]
     },
     "metadata": {},
     "output_type": "display_data"
    },
    {
     "data": {
      "text/html": [
       "<div>\n",
       "<style scoped>\n",
       "    .dataframe tbody tr th:only-of-type {\n",
       "        vertical-align: middle;\n",
       "    }\n",
       "\n",
       "    .dataframe tbody tr th {\n",
       "        vertical-align: top;\n",
       "    }\n",
       "\n",
       "    .dataframe thead th {\n",
       "        text-align: right;\n",
       "    }\n",
       "</style>\n",
       "<table border=\"1\" class=\"dataframe\">\n",
       "  <thead>\n",
       "    <tr style=\"text-align: right;\">\n",
       "      <th></th>\n",
       "      <th>CreditScore</th>\n",
       "      <th>Gender</th>\n",
       "      <th>Age</th>\n",
       "      <th>Tenure</th>\n",
       "      <th>Balance</th>\n",
       "      <th>NumOfProducts</th>\n",
       "      <th>HasCrCard</th>\n",
       "      <th>IsActiveMember</th>\n",
       "      <th>EstimatedSalary</th>\n",
       "      <th>DBSCAN</th>\n",
       "      <th>kmeans</th>\n",
       "    </tr>\n",
       "  </thead>\n",
       "  <tbody>\n",
       "    <tr>\n",
       "      <th>6252</th>\n",
       "      <td>0.492</td>\n",
       "      <td>0.0</td>\n",
       "      <td>0.189189</td>\n",
       "      <td>0.3</td>\n",
       "      <td>0.447500</td>\n",
       "      <td>0.333333</td>\n",
       "      <td>0.0</td>\n",
       "      <td>0.0</td>\n",
       "      <td>0.208904</td>\n",
       "      <td>0</td>\n",
       "      <td>3</td>\n",
       "    </tr>\n",
       "    <tr>\n",
       "      <th>4684</th>\n",
       "      <td>0.546</td>\n",
       "      <td>0.0</td>\n",
       "      <td>0.337838</td>\n",
       "      <td>0.1</td>\n",
       "      <td>0.000000</td>\n",
       "      <td>0.333333</td>\n",
       "      <td>1.0</td>\n",
       "      <td>1.0</td>\n",
       "      <td>0.731908</td>\n",
       "      <td>1</td>\n",
       "      <td>0</td>\n",
       "    </tr>\n",
       "    <tr>\n",
       "      <th>1731</th>\n",
       "      <td>0.502</td>\n",
       "      <td>1.0</td>\n",
       "      <td>0.351351</td>\n",
       "      <td>0.4</td>\n",
       "      <td>0.000000</td>\n",
       "      <td>0.333333</td>\n",
       "      <td>1.0</td>\n",
       "      <td>0.0</td>\n",
       "      <td>0.292777</td>\n",
       "      <td>2</td>\n",
       "      <td>1</td>\n",
       "    </tr>\n",
       "    <tr>\n",
       "      <th>4742</th>\n",
       "      <td>0.312</td>\n",
       "      <td>0.0</td>\n",
       "      <td>0.554054</td>\n",
       "      <td>0.8</td>\n",
       "      <td>0.551350</td>\n",
       "      <td>0.333333</td>\n",
       "      <td>1.0</td>\n",
       "      <td>1.0</td>\n",
       "      <td>0.853422</td>\n",
       "      <td>1</td>\n",
       "      <td>0</td>\n",
       "    </tr>\n",
       "    <tr>\n",
       "      <th>4521</th>\n",
       "      <td>0.420</td>\n",
       "      <td>1.0</td>\n",
       "      <td>0.121622</td>\n",
       "      <td>0.7</td>\n",
       "      <td>0.578391</td>\n",
       "      <td>0.000000</td>\n",
       "      <td>1.0</td>\n",
       "      <td>1.0</td>\n",
       "      <td>0.573346</td>\n",
       "      <td>3</td>\n",
       "      <td>4</td>\n",
       "    </tr>\n",
       "  </tbody>\n",
       "</table>\n",
       "</div>"
      ],
      "text/plain": [
       "      CreditScore  Gender       Age  Tenure   Balance  NumOfProducts  \\\n",
       "6252        0.492     0.0  0.189189     0.3  0.447500       0.333333   \n",
       "4684        0.546     0.0  0.337838     0.1  0.000000       0.333333   \n",
       "1731        0.502     1.0  0.351351     0.4  0.000000       0.333333   \n",
       "4742        0.312     0.0  0.554054     0.8  0.551350       0.333333   \n",
       "4521        0.420     1.0  0.121622     0.7  0.578391       0.000000   \n",
       "\n",
       "      HasCrCard  IsActiveMember  EstimatedSalary  DBSCAN  kmeans  \n",
       "6252        0.0             0.0         0.208904       0       3  \n",
       "4684        1.0             1.0         0.731908       1       0  \n",
       "1731        1.0             0.0         0.292777       2       1  \n",
       "4742        1.0             1.0         0.853422       1       0  \n",
       "4521        1.0             1.0         0.573346       3       4  "
      ]
     },
     "metadata": {},
     "output_type": "display_data"
    }
   ],
   "source": [
    "# adding both clusters to the data sets\n",
    "X_train['kmeans'] = labels_train_kmeans\n",
    "X_test['kmeans'] = labels_test_kmeans\n",
    "X_train['DBSCAN'] = labels_train_DB\n",
    "X_test['DBSCAN'] = labels_test_DB\n",
    "\n",
    "display(X_train.head())\n",
    "display(X_test.head())"
   ]
  },
  {
   "cell_type": "code",
   "execution_count": 124,
   "id": "5da938ca",
   "metadata": {
    "scrolled": true
   },
   "outputs": [
    {
     "data": {
      "text/plain": [
       "{'accuracy': 0.8096,\n",
       " 'precision': array([0.8267009 , 0.56441718]),\n",
       " 'Weighted precision': 0.7745588949179774,\n",
       " 'recall': array([0.96455317, 0.18511066]),\n",
       " 'Weighted recall': 0.8096,\n",
       " 'f1score': array([0.89032258, 0.27878788]),\n",
       " 'Weighted f1score': 0.7687494819159336}"
      ]
     },
     "execution_count": 124,
     "metadata": {},
     "output_type": "execute_result"
    }
   ],
   "source": [
    "lg = LogisticRegression()\n",
    "lg.fit(X_train, y_train)\n",
    "y_pred = lg.predict(X_test)\n",
    "both_report = evaluate_metrics(y_test,y_pred)\n",
    "both_report"
   ]
  },
  {
   "cell_type": "code",
   "execution_count": 125,
   "id": "40c79b17",
   "metadata": {},
   "outputs": [
    {
     "data": {
      "text/plain": [
       "[0.8096, 0.7745588949179774, 0.8096, 0.7687494819159336]"
      ]
     },
     "execution_count": 125,
     "metadata": {},
     "output_type": "execute_result"
    }
   ],
   "source": [
    "both_results = list()\n",
    "for key in keys:\n",
    "       both_results.append(both_report.get(key))\n",
    "both_results "
   ]
  },
  {
   "cell_type": "code",
   "execution_count": 126,
   "id": "8d9b1220",
   "metadata": {},
   "outputs": [
    {
     "data": {
      "text/html": [
       "<div>\n",
       "<style scoped>\n",
       "    .dataframe tbody tr th:only-of-type {\n",
       "        vertical-align: middle;\n",
       "    }\n",
       "\n",
       "    .dataframe tbody tr th {\n",
       "        vertical-align: top;\n",
       "    }\n",
       "\n",
       "    .dataframe thead th {\n",
       "        text-align: right;\n",
       "    }\n",
       "</style>\n",
       "<table border=\"1\" class=\"dataframe\">\n",
       "  <thead>\n",
       "    <tr style=\"text-align: right;\">\n",
       "      <th></th>\n",
       "      <th>Row</th>\n",
       "      <th>Kmeans</th>\n",
       "      <th>DBSCAN</th>\n",
       "      <th>both algorithms</th>\n",
       "    </tr>\n",
       "    <tr>\n",
       "      <th>Metric</th>\n",
       "      <th></th>\n",
       "      <th></th>\n",
       "      <th></th>\n",
       "      <th></th>\n",
       "    </tr>\n",
       "  </thead>\n",
       "  <tbody>\n",
       "    <tr>\n",
       "      <th>Accuracy</th>\n",
       "      <td>0.809600</td>\n",
       "      <td>0.809600</td>\n",
       "      <td>0.808800</td>\n",
       "      <td>0.809600</td>\n",
       "    </tr>\n",
       "    <tr>\n",
       "      <th>Weighted Recall</th>\n",
       "      <td>0.774494</td>\n",
       "      <td>0.774628</td>\n",
       "      <td>0.772996</td>\n",
       "      <td>0.774559</td>\n",
       "    </tr>\n",
       "    <tr>\n",
       "      <th>Weighted Precision</th>\n",
       "      <td>0.809600</td>\n",
       "      <td>0.809600</td>\n",
       "      <td>0.808800</td>\n",
       "      <td>0.809600</td>\n",
       "    </tr>\n",
       "    <tr>\n",
       "      <th>Weighted F1score</th>\n",
       "      <td>0.768354</td>\n",
       "      <td>0.769142</td>\n",
       "      <td>0.767778</td>\n",
       "      <td>0.768749</td>\n",
       "    </tr>\n",
       "  </tbody>\n",
       "</table>\n",
       "</div>"
      ],
      "text/plain": [
       "                         Row    Kmeans    DBSCAN  both algorithms\n",
       "Metric                                                           \n",
       "Accuracy            0.809600  0.809600  0.808800         0.809600\n",
       " Weighted Recall    0.774494  0.774628  0.772996         0.774559\n",
       "Weighted Precision  0.809600  0.809600  0.808800         0.809600\n",
       "Weighted F1score    0.768354  0.769142  0.767778         0.768749"
      ]
     },
     "metadata": {},
     "output_type": "display_data"
    }
   ],
   "source": [
    "final_results= {\n",
    "    'Metric': ['Accuracy',' Weighted Recall','Weighted Precision','Weighted F1score'],\n",
    "    'Row' :row_results,\n",
    "    'Kmeans':kmeans_results,\n",
    "    'DBSCAN':DBSCAN_results,\n",
    "    'both algorithms':both_results}\n",
    "final_results_table = pd.DataFrame(final_results).set_index('Metric')\n",
    "display(final_results_table)"
   ]
  },
  {
   "cell_type": "code",
   "execution_count": 163,
   "id": "0dda97be",
   "metadata": {},
   "outputs": [
    {
     "data": {
      "image/png": "[encoded data removed]",
      "text/plain": [
       "<Figure size 432x288 with 1 Axes>"
      ]
     },
     "metadata": {
      "needs_background": "light"
     },
     "output_type": "display_data"
    },
    {
     "data": {
      "image/png": "[encoded data removed]",
      "text/plain": [
       "<Figure size 432x288 with 1 Axes>"
      ]
     },
     "metadata": {
      "needs_background": "light"
     },
     "output_type": "display_data"
    },
    {
     "data": {
      "image/png": "[encoded data removed]",
      "text/plain": [
       "<Figure size 432x288 with 1 Axes>"
      ]
     },
     "metadata": {
      "needs_background": "light"
     },
     "output_type": "display_data"
    },
    {
     "data": {
      "image/png": "[encoded data removed]",
      "text/plain": [
       "<Figure size 432x288 with 1 Axes>"
      ]
     },
     "metadata": {
      "needs_background": "light"
     },
     "output_type": "display_data"
    }
   ],
   "source": [
    "results = final_results\n",
    "\n",
    "# Convert the dictionary to a DataFrame\n",
    "df = pd.DataFrame(results)\n",
    "\n",
    "# Set the Metric column as the index\n",
    "df.set_index('Metric', inplace=True)\n",
    "# Transposing the dataframe so that each column is a different metric\n",
    "df=df.T\n",
    "\n",
    "# Calculate the y-axis limit for each column\n",
    "y_limits = []\n",
    "for col in df.columns:\n",
    "    col_range = max(df[col]) - min(df[col])\n",
    "    y_limits.append((min(df[col]) - col_range * 0.1, max(df[col]) + col_range * 0.1))\n",
    "\n",
    "# Plot a bar chart for each algorithm\n",
    "for i, col in enumerate(df.columns):\n",
    "    plt.figure()\n",
    "    df[col].plot(kind='bar')\n",
    "    plt.title(col)\n",
    "    plt.xlabel('Metric')\n",
    "    plt.ylabel('Score')\n",
    "    plt.ylim(y_limits[i])\n",
    "    plt.show()"
   ]
  },
  {
   "cell_type": "markdown",
   "id": "e3a4001a",
   "metadata": {},
   "source": [
    "now we're gonna try to filter each data by its cluster label and train a logistic regression model for each cluster and see if the accuracy increase or not."
   ]
  },
  {
   "cell_type": "code",
   "execution_count": 128,
   "id": "e98c6b1d",
   "metadata": {},
   "outputs": [],
   "source": [
    "# creating 2 datasets for each clustering algorithm\n",
    "X_train_kmeans = X_train.drop(['DBSCAN'], axis = 1)\n",
    "X_test_kmeans = X_test.drop(['DBSCAN'], axis = 1)\n",
    "X_train_DBSCAN = X_train.drop(['kmeans'], axis = 1)\n",
    "X_test_DBSCAN = X_test.drop(['kmeans'], axis = 1)"
   ]
  },
  {
   "cell_type": "code",
   "execution_count": 129,
   "id": "104a62d3",
   "metadata": {
    "scrolled": true
   },
   "outputs": [
    {
     "data": {
      "text/plain": [
       "array([0, 1, 2, 3, 4, 5, 6, 7])"
      ]
     },
     "execution_count": 129,
     "metadata": {},
     "output_type": "execute_result"
    }
   ],
   "source": [
    "np.unique(kmeans.labels_)"
   ]
  },
  {
   "cell_type": "code",
   "execution_count": 130,
   "id": "9829631f",
   "metadata": {},
   "outputs": [],
   "source": [
    "kmeans_accuracy_list = []\n",
    "kmeans_unique_value_list = []\n",
    "\n",
    "for i in np.unique(kmeans.labels_):\n",
    "    X_train = X_train_kmeans[X_train_kmeans['kmeans'] == i]\n",
    "    X_test = X_test_kmeans[X_test_kmeans['kmeans'] == i]\n",
    "    \n",
    "    # Train a logistic regression model on the training data\n",
    "    model = LogisticRegression()\n",
    "    model.fit(X_train, y_train.loc[X_train.index])\n",
    "    \n",
    "    # Make predictions on the test set\n",
    "    y_pred = model.predict(X_test)\n",
    "    \n",
    "    # Compute the accuracy score\n",
    "    accuracy = accuracy_score(y_test.loc[X_test.index], y_pred)\n",
    "    \n",
    "    # Append the accuracy and unique value to the corresponding lists\n",
    "    kmeans_accuracy_list.append(accuracy)\n",
    "    kmeans_unique_value_list.append(i)\n",
    "    "
   ]
  },
  {
   "cell_type": "markdown",
   "id": "03cc3b7a",
   "metadata": {},
   "source": [
    "Let's now see the performance of each logistic regression model on each cluster"
   ]
  },
  {
   "cell_type": "code",
   "execution_count": 133,
   "id": "acd04d84",
   "metadata": {},
   "outputs": [
    {
     "data": {
      "text/plain": [
       "0.8257631049309992"
      ]
     },
     "execution_count": 133,
     "metadata": {},
     "output_type": "execute_result"
    }
   ],
   "source": [
    "import statistics\n",
    "\n",
    "statistics.mean(kmeans_accuracy_list)\n"
   ]
  },
  {
   "cell_type": "code",
   "execution_count": 138,
   "id": "a8d7bd62",
   "metadata": {},
   "outputs": [
    {
     "data": {
      "text/plain": [
       "{0: 0.8932806324110671,\n",
       " 1: 0.7788944723618091,\n",
       " 2: 0.8985507246376812,\n",
       " 3: 0.7745664739884393,\n",
       " 4: 0.8125,\n",
       " 5: 0.819327731092437,\n",
       " 6: 0.8265895953757225,\n",
       " 7: 0.8023952095808383}"
      ]
     },
     "execution_count": 138,
     "metadata": {},
     "output_type": "execute_result"
    }
   ],
   "source": [
    "# making a dictionary out of the two lists\n",
    "kmeans_dict = dict(zip(kmeans_unique_value_list, kmeans_accuracy_list))\n",
    "kmeans_dict"
   ]
  },
  {
   "cell_type": "code",
   "execution_count": 140,
   "id": "e96f7b1a",
   "metadata": {},
   "outputs": [],
   "source": [
    "# turing the keys of the dictionary to a string format and then adding the mean of the values to the dictionary \n",
    "kmeans_dict = {'0': 0.8932806324110671,\n",
    " '1': 0.7788944723618091,\n",
    " '2': 0.8985507246376812,\n",
    " '3': 0.7745664739884393,\n",
    " '4': 0.8125,\n",
    " '5': 0.819327731092437,\n",
    " '6': 0.8265895953757225,\n",
    " '7': 0.8023952095808383,\n",
    " 'mean': 0.8257631049309992}"
   ]
  },
  {
   "cell_type": "code",
   "execution_count": 160,
   "id": "96e0772f",
   "metadata": {},
   "outputs": [
    {
     "data": {
      "image/png": "[encoded data removed]",
      "text/plain": [
       "<Figure size 432x288 with 1 Axes>"
      ]
     },
     "metadata": {
      "needs_background": "light"
     },
     "output_type": "display_data"
    }
   ],
   "source": [
    "\n",
    "\n",
    "# create x and y values\n",
    "x_values = list(kmeans_dict.keys())\n",
    "y_values = list(kmeans_dict.values())\n",
    "\n",
    "# set the color of the bars\n",
    "colors = ['b'] * len(x_values)\n",
    "for i in range(len(x_values)):\n",
    "    if x_values[i] == 'mean':\n",
    "        colors[i] = 'g'\n",
    "\n",
    "# create a bar chart\n",
    "fig, ax = plt.subplots()\n",
    "ax.bar(x_values, y_values, color=colors)\n",
    "\n",
    "# set the y-axis limits to match the minimum and maximum values in the data\n",
    "ax.set_ylim([min(y_values)-0.1*(max(y_values)-min(y_values)), max(y_values)+0.1*(max(y_values)-min(y_values))])\n",
    "\n",
    "# add the value of each y-axis on top of its corresponding bar\n",
    "for i, v in enumerate(y_values):\n",
    "    ax.text(i, v+0.01*(max(y_values)-min(y_values)), str(round(v, 3)), ha='center', fontweight='bold')\n",
    "\n",
    "# add a title and axis labels\n",
    "ax.set_title('Kmeans Scores')\n",
    "ax.set_xlabel('Cluster')\n",
    "ax.set_ylabel('Score')\n",
    "\n",
    "# display the chart\n",
    "plt.show()"
   ]
  },
  {
   "cell_type": "markdown",
   "id": "890b8b88",
   "metadata": {},
   "source": [
    "we can see that the average accuracy of all models is higher than the accuracy obtained by merely training a logistic regression model on the oriiginal data, now let's do the same for DBSCAN clusters"
   ]
  },
  {
   "cell_type": "code",
   "execution_count": 84,
   "id": "df4e941f",
   "metadata": {},
   "outputs": [
    {
     "data": {
      "text/plain": [
       "array([0, 1, 2, 3, 4, 5, 6, 7], dtype=int64)"
      ]
     },
     "execution_count": 84,
     "metadata": {},
     "output_type": "execute_result"
    }
   ],
   "source": [
    "np.unique(cluster.labels_)"
   ]
  },
  {
   "cell_type": "code",
   "execution_count": 137,
   "id": "65d5188a",
   "metadata": {},
   "outputs": [],
   "source": [
    "DBSCAN_accuracy_list = []\n",
    "DBSCAN_unique_value_list = []\n",
    "\n",
    "for i in np.unique(np.unique(cluster.labels_)):\n",
    "    X_train = X_train_DBSCAN[X_train_DBSCAN['DBSCAN'] == i]\n",
    "    X_test = X_test_DBSCAN[X_test_DBSCAN['DBSCAN'] == i]\n",
    "    \n",
    "    # Train a logistic regression model on the training data\n",
    "    model = LogisticRegression()\n",
    "    model.fit(X_train, y_train.loc[X_train.index])\n",
    "    \n",
    "    # Make predictions on the test set\n",
    "    y_pred = model.predict(X_test)\n",
    "    \n",
    "    # Compute the accuracy score\n",
    "    accuracy = accuracy_score(y_test.loc[X_test.index], y_pred)\n",
    "    \n",
    "    # Append the accuracy and unique value to the corresponding lists\n",
    "    DBSCAN_accuracy_list.append(accuracy)\n",
    "    DBSCAN_unique_value_list.append(i)\n",
    "    "
   ]
  },
  {
   "cell_type": "code",
   "execution_count": 144,
   "id": "4ec196d2",
   "metadata": {},
   "outputs": [
    {
     "data": {
      "text/plain": [
       "0.8045503516672704"
      ]
     },
     "execution_count": 144,
     "metadata": {},
     "output_type": "execute_result"
    }
   ],
   "source": [
    "# getting the accuracy mean\n",
    "statistics.mean(DBSCAN_accuracy_list)\n"
   ]
  },
  {
   "cell_type": "code",
   "execution_count": 143,
   "id": "67d2475c",
   "metadata": {},
   "outputs": [
    {
     "data": {
      "text/plain": [
       "{0: 0.7514450867052023,\n",
       " 1: 0.7924901185770751,\n",
       " 2: 0.7738693467336684,\n",
       " 3: 0.8125,\n",
       " 4: 0.7485029940119761,\n",
       " 5: 0.8382352941176471,\n",
       " 6: 0.8208092485549133,\n",
       " 7: 0.8985507246376812}"
      ]
     },
     "execution_count": 143,
     "metadata": {},
     "output_type": "execute_result"
    }
   ],
   "source": [
    "DBSCAN_dict = dict(zip(DBSCAN_unique_value_list,DBSCAN_accuracy_list))\n",
    "DBSCAN_dict"
   ]
  },
  {
   "cell_type": "code",
   "execution_count": 147,
   "id": "827df970",
   "metadata": {},
   "outputs": [],
   "source": [
    "# turing the keys of the dictionary to a string format and then adding the mean of the values to the dictionary \n",
    "\n",
    "DBSCAN_dict = {'0': 0.7514450867052023,\n",
    " '1': 0.7924901185770751,\n",
    " '2': 0.7738693467336684,\n",
    " '3': 0.8125,\n",
    " '4': 0.7485029940119761,\n",
    " '5': 0.8382352941176471,\n",
    " '6': 0.8208092485549133,\n",
    " '7': 0.8985507246376812,\n",
    "'mean': 0.8045503516672704}"
   ]
  },
  {
   "cell_type": "code",
   "execution_count": 159,
   "id": "e0b87a20",
   "metadata": {
    "scrolled": true
   },
   "outputs": [
    {
     "data": {
      "image/png": "[encoded data removed]",
      "text/plain": [
       "<Figure size 432x288 with 1 Axes>"
      ]
     },
     "metadata": {
      "needs_background": "light"
     },
     "output_type": "display_data"
    }
   ],
   "source": [
    "x_values = list(DBSCAN_dict.keys())\n",
    "y_values = list(DBSCAN_dict.values())\n",
    "\n",
    "# set the color of the bars\n",
    "colors = ['b'] * len(x_values)\n",
    "for i in range(len(x_values)):\n",
    "    if x_values[i] == 'mean':\n",
    "        colors[i] = 'g'\n",
    "\n",
    "# create a bar chart\n",
    "fig, ax = plt.subplots()\n",
    "ax.bar(x_values, y_values, color=colors)\n",
    "\n",
    "# set the y-axis limits to match the minimum and maximum values in the data\n",
    "ax.set_ylim([min(y_values)-0.1*(max(y_values)-min(y_values)), max(y_values)+0.1*(max(y_values)-min(y_values))])\n",
    "\n",
    "# add the value of each y-axis on top of its corresponding bar\n",
    "for i, v in enumerate(y_values):\n",
    "    ax.text(i, v+0.01*(max(y_values)-min(y_values)), str(round(v, 3)), ha='center', fontweight='bold')\n",
    "\n",
    "# add a title and axis labels\n",
    "ax.set_title('DBSCAN Scores')\n",
    "ax.set_xlabel('Cluster')\n",
    "ax.set_ylabel('Score')\n",
    "\n",
    "# display the chart\n",
    "plt.show()"
   ]
  },
  {
   "cell_type": "markdown",
   "id": "eb5eb536",
   "metadata": {},
   "source": [
    "## Key Findings\n",
    "### Adding clustering results as a feature\n",
    "* adding Kmeans clusters as a feature does not change the accuracy and it remains as 80.96%\n",
    "* adding DBSCAN clusters as a feature reduce the accuracy to 80.88%\n",
    "* addiing both clustering algorithms as features does not change the accuracy and it remain as 80.96%\n",
    "\n",
    "### Training logisitc regression on each cluster\n",
    "* The Kmeans average performance of all models is 82.6% which is higher than the row model.\n",
    "* The DBSCAN average performance of all model is 80.5% which is lower than the row model.\n",
    "\n",
    "## Conclusion \n",
    "In this project, we explored the use of clustering algorithms, namely Kmeans and DBSCAN, to improve the performance of a logistic regression model on a bank customer churn dataset. We first added clustering results as a feature to the dataset, which allowed the logistic regression to take advantage of the underlying structure in the data.\n",
    "\n",
    "Our results showed that adding Kmeans clusters as a feature did not change the accuracy of the logistic regression model, which remained at 80.96%. On the other hand, adding DBSCAN clusters as a feature reduced the accuracy slightly to 80.88%. Interestingly, adding both clustering algorithms as features did not change the accuracy of the model, which also remained at 80.96%.\n",
    "\n",
    "Next, we trained a separate logistic regression model on each cluster generated by the Kmeans and DBSCAN algorithms. The Kmeans average performance of all models was 82.6%, which was higher than the original model. This suggests that the Kmeans algorithm was able to identify meaningful clusters in the data that were not captured by the original model.\n",
    "\n",
    "In contrast, the DBSCAN average performance of all models was 80.5%, which was lower than the original model. This suggests that the DBSCAN algorithm may have over-segmented the data, resulting in less meaningful clusters.\n",
    "\n",
    "Overall, our findings highlight the importance of choosing the appropriate clustering algorithm for a given dataset. While Kmeans was able to identify useful clusters that improved the performance of the logistic regression model, DBSCAN did not perform as well. In addition, our results demonstrate the potential benefits of incorporating clustering results as features in machine learning models, which can help to uncover underlying patterns and improve predictive accuracy."
   ]
  }
 ],
 "metadata": {
  "kernelspec": {
   "display_name": "Python 3",
   "language": "python",
   "name": "python3"
  },
  "language_info": {
   "codemirror_mode": {
    "name": "ipython",
    "version": 3
   },
   "file_extension": ".py",
   "mimetype": "text/x-python",
   "name": "python",
   "nbconvert_exporter": "python",
   "pygments_lexer": "ipython3",
   "version": "3.8.8"
  }
 },
 "nbformat": 4,
 "nbformat_minor": 5
}
