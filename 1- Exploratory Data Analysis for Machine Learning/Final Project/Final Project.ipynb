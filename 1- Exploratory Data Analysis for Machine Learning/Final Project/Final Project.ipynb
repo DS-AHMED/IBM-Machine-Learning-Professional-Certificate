{
 "cells": [
  {
   "cell_type": "markdown",
   "id": "3cdfa2a6",
   "metadata": {},
   "source": [
    "# Final Project - EDAs and Hypotheses formulation\n",
    "## Table of Content\n",
    "#### 1- Brief description of the data set \n",
    "#### 2- Initial plan for data exploration\n",
    "#### 3- Feature engineering\n",
    "#### 4- Formulating at least 3 hypothesis \n",
    "#### 5- Suggestions for next steps in analyzing the data\n",
    "#### 6- Conclusion\n",
    "## Formulating hypothesis about Data scientists salaries in the US"
   ]
  },
  {
   "cell_type": "markdown",
   "id": "d18b3f9a",
   "metadata": {},
   "source": [
    "## 1- Brief description of the data set \n",
    "The dataset is scraped from the Glassdoor website using Selenium scrapper. After scrapping, the raw dataset was cleaned and made usable for performing data analysis and modelling. The dataset contains information about the minimum salary, maximum salary, average salary, job description, age of the company in years, etc."
   ]
  },
  {
   "cell_type": "markdown",
   "id": "59d1e2b3",
   "metadata": {},
   "source": [
    "### Importing the data set\n",
    "using pandas library"
   ]
  },
  {
   "cell_type": "code",
   "execution_count": 1,
   "id": "1adff967",
   "metadata": {},
   "outputs": [],
   "source": [
    "import pandas as pd\n",
    "import matplotlib.pyplot as plt\n",
    "from sklearn  import preprocessing\n",
    "%matplotlib inline"
   ]
  },
  {
   "cell_type": "code",
   "execution_count": 2,
   "id": "2313caa5",
   "metadata": {
    "scrolled": true
   },
   "outputs": [
    {
     "data": {
      "text/html": [
       "<div>\n",
       "<style scoped>\n",
       "    .dataframe tbody tr th:only-of-type {\n",
       "        vertical-align: middle;\n",
       "    }\n",
       "\n",
       "    .dataframe tbody tr th {\n",
       "        vertical-align: top;\n",
       "    }\n",
       "\n",
       "    .dataframe thead th {\n",
       "        text-align: right;\n",
       "    }\n",
       "</style>\n",
       "<table border=\"1\" class=\"dataframe\">\n",
       "  <thead>\n",
       "    <tr style=\"text-align: right;\">\n",
       "      <th></th>\n",
       "      <th>Job Title</th>\n",
       "      <th>Salary Estimate</th>\n",
       "      <th>Job Description</th>\n",
       "      <th>Rating</th>\n",
       "      <th>Company Name</th>\n",
       "      <th>Location</th>\n",
       "      <th>Headquarters</th>\n",
       "      <th>Size</th>\n",
       "      <th>Founded</th>\n",
       "      <th>Type of ownership</th>\n",
       "      <th>...</th>\n",
       "      <th>tensor</th>\n",
       "      <th>hadoop</th>\n",
       "      <th>tableau</th>\n",
       "      <th>bi</th>\n",
       "      <th>flink</th>\n",
       "      <th>mongo</th>\n",
       "      <th>google_an</th>\n",
       "      <th>job_title_sim</th>\n",
       "      <th>seniority_by_title</th>\n",
       "      <th>Degree</th>\n",
       "    </tr>\n",
       "  </thead>\n",
       "  <tbody>\n",
       "    <tr>\n",
       "      <th>0</th>\n",
       "      <td>Data Scientist</td>\n",
       "      <td>$53K-$91K (Glassdoor est.)</td>\n",
       "      <td>Data Scientist\\nLocation: Albuquerque, NM\\nEdu...</td>\n",
       "      <td>3.8</td>\n",
       "      <td>Tecolote Research\\n3.8</td>\n",
       "      <td>Albuquerque, NM</td>\n",
       "      <td>Goleta, CA</td>\n",
       "      <td>501 - 1000</td>\n",
       "      <td>1973</td>\n",
       "      <td>Company - Private</td>\n",
       "      <td>...</td>\n",
       "      <td>0</td>\n",
       "      <td>0</td>\n",
       "      <td>1</td>\n",
       "      <td>1</td>\n",
       "      <td>0</td>\n",
       "      <td>0</td>\n",
       "      <td>0</td>\n",
       "      <td>data scientist</td>\n",
       "      <td>na</td>\n",
       "      <td>M</td>\n",
       "    </tr>\n",
       "    <tr>\n",
       "      <th>1</th>\n",
       "      <td>Healthcare Data Scientist</td>\n",
       "      <td>$63K-$112K (Glassdoor est.)</td>\n",
       "      <td>What You Will Do:\\n\\nI. General Summary\\n\\nThe...</td>\n",
       "      <td>3.4</td>\n",
       "      <td>University of Maryland Medical System\\n3.4</td>\n",
       "      <td>Linthicum, MD</td>\n",
       "      <td>Baltimore, MD</td>\n",
       "      <td>10000+</td>\n",
       "      <td>1984</td>\n",
       "      <td>Other Organization</td>\n",
       "      <td>...</td>\n",
       "      <td>0</td>\n",
       "      <td>0</td>\n",
       "      <td>0</td>\n",
       "      <td>0</td>\n",
       "      <td>0</td>\n",
       "      <td>0</td>\n",
       "      <td>0</td>\n",
       "      <td>data scientist</td>\n",
       "      <td>na</td>\n",
       "      <td>M</td>\n",
       "    </tr>\n",
       "    <tr>\n",
       "      <th>2</th>\n",
       "      <td>Data Scientist</td>\n",
       "      <td>$80K-$90K (Glassdoor est.)</td>\n",
       "      <td>KnowBe4, Inc. is a high growth information sec...</td>\n",
       "      <td>4.8</td>\n",
       "      <td>KnowBe4\\n4.8</td>\n",
       "      <td>Clearwater, FL</td>\n",
       "      <td>Clearwater, FL</td>\n",
       "      <td>501 - 1000</td>\n",
       "      <td>2010</td>\n",
       "      <td>Company - Private</td>\n",
       "      <td>...</td>\n",
       "      <td>0</td>\n",
       "      <td>0</td>\n",
       "      <td>0</td>\n",
       "      <td>0</td>\n",
       "      <td>0</td>\n",
       "      <td>0</td>\n",
       "      <td>0</td>\n",
       "      <td>data scientist</td>\n",
       "      <td>na</td>\n",
       "      <td>M</td>\n",
       "    </tr>\n",
       "    <tr>\n",
       "      <th>3</th>\n",
       "      <td>Data Scientist</td>\n",
       "      <td>$56K-$97K (Glassdoor est.)</td>\n",
       "      <td>*Organization and Job ID**\\nJob ID: 310709\\n\\n...</td>\n",
       "      <td>3.8</td>\n",
       "      <td>PNNL\\n3.8</td>\n",
       "      <td>Richland, WA</td>\n",
       "      <td>Richland, WA</td>\n",
       "      <td>1001 - 5000</td>\n",
       "      <td>1965</td>\n",
       "      <td>Government</td>\n",
       "      <td>...</td>\n",
       "      <td>0</td>\n",
       "      <td>0</td>\n",
       "      <td>0</td>\n",
       "      <td>0</td>\n",
       "      <td>0</td>\n",
       "      <td>0</td>\n",
       "      <td>0</td>\n",
       "      <td>data scientist</td>\n",
       "      <td>na</td>\n",
       "      <td>na</td>\n",
       "    </tr>\n",
       "    <tr>\n",
       "      <th>4</th>\n",
       "      <td>Data Scientist</td>\n",
       "      <td>$86K-$143K (Glassdoor est.)</td>\n",
       "      <td>Data Scientist\\nAffinity Solutions / Marketing...</td>\n",
       "      <td>2.9</td>\n",
       "      <td>Affinity Solutions\\n2.9</td>\n",
       "      <td>New York, NY</td>\n",
       "      <td>New York, NY</td>\n",
       "      <td>51 - 200</td>\n",
       "      <td>1998</td>\n",
       "      <td>Company - Private</td>\n",
       "      <td>...</td>\n",
       "      <td>0</td>\n",
       "      <td>0</td>\n",
       "      <td>0</td>\n",
       "      <td>0</td>\n",
       "      <td>0</td>\n",
       "      <td>0</td>\n",
       "      <td>0</td>\n",
       "      <td>data scientist</td>\n",
       "      <td>na</td>\n",
       "      <td>na</td>\n",
       "    </tr>\n",
       "    <tr>\n",
       "      <th>...</th>\n",
       "      <td>...</td>\n",
       "      <td>...</td>\n",
       "      <td>...</td>\n",
       "      <td>...</td>\n",
       "      <td>...</td>\n",
       "      <td>...</td>\n",
       "      <td>...</td>\n",
       "      <td>...</td>\n",
       "      <td>...</td>\n",
       "      <td>...</td>\n",
       "      <td>...</td>\n",
       "      <td>...</td>\n",
       "      <td>...</td>\n",
       "      <td>...</td>\n",
       "      <td>...</td>\n",
       "      <td>...</td>\n",
       "      <td>...</td>\n",
       "      <td>...</td>\n",
       "      <td>...</td>\n",
       "      <td>...</td>\n",
       "      <td>...</td>\n",
       "    </tr>\n",
       "    <tr>\n",
       "      <th>737</th>\n",
       "      <td>Sr Scientist, Immuno-Oncology - Oncology</td>\n",
       "      <td>$58K-$111K (Glassdoor est.)</td>\n",
       "      <td>Site Name: USA - Massachusetts - Cambridge\\nPo...</td>\n",
       "      <td>3.9</td>\n",
       "      <td>GSK\\n3.9</td>\n",
       "      <td>Cambridge, MA</td>\n",
       "      <td>Brentford, United Kingdom</td>\n",
       "      <td>10000+</td>\n",
       "      <td>1830</td>\n",
       "      <td>Company - Public</td>\n",
       "      <td>...</td>\n",
       "      <td>0</td>\n",
       "      <td>0</td>\n",
       "      <td>0</td>\n",
       "      <td>0</td>\n",
       "      <td>0</td>\n",
       "      <td>0</td>\n",
       "      <td>0</td>\n",
       "      <td>other scientist</td>\n",
       "      <td>sr</td>\n",
       "      <td>M</td>\n",
       "    </tr>\n",
       "    <tr>\n",
       "      <th>738</th>\n",
       "      <td>Senior Data Engineer</td>\n",
       "      <td>$72K-$133K (Glassdoor est.)</td>\n",
       "      <td>THE CHALLENGE\\nEventbrite has a world-class da...</td>\n",
       "      <td>4.4</td>\n",
       "      <td>Eventbrite\\n4.4</td>\n",
       "      <td>Nashville, TN</td>\n",
       "      <td>San Francisco, CA</td>\n",
       "      <td>1001 - 5000</td>\n",
       "      <td>2006</td>\n",
       "      <td>Company - Public</td>\n",
       "      <td>...</td>\n",
       "      <td>0</td>\n",
       "      <td>1</td>\n",
       "      <td>0</td>\n",
       "      <td>0</td>\n",
       "      <td>0</td>\n",
       "      <td>0</td>\n",
       "      <td>0</td>\n",
       "      <td>data engineer</td>\n",
       "      <td>sr</td>\n",
       "      <td>na</td>\n",
       "    </tr>\n",
       "    <tr>\n",
       "      <th>739</th>\n",
       "      <td>Project Scientist - Auton Lab, Robotics Institute</td>\n",
       "      <td>$56K-$91K (Glassdoor est.)</td>\n",
       "      <td>The Auton Lab at Carnegie Mellon University is...</td>\n",
       "      <td>2.6</td>\n",
       "      <td>Software Engineering Institute\\n2.6</td>\n",
       "      <td>Pittsburgh, PA</td>\n",
       "      <td>Pittsburgh, PA</td>\n",
       "      <td>501 - 1000</td>\n",
       "      <td>1984</td>\n",
       "      <td>College / University</td>\n",
       "      <td>...</td>\n",
       "      <td>0</td>\n",
       "      <td>0</td>\n",
       "      <td>0</td>\n",
       "      <td>0</td>\n",
       "      <td>0</td>\n",
       "      <td>0</td>\n",
       "      <td>0</td>\n",
       "      <td>other scientist</td>\n",
       "      <td>na</td>\n",
       "      <td>P</td>\n",
       "    </tr>\n",
       "    <tr>\n",
       "      <th>740</th>\n",
       "      <td>Data Science Manager</td>\n",
       "      <td>$95K-$160K (Glassdoor est.)</td>\n",
       "      <td>Data Science ManagerResponsibilities:\\n\\nOvers...</td>\n",
       "      <td>3.2</td>\n",
       "      <td>Numeric, LLC\\n3.2</td>\n",
       "      <td>Allentown, PA</td>\n",
       "      <td>Chadds Ford, PA</td>\n",
       "      <td>1 - 50</td>\n",
       "      <td>-1</td>\n",
       "      <td>Company - Private</td>\n",
       "      <td>...</td>\n",
       "      <td>0</td>\n",
       "      <td>0</td>\n",
       "      <td>0</td>\n",
       "      <td>0</td>\n",
       "      <td>0</td>\n",
       "      <td>0</td>\n",
       "      <td>0</td>\n",
       "      <td>data scientist</td>\n",
       "      <td>na</td>\n",
       "      <td>na</td>\n",
       "    </tr>\n",
       "    <tr>\n",
       "      <th>741</th>\n",
       "      <td>Research Scientist – Security and Privacy</td>\n",
       "      <td>$61K-$126K (Glassdoor est.)</td>\n",
       "      <td>Returning Candidate? Log back in to the Career...</td>\n",
       "      <td>3.6</td>\n",
       "      <td>Riverside Research Institute\\n3.6</td>\n",
       "      <td>Beavercreek, OH</td>\n",
       "      <td>Arlington, VA</td>\n",
       "      <td>501 - 1000</td>\n",
       "      <td>1967</td>\n",
       "      <td>Nonprofit Organization</td>\n",
       "      <td>...</td>\n",
       "      <td>0</td>\n",
       "      <td>0</td>\n",
       "      <td>0</td>\n",
       "      <td>0</td>\n",
       "      <td>0</td>\n",
       "      <td>0</td>\n",
       "      <td>0</td>\n",
       "      <td>other scientist</td>\n",
       "      <td>na</td>\n",
       "      <td>M</td>\n",
       "    </tr>\n",
       "  </tbody>\n",
       "</table>\n",
       "<p>742 rows × 41 columns</p>\n",
       "</div>"
      ],
      "text/plain": [
       "                                             Job Title  \\\n",
       "0                                       Data Scientist   \n",
       "1                            Healthcare Data Scientist   \n",
       "2                                       Data Scientist   \n",
       "3                                       Data Scientist   \n",
       "4                                       Data Scientist   \n",
       "..                                                 ...   \n",
       "737           Sr Scientist, Immuno-Oncology - Oncology   \n",
       "738                               Senior Data Engineer   \n",
       "739  Project Scientist - Auton Lab, Robotics Institute   \n",
       "740                               Data Science Manager   \n",
       "741          Research Scientist – Security and Privacy   \n",
       "\n",
       "                 Salary Estimate  \\\n",
       "0     $53K-$91K (Glassdoor est.)   \n",
       "1    $63K-$112K (Glassdoor est.)   \n",
       "2     $80K-$90K (Glassdoor est.)   \n",
       "3     $56K-$97K (Glassdoor est.)   \n",
       "4    $86K-$143K (Glassdoor est.)   \n",
       "..                           ...   \n",
       "737  $58K-$111K (Glassdoor est.)   \n",
       "738  $72K-$133K (Glassdoor est.)   \n",
       "739   $56K-$91K (Glassdoor est.)   \n",
       "740  $95K-$160K (Glassdoor est.)   \n",
       "741  $61K-$126K (Glassdoor est.)   \n",
       "\n",
       "                                       Job Description  Rating  \\\n",
       "0    Data Scientist\\nLocation: Albuquerque, NM\\nEdu...     3.8   \n",
       "1    What You Will Do:\\n\\nI. General Summary\\n\\nThe...     3.4   \n",
       "2    KnowBe4, Inc. is a high growth information sec...     4.8   \n",
       "3    *Organization and Job ID**\\nJob ID: 310709\\n\\n...     3.8   \n",
       "4    Data Scientist\\nAffinity Solutions / Marketing...     2.9   \n",
       "..                                                 ...     ...   \n",
       "737  Site Name: USA - Massachusetts - Cambridge\\nPo...     3.9   \n",
       "738  THE CHALLENGE\\nEventbrite has a world-class da...     4.4   \n",
       "739  The Auton Lab at Carnegie Mellon University is...     2.6   \n",
       "740  Data Science ManagerResponsibilities:\\n\\nOvers...     3.2   \n",
       "741  Returning Candidate? Log back in to the Career...     3.6   \n",
       "\n",
       "                                   Company Name         Location  \\\n",
       "0                        Tecolote Research\\n3.8  Albuquerque, NM   \n",
       "1    University of Maryland Medical System\\n3.4    Linthicum, MD   \n",
       "2                                  KnowBe4\\n4.8   Clearwater, FL   \n",
       "3                                     PNNL\\n3.8     Richland, WA   \n",
       "4                       Affinity Solutions\\n2.9     New York, NY   \n",
       "..                                          ...              ...   \n",
       "737                                    GSK\\n3.9    Cambridge, MA   \n",
       "738                             Eventbrite\\n4.4    Nashville, TN   \n",
       "739         Software Engineering Institute\\n2.6   Pittsburgh, PA   \n",
       "740                           Numeric, LLC\\n3.2    Allentown, PA   \n",
       "741           Riverside Research Institute\\n3.6  Beavercreek, OH   \n",
       "\n",
       "                  Headquarters          Size  Founded       Type of ownership  \\\n",
       "0                   Goleta, CA   501 - 1000      1973       Company - Private   \n",
       "1                Baltimore, MD       10000+      1984      Other Organization   \n",
       "2               Clearwater, FL   501 - 1000      2010       Company - Private   \n",
       "3                 Richland, WA  1001 - 5000      1965              Government   \n",
       "4                 New York, NY     51 - 200      1998       Company - Private   \n",
       "..                         ...           ...      ...                     ...   \n",
       "737  Brentford, United Kingdom       10000+      1830        Company - Public   \n",
       "738          San Francisco, CA  1001 - 5000      2006        Company - Public   \n",
       "739             Pittsburgh, PA   501 - 1000      1984    College / University   \n",
       "740            Chadds Ford, PA       1 - 50        -1       Company - Private   \n",
       "741              Arlington, VA   501 - 1000      1967  Nonprofit Organization   \n",
       "\n",
       "     ... tensor hadoop tableau bi  flink  mongo  google_an    job_title_sim  \\\n",
       "0    ...      0      0       1  1      0      0          0   data scientist   \n",
       "1    ...      0      0       0  0      0      0          0   data scientist   \n",
       "2    ...      0      0       0  0      0      0          0   data scientist   \n",
       "3    ...      0      0       0  0      0      0          0   data scientist   \n",
       "4    ...      0      0       0  0      0      0          0   data scientist   \n",
       "..   ...    ...    ...     ... ..    ...    ...        ...              ...   \n",
       "737  ...      0      0       0  0      0      0          0  other scientist   \n",
       "738  ...      0      1       0  0      0      0          0    data engineer   \n",
       "739  ...      0      0       0  0      0      0          0  other scientist   \n",
       "740  ...      0      0       0  0      0      0          0   data scientist   \n",
       "741  ...      0      0       0  0      0      0          0  other scientist   \n",
       "\n",
       "     seniority_by_title Degree  \n",
       "0                    na      M  \n",
       "1                    na      M  \n",
       "2                    na      M  \n",
       "3                    na     na  \n",
       "4                    na     na  \n",
       "..                  ...    ...  \n",
       "737                  sr      M  \n",
       "738                  sr     na  \n",
       "739                  na      P  \n",
       "740                  na     na  \n",
       "741                  na      M  \n",
       "\n",
       "[742 rows x 41 columns]"
      ]
     },
     "execution_count": 2,
     "metadata": {},
     "output_type": "execute_result"
    }
   ],
   "source": [
    "df = pd.read_csv (r'C:/Users/HP/Desktop/IBM machine learning/EDA/week 2/final project/data_cleaned_2021.csv')\n",
    "### removing the additional axis\n",
    "df = df.drop(\"index\", axis=1)\n",
    "df"
   ]
  },
  {
   "cell_type": "markdown",
   "id": "2e26d59f",
   "metadata": {},
   "source": [
    "## 2- Initial plan for data exploration\n",
    "We wills start by choosing the related features that we believe that are correlated with maximum and minimum salaries of data scientists, we will then filter out the jobs that are not data scientist as well as remove the additional and not needed strings in the values.\n",
    "\n",
    "## 3-  Feature engineering\n"
   ]
  },
  {
   "cell_type": "markdown",
   "id": "13afb8bd",
   "metadata": {},
   "source": [
    "### Selecting the needed columns"
   ]
  },
  {
   "cell_type": "code",
   "execution_count": 3,
   "id": "593418fc",
   "metadata": {},
   "outputs": [],
   "source": [
    "df = df[[\"Job Title\",\"Salary Estimate\", \"Rating\", \"Location\"]]"
   ]
  },
  {
   "cell_type": "markdown",
   "id": "4eb6291b",
   "metadata": {},
   "source": [
    "### Filtering the columns according to \"Job Title\" = \"Data Scientist\""
   ]
  },
  {
   "cell_type": "code",
   "execution_count": 4,
   "id": "8a8ad45e",
   "metadata": {},
   "outputs": [],
   "source": [
    "df = df[df['Job Title'] == \"Data Scientist\"]\n",
    "# since all jobs are now data scientist then we don't need the \"job title\" column any more.\n",
    "df = df.drop(\"Job Title\", axis=1)"
   ]
  },
  {
   "cell_type": "markdown",
   "id": "c98a9944",
   "metadata": {},
   "source": [
    "### Removing (Glassdoor est.) from the Salary Estimate estimate column"
   ]
  },
  {
   "cell_type": "code",
   "execution_count": 5,
   "id": "c0a5ed00",
   "metadata": {},
   "outputs": [],
   "source": [
    "# changing the name of the column from salary estimate to salary to avoid having spaces in the column name \n",
    "# which could cause problem when applying some changes \n",
    "df.rename(columns = {'Salary Estimate': 'Salary'}, inplace = True)"
   ]
  },
  {
   "cell_type": "code",
   "execution_count": 6,
   "id": "5ad16f07",
   "metadata": {},
   "outputs": [],
   "source": [
    "df.replace(regex=['(Glassdoor est.)'], value='', inplace = True)\n"
   ]
  },
  {
   "cell_type": "code",
   "execution_count": 7,
   "id": "72a4b8cd",
   "metadata": {},
   "outputs": [
    {
     "name": "stderr",
     "output_type": "stream",
     "text": [
      "<ipython-input-7-fb422a6c4910>:2: FutureWarning: The default value of regex will change from True to False in a future version.\n",
      "  df['Salary'] = df['Salary'].str.replace(r\" \\(.*\\)\",\"\")\n"
     ]
    }
   ],
   "source": [
    "# using the code bellow to remove \"()\" because it was not removed by .replace\n",
    "df['Salary'] = df['Salary'].str.replace(r\" \\(.*\\)\",\"\")"
   ]
  },
  {
   "cell_type": "code",
   "execution_count": 8,
   "id": "88560cc4",
   "metadata": {},
   "outputs": [],
   "source": [
    "#reseting the index\n",
    "df.reset_index(inplace = True)\n",
    "df = df.drop(\"index\", axis=1)"
   ]
  },
  {
   "cell_type": "markdown",
   "id": "ae08ed36",
   "metadata": {},
   "source": [
    "### Splitting the Salary column to min and max"
   ]
  },
  {
   "cell_type": "code",
   "execution_count": 9,
   "id": "f3090756",
   "metadata": {},
   "outputs": [],
   "source": [
    "df[['Min Salary in K', 'Max Salary in K']] = df.Salary.str.split('-', expand = True)"
   ]
  },
  {
   "cell_type": "code",
   "execution_count": 10,
   "id": "3f0f2a92",
   "metadata": {},
   "outputs": [],
   "source": [
    "df.drop(['Salary'], axis = 1, inplace = True)"
   ]
  },
  {
   "cell_type": "markdown",
   "id": "fb70ed8b",
   "metadata": {},
   "source": [
    "### Removing additional strings"
   ]
  },
  {
   "cell_type": "code",
   "execution_count": 11,
   "id": "b985f80c",
   "metadata": {
    "scrolled": true
   },
   "outputs": [],
   "source": [
    "df['Min Salary in K'] = df['Min Salary in K'].str.replace(\"Employer Provided Salary:\",\"\")"
   ]
  },
  {
   "cell_type": "code",
   "execution_count": 12,
   "id": "812e19ed",
   "metadata": {},
   "outputs": [
    {
     "name": "stderr",
     "output_type": "stream",
     "text": [
      "<ipython-input-12-2fd8b7f3d55d>:1: FutureWarning: The default value of regex will change from True to False in a future version.\n",
      "  df['Max Salary in K'] = df['Max Salary in K'].str.replace(\"(Employer est.)\",\"\")\n"
     ]
    }
   ],
   "source": [
    "df['Max Salary in K'] = df['Max Salary in K'].str.replace(\"(Employer est.)\",\"\")"
   ]
  },
  {
   "cell_type": "code",
   "execution_count": 13,
   "id": "b161b84c",
   "metadata": {
    "scrolled": true
   },
   "outputs": [
    {
     "name": "stderr",
     "output_type": "stream",
     "text": [
      "<ipython-input-13-e5e6b327d1bc>:1: FutureWarning: The default value of regex will change from True to False in a future version. In addition, single character regular expressions will*not* be treated as literal strings when regex=True.\n",
      "  df['Min Salary in K'] = df['Min Salary in K'].str.replace(\"$\",\"\").str.replace(\"K\",\"\")\n",
      "<ipython-input-13-e5e6b327d1bc>:2: FutureWarning: The default value of regex will change from True to False in a future version. In addition, single character regular expressions will*not* be treated as literal strings when regex=True.\n",
      "  df['Max Salary in K'] = df['Max Salary in K'].str.replace(\"$\",\"\").str.replace(\"K\",\"\")\n"
     ]
    }
   ],
   "source": [
    "df['Min Salary in K'] = df['Min Salary in K'].str.replace(\"$\",\"\").str.replace(\"K\",\"\")\n",
    "df['Max Salary in K'] = df['Max Salary in K'].str.replace(\"$\",\"\").str.replace(\"K\",\"\")\n",
    "# droping observation 65 $ 102\n",
    "df.drop(65, axis=0, inplace = True)\n",
    "df.drop(103, axis=0, inplace = True)\n",
    "# reseting the index\n",
    "df.reset_index(inplace = True)\n",
    "df = df.drop(\"index\", axis=1)\n"
   ]
  },
  {
   "cell_type": "markdown",
   "id": "840687ba",
   "metadata": {},
   "source": [
    "### changing the mina and max salary columns to numeric"
   ]
  },
  {
   "cell_type": "code",
   "execution_count": 14,
   "id": "5f3f63a8",
   "metadata": {},
   "outputs": [],
   "source": [
    "df['Rating']=pd.to_numeric(df['Rating'])\n",
    "df['Max Salary in K']=pd.to_numeric(df['Max Salary in K'])\n",
    "df['Min Salary in K']=pd.to_numeric(df['Min Salary in K'])"
   ]
  },
  {
   "cell_type": "code",
   "execution_count": 15,
   "id": "94cbc668",
   "metadata": {},
   "outputs": [
    {
     "data": {
      "text/plain": [
       "Rating             float64\n",
       "Location            object\n",
       "Min Salary in K      int64\n",
       "Max Salary in K      int64\n",
       "dtype: object"
      ]
     },
     "execution_count": 15,
     "metadata": {},
     "output_type": "execute_result"
    }
   ],
   "source": [
    "df.dtypes"
   ]
  },
  {
   "cell_type": "markdown",
   "id": "d8a34532",
   "metadata": {},
   "source": [
    "# Visualization "
   ]
  },
  {
   "cell_type": "markdown",
   "id": "36525e85",
   "metadata": {},
   "source": [
    "### Scatter graph for Rating Vs Max & Min Salary"
   ]
  },
  {
   "cell_type": "code",
   "execution_count": 16,
   "id": "530b73a9",
   "metadata": {},
   "outputs": [],
   "source": [
    "#arranging the dataset descendingly according to \"Rating\"\n",
    "df.sort_values(by=['Rating'], inplace=True, ascending=True)\n",
    "df.reset_index(inplace = True)\n",
    "df = df.drop(\"index\", axis=1)"
   ]
  },
  {
   "cell_type": "code",
   "execution_count": 17,
   "id": "b5213d4b",
   "metadata": {},
   "outputs": [
    {
     "data": {
      "text/plain": [
       "<AxesSubplot:xlabel='Rating'>"
      ]
     },
     "execution_count": 17,
     "metadata": {},
     "output_type": "execute_result"
    },
    {
     "data": {
      "image/png": "[encoded data removed]",
      "text/plain": [
       "<Figure size 432x288 with 1 Axes>"
      ]
     },
     "metadata": {
      "needs_background": "light"
     },
     "output_type": "display_data"
    },
    {
     "data": {
      "image/png": "[encoded data removed]",
      "text/plain": [
       "<Figure size 432x288 with 1 Axes>"
      ]
     },
     "metadata": {
      "needs_background": "light"
     },
     "output_type": "display_data"
    }
   ],
   "source": [
    "df.plot(x='Rating', y='Min Salary in K', style='o')\n",
    "df.plot(x='Rating', y='Max Salary in K', style='o')"
   ]
  },
  {
   "cell_type": "markdown",
   "id": "0cd9d25f",
   "metadata": {},
   "source": [
    "We conclude that the rating does not have a significant effect on the min and max salaries\n",
    "## 4- Formulating  3 hypothesis \n",
    "### First Hypothesis:\n",
    "#### The correlation between locations and max salary is above 0.1 (Confidence level of 95%)\n",
    "##### Testing the correlation between the locations and Max salaries"
   ]
  },
  {
   "cell_type": "code",
   "execution_count": 18,
   "id": "8748f523",
   "metadata": {},
   "outputs": [
    {
     "data": {
      "text/plain": [
       "10"
      ]
     },
     "execution_count": 18,
     "metadata": {},
     "output_type": "execute_result"
    }
   ],
   "source": [
    "# create a LabelEncoder object and fit it to each feature in X\n",
    "dfL = pd.get_dummies(df).corr()[\"Max Salary in K\"].iloc[3:69]\n",
    "dfL[dfL>0.1].count()"
   ]
  },
  {
   "cell_type": "markdown",
   "id": "44647797",
   "metadata": {},
   "source": [
    "as we can see there is only 10 locations that are the has a correlation with maximum salary that is above 0.1, which means only 10/66 = 15.15% which is not even close 95% confidence level which means this hypothesis is rejected"
   ]
  },
  {
   "cell_type": "markdown",
   "id": "54c7db04",
   "metadata": {},
   "source": [
    "the correlation between the location column and other columns is ver week so we should drop the location column"
   ]
  },
  {
   "cell_type": "code",
   "execution_count": 19,
   "id": "4de7be97",
   "metadata": {},
   "outputs": [],
   "source": [
    "df = df.drop(\"Location\", axis=1)"
   ]
  },
  {
   "cell_type": "markdown",
   "id": "28c1dccb",
   "metadata": {},
   "source": [
    "### Second Hypothesis\n",
    "####  Maximum salaries with a rating that is above 3 are above 90K (Confidence level of 95%)"
   ]
  },
  {
   "cell_type": "code",
   "execution_count": 20,
   "id": "2b5893c9",
   "metadata": {},
   "outputs": [
    {
     "data": {
      "text/plain": [
       "116"
      ]
     },
     "execution_count": 20,
     "metadata": {},
     "output_type": "execute_result"
    }
   ],
   "source": [
    "dfS = df[df[\"Rating\"]>3]\n",
    "dfS[\"Max Salary in K\"][dfS[\"Max Salary in K\"] > 90].count()"
   ]
  },
  {
   "cell_type": "markdown",
   "id": "7ae6e020",
   "metadata": {},
   "source": [
    "as we can see that the number of salaries that have ratings above 3 that are above 90K is 116, which out of 119 salaries that have a rating above 3 is 97.48%, which means that we can accept this hypothesis"
   ]
  },
  {
   "cell_type": "markdown",
   "id": "3120f257",
   "metadata": {},
   "source": [
    "### Third Hypothesis\n",
    "####  Minimum salaries with a rating that is above 3 are above 50K (Confidence level of 95%)"
   ]
  },
  {
   "cell_type": "code",
   "execution_count": 21,
   "id": "f2fa75d1",
   "metadata": {},
   "outputs": [
    {
     "name": "stdout",
     "output_type": "stream",
     "text": [
      "the total number of the minimum salaries that have a rating above three is 119\n",
      "the total number of minimum salaries that have a rating above three and are above 70K is  78\n",
      "the percenatge of minimum salaries that are above 70K and have a rating above 3 is  65.54621848739495 %\n"
     ]
    }
   ],
   "source": [
    "p1 = dfS[\"Min Salary in K\"][dfS[\"Min Salary in K\"] > 70].count()\n",
    "p2 = dfS[\"Min Salary in K\"].count()\n",
    "print(\"the total number of the minimum salaries that have a rating above three is\", p2)\n",
    "print(\"the total number of minimum salaries that have a rating above three and are above 70K is \", p1)\n",
    "print(\"the percenatge of minimum salaries that are above 70K and have a rating above 3 is \", (p1/p2)*100,\"%\")"
   ]
  },
  {
   "cell_type": "markdown",
   "id": "2d37f529",
   "metadata": {},
   "source": [
    "as we can see 65.55% is not even near our confidence level which is 95%, which means we can safely reject this hypothsis"
   ]
  },
  {
   "cell_type": "markdown",
   "id": "ee93daf7",
   "metadata": {},
   "source": [
    "## 5- Suggestions for next steps in analyzing the data\n",
    "I would suggest to find more parameters that might help in analyzing the ranges of salaris to improve the overall accuracy."
   ]
  },
  {
   "cell_type": "markdown",
   "id": "3c952d92",
   "metadata": {},
   "source": [
    "## 6- Conclusion\n",
    "In conclusion, we mainly did data manipulation and feature engineering (which were the most complicated part in this project)to prepare the data for forming useful hyphotheses. We then did two scatter plots, one for maximum and one for minimum salaries Vs rating to see the effect of rating on maximum and minimum salaries, then we formed three hypotheses and tested them to see if we can reject them or approve them with 95% confidence level."
   ]
  }
 ],
 "metadata": {
  "kernelspec": {
   "display_name": "Python 3",
   "language": "python",
   "name": "python3"
  },
  "language_info": {
   "codemirror_mode": {
    "name": "ipython",
    "version": 3
   },
   "file_extension": ".py",
   "mimetype": "text/x-python",
   "name": "python",
   "nbconvert_exporter": "python",
   "pygments_lexer": "ipython3",
   "version": "3.8.8"
  }
 },
 "nbformat": 4,
 "nbformat_minor": 5
}
