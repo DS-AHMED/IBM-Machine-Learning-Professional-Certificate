{
 "cells": [
  {
   "cell_type": "markdown",
   "id": "79fb106b",
   "metadata": {},
   "source": [
    "# Data Science Research Project\n",
    "## Pridicting Customer Churn in Telecom Industry \n",
    "\n",
    "<b>1- General Information about the dataset</b>\n",
    "* the dataset was taken from IBM business analytics community"
   ]
  },
  {
   "cell_type": "markdown",
   "id": "d8351365",
   "metadata": {},
   "source": [
    "<b>2- Project Opjectives:\n",
    "* to utilize light gradient boosted machine (LGBM) in predicting customer churn and understand features importance.\n",
    "* modeling umbalanced classes.\n",
    "* to tune LGBM parameters using GridSearchCV to find the best performing parametes that suits the dataset.\n",
    "* benchmarking the results to other research papers that used the same dataset for churn prediction.</b>"
   ]
  },
  {
   "cell_type": "markdown",
   "id": "4eb977b7",
   "metadata": {},
   "source": [
    "### Required Libraries"
   ]
  },
  {
   "cell_type": "code",
   "execution_count": 1,
   "id": "d14d3baf",
   "metadata": {},
   "outputs": [
    {
     "name": "stderr",
     "output_type": "stream",
     "text": [
      "C:\\Users\\HP\\anaconda3\\lib\\site-packages\\xgboost\\compat.py:36: FutureWarning: pandas.Int64Index is deprecated and will be removed from pandas in a future version. Use pandas.Index with the appropriate dtype instead.\n",
      "  from pandas import MultiIndex, Int64Index\n",
      "C:\\Users\\HP\\anaconda3\\lib\\site-packages\\dask\\dataframe\\utils.py:369: FutureWarning: pandas.Int64Index is deprecated and will be removed from pandas in a future version. Use pandas.Index with the appropriate dtype instead.\n",
      "  _numeric_index_types = (pd.Int64Index, pd.Float64Index, pd.UInt64Index)\n",
      "C:\\Users\\HP\\anaconda3\\lib\\site-packages\\dask\\dataframe\\utils.py:369: FutureWarning: pandas.Float64Index is deprecated and will be removed from pandas in a future version. Use pandas.Index with the appropriate dtype instead.\n",
      "  _numeric_index_types = (pd.Int64Index, pd.Float64Index, pd.UInt64Index)\n",
      "C:\\Users\\HP\\anaconda3\\lib\\site-packages\\dask\\dataframe\\utils.py:369: FutureWarning: pandas.UInt64Index is deprecated and will be removed from pandas in a future version. Use pandas.Index with the appropriate dtype instead.\n",
      "  _numeric_index_types = (pd.Int64Index, pd.Float64Index, pd.UInt64Index)\n"
     ]
    }
   ],
   "source": [
    "# Dataframe and plotting libraries\n",
    "import numpy as np # For linear algebra\n",
    "import pandas as pd # For data frame manipulation\n",
    "import seaborn as sns # For visualization I\n",
    "import matplotlib.pyplot as plt # For visualization II\n",
    "\n",
    "\n",
    "# Machine Learing libraries\n",
    "from sklearn.linear_model import LogisticRegression # Model 1\n",
    "from sklearn.ensemble import RandomForestClassifier # Model 2\n",
    "from sklearn.svm import SVC                         # Model 3\n",
    "import xgboost as xgb                               # Model 4\n",
    "from lightgbm import LGBMClassifier                 # Model 5\n",
    "\n",
    "from sklearn.model_selection import train_test_split\n",
    "from sklearn.model_selection import StratifiedShuffleSplit # To stratify split\n",
    "from sklearn.model_selection import StratifiedKFold # To stratify kfolds\n",
    "from sklearn.model_selection import GridSearchCV # To find best parameters \n",
    "from sklearn.metrics import accuracy_score, precision_recall_fscore_support # To evaluate models\n",
    "from sklearn.metrics import classification_report # To evaluate models\n",
    "from sklearn.metrics import confusion_matrix # To plot models outcome\n",
    "\n",
    "\n",
    "from sklearn.preprocessing import MinMaxScaler # To scale data\n",
    "from imblearn.under_sampling import RandomUnderSampler # To undersample data\n",
    "from imblearn.over_sampling import RandomOverSampler, SMOTE # To oversample and resample data\n",
    "\n",
    "\n",
    "\n",
    "# Utility library\n",
    "import pickle # Save the ML object model.\n",
    "import os # To access directory\n",
    "import warnings  # To mute warnings\n",
    "warnings.filterwarnings(\"ignore\") # Mute warning\n",
    "\n",
    "%matplotlib inline "
   ]
  },
  {
   "cell_type": "markdown",
   "id": "8dc64d13",
   "metadata": {},
   "source": [
    "## Useful function for evaluation"
   ]
  },
  {
   "cell_type": "code",
   "execution_count": 48,
   "id": "37acfd60",
   "metadata": {},
   "outputs": [],
   "source": [
    "# Defining auxiliary function 1\n",
    "rs = 123 # Setting random state to '123' in all models and sampling.\n",
    "\n",
    "# Defining auxiliary function 2\n",
    "# evaluation metrics stored in a dictionary\n",
    "def evaluate_metrics(yt, yp):\n",
    "    results_pos = {}\n",
    "    results_pos['accuracy'] = accuracy_score(yt, yp)\n",
    "    \n",
    "    precision, recall, f_beta, _ = precision_recall_fscore_support(yt, yp)\n",
    "    W_precision, W_recall, W_fbeta, _ = precision_recall_fscore_support(yt, yp, average = 'weighted')\n",
    "    \n",
    "    results_pos['precision'] = precision\n",
    "    results_pos['Weighted precision'] = W_precision\n",
    "    results_pos['recall'] = recall\n",
    "    results_pos['Weighted recall'] = W_recall\n",
    "    results_pos['f1score'] = f_beta\n",
    "    results_pos['Weighted f1score'] = W_fbeta\n",
    "    return results_pos\n",
    "\n",
    "# Extract and sort feature coefficients\n",
    "def get_feature_coefs(regression_model, label_index, columns):\n",
    "    coef_dict = {}\n",
    "    for coef, feat in zip(regression_model.coef_[label_index, :], columns):\n",
    "        if abs(coef) >= 0.01:\n",
    "            coef_dict[feat] = coef\n",
    "    # Sort coefficients\n",
    "    coef_dict = {k: v for k, v in sorted(coef_dict.items(), key=lambda item: item[1])}\n",
    "    return coef_dict\n",
    "\n",
    "# Generate bar colors based on if value is negative or positive\n",
    "def get_bar_colors(values):\n",
    "    color_vals = []\n",
    "    for val in values:\n",
    "        if val <= 0:\n",
    "            color_vals.append('r')\n",
    "        else:\n",
    "            color_vals.append('g')\n",
    "    return color_vals\n",
    "\n",
    "# Visualize coefficients\n",
    "def visualize_coefs(coef_dict):\n",
    "    features = list(coef_dict.keys())\n",
    "    values = list(coef_dict.values())\n",
    "    y_pos = np.arange(len(features))\n",
    "    color_vals = get_bar_colors(values)\n",
    "    plt.rcdefaults()\n",
    "    fig, ax = plt.subplots(figsize = (10, 6))\n",
    "    ax.barh(y_pos, values, align='center', color=color_vals)\n",
    "    ax.set_yticks(y_pos)\n",
    "    ax.set_yticklabels(features)\n",
    "    # labels read top-to-bottom\n",
    "    ax.invert_yaxis()  \n",
    "    ax.set_xlabel('Feature Coefficients')\n",
    "    ax.set_title('')\n",
    "    plt.show()\n",
    "    "
   ]
  },
  {
   "cell_type": "markdown",
   "id": "3a6cca2c",
   "metadata": {},
   "source": [
    "## Importing the dataset"
   ]
  },
  {
   "cell_type": "code",
   "execution_count": 3,
   "id": "1b464f2c",
   "metadata": {},
   "outputs": [],
   "source": [
    "df = pd.read_csv('Telco-Customer-Churn.csv')# Reading the df"
   ]
  },
  {
   "cell_type": "markdown",
   "id": "5e43bbba",
   "metadata": {},
   "source": [
    "## Preprossing and General Understanding of the Data"
   ]
  },
  {
   "cell_type": "code",
   "execution_count": 4,
   "id": "45fde02f",
   "metadata": {},
   "outputs": [
    {
     "name": "stdout",
     "output_type": "stream",
     "text": [
      "The dataset first three rows are\n"
     ]
    },
    {
     "data": {
      "text/html": [
       "<div>\n",
       "<style scoped>\n",
       "    .dataframe tbody tr th:only-of-type {\n",
       "        vertical-align: middle;\n",
       "    }\n",
       "\n",
       "    .dataframe tbody tr th {\n",
       "        vertical-align: top;\n",
       "    }\n",
       "\n",
       "    .dataframe thead th {\n",
       "        text-align: right;\n",
       "    }\n",
       "</style>\n",
       "<table border=\"1\" class=\"dataframe\">\n",
       "  <thead>\n",
       "    <tr style=\"text-align: right;\">\n",
       "      <th></th>\n",
       "      <th>customerID</th>\n",
       "      <th>gender</th>\n",
       "      <th>SeniorCitizen</th>\n",
       "      <th>Partner</th>\n",
       "      <th>Dependents</th>\n",
       "      <th>tenure</th>\n",
       "      <th>PhoneService</th>\n",
       "      <th>MultipleLines</th>\n",
       "      <th>InternetService</th>\n",
       "      <th>OnlineSecurity</th>\n",
       "      <th>...</th>\n",
       "      <th>DeviceProtection</th>\n",
       "      <th>TechSupport</th>\n",
       "      <th>StreamingTV</th>\n",
       "      <th>StreamingMovies</th>\n",
       "      <th>Contract</th>\n",
       "      <th>PaperlessBilling</th>\n",
       "      <th>PaymentMethod</th>\n",
       "      <th>MonthlyCharges</th>\n",
       "      <th>TotalCharges</th>\n",
       "      <th>Churn</th>\n",
       "    </tr>\n",
       "  </thead>\n",
       "  <tbody>\n",
       "    <tr>\n",
       "      <th>0</th>\n",
       "      <td>7590-VHVEG</td>\n",
       "      <td>Female</td>\n",
       "      <td>0</td>\n",
       "      <td>Yes</td>\n",
       "      <td>No</td>\n",
       "      <td>1</td>\n",
       "      <td>No</td>\n",
       "      <td>No phone service</td>\n",
       "      <td>DSL</td>\n",
       "      <td>No</td>\n",
       "      <td>...</td>\n",
       "      <td>No</td>\n",
       "      <td>No</td>\n",
       "      <td>No</td>\n",
       "      <td>No</td>\n",
       "      <td>Month-to-month</td>\n",
       "      <td>Yes</td>\n",
       "      <td>Electronic check</td>\n",
       "      <td>29.85</td>\n",
       "      <td>29.85</td>\n",
       "      <td>No</td>\n",
       "    </tr>\n",
       "    <tr>\n",
       "      <th>1</th>\n",
       "      <td>5575-GNVDE</td>\n",
       "      <td>Male</td>\n",
       "      <td>0</td>\n",
       "      <td>No</td>\n",
       "      <td>No</td>\n",
       "      <td>34</td>\n",
       "      <td>Yes</td>\n",
       "      <td>No</td>\n",
       "      <td>DSL</td>\n",
       "      <td>Yes</td>\n",
       "      <td>...</td>\n",
       "      <td>Yes</td>\n",
       "      <td>No</td>\n",
       "      <td>No</td>\n",
       "      <td>No</td>\n",
       "      <td>One year</td>\n",
       "      <td>No</td>\n",
       "      <td>Mailed check</td>\n",
       "      <td>56.95</td>\n",
       "      <td>1889.5</td>\n",
       "      <td>No</td>\n",
       "    </tr>\n",
       "    <tr>\n",
       "      <th>2</th>\n",
       "      <td>3668-QPYBK</td>\n",
       "      <td>Male</td>\n",
       "      <td>0</td>\n",
       "      <td>No</td>\n",
       "      <td>No</td>\n",
       "      <td>2</td>\n",
       "      <td>Yes</td>\n",
       "      <td>No</td>\n",
       "      <td>DSL</td>\n",
       "      <td>Yes</td>\n",
       "      <td>...</td>\n",
       "      <td>No</td>\n",
       "      <td>No</td>\n",
       "      <td>No</td>\n",
       "      <td>No</td>\n",
       "      <td>Month-to-month</td>\n",
       "      <td>Yes</td>\n",
       "      <td>Mailed check</td>\n",
       "      <td>53.85</td>\n",
       "      <td>108.15</td>\n",
       "      <td>Yes</td>\n",
       "    </tr>\n",
       "  </tbody>\n",
       "</table>\n",
       "<p>3 rows × 21 columns</p>\n",
       "</div>"
      ],
      "text/plain": [
       "   customerID  gender  SeniorCitizen Partner Dependents  tenure PhoneService  \\\n",
       "0  7590-VHVEG  Female              0     Yes         No       1           No   \n",
       "1  5575-GNVDE    Male              0      No         No      34          Yes   \n",
       "2  3668-QPYBK    Male              0      No         No       2          Yes   \n",
       "\n",
       "      MultipleLines InternetService OnlineSecurity  ... DeviceProtection  \\\n",
       "0  No phone service             DSL             No  ...               No   \n",
       "1                No             DSL            Yes  ...              Yes   \n",
       "2                No             DSL            Yes  ...               No   \n",
       "\n",
       "  TechSupport StreamingTV StreamingMovies        Contract PaperlessBilling  \\\n",
       "0          No          No              No  Month-to-month              Yes   \n",
       "1          No          No              No        One year               No   \n",
       "2          No          No              No  Month-to-month              Yes   \n",
       "\n",
       "      PaymentMethod MonthlyCharges  TotalCharges Churn  \n",
       "0  Electronic check          29.85         29.85    No  \n",
       "1      Mailed check          56.95        1889.5    No  \n",
       "2      Mailed check          53.85        108.15   Yes  \n",
       "\n",
       "[3 rows x 21 columns]"
      ]
     },
     "metadata": {},
     "output_type": "display_data"
    },
    {
     "name": "stdout",
     "output_type": "stream",
     "text": [
      "\n",
      "The dataset last three rows are\n"
     ]
    },
    {
     "data": {
      "text/html": [
       "<div>\n",
       "<style scoped>\n",
       "    .dataframe tbody tr th:only-of-type {\n",
       "        vertical-align: middle;\n",
       "    }\n",
       "\n",
       "    .dataframe tbody tr th {\n",
       "        vertical-align: top;\n",
       "    }\n",
       "\n",
       "    .dataframe thead th {\n",
       "        text-align: right;\n",
       "    }\n",
       "</style>\n",
       "<table border=\"1\" class=\"dataframe\">\n",
       "  <thead>\n",
       "    <tr style=\"text-align: right;\">\n",
       "      <th></th>\n",
       "      <th>customerID</th>\n",
       "      <th>gender</th>\n",
       "      <th>SeniorCitizen</th>\n",
       "      <th>Partner</th>\n",
       "      <th>Dependents</th>\n",
       "      <th>tenure</th>\n",
       "      <th>PhoneService</th>\n",
       "      <th>MultipleLines</th>\n",
       "      <th>InternetService</th>\n",
       "      <th>OnlineSecurity</th>\n",
       "      <th>...</th>\n",
       "      <th>DeviceProtection</th>\n",
       "      <th>TechSupport</th>\n",
       "      <th>StreamingTV</th>\n",
       "      <th>StreamingMovies</th>\n",
       "      <th>Contract</th>\n",
       "      <th>PaperlessBilling</th>\n",
       "      <th>PaymentMethod</th>\n",
       "      <th>MonthlyCharges</th>\n",
       "      <th>TotalCharges</th>\n",
       "      <th>Churn</th>\n",
       "    </tr>\n",
       "  </thead>\n",
       "  <tbody>\n",
       "    <tr>\n",
       "      <th>7040</th>\n",
       "      <td>4801-JZAZL</td>\n",
       "      <td>Female</td>\n",
       "      <td>0</td>\n",
       "      <td>Yes</td>\n",
       "      <td>Yes</td>\n",
       "      <td>11</td>\n",
       "      <td>No</td>\n",
       "      <td>No phone service</td>\n",
       "      <td>DSL</td>\n",
       "      <td>Yes</td>\n",
       "      <td>...</td>\n",
       "      <td>No</td>\n",
       "      <td>No</td>\n",
       "      <td>No</td>\n",
       "      <td>No</td>\n",
       "      <td>Month-to-month</td>\n",
       "      <td>Yes</td>\n",
       "      <td>Electronic check</td>\n",
       "      <td>29.60</td>\n",
       "      <td>346.45</td>\n",
       "      <td>No</td>\n",
       "    </tr>\n",
       "    <tr>\n",
       "      <th>7041</th>\n",
       "      <td>8361-LTMKD</td>\n",
       "      <td>Male</td>\n",
       "      <td>1</td>\n",
       "      <td>Yes</td>\n",
       "      <td>No</td>\n",
       "      <td>4</td>\n",
       "      <td>Yes</td>\n",
       "      <td>Yes</td>\n",
       "      <td>Fiber optic</td>\n",
       "      <td>No</td>\n",
       "      <td>...</td>\n",
       "      <td>No</td>\n",
       "      <td>No</td>\n",
       "      <td>No</td>\n",
       "      <td>No</td>\n",
       "      <td>Month-to-month</td>\n",
       "      <td>Yes</td>\n",
       "      <td>Mailed check</td>\n",
       "      <td>74.40</td>\n",
       "      <td>306.6</td>\n",
       "      <td>Yes</td>\n",
       "    </tr>\n",
       "    <tr>\n",
       "      <th>7042</th>\n",
       "      <td>3186-AJIEK</td>\n",
       "      <td>Male</td>\n",
       "      <td>0</td>\n",
       "      <td>No</td>\n",
       "      <td>No</td>\n",
       "      <td>66</td>\n",
       "      <td>Yes</td>\n",
       "      <td>No</td>\n",
       "      <td>Fiber optic</td>\n",
       "      <td>Yes</td>\n",
       "      <td>...</td>\n",
       "      <td>Yes</td>\n",
       "      <td>Yes</td>\n",
       "      <td>Yes</td>\n",
       "      <td>Yes</td>\n",
       "      <td>Two year</td>\n",
       "      <td>Yes</td>\n",
       "      <td>Bank transfer (automatic)</td>\n",
       "      <td>105.65</td>\n",
       "      <td>6844.5</td>\n",
       "      <td>No</td>\n",
       "    </tr>\n",
       "  </tbody>\n",
       "</table>\n",
       "<p>3 rows × 21 columns</p>\n",
       "</div>"
      ],
      "text/plain": [
       "      customerID  gender  SeniorCitizen Partner Dependents  tenure  \\\n",
       "7040  4801-JZAZL  Female              0     Yes        Yes      11   \n",
       "7041  8361-LTMKD    Male              1     Yes         No       4   \n",
       "7042  3186-AJIEK    Male              0      No         No      66   \n",
       "\n",
       "     PhoneService     MultipleLines InternetService OnlineSecurity  ...  \\\n",
       "7040           No  No phone service             DSL            Yes  ...   \n",
       "7041          Yes               Yes     Fiber optic             No  ...   \n",
       "7042          Yes                No     Fiber optic            Yes  ...   \n",
       "\n",
       "     DeviceProtection TechSupport StreamingTV StreamingMovies        Contract  \\\n",
       "7040               No          No          No              No  Month-to-month   \n",
       "7041               No          No          No              No  Month-to-month   \n",
       "7042              Yes         Yes         Yes             Yes        Two year   \n",
       "\n",
       "     PaperlessBilling              PaymentMethod MonthlyCharges  TotalCharges  \\\n",
       "7040              Yes           Electronic check          29.60        346.45   \n",
       "7041              Yes               Mailed check          74.40         306.6   \n",
       "7042              Yes  Bank transfer (automatic)         105.65        6844.5   \n",
       "\n",
       "     Churn  \n",
       "7040    No  \n",
       "7041   Yes  \n",
       "7042    No  \n",
       "\n",
       "[3 rows x 21 columns]"
      ]
     },
     "metadata": {},
     "output_type": "display_data"
    }
   ],
   "source": [
    "print('The dataset first three rows are')\n",
    "display(df.head(3))\n",
    "print('')\n",
    "print('The dataset last three rows are')\n",
    "display(df.tail(3))"
   ]
  },
  {
   "cell_type": "code",
   "execution_count": 5,
   "id": "8325b7c0",
   "metadata": {},
   "outputs": [
    {
     "name": "stdout",
     "output_type": "stream",
     "text": [
      "The data frame encompasses 7043 instances and 21 features\n",
      "\n",
      "The features data types are as follows,\n",
      "object     18\n",
      "int64       2\n",
      "float64     1\n",
      "dtype: int64\n"
     ]
    }
   ],
   "source": [
    "print(f'The data frame encompasses {df.shape[0]} instances and {df.shape[1]} features\\n')\n",
    "print('The features data types are as follows,')\n",
    "print(df.dtypes.value_counts())"
   ]
  },
  {
   "cell_type": "markdown",
   "id": "6f8f2b92",
   "metadata": {},
   "source": [
    "the column 'TotalCharges' contains numeric values but it's considered an object, that's why we need to change its type"
   ]
  },
  {
   "cell_type": "code",
   "execution_count": 6,
   "id": "01fffe61",
   "metadata": {},
   "outputs": [],
   "source": [
    "# As there are few empty spaces in this column, we will replace those spaces with 0s\n",
    "df_list = []\n",
    "for i in df['TotalCharges']:\n",
    "    try:\n",
    "        df_list.append(float(i))\n",
    "    except:\n",
    "        df_list.append(float(0))\n",
    "        \n",
    "df['TotalCharges'] = df_list"
   ]
  },
  {
   "cell_type": "code",
   "execution_count": 7,
   "id": "2080ac8d",
   "metadata": {},
   "outputs": [
    {
     "name": "stdout",
     "output_type": "stream",
     "text": [
      "Checking for missing values per column:\n",
      "customerID          0\n",
      "gender              0\n",
      "SeniorCitizen       0\n",
      "Partner             0\n",
      "Dependents          0\n",
      "tenure              0\n",
      "PhoneService        0\n",
      "MultipleLines       0\n",
      "InternetService     0\n",
      "OnlineSecurity      0\n",
      "OnlineBackup        0\n",
      "DeviceProtection    0\n",
      "TechSupport         0\n",
      "StreamingTV         0\n",
      "StreamingMovies     0\n",
      "Contract            0\n",
      "PaperlessBilling    0\n",
      "PaymentMethod       0\n",
      "MonthlyCharges      0\n",
      "TotalCharges        0\n",
      "Churn               0\n",
      "dtype: int64\n"
     ]
    }
   ],
   "source": [
    "print('Checking for missing values per column:')\n",
    "print(df.isna().sum())"
   ]
  },
  {
   "cell_type": "markdown",
   "id": "af411070",
   "metadata": {},
   "source": [
    "As we're using decision trees algorithm as the base model of LGBM ensamble algorithm, we don't need to do feature scaling or encode the non numeric columns. However, because we're going to benchmark thr results with other machine learning algoirthm that might require encoding and feature scaling such as logistic regression, we will do those steps right now so we wont have to do them later.\n",
    "\n",
    "### Encoding the Data:\n",
    "For columns that has only two values, they will be converted to 1s and 0s, but for columns that have 3 values and more they will be one hot encoded."
   ]
  },
  {
   "cell_type": "code",
   "execution_count": 8,
   "id": "9ca338ec",
   "metadata": {},
   "outputs": [
    {
     "data": {
      "text/html": [
       "<div>\n",
       "<style scoped>\n",
       "    .dataframe tbody tr th:only-of-type {\n",
       "        vertical-align: middle;\n",
       "    }\n",
       "\n",
       "    .dataframe tbody tr th {\n",
       "        vertical-align: top;\n",
       "    }\n",
       "\n",
       "    .dataframe thead th {\n",
       "        text-align: right;\n",
       "    }\n",
       "</style>\n",
       "<table border=\"1\" class=\"dataframe\">\n",
       "  <thead>\n",
       "    <tr style=\"text-align: right;\">\n",
       "      <th></th>\n",
       "      <th>Unique Values</th>\n",
       "    </tr>\n",
       "    <tr>\n",
       "      <th>Variable</th>\n",
       "      <th></th>\n",
       "    </tr>\n",
       "  </thead>\n",
       "  <tbody>\n",
       "    <tr>\n",
       "      <th>gender</th>\n",
       "      <td>2</td>\n",
       "    </tr>\n",
       "    <tr>\n",
       "      <th>SeniorCitizen</th>\n",
       "      <td>2</td>\n",
       "    </tr>\n",
       "    <tr>\n",
       "      <th>Partner</th>\n",
       "      <td>2</td>\n",
       "    </tr>\n",
       "    <tr>\n",
       "      <th>Dependents</th>\n",
       "      <td>2</td>\n",
       "    </tr>\n",
       "    <tr>\n",
       "      <th>tenure</th>\n",
       "      <td>73</td>\n",
       "    </tr>\n",
       "    <tr>\n",
       "      <th>PhoneService</th>\n",
       "      <td>2</td>\n",
       "    </tr>\n",
       "    <tr>\n",
       "      <th>MultipleLines</th>\n",
       "      <td>3</td>\n",
       "    </tr>\n",
       "    <tr>\n",
       "      <th>InternetService</th>\n",
       "      <td>3</td>\n",
       "    </tr>\n",
       "    <tr>\n",
       "      <th>OnlineSecurity</th>\n",
       "      <td>3</td>\n",
       "    </tr>\n",
       "    <tr>\n",
       "      <th>OnlineBackup</th>\n",
       "      <td>3</td>\n",
       "    </tr>\n",
       "    <tr>\n",
       "      <th>DeviceProtection</th>\n",
       "      <td>3</td>\n",
       "    </tr>\n",
       "    <tr>\n",
       "      <th>TechSupport</th>\n",
       "      <td>3</td>\n",
       "    </tr>\n",
       "    <tr>\n",
       "      <th>StreamingTV</th>\n",
       "      <td>3</td>\n",
       "    </tr>\n",
       "    <tr>\n",
       "      <th>StreamingMovies</th>\n",
       "      <td>3</td>\n",
       "    </tr>\n",
       "    <tr>\n",
       "      <th>Contract</th>\n",
       "      <td>3</td>\n",
       "    </tr>\n",
       "    <tr>\n",
       "      <th>PaperlessBilling</th>\n",
       "      <td>2</td>\n",
       "    </tr>\n",
       "    <tr>\n",
       "      <th>PaymentMethod</th>\n",
       "      <td>4</td>\n",
       "    </tr>\n",
       "    <tr>\n",
       "      <th>MonthlyCharges</th>\n",
       "      <td>1585</td>\n",
       "    </tr>\n",
       "    <tr>\n",
       "      <th>TotalCharges</th>\n",
       "      <td>6531</td>\n",
       "    </tr>\n",
       "    <tr>\n",
       "      <th>Churn</th>\n",
       "      <td>2</td>\n",
       "    </tr>\n",
       "  </tbody>\n",
       "</table>\n",
       "</div>"
      ],
      "text/plain": [
       "                  Unique Values\n",
       "Variable                       \n",
       "gender                        2\n",
       "SeniorCitizen                 2\n",
       "Partner                       2\n",
       "Dependents                    2\n",
       "tenure                       73\n",
       "PhoneService                  2\n",
       "MultipleLines                 3\n",
       "InternetService               3\n",
       "OnlineSecurity                3\n",
       "OnlineBackup                  3\n",
       "DeviceProtection              3\n",
       "TechSupport                   3\n",
       "StreamingTV                   3\n",
       "StreamingMovies               3\n",
       "Contract                      3\n",
       "PaperlessBilling              2\n",
       "PaymentMethod                 4\n",
       "MonthlyCharges             1585\n",
       "TotalCharges               6531\n",
       "Churn                         2"
      ]
     },
     "execution_count": 8,
     "metadata": {},
     "output_type": "execute_result"
    }
   ],
   "source": [
    "# dropping 'customerID' column first.\n",
    "df.drop('customerID', inplace=True, axis=1)\n",
    "df_uniques = pd.DataFrame([[i, len(df[i].unique())] for i in df.columns], columns=['Variable', 'Unique Values']).set_index('Variable')\n",
    "df_uniques"
   ]
  },
  {
   "cell_type": "code",
   "execution_count": 9,
   "id": "dd6827ff",
   "metadata": {},
   "outputs": [
    {
     "data": {
      "text/plain": [
       "['gender',\n",
       " 'SeniorCitizen',\n",
       " 'Partner',\n",
       " 'Dependents',\n",
       " 'PhoneService',\n",
       " 'PaperlessBilling',\n",
       " 'Churn']"
      ]
     },
     "execution_count": 9,
     "metadata": {},
     "output_type": "execute_result"
    }
   ],
   "source": [
    "binary_variables = list(df_uniques[df_uniques['Unique Values'] == 2].index)\n",
    "binary_variables"
   ]
  },
  {
   "cell_type": "code",
   "execution_count": 10,
   "id": "1dcd7586",
   "metadata": {},
   "outputs": [
    {
     "data": {
      "text/plain": [
       "['MultipleLines',\n",
       " 'InternetService',\n",
       " 'OnlineSecurity',\n",
       " 'OnlineBackup',\n",
       " 'DeviceProtection',\n",
       " 'TechSupport',\n",
       " 'StreamingTV',\n",
       " 'StreamingMovies',\n",
       " 'Contract',\n",
       " 'PaymentMethod']"
      ]
     },
     "execution_count": 10,
     "metadata": {},
     "output_type": "execute_result"
    }
   ],
   "source": [
    "categorical_variables = list(df_uniques[(6 >= df_uniques['Unique Values']) & (df_uniques['Unique Values'] > 2)].index)\n",
    "categorical_variables"
   ]
  },
  {
   "cell_type": "code",
   "execution_count": 11,
   "id": "3ac456c1",
   "metadata": {},
   "outputs": [
    {
     "data": {
      "text/plain": [
       "[['MultipleLines', ['No phone service', 'No', 'Yes']],\n",
       " ['InternetService', ['DSL', 'Fiber optic', 'No']],\n",
       " ['OnlineSecurity', ['No', 'Yes', 'No internet service']],\n",
       " ['OnlineBackup', ['Yes', 'No', 'No internet service']],\n",
       " ['DeviceProtection', ['No', 'Yes', 'No internet service']],\n",
       " ['TechSupport', ['No', 'Yes', 'No internet service']],\n",
       " ['StreamingTV', ['No', 'Yes', 'No internet service']],\n",
       " ['StreamingMovies', ['No', 'Yes', 'No internet service']],\n",
       " ['Contract', ['Month-to-month', 'One year', 'Two year']],\n",
       " ['PaymentMethod',\n",
       "  ['Electronic check',\n",
       "   'Mailed check',\n",
       "   'Bank transfer (automatic)',\n",
       "   'Credit card (automatic)']]]"
      ]
     },
     "execution_count": 11,
     "metadata": {},
     "output_type": "execute_result"
    }
   ],
   "source": [
    "[[i, list(df[i].unique())] for i in categorical_variables]"
   ]
  },
  {
   "cell_type": "markdown",
   "id": "c6e5e37b",
   "metadata": {},
   "source": [
    "As we can see above there is only one ordinal variable in the categorical variables which is 'Contract. However, we will divide the 'tenure' column into separate bins and considere it an oridinal variable."
   ]
  },
  {
   "cell_type": "code",
   "execution_count": 12,
   "id": "0976e95f",
   "metadata": {},
   "outputs": [],
   "source": [
    "# ordinal_variables = ['tenure', 'Contract']\n",
    "ordinal_variables = ['Contract', 'tenure']\n",
    "df['tenure'] = pd.cut(df['tenure'], bins=7) #Binning, 7 bins because the range of values is 0 to 70 approximately.\n",
    "\n",
    "# the only numeric variable that we have is 'TotalCharges', thus:\n",
    "numeric_variables = ['TotalCharges', 'MonthlyCharges']"
   ]
  },
  {
   "cell_type": "markdown",
   "id": "fe053ca7",
   "metadata": {},
   "source": [
    "now let's scale all kinds of variables we have"
   ]
  },
  {
   "cell_type": "code",
   "execution_count": 13,
   "id": "b44ff8de",
   "metadata": {
    "scrolled": true
   },
   "outputs": [
    {
     "name": "stdout",
     "output_type": "stream",
     "text": [
      "['MultipleLines', 'InternetService', 'OnlineSecurity', 'OnlineBackup', 'DeviceProtection', 'TechSupport', 'StreamingTV', 'StreamingMovies', 'Contract', 'PaymentMethod']\n",
      "['Contract', 'tenure']\n",
      "['TotalCharges', 'MonthlyCharges']\n"
     ]
    }
   ],
   "source": [
    "from sklearn.preprocessing import LabelBinarizer, LabelEncoder, OrdinalEncoder\n",
    "\n",
    "lb, le, od = LabelBinarizer(), LabelEncoder(), OrdinalEncoder() # Initialize encoding objects.\n",
    "# We can use LabelEncoder for ordinal data if they are alphabetically ordered. (The contract in our case)\n",
    "\n",
    "print(categorical_variables)\n",
    "print(ordinal_variables)\n",
    "print(numeric_variables)"
   ]
  },
  {
   "cell_type": "markdown",
   "id": "7a99df7d",
   "metadata": {},
   "source": [
    "Tranforming ordinal data first"
   ]
  },
  {
   "cell_type": "code",
   "execution_count": 14,
   "id": "59dfcd76",
   "metadata": {},
   "outputs": [],
   "source": [
    "for column in ordinal_variables:\n",
    "    df[column] = od.fit_transform(df[column].values.reshape(-1, 1))"
   ]
  },
  {
   "cell_type": "markdown",
   "id": "a836f919",
   "metadata": {},
   "source": [
    "Checking out the result"
   ]
  },
  {
   "cell_type": "code",
   "execution_count": 15,
   "id": "456a1405",
   "metadata": {
    "scrolled": true
   },
   "outputs": [
    {
     "name": "stdout",
     "output_type": "stream",
     "text": [
      "Contract\n",
      "[0. 1. 2.]\n",
      "tenure\n",
      "[0. 1. 2. 3. 4. 5. 6.]\n"
     ]
    }
   ],
   "source": [
    "for column in ordinal_variables:\n",
    "    print(column)\n",
    "    print(df[column].sort_values().unique())"
   ]
  },
  {
   "cell_type": "markdown",
   "id": "8dfb747c",
   "metadata": {},
   "source": [
    "Transforming the biary vairables:"
   ]
  },
  {
   "cell_type": "code",
   "execution_count": 16,
   "id": "98528f2e",
   "metadata": {
    "scrolled": true
   },
   "outputs": [
    {
     "name": "stdout",
     "output_type": "stream",
     "text": [
      "gender\n",
      "[0 1]\n",
      "SeniorCitizen\n",
      "[0 1]\n",
      "Partner\n",
      "[0 1]\n",
      "Dependents\n",
      "[0 1]\n",
      "PhoneService\n",
      "[0 1]\n",
      "PaperlessBilling\n",
      "[0 1]\n",
      "Churn\n",
      "[0 1]\n"
     ]
    }
   ],
   "source": [
    "for column in binary_variables:\n",
    "    df[column] = lb.fit_transform(df[column])\n",
    "for column in binary_variables:\n",
    "    print(column)\n",
    "    print(df[column].sort_values().unique())"
   ]
  },
  {
   "cell_type": "markdown",
   "id": "e9f11951",
   "metadata": {},
   "source": [
    "Creating nominal variables and transforming them:"
   ]
  },
  {
   "cell_type": "code",
   "execution_count": 17,
   "id": "4b191d77",
   "metadata": {},
   "outputs": [],
   "source": [
    "nominal_variables = list(set(categorical_variables) - set(ordinal_variables))\n",
    "df = pd.get_dummies(df, columns = nominal_variables, drop_first=True)"
   ]
  },
  {
   "cell_type": "code",
   "execution_count": 18,
   "id": "a66ea5f9",
   "metadata": {},
   "outputs": [
    {
     "data": {
      "text/plain": [
       "Index(['gender', 'SeniorCitizen', 'Partner', 'Dependents', 'tenure',\n",
       "       'PhoneService', 'Contract', 'PaperlessBilling', 'MonthlyCharges',\n",
       "       'TotalCharges', 'Churn', 'StreamingTV_No internet service',\n",
       "       'StreamingTV_Yes', 'OnlineSecurity_No internet service',\n",
       "       'OnlineSecurity_Yes', 'DeviceProtection_No internet service',\n",
       "       'DeviceProtection_Yes', 'TechSupport_No internet service',\n",
       "       'TechSupport_Yes', 'StreamingMovies_No internet service',\n",
       "       'StreamingMovies_Yes', 'MultipleLines_No phone service',\n",
       "       'MultipleLines_Yes', 'OnlineBackup_No internet service',\n",
       "       'OnlineBackup_Yes', 'PaymentMethod_Credit card (automatic)',\n",
       "       'PaymentMethod_Electronic check', 'PaymentMethod_Mailed check',\n",
       "       'InternetService_Fiber optic', 'InternetService_No'],\n",
       "      dtype='object')"
      ]
     },
     "execution_count": 18,
     "metadata": {},
     "output_type": "execute_result"
    }
   ],
   "source": [
    "df.columns"
   ]
  },
  {
   "cell_type": "markdown",
   "id": "6dd7967b",
   "metadata": {},
   "source": [
    "Congrats!, we have finished preprocessing the data, now we need to deal with the imbalanced target class\n",
    "\n",
    "### Modeling the imbalanced Target Feature"
   ]
  },
  {
   "cell_type": "code",
   "execution_count": 19,
   "id": "8817b303",
   "metadata": {},
   "outputs": [
    {
     "name": "stdout",
     "output_type": "stream",
     "text": [
      "The target feature is \"Churn\" where No means the customer did not churned and Ues means the customer churn.\n",
      "\n",
      "the ratios of classes are as follows\n",
      "0    0.73463\n",
      "1    0.26537\n",
      "Name: Churn, dtype: float64\n"
     ]
    }
   ],
   "source": [
    "print('The target feature is \"Churn\" where No means the customer did not churned and Ues means the customer churn.')\n",
    "print('')\n",
    "print('the ratios of classes are as follows')\n",
    "print(df['Churn'].value_counts(normalize = True))"
   ]
  },
  {
   "cell_type": "code",
   "execution_count": 20,
   "id": "f2740a9c",
   "metadata": {
    "scrolled": false
   },
   "outputs": [
    {
     "data": {
      "image/png": "[encoded data removed]",
      "text/plain": [
       "<Figure size 1152x576 with 1 Axes>"
      ]
     },
     "metadata": {
      "needs_background": "light"
     },
     "output_type": "display_data"
    }
   ],
   "source": [
    "# Plotting the ratio between classes\n",
    "from matplotlib.pyplot import figure\n",
    "\n",
    "fig, ax = plt.subplots(figsize=(16, 8))\n",
    "df['Churn'].value_counts().plot.bar(color= ['blue','red'])\n",
    "ax.set_ylabel('Frequency',fontsize=16)\n",
    "ax.set_xlabel('churn status',fontsize=16)\n",
    "ax.set_title('Target Feature Class Distribution',fontsize=16)\n",
    "ax.locator_params('y', nbins=20)\n",
    "plt.show()"
   ]
  },
  {
   "cell_type": "markdown",
   "id": "64e7987a",
   "metadata": {},
   "source": [
    "#### As we can observe from the above graph, the target attribute is skewed to those who did not churn by a ratio of 1:2.5, which will make the model weak in predicting customers who churned, the problem here is that our focus is the customers that are churning because they're the problem that needs to be solved, therefor we need to model the imbalanced data using techniques such as downsampling, reqeighting and resampling to see which one performs better with LGBM model. \n",
    "\n",
    "#### we will split the data first before applying the techniques for modeling imbalanced data"
   ]
  },
  {
   "cell_type": "code",
   "execution_count": 21,
   "id": "2b577593",
   "metadata": {},
   "outputs": [
    {
     "data": {
      "text/plain": [
       "['gender',\n",
       " 'SeniorCitizen',\n",
       " 'Partner',\n",
       " 'Dependents',\n",
       " 'tenure',\n",
       " 'PhoneService',\n",
       " 'Contract',\n",
       " 'PaperlessBilling',\n",
       " 'MonthlyCharges',\n",
       " 'TotalCharges',\n",
       " 'StreamingTV_No internet service',\n",
       " 'StreamingTV_Yes',\n",
       " 'OnlineSecurity_No internet service',\n",
       " 'OnlineSecurity_Yes',\n",
       " 'DeviceProtection_No internet service',\n",
       " 'DeviceProtection_Yes',\n",
       " 'TechSupport_No internet service',\n",
       " 'TechSupport_Yes',\n",
       " 'StreamingMovies_No internet service',\n",
       " 'StreamingMovies_Yes',\n",
       " 'MultipleLines_No phone service',\n",
       " 'MultipleLines_Yes',\n",
       " 'OnlineBackup_No internet service',\n",
       " 'OnlineBackup_Yes',\n",
       " 'PaymentMethod_Credit card (automatic)',\n",
       " 'PaymentMethod_Electronic check',\n",
       " 'PaymentMethod_Mailed check',\n",
       " 'InternetService_Fiber optic',\n",
       " 'InternetService_No']"
      ]
     },
     "execution_count": 21,
     "metadata": {},
     "output_type": "execute_result"
    }
   ],
   "source": [
    "# Identifying the feature columns\n",
    "feature_cols = df.drop('Churn',axis = 1).columns.tolist()\n",
    "feature_cols"
   ]
  },
  {
   "cell_type": "code",
   "execution_count": 22,
   "id": "be953b4c",
   "metadata": {},
   "outputs": [],
   "source": [
    "# Get the split indexes\n",
    "strat_shuf_split = StratifiedShuffleSplit(n_splits=1, \n",
    "                                          test_size=0.25, # 25% to test the model peforamnce\n",
    "                                          random_state=rs)\n",
    "\n",
    "# We use 'next' to get the arrays from the generator object.\n",
    "train_idx, test_idx = next(strat_shuf_split.split(df[feature_cols], df['Churn']))"
   ]
  },
  {
   "cell_type": "code",
   "execution_count": 23,
   "id": "5df5db31",
   "metadata": {},
   "outputs": [],
   "source": [
    "# Create the train and test sets\n",
    "X_train = df.loc[train_idx, feature_cols] # loc[index,column]\n",
    "y_train = df.loc[train_idx, 'Churn']\n",
    "\n",
    "X_test  = df.loc[test_idx, feature_cols]\n",
    "y_test  = df.loc[test_idx, 'Churn']"
   ]
  },
  {
   "cell_type": "code",
   "execution_count": 24,
   "id": "869db759",
   "metadata": {},
   "outputs": [
    {
     "data": {
      "image/png": "[encoded data removed]",
      "text/plain": [
       "<Figure size 1152x576 with 1 Axes>"
      ]
     },
     "metadata": {
      "needs_background": "light"
     },
     "output_type": "display_data"
    }
   ],
   "source": [
    "# Plotting y_train distribution\n",
    "fig, ax = plt.subplots(figsize=(16, 8))\n",
    "y_train.value_counts().plot.bar(color= ['blue','red'])\n",
    "ax.set_xlabel('Churn Status',fontsize=16)\n",
    "ax.set_ylabel('Frequency',fontsize=16)\n",
    "ax.set_title('Target Feature Class Distribution',fontsize=16)\n",
    "ax.locator_params('y', nbins=20)\n",
    "plt.show()"
   ]
  },
  {
   "cell_type": "code",
   "execution_count": 25,
   "id": "e120086a",
   "metadata": {},
   "outputs": [
    {
     "data": {
      "image/png": "[encoded data removed]",
      "text/plain": [
       "<Figure size 1152x576 with 1 Axes>"
      ]
     },
     "metadata": {
      "needs_background": "light"
     },
     "output_type": "display_data"
    }
   ],
   "source": [
    "# Plotting y_test distribution\n",
    "fig, ax = plt.subplots(figsize=(16, 8))\n",
    "y_test.value_counts().plot.bar(color= ['blue','red'])\n",
    "ax.set_xlabel('Churn Status',fontsize=16)\n",
    "ax.set_ylabel('Frequency',fontsize=16)\n",
    "ax.set_title('y_test Distribution',fontsize=16)\n",
    "ax.locator_params('y', nbins=20)\n",
    "plt.show()"
   ]
  },
  {
   "cell_type": "markdown",
   "id": "64643cb6",
   "metadata": {},
   "source": [
    "#### We will use Logistic Regression to see which modeling technique performs better.\n",
    "\n",
    "### a. Reweighting Teachnique\n"
   ]
  },
  {
   "cell_type": "code",
   "execution_count": 26,
   "id": "44d78ff1",
   "metadata": {},
   "outputs": [],
   "source": [
    "# Initially, let's scale the numeric and ordinal attributes using min-max scaler. \n",
    "# There are two numeric columns that needs to be scaled: 'TotalCharges' and 'tenure'.\n",
    "from sklearn.preprocessing import MinMaxScaler\n",
    "mm = MinMaxScaler()\n",
    "remaining_variables = ordinal_variables + numeric_variables\n",
    "# creating a copy of the dataset to scale it\n",
    "X_train_s = X_train\n",
    "X_test_s = X_test\n",
    "X_train_s[remaining_variables] = mm.fit_transform(X_train[remaining_variables])\n",
    "X_test_s[remaining_variables] = mm.transform(X_test[remaining_variables])\n",
    "\n",
    "\n"
   ]
  },
  {
   "cell_type": "code",
   "execution_count": 27,
   "id": "94e2c1b8",
   "metadata": {
    "scrolled": true
   },
   "outputs": [
    {
     "name": "stdout",
     "output_type": "stream",
     "text": [
      "number of values in each class\n",
      "0    3880\n",
      "1    1402\n",
      "Name: Churn, dtype: int64\n",
      "Proportion of each class\n",
      "0    0.73457\n",
      "1    0.26543\n",
      "Name: Churn, dtype: float64\n"
     ]
    }
   ],
   "source": [
    "print('number of values in each class')\n",
    "print(y_train.value_counts())\n",
    "print('Proportion of each class')\n",
    "print(y_train.value_counts()/len(y_train.index))"
   ]
  },
  {
   "cell_type": "code",
   "execution_count": 28,
   "id": "05eb1f87",
   "metadata": {},
   "outputs": [],
   "source": [
    "class_weight = {}\n",
    "# we will distribute the weight of each class according to it's proportion of the total number of values.\n",
    "class_weight[0] = 0.26543\n",
    "class_weight[1] = 0.73457\n",
    "# notice the the proportion of the bigger class was given as the weight for the smaller class and vice versa"
   ]
  },
  {
   "cell_type": "code",
   "execution_count": 29,
   "id": "665f7f5e",
   "metadata": {},
   "outputs": [],
   "source": [
    "# Define a logistic regression with weight\n",
    "model = LogisticRegression(solver='saga', random_state=rs, class_weight=class_weight)\n",
    "model.fit(X_train_s, y_train)\n",
    "preds =  model.predict(X_test_s)"
   ]
  },
  {
   "cell_type": "code",
   "execution_count": 30,
   "id": "79a54a2d",
   "metadata": {},
   "outputs": [
    {
     "data": {
      "text/plain": [
       "{'accuracy': 0.750709823963657,\n",
       " 'precision': array([0.90368272, 0.51994302]),\n",
       " 'Weighted precision': 0.8019186992656869,\n",
       " 'recall': array([0.73956723, 0.78158458]),\n",
       " 'Weighted recall': 0.750709823963657,\n",
       " 'f1score': array([0.81342966, 0.62446536]),\n",
       " 'Weighted f1score': 0.7633181750921969}"
      ]
     },
     "execution_count": 30,
     "metadata": {},
     "output_type": "execute_result"
    }
   ],
   "source": [
    "# Results\n",
    "\n",
    "reweighted = evaluate_metrics(y_test,preds)\n",
    "reweighted"
   ]
  },
  {
   "cell_type": "code",
   "execution_count": 31,
   "id": "f77a5fd6",
   "metadata": {},
   "outputs": [
    {
     "data": {
      "text/plain": [
       "[0.750709823963657, 0.8019186992656869, 0.750709823963657, 0.7633181750921969]"
      ]
     },
     "execution_count": 31,
     "metadata": {},
     "output_type": "execute_result"
    }
   ],
   "source": [
    "# Storing evaluation metrics (average values)keys = ['accuracy','Weighted precision','Weighted recall','Weighted f1score']\n",
    "reweighted_results = list()\n",
    "keys = ['accuracy','Weighted precision','Weighted recall','Weighted f1score']\n",
    "for key in keys:\n",
    "       reweighted_results.append(reweighted.get(key))\n",
    "reweighted_results    "
   ]
  },
  {
   "cell_type": "code",
   "execution_count": 32,
   "id": "1973e2d0",
   "metadata": {},
   "outputs": [
    {
     "data": {
      "text/plain": [
       "[array([0.90368272, 0.51994302]),\n",
       " array([0.73956723, 0.78158458]),\n",
       " array([0.81342966, 0.62446536])]"
      ]
     },
     "execution_count": 32,
     "metadata": {},
     "output_type": "execute_result"
    }
   ],
   "source": [
    "# storing evaluation metrics (per class)\n",
    "reweighted_rpf = []\n",
    "elements = ['precision','recall','f1score']\n",
    "for element in elements:\n",
    "       reweighted_rpf.append(reweighted.get(element))\n",
    "reweighted_rpf     "
   ]
  },
  {
   "cell_type": "markdown",
   "id": "64c73d70",
   "metadata": {},
   "source": [
    "### b. Undersampling Technique"
   ]
  },
  {
   "cell_type": "code",
   "execution_count": 35,
   "id": "9b4acc08",
   "metadata": {},
   "outputs": [],
   "source": [
    "under_sampler = RandomUnderSampler(random_state=rs) #initiating undersampling object\n",
    "X_under, y_under = under_sampler.fit_resample(X_train_s, y_train)"
   ]
  },
  {
   "cell_type": "code",
   "execution_count": 36,
   "id": "1dab7f37",
   "metadata": {},
   "outputs": [
    {
     "name": "stdout",
     "output_type": "stream",
     "text": [
      "y_train after undersampling\n"
     ]
    },
    {
     "data": {
      "text/plain": [
       "0    1402\n",
       "1    1402\n",
       "Name: Churn, dtype: int64"
      ]
     },
     "execution_count": 36,
     "metadata": {},
     "output_type": "execute_result"
    }
   ],
   "source": [
    "print('y_train after undersampling')\n",
    "y_under.value_counts() "
   ]
  },
  {
   "cell_type": "code",
   "execution_count": 37,
   "id": "c7494403",
   "metadata": {},
   "outputs": [],
   "source": [
    "model = LogisticRegression(solver='saga', random_state=rs)\n",
    "model.fit(X_under, y_under)\n",
    "preds = model.predict(X_test_s)"
   ]
  },
  {
   "cell_type": "code",
   "execution_count": 38,
   "id": "7e8feda4",
   "metadata": {},
   "outputs": [
    {
     "data": {
      "text/plain": [
       "{'accuracy': 0.7501419647927314,\n",
       " 'precision': array([0.89757914, 0.51965066]),\n",
       " 'Weighted precision': 0.7973561995688929,\n",
       " 'recall': array([0.74497682, 0.76445396]),\n",
       " 'Weighted recall': 0.7501419647927314,\n",
       " 'f1score': array([0.81418919, 0.6187175 ]),\n",
       " 'Weighted f1score': 0.7623520075719521}"
      ]
     },
     "execution_count": 38,
     "metadata": {},
     "output_type": "execute_result"
    }
   ],
   "source": [
    "undersampling = evaluate_metrics(y_test,preds)\n",
    "undersampling"
   ]
  },
  {
   "cell_type": "code",
   "execution_count": 39,
   "id": "dbd2910b",
   "metadata": {},
   "outputs": [
    {
     "data": {
      "text/plain": [
       "[0.7501419647927314,\n",
       " 0.7973561995688929,\n",
       " 0.7501419647927314,\n",
       " 0.7623520075719521]"
      ]
     },
     "execution_count": 39,
     "metadata": {},
     "output_type": "execute_result"
    }
   ],
   "source": [
    "# Storing evaluation metrics (average values)\n",
    "undersampling_results = list()\n",
    "for key in keys:\n",
    "       undersampling_results.append(undersampling.get(key))\n",
    "undersampling_results"
   ]
  },
  {
   "cell_type": "code",
   "execution_count": 40,
   "id": "90839f75",
   "metadata": {},
   "outputs": [
    {
     "data": {
      "text/plain": [
       "[array([0.89757914, 0.51965066]),\n",
       " array([0.74497682, 0.76445396]),\n",
       " array([0.81418919, 0.6187175 ])]"
      ]
     },
     "execution_count": 40,
     "metadata": {},
     "output_type": "execute_result"
    }
   ],
   "source": [
    "# storing evaluation metrics (per class)\n",
    "undersampling_rpf = []\n",
    "for element in elements:\n",
    "       undersampling_rpf.append(undersampling.get(element))\n",
    "undersampling_rpf    "
   ]
  },
  {
   "cell_type": "markdown",
   "id": "eb4a69ea",
   "metadata": {},
   "source": [
    "### c. Resampling Technique"
   ]
  },
  {
   "cell_type": "code",
   "execution_count": 41,
   "id": "a1e4fec7",
   "metadata": {},
   "outputs": [],
   "source": [
    "smote_sampler = SMOTE(random_state = rs) #Initiating SMOTE sampler\n",
    "X_smo, y_smo = smote_sampler.fit_resample(X_train_s, y_train)"
   ]
  },
  {
   "cell_type": "code",
   "execution_count": 42,
   "id": "c9486e75",
   "metadata": {},
   "outputs": [
    {
     "data": {
      "text/plain": [
       "0    3880\n",
       "1    3880\n",
       "Name: Churn, dtype: int64"
      ]
     },
     "execution_count": 42,
     "metadata": {},
     "output_type": "execute_result"
    }
   ],
   "source": [
    "y_smo.value_counts()"
   ]
  },
  {
   "cell_type": "code",
   "execution_count": 43,
   "id": "6b03c6d0",
   "metadata": {},
   "outputs": [],
   "source": [
    "model = LogisticRegression(solver='saga', random_state=rs)"
   ]
  },
  {
   "cell_type": "code",
   "execution_count": 44,
   "id": "264f3fba",
   "metadata": {},
   "outputs": [],
   "source": [
    "model.fit(X_smo, y_smo)\n",
    "preds = model.predict(X_test_s)"
   ]
  },
  {
   "cell_type": "code",
   "execution_count": 45,
   "id": "43bdcc02",
   "metadata": {},
   "outputs": [
    {
     "data": {
      "text/plain": [
       "{'accuracy': 0.7501419647927314,\n",
       " 'precision': array([0.88677536, 0.52054795]),\n",
       " 'Weighted precision': 0.7896554283086534,\n",
       " 'recall': array([0.75656878, 0.73233405]),\n",
       " 'Weighted recall': 0.7501419647927314,\n",
       " 'f1score': array([0.81651376, 0.60854093]),\n",
       " 'Weighted f1score': 0.7613613966150448}"
      ]
     },
     "execution_count": 45,
     "metadata": {},
     "output_type": "execute_result"
    }
   ],
   "source": [
    "resampling = evaluate_metrics(y_test, preds)\n",
    "resampling"
   ]
  },
  {
   "cell_type": "code",
   "execution_count": 46,
   "id": "47a886da",
   "metadata": {},
   "outputs": [
    {
     "data": {
      "text/plain": [
       "[0.7501419647927314,\n",
       " 0.7896554283086534,\n",
       " 0.7501419647927314,\n",
       " 0.7613613966150448]"
      ]
     },
     "execution_count": 46,
     "metadata": {},
     "output_type": "execute_result"
    }
   ],
   "source": [
    "# Storing evaluation metrics (average values)\n",
    "resampling_results = list()\n",
    "for key in keys:\n",
    "       resampling_results.append(resampling.get(key))\n",
    "resampling_results"
   ]
  },
  {
   "cell_type": "code",
   "execution_count": 47,
   "id": "c77f9eb6",
   "metadata": {},
   "outputs": [
    {
     "data": {
      "text/plain": [
       "[array([0.88677536, 0.52054795]),\n",
       " array([0.75656878, 0.73233405]),\n",
       " array([0.81651376, 0.60854093])]"
      ]
     },
     "execution_count": 47,
     "metadata": {},
     "output_type": "execute_result"
    }
   ],
   "source": [
    "# storing evaluation metrics (per class)\n",
    "resampling_rpf = []\n",
    "for element in elements:\n",
    "       resampling_rpf.append(resampling.get(element))\n",
    "resampling_rpf   "
   ]
  },
  {
   "cell_type": "markdown",
   "id": "5332da6c",
   "metadata": {},
   "source": [
    "### d. None modeled data"
   ]
  },
  {
   "cell_type": "code",
   "execution_count": 48,
   "id": "6a1651a2",
   "metadata": {},
   "outputs": [
    {
     "data": {
      "text/plain": [
       "{'accuracy': 0.7927314026121521,\n",
       " 'precision': array([0.83249821, 0.64010989]),\n",
       " 'Weighted precision': 0.7814787069874328,\n",
       " 'recall': array([0.89876352, 0.49892934]),\n",
       " 'Weighted recall': 0.7927314026121521,\n",
       " 'f1score': array([0.86436269, 0.56077016]),\n",
       " 'Weighted f1score': 0.7838529156720054}"
      ]
     },
     "execution_count": 48,
     "metadata": {},
     "output_type": "execute_result"
    }
   ],
   "source": [
    "model = LogisticRegression(solver='saga', random_state=rs)\n",
    "model.fit(X_train_s, y_train)\n",
    "preds = model.predict(X_test_s)\n",
    "no_model = evaluate_metrics(y_test, preds)\n",
    "no_model"
   ]
  },
  {
   "cell_type": "code",
   "execution_count": 49,
   "id": "82ac0b5f",
   "metadata": {},
   "outputs": [
    {
     "data": {
      "text/plain": [
       "[0.7927314026121521,\n",
       " 0.7814787069874328,\n",
       " 0.7927314026121521,\n",
       " 0.7838529156720054]"
      ]
     },
     "execution_count": 49,
     "metadata": {},
     "output_type": "execute_result"
    }
   ],
   "source": [
    "# Storing evaluation metrics (average values)\n",
    "no_model_results = list()\n",
    "for key in keys:\n",
    "       no_model_results.append(no_model.get(key))\n",
    "no_model_results"
   ]
  },
  {
   "cell_type": "code",
   "execution_count": 50,
   "id": "01c0d8ad",
   "metadata": {},
   "outputs": [
    {
     "data": {
      "text/plain": [
       "[array([0.83249821, 0.64010989]),\n",
       " array([0.89876352, 0.49892934]),\n",
       " array([0.86436269, 0.56077016])]"
      ]
     },
     "execution_count": 50,
     "metadata": {},
     "output_type": "execute_result"
    }
   ],
   "source": [
    "# storing evaluation metrics (per class)\n",
    "no_model_rpf = []\n",
    "for element in elements:\n",
    "       no_model_rpf.append(no_model.get(element))\n",
    "no_model_rpf   "
   ]
  },
  {
   "cell_type": "code",
   "execution_count": 51,
   "id": "9ca6def2",
   "metadata": {},
   "outputs": [
    {
     "data": {
      "text/html": [
       "<div>\n",
       "<style scoped>\n",
       "    .dataframe tbody tr th:only-of-type {\n",
       "        vertical-align: middle;\n",
       "    }\n",
       "\n",
       "    .dataframe tbody tr th {\n",
       "        vertical-align: top;\n",
       "    }\n",
       "\n",
       "    .dataframe thead th {\n",
       "        text-align: right;\n",
       "    }\n",
       "</style>\n",
       "<table border=\"1\" class=\"dataframe\">\n",
       "  <thead>\n",
       "    <tr style=\"text-align: right;\">\n",
       "      <th></th>\n",
       "      <th>Reweighted</th>\n",
       "      <th>Undersampled</th>\n",
       "      <th>Oversampled</th>\n",
       "      <th>no_model</th>\n",
       "    </tr>\n",
       "    <tr>\n",
       "      <th>Metric</th>\n",
       "      <th></th>\n",
       "      <th></th>\n",
       "      <th></th>\n",
       "      <th></th>\n",
       "    </tr>\n",
       "  </thead>\n",
       "  <tbody>\n",
       "    <tr>\n",
       "      <th>Accuracy</th>\n",
       "      <td>0.750710</td>\n",
       "      <td>0.750142</td>\n",
       "      <td>0.750142</td>\n",
       "      <td>0.792731</td>\n",
       "    </tr>\n",
       "    <tr>\n",
       "      <th>Weighted Recall</th>\n",
       "      <td>0.801919</td>\n",
       "      <td>0.797356</td>\n",
       "      <td>0.789655</td>\n",
       "      <td>0.781479</td>\n",
       "    </tr>\n",
       "    <tr>\n",
       "      <th>Weighted Precision</th>\n",
       "      <td>0.750710</td>\n",
       "      <td>0.750142</td>\n",
       "      <td>0.750142</td>\n",
       "      <td>0.792731</td>\n",
       "    </tr>\n",
       "    <tr>\n",
       "      <th>Weighted F1score</th>\n",
       "      <td>0.763318</td>\n",
       "      <td>0.762352</td>\n",
       "      <td>0.761361</td>\n",
       "      <td>0.783853</td>\n",
       "    </tr>\n",
       "  </tbody>\n",
       "</table>\n",
       "</div>"
      ],
      "text/plain": [
       "                    Reweighted  Undersampled  Oversampled  no_model\n",
       "Metric                                                             \n",
       "Accuracy              0.750710      0.750142     0.750142  0.792731\n",
       " Weighted Recall      0.801919      0.797356     0.789655  0.781479\n",
       "Weighted Precision    0.750710      0.750142     0.750142  0.792731\n",
       "Weighted F1score      0.763318      0.762352     0.761361  0.783853"
      ]
     },
     "metadata": {},
     "output_type": "display_data"
    }
   ],
   "source": [
    "final_results= {\n",
    "    'Metric': ['Accuracy',' Weighted Recall','Weighted Precision','Weighted F1score'],\n",
    "    'Reweighted' :reweighted_results,\n",
    "    'Undersampled':undersampling_results,\n",
    "    'Oversampled':resampling_results,\n",
    "    'no_model':no_model_results}\n",
    "final_results = pd.DataFrame(final_results).set_index('Metric')\n",
    "display(final_results)"
   ]
  },
  {
   "cell_type": "markdown",
   "id": "447699a7",
   "metadata": {},
   "source": [
    "Here is the best imbalanced data model for each performance metrics:\n",
    "* <b>Accuracy</b>: Reweighted - 0.758092\n",
    "* <b>Weighted Recall</b>: Reweighted - 0.805912\n",
    "* <b>Weighted Precision</b>: Reweighted - 0.758092\n",
    "* <b>Weighted F1score</b>: Resampled - 0.770028\n",
    "\n",
    "Identifying customers that are going to churn is more important than identifying customers that are going to stay with the company, since missing customers that are going to churn will damage the company, because losing customers simply means less profits. Therefore, we should pay attention to score high recall (True Positive Rate or TPR) even if that means lowers precision (), because high recall means reducing the number of customers that we don’t predict to churn while they’re actually going to churn, and high precision means reducing the number of customers that we don’t predict to stay at the company while they’re actually going to stay, the problem with scoring high precision is that it doesn’t guarantee that we’re going score high prediction for those who are going to churn, it just means that out of the people we predicted to churn, most of them are actually going to churn, but this is not enough, because what if there are people we didn’t predict that they’re going to churn in the first place and they’re actually going to churn, that’s why recall suited for our problem.  \n",
    "\n",
    "As we can see in the above table, the weighted model scored the highest value for recall, and it scored decent values in F1-score and precision, this is why we will model the data using weighting. Moreover, we can see that the data without in kind of trnasformation scored high result in the weighted recall, this is because the model was good at predicting 0s, which they refer to the people that didn't churn and they're the majority. However, the class in which we are intrerested in which is 1s, it represents the peole that churns and they're the minority, this is why without any model trnasformation, it scores very low results in recall since that model wasn't trained well on this class compared to the 0s class as we can see in the table bellow."
   ]
  },
  {
   "cell_type": "code",
   "execution_count": 52,
   "id": "0d5694f5",
   "metadata": {},
   "outputs": [
    {
     "data": {
      "text/html": [
       "<div>\n",
       "<style scoped>\n",
       "    .dataframe tbody tr th:only-of-type {\n",
       "        vertical-align: middle;\n",
       "    }\n",
       "\n",
       "    .dataframe tbody tr th {\n",
       "        vertical-align: top;\n",
       "    }\n",
       "\n",
       "    .dataframe thead th {\n",
       "        text-align: right;\n",
       "    }\n",
       "</style>\n",
       "<table border=\"1\" class=\"dataframe\">\n",
       "  <thead>\n",
       "    <tr style=\"text-align: right;\">\n",
       "      <th>classes</th>\n",
       "      <th>0</th>\n",
       "      <th>1</th>\n",
       "    </tr>\n",
       "  </thead>\n",
       "  <tbody>\n",
       "    <tr>\n",
       "      <th>Rewieghted Precision</th>\n",
       "      <td>0.903683</td>\n",
       "      <td>0.519943</td>\n",
       "    </tr>\n",
       "    <tr>\n",
       "      <th>Rewieghted recall</th>\n",
       "      <td>0.739567</td>\n",
       "      <td>0.781585</td>\n",
       "    </tr>\n",
       "    <tr>\n",
       "      <th>Rewieghted F1score</th>\n",
       "      <td>0.813430</td>\n",
       "      <td>0.624465</td>\n",
       "    </tr>\n",
       "    <tr>\n",
       "      <th>Undersampled precision</th>\n",
       "      <td>0.897579</td>\n",
       "      <td>0.519651</td>\n",
       "    </tr>\n",
       "    <tr>\n",
       "      <th>Undersampled recall</th>\n",
       "      <td>0.744977</td>\n",
       "      <td>0.764454</td>\n",
       "    </tr>\n",
       "    <tr>\n",
       "      <th>Undersampled F1 score</th>\n",
       "      <td>0.814189</td>\n",
       "      <td>0.618718</td>\n",
       "    </tr>\n",
       "    <tr>\n",
       "      <th>Resampled precision</th>\n",
       "      <td>0.886775</td>\n",
       "      <td>0.520548</td>\n",
       "    </tr>\n",
       "    <tr>\n",
       "      <th>Resampled recall</th>\n",
       "      <td>0.756569</td>\n",
       "      <td>0.732334</td>\n",
       "    </tr>\n",
       "    <tr>\n",
       "      <th>Resampled F1 score</th>\n",
       "      <td>0.816514</td>\n",
       "      <td>0.608541</td>\n",
       "    </tr>\n",
       "    <tr>\n",
       "      <th>no model precision</th>\n",
       "      <td>0.832498</td>\n",
       "      <td>0.640110</td>\n",
       "    </tr>\n",
       "    <tr>\n",
       "      <th>no model recall</th>\n",
       "      <td>0.898764</td>\n",
       "      <td>0.498929</td>\n",
       "    </tr>\n",
       "    <tr>\n",
       "      <th>no model F1 score</th>\n",
       "      <td>0.864363</td>\n",
       "      <td>0.560770</td>\n",
       "    </tr>\n",
       "  </tbody>\n",
       "</table>\n",
       "</div>"
      ],
      "text/plain": [
       "classes                        0         1\n",
       "Rewieghted Precision    0.903683  0.519943\n",
       "Rewieghted recall       0.739567  0.781585\n",
       "Rewieghted F1score      0.813430  0.624465\n",
       "Undersampled precision  0.897579  0.519651\n",
       "Undersampled recall     0.744977  0.764454\n",
       "Undersampled F1 score   0.814189  0.618718\n",
       "Resampled precision     0.886775  0.520548\n",
       "Resampled recall        0.756569  0.732334\n",
       "Resampled F1 score      0.816514  0.608541\n",
       "no model precision      0.832498  0.640110\n",
       "no model recall         0.898764  0.498929\n",
       "no model F1 score       0.864363  0.560770"
      ]
     },
     "execution_count": 52,
     "metadata": {},
     "output_type": "execute_result"
    }
   ],
   "source": [
    "final_results_per_class = {\n",
    "    'classes': [0,1],\n",
    "    'Rewieghted Precision' :reweighted_rpf[0],\n",
    "    'Rewieghted recall' :reweighted_rpf[1],\n",
    "    'Rewieghted F1score' :reweighted_rpf[2],\n",
    "    'Undersampled precision':undersampling_rpf[0],\n",
    "    'Undersampled recall':undersampling_rpf[1],\n",
    "    'Undersampled F1 score':undersampling_rpf[2],\n",
    "    'Resampled precision':resampling_rpf[0],\n",
    "    'Resampled recall':resampling_rpf[1],\n",
    "    'Resampled F1 score':resampling_rpf[2],\n",
    "    'no model precision':no_model_rpf[0],\n",
    "    'no model recall':no_model_rpf[1],\n",
    "    'no model F1 score':no_model_rpf[2]}\n",
    "final_results_per_class = pd.DataFrame(final_results_per_class).set_index('classes')\n",
    "final_results_per_class.T"
   ]
  },
  {
   "cell_type": "markdown",
   "id": "17d816f4",
   "metadata": {},
   "source": [
    "<b>Based on the performance for each technique per class and for the weighted performance, we can conclude that reweighting technique the best one to choose.</b>"
   ]
  },
  {
   "cell_type": "markdown",
   "id": "2db661bd",
   "metadata": {},
   "source": [
    "## Machine learning\n",
    "\n",
    "We will start by training multiple classification machine learning models and finally we will train LGBM model and compare it's performance to the rest of the models\n",
    "\n",
    "### a. Logistic Regression"
   ]
  },
  {
   "cell_type": "code",
   "execution_count": 51,
   "id": "6e9bd76e",
   "metadata": {},
   "outputs": [
    {
     "data": {
      "text/html": [
       "<style>#sk-container-id-1 {color: black;background-color: white;}#sk-container-id-1 pre{padding: 0;}#sk-container-id-1 div.sk-toggleable {background-color: white;}#sk-container-id-1 label.sk-toggleable__label {cursor: pointer;display: block;width: 100%;margin-bottom: 0;padding: 0.3em;box-sizing: border-box;text-align: center;}#sk-container-id-1 label.sk-toggleable__label-arrow:before {content: \"▸\";float: left;margin-right: 0.25em;color: #696969;}#sk-container-id-1 label.sk-toggleable__label-arrow:hover:before {color: black;}#sk-container-id-1 div.sk-estimator:hover label.sk-toggleable__label-arrow:before {color: black;}#sk-container-id-1 div.sk-toggleable__content {max-height: 0;max-width: 0;overflow: hidden;text-align: left;background-color: #f0f8ff;}#sk-container-id-1 div.sk-toggleable__content pre {margin: 0.2em;color: black;border-radius: 0.25em;background-color: #f0f8ff;}#sk-container-id-1 input.sk-toggleable__control:checked~div.sk-toggleable__content {max-height: 200px;max-width: 100%;overflow: auto;}#sk-container-id-1 input.sk-toggleable__control:checked~label.sk-toggleable__label-arrow:before {content: \"▾\";}#sk-container-id-1 div.sk-estimator input.sk-toggleable__control:checked~label.sk-toggleable__label {background-color: #d4ebff;}#sk-container-id-1 div.sk-label input.sk-toggleable__control:checked~label.sk-toggleable__label {background-color: #d4ebff;}#sk-container-id-1 input.sk-hidden--visually {border: 0;clip: rect(1px 1px 1px 1px);clip: rect(1px, 1px, 1px, 1px);height: 1px;margin: -1px;overflow: hidden;padding: 0;position: absolute;width: 1px;}#sk-container-id-1 div.sk-estimator {font-family: monospace;background-color: #f0f8ff;border: 1px dotted black;border-radius: 0.25em;box-sizing: border-box;margin-bottom: 0.5em;}#sk-container-id-1 div.sk-estimator:hover {background-color: #d4ebff;}#sk-container-id-1 div.sk-parallel-item::after {content: \"\";width: 100%;border-bottom: 1px solid gray;flex-grow: 1;}#sk-container-id-1 div.sk-label:hover label.sk-toggleable__label {background-color: #d4ebff;}#sk-container-id-1 div.sk-serial::before {content: \"\";position: absolute;border-left: 1px solid gray;box-sizing: border-box;top: 0;bottom: 0;left: 50%;z-index: 0;}#sk-container-id-1 div.sk-serial {display: flex;flex-direction: column;align-items: center;background-color: white;padding-right: 0.2em;padding-left: 0.2em;position: relative;}#sk-container-id-1 div.sk-item {position: relative;z-index: 1;}#sk-container-id-1 div.sk-parallel {display: flex;align-items: stretch;justify-content: center;background-color: white;position: relative;}#sk-container-id-1 div.sk-item::before, #sk-container-id-1 div.sk-parallel-item::before {content: \"\";position: absolute;border-left: 1px solid gray;box-sizing: border-box;top: 0;bottom: 0;left: 50%;z-index: -1;}#sk-container-id-1 div.sk-parallel-item {display: flex;flex-direction: column;z-index: 1;position: relative;background-color: white;}#sk-container-id-1 div.sk-parallel-item:first-child::after {align-self: flex-end;width: 50%;}#sk-container-id-1 div.sk-parallel-item:last-child::after {align-self: flex-start;width: 50%;}#sk-container-id-1 div.sk-parallel-item:only-child::after {width: 0;}#sk-container-id-1 div.sk-dashed-wrapped {border: 1px dashed gray;margin: 0 0.4em 0.5em 0.4em;box-sizing: border-box;padding-bottom: 0.4em;background-color: white;}#sk-container-id-1 div.sk-label label {font-family: monospace;font-weight: bold;display: inline-block;line-height: 1.2em;}#sk-container-id-1 div.sk-label-container {text-align: center;}#sk-container-id-1 div.sk-container {/* jupyter's `normalize.less` sets `[hidden] { display: none; }` but bootstrap.min.css set `[hidden] { display: none !important; }` so we also need the `!important` here to be able to override the default hidden behavior on the sphinx rendered scikit-learn.org. See: https://github.com/scikit-learn/scikit-learn/issues/21755 */display: inline-block !important;position: relative;}#sk-container-id-1 div.sk-text-repr-fallback {display: none;}</style><div id=\"sk-container-id-1\" class=\"sk-top-container\"><div class=\"sk-text-repr-fallback\"><pre>GridSearchCV(cv=StratifiedKFold(n_splits=4, random_state=123, shuffle=True),\n",
       "             estimator=LogisticRegression(class_weight={0: 0.26543, 1: 0.73457},\n",
       "                                          random_state=123, solver=&#x27;saga&#x27;),\n",
       "             n_jobs=-1,\n",
       "             param_grid={&#x27;C&#x27;: [0.01, 0.1, 0.5, 1, 10], &#x27;penalty&#x27;: [&#x27;l1&#x27;, &#x27;l2&#x27;]},\n",
       "             scoring=&#x27;accuracy&#x27;)</pre><b>In a Jupyter environment, please rerun this cell to show the HTML representation or trust the notebook. <br />On GitHub, the HTML representation is unable to render, please try loading this page with nbviewer.org.</b></div><div class=\"sk-container\" hidden><div class=\"sk-item sk-dashed-wrapped\"><div class=\"sk-label-container\"><div class=\"sk-label sk-toggleable\"><input class=\"sk-toggleable__control sk-hidden--visually\" id=\"sk-estimator-id-1\" type=\"checkbox\" ><label for=\"sk-estimator-id-1\" class=\"sk-toggleable__label sk-toggleable__label-arrow\">GridSearchCV</label><div class=\"sk-toggleable__content\"><pre>GridSearchCV(cv=StratifiedKFold(n_splits=4, random_state=123, shuffle=True),\n",
       "             estimator=LogisticRegression(class_weight={0: 0.26543, 1: 0.73457},\n",
       "                                          random_state=123, solver=&#x27;saga&#x27;),\n",
       "             n_jobs=-1,\n",
       "             param_grid={&#x27;C&#x27;: [0.01, 0.1, 0.5, 1, 10], &#x27;penalty&#x27;: [&#x27;l1&#x27;, &#x27;l2&#x27;]},\n",
       "             scoring=&#x27;accuracy&#x27;)</pre></div></div></div><div class=\"sk-parallel\"><div class=\"sk-parallel-item\"><div class=\"sk-item\"><div class=\"sk-label-container\"><div class=\"sk-label sk-toggleable\"><input class=\"sk-toggleable__control sk-hidden--visually\" id=\"sk-estimator-id-2\" type=\"checkbox\" ><label for=\"sk-estimator-id-2\" class=\"sk-toggleable__label sk-toggleable__label-arrow\">estimator: LogisticRegression</label><div class=\"sk-toggleable__content\"><pre>LogisticRegression(class_weight={0: 0.26543, 1: 0.73457}, random_state=123,\n",
       "                   solver=&#x27;saga&#x27;)</pre></div></div></div><div class=\"sk-serial\"><div class=\"sk-item\"><div class=\"sk-estimator sk-toggleable\"><input class=\"sk-toggleable__control sk-hidden--visually\" id=\"sk-estimator-id-3\" type=\"checkbox\" ><label for=\"sk-estimator-id-3\" class=\"sk-toggleable__label sk-toggleable__label-arrow\">LogisticRegression</label><div class=\"sk-toggleable__content\"><pre>LogisticRegression(class_weight={0: 0.26543, 1: 0.73457}, random_state=123,\n",
       "                   solver=&#x27;saga&#x27;)</pre></div></div></div></div></div></div></div></div></div></div>"
      ],
      "text/plain": [
       "GridSearchCV(cv=StratifiedKFold(n_splits=4, random_state=123, shuffle=True),\n",
       "             estimator=LogisticRegression(class_weight={0: 0.26543, 1: 0.73457},\n",
       "                                          random_state=123, solver='saga'),\n",
       "             n_jobs=-1,\n",
       "             param_grid={'C': [0.01, 0.1, 0.5, 1, 10], 'penalty': ['l1', 'l2']},\n",
       "             scoring='accuracy')"
      ]
     },
     "execution_count": 51,
     "metadata": {},
     "output_type": "execute_result"
    }
   ],
   "source": [
    "# # using stratifiedkfold to guarantee even distribution in classes between training and testing sets\n",
    "# skf = StratifiedKFold(shuffle=True, random_state=rs , n_splits= 4 ) # 4 splits only to reduce time. \n",
    "\n",
    "# # Identifying the param_grid to loop through it using GridSearchCV\n",
    "# param_grid = {'C':[0.01,0.1,0.5,1,10],\n",
    "#               'penalty':['l1', 'l2']}\n",
    "# model = LogisticRegression(random_state = rs, class_weight=class_weight, solver = 'saga')\n",
    "\n",
    "# search_lr = GridSearchCV(estimator=model,\n",
    "#                       param_grid=param_grid,\n",
    "#                       scoring='accuracy',\n",
    "#                       cv=skf,\n",
    "#                       n_jobs= -1) \n",
    "# search_lr.fit(X_train_s, y_train)"
   ]
  },
  {
   "cell_type": "code",
   "execution_count": 52,
   "id": "2e59d2ad",
   "metadata": {},
   "outputs": [
    {
     "data": {
      "text/plain": [
       "0.7499053747161242"
      ]
     },
     "execution_count": 52,
     "metadata": {},
     "output_type": "execute_result"
    }
   ],
   "source": [
    "search_lr.best_score_"
   ]
  },
  {
   "cell_type": "code",
   "execution_count": 53,
   "id": "be0ac366",
   "metadata": {},
   "outputs": [
    {
     "data": {
      "text/plain": [
       "{'C': 0.5, 'penalty': 'l1'}"
      ]
     },
     "execution_count": 53,
     "metadata": {},
     "output_type": "execute_result"
    }
   ],
   "source": [
    "search_lr.best_params_"
   ]
  },
  {
   "cell_type": "code",
   "execution_count": 33,
   "id": "cf68dfc8",
   "metadata": {},
   "outputs": [],
   "source": [
    "lr_model = LogisticRegression(random_state = rs, C = 0.1, penalty = 'l2',class_weight=class_weight, solver = 'saga', )"
   ]
  },
  {
   "cell_type": "code",
   "execution_count": 34,
   "id": "b9019e71",
   "metadata": {},
   "outputs": [
    {
     "data": {
      "text/html": [
       "<style>#sk-container-id-1 {color: black;background-color: white;}#sk-container-id-1 pre{padding: 0;}#sk-container-id-1 div.sk-toggleable {background-color: white;}#sk-container-id-1 label.sk-toggleable__label {cursor: pointer;display: block;width: 100%;margin-bottom: 0;padding: 0.3em;box-sizing: border-box;text-align: center;}#sk-container-id-1 label.sk-toggleable__label-arrow:before {content: \"▸\";float: left;margin-right: 0.25em;color: #696969;}#sk-container-id-1 label.sk-toggleable__label-arrow:hover:before {color: black;}#sk-container-id-1 div.sk-estimator:hover label.sk-toggleable__label-arrow:before {color: black;}#sk-container-id-1 div.sk-toggleable__content {max-height: 0;max-width: 0;overflow: hidden;text-align: left;background-color: #f0f8ff;}#sk-container-id-1 div.sk-toggleable__content pre {margin: 0.2em;color: black;border-radius: 0.25em;background-color: #f0f8ff;}#sk-container-id-1 input.sk-toggleable__control:checked~div.sk-toggleable__content {max-height: 200px;max-width: 100%;overflow: auto;}#sk-container-id-1 input.sk-toggleable__control:checked~label.sk-toggleable__label-arrow:before {content: \"▾\";}#sk-container-id-1 div.sk-estimator input.sk-toggleable__control:checked~label.sk-toggleable__label {background-color: #d4ebff;}#sk-container-id-1 div.sk-label input.sk-toggleable__control:checked~label.sk-toggleable__label {background-color: #d4ebff;}#sk-container-id-1 input.sk-hidden--visually {border: 0;clip: rect(1px 1px 1px 1px);clip: rect(1px, 1px, 1px, 1px);height: 1px;margin: -1px;overflow: hidden;padding: 0;position: absolute;width: 1px;}#sk-container-id-1 div.sk-estimator {font-family: monospace;background-color: #f0f8ff;border: 1px dotted black;border-radius: 0.25em;box-sizing: border-box;margin-bottom: 0.5em;}#sk-container-id-1 div.sk-estimator:hover {background-color: #d4ebff;}#sk-container-id-1 div.sk-parallel-item::after {content: \"\";width: 100%;border-bottom: 1px solid gray;flex-grow: 1;}#sk-container-id-1 div.sk-label:hover label.sk-toggleable__label {background-color: #d4ebff;}#sk-container-id-1 div.sk-serial::before {content: \"\";position: absolute;border-left: 1px solid gray;box-sizing: border-box;top: 0;bottom: 0;left: 50%;z-index: 0;}#sk-container-id-1 div.sk-serial {display: flex;flex-direction: column;align-items: center;background-color: white;padding-right: 0.2em;padding-left: 0.2em;position: relative;}#sk-container-id-1 div.sk-item {position: relative;z-index: 1;}#sk-container-id-1 div.sk-parallel {display: flex;align-items: stretch;justify-content: center;background-color: white;position: relative;}#sk-container-id-1 div.sk-item::before, #sk-container-id-1 div.sk-parallel-item::before {content: \"\";position: absolute;border-left: 1px solid gray;box-sizing: border-box;top: 0;bottom: 0;left: 50%;z-index: -1;}#sk-container-id-1 div.sk-parallel-item {display: flex;flex-direction: column;z-index: 1;position: relative;background-color: white;}#sk-container-id-1 div.sk-parallel-item:first-child::after {align-self: flex-end;width: 50%;}#sk-container-id-1 div.sk-parallel-item:last-child::after {align-self: flex-start;width: 50%;}#sk-container-id-1 div.sk-parallel-item:only-child::after {width: 0;}#sk-container-id-1 div.sk-dashed-wrapped {border: 1px dashed gray;margin: 0 0.4em 0.5em 0.4em;box-sizing: border-box;padding-bottom: 0.4em;background-color: white;}#sk-container-id-1 div.sk-label label {font-family: monospace;font-weight: bold;display: inline-block;line-height: 1.2em;}#sk-container-id-1 div.sk-label-container {text-align: center;}#sk-container-id-1 div.sk-container {/* jupyter's `normalize.less` sets `[hidden] { display: none; }` but bootstrap.min.css set `[hidden] { display: none !important; }` so we also need the `!important` here to be able to override the default hidden behavior on the sphinx rendered scikit-learn.org. See: https://github.com/scikit-learn/scikit-learn/issues/21755 */display: inline-block !important;position: relative;}#sk-container-id-1 div.sk-text-repr-fallback {display: none;}</style><div id=\"sk-container-id-1\" class=\"sk-top-container\"><div class=\"sk-text-repr-fallback\"><pre>LogisticRegression(C=0.1, class_weight={0: 0.26543, 1: 0.73457},\n",
       "                   random_state=123, solver=&#x27;saga&#x27;)</pre><b>In a Jupyter environment, please rerun this cell to show the HTML representation or trust the notebook. <br />On GitHub, the HTML representation is unable to render, please try loading this page with nbviewer.org.</b></div><div class=\"sk-container\" hidden><div class=\"sk-item\"><div class=\"sk-estimator sk-toggleable\"><input class=\"sk-toggleable__control sk-hidden--visually\" id=\"sk-estimator-id-1\" type=\"checkbox\" checked><label for=\"sk-estimator-id-1\" class=\"sk-toggleable__label sk-toggleable__label-arrow\">LogisticRegression</label><div class=\"sk-toggleable__content\"><pre>LogisticRegression(C=0.1, class_weight={0: 0.26543, 1: 0.73457},\n",
       "                   random_state=123, solver=&#x27;saga&#x27;)</pre></div></div></div></div></div>"
      ],
      "text/plain": [
       "LogisticRegression(C=0.1, class_weight={0: 0.26543, 1: 0.73457},\n",
       "                   random_state=123, solver='saga')"
      ]
     },
     "execution_count": 34,
     "metadata": {},
     "output_type": "execute_result"
    }
   ],
   "source": [
    "lr_model.fit(X_train_s, y_train)"
   ]
  },
  {
   "cell_type": "code",
   "execution_count": 35,
   "id": "be0e04b5",
   "metadata": {},
   "outputs": [],
   "source": [
    "preds = lr_model.predict(X_test_s)"
   ]
  },
  {
   "cell_type": "code",
   "execution_count": 36,
   "id": "4435c892",
   "metadata": {},
   "outputs": [
    {
     "data": {
      "text/plain": [
       "{'accuracy': 0.7490062464508802,\n",
       " 'precision': array([0.90037594, 0.517934  ]),\n",
       " 'Weighted precision': 0.798956073540853,\n",
       " 'recall': array([0.74034003, 0.77301927]),\n",
       " 'Weighted recall': 0.7490062464508802,\n",
       " 'f1score': array([0.81255301, 0.62027491]),\n",
       " 'Weighted f1score': 0.7615627377329636}"
      ]
     },
     "execution_count": 36,
     "metadata": {},
     "output_type": "execute_result"
    }
   ],
   "source": [
    "lr = evaluate_metrics(y_test, preds)\n",
    "lr # results dict"
   ]
  },
  {
   "cell_type": "code",
   "execution_count": 37,
   "id": "9a6eb9d4",
   "metadata": {
    "scrolled": true
   },
   "outputs": [
    {
     "name": "stdout",
     "output_type": "stream",
     "text": [
      "              precision    recall  f1-score   support\n",
      "\n",
      "           0       0.90      0.74      0.81      1294\n",
      "           1       0.52      0.77      0.62       467\n",
      "\n",
      "    accuracy                           0.75      1761\n",
      "   macro avg       0.71      0.76      0.72      1761\n",
      "weighted avg       0.80      0.75      0.76      1761\n",
      "\n"
     ]
    },
    {
     "data": {
      "image/png": "[encoded data removed]",
      "text/plain": [
       "<Figure size 864x576 with 2 Axes>"
      ]
     },
     "metadata": {
      "needs_background": "light"
     },
     "output_type": "display_data"
    }
   ],
   "source": [
    "# Results Breakdown\n",
    "print(classification_report(y_test, preds))\n",
    "\n",
    "sns.set_context('talk')\n",
    "cm = confusion_matrix(y_test, preds)\n",
    "plt.figure(figsize = (12,8)) \n",
    "ax = sns.heatmap(cm, annot=True, fmt='d', cmap='Blues',\n",
    "                xticklabels=['Not Churn 0', 'Churn 1'], \n",
    "                 yticklabels=['Not Churn 0', 'Churn 1'])\n",
    "ax.set(title=\"logistic Regression Confusion Matrix\");\n",
    "ax.set_xlabel('Predicted');\n",
    "ax.set_ylabel('True');"
   ]
  },
  {
   "cell_type": "code",
   "execution_count": 38,
   "id": "8ecb957c",
   "metadata": {},
   "outputs": [
    {
     "data": {
      "text/plain": [
       "[0.7490062464508802, 0.798956073540853, 0.7490062464508802, 0.7615627377329636]"
      ]
     },
     "execution_count": 38,
     "metadata": {},
     "output_type": "execute_result"
    }
   ],
   "source": [
    "#Storing evaluation metrics (average values)\n",
    "lr_results = list()\n",
    "for key in keys:\n",
    "       lr_results.append(lr.get(key))\n",
    "lr_results "
   ]
  },
  {
   "cell_type": "markdown",
   "id": "7399fd2a",
   "metadata": {},
   "source": [
    "### Feature Importance\n",
    "\n",
    "<b>Feature Weight</b>\n",
    "using logisitc regression we can find the weight of each feature on the model, which basically represent each feature importance."
   ]
  },
  {
   "cell_type": "code",
   "execution_count": 39,
   "id": "470a3beb",
   "metadata": {
    "scrolled": true
   },
   "outputs": [
    {
     "data": {
      "text/plain": [
       "[array([0.90037594, 0.517934  ]),\n",
       " array([0.74034003, 0.77301927]),\n",
       " array([0.81255301, 0.62027491])]"
      ]
     },
     "execution_count": 39,
     "metadata": {},
     "output_type": "execute_result"
    }
   ],
   "source": [
    "# storing evaluation metrics (per class)\n",
    "lr_rpf = []\n",
    "for element in elements:\n",
    "       lr_rpf.append(lr.get(element))\n",
    "lr_rpf   "
   ]
  },
  {
   "cell_type": "code",
   "execution_count": 45,
   "id": "9c2177b7",
   "metadata": {},
   "outputs": [],
   "source": [
    "# this function will take the coeficients of the LR model and take the ones with highest value and lowest value so that we visualize them\n",
    "from collections import OrderedDict\n",
    "def highest_and_lowest_values(d):\n",
    "    sorted_d = dict(OrderedDict(sorted(d.items(), key=lambda item: item[1], reverse=True)))\n",
    "    highest_3 = dict(list(sorted_d.items())[:3])\n",
    "    lowest_3 = dict(list(sorted_d.items())[-3:])\n",
    "    return {**highest_3, **lowest_3}"
   ]
  },
  {
   "cell_type": "code",
   "execution_count": 53,
   "id": "d1abe870",
   "metadata": {},
   "outputs": [
    {
     "data": {
      "text/plain": [
       "{'InternetService_Fiber optic': 0.7573943010348606,\n",
       " 'PaymentMethod_Electronic check': 0.35150066870753577,\n",
       " 'StreamingMovies_Yes': 0.2892048371588706,\n",
       " 'OnlineSecurity_Yes': -0.42079518445219394,\n",
       " 'tenure': -1.1999201994826374,\n",
       " 'Contract': -1.2578835902711363}"
      ]
     },
     "execution_count": 53,
     "metadata": {},
     "output_type": "execute_result"
    }
   ],
   "source": [
    "coef_dict = get_feature_coefs(lr_model, 0, feature_cols)\n",
    "top_dict = highest_and_lowest_values(coef_dict)\n",
    "top_dict"
   ]
  },
  {
   "cell_type": "code",
   "execution_count": 52,
   "id": "c9289eee",
   "metadata": {},
   "outputs": [
    {
     "data": {
      "image/png": "[encoded data removed]",
      "text/plain": [
       "<Figure size 1000x600 with 1 Axes>"
      ]
     },
     "metadata": {},
     "output_type": "display_data"
    }
   ],
   "source": [
    "# Getting feature importance using logistic regression coefficients\n",
    "# Get the coefficents for Class 1, Less Often\n",
    "\n",
    "visualize_coefs(top_dict)"
   ]
  },
  {
   "cell_type": "code",
   "execution_count": 61,
   "id": "eac133e9",
   "metadata": {},
   "outputs": [],
   "source": [
    "# Saving the ML model in case we need it int he future so we don't have to train it again.\n",
    "pickle.dump(search_lr, open('search_lr.p','wb')) # wb: write - bytes\n",
    "pickle.dump(lr_model, open('lr_model.p','wb')) # wb: write - bytes"
   ]
  },
  {
   "cell_type": "markdown",
   "id": "58f3aec6",
   "metadata": {},
   "source": [
    "### b. Support Vector Machine "
   ]
  },
  {
   "cell_type": "code",
   "execution_count": 62,
   "id": "88e0c65c",
   "metadata": {},
   "outputs": [],
   "source": [
    "# # Identifying the param_grid to loop through it using GridSearchCV\n",
    "# params_grid = {\n",
    "#     'C': [0.1,1, 10, 100],\n",
    "#     'kernel': ['poly', 'rbf', 'sigmoid']\n",
    "# }\n",
    "\n",
    "# model = SVC(class_weight=class_weight)\n",
    "\n",
    "# # Define a GridSearchCV to search the best parameters\n",
    "# SVC_search = GridSearchCV(estimator = model, \n",
    "#                            param_grid = params_grid, \n",
    "#                            scoring='f1',\n",
    "#                            cv = skf, verbose = 1)\n",
    "# # Search the best parameters with training data\n",
    "# SVC_search.fit(X_train_s, y_train.values.ravel())\n",
    "# best_params = SVC_search.best_params_\n",
    "# best_params"
   ]
  },
  {
   "cell_type": "code",
   "execution_count": 62,
   "id": "e0b27438",
   "metadata": {},
   "outputs": [],
   "source": [
    "SVM_model = SVC(C=1, kernel='rbf', class_weight=class_weight)\n",
    "SVM_model.fit(X_train_s, y_train.values.ravel())\n",
    "preds = SVM_model.predict(X_test_s)"
   ]
  },
  {
   "cell_type": "code",
   "execution_count": 63,
   "id": "7a0bd1ac",
   "metadata": {
    "scrolled": true
   },
   "outputs": [
    {
     "data": {
      "text/plain": [
       "{'accuracy': 0.7331061896649631,\n",
       " 'precision': array([0.9       , 0.49794802]),\n",
       " 'Weighted precision': 0.7933797408666727,\n",
       " 'recall': array([0.71638331, 0.77944325]),\n",
       " 'Weighted recall': 0.7331061896649631,\n",
       " 'f1score': array([0.79776248, 0.60767947]),\n",
       " 'Weighted f1score': 0.7473543200894934}"
      ]
     },
     "execution_count": 63,
     "metadata": {},
     "output_type": "execute_result"
    }
   ],
   "source": [
    "svm_result = evaluate_metrics(y_test, preds)\n",
    "svm_result"
   ]
  },
  {
   "cell_type": "code",
   "execution_count": 65,
   "id": "8e50c3d1",
   "metadata": {},
   "outputs": [
    {
     "name": "stdout",
     "output_type": "stream",
     "text": [
      "              precision    recall  f1-score   support\n",
      "\n",
      "           0       0.90      0.72      0.80      1294\n",
      "           1       0.50      0.78      0.61       467\n",
      "\n",
      "    accuracy                           0.73      1761\n",
      "   macro avg       0.70      0.75      0.70      1761\n",
      "weighted avg       0.79      0.73      0.75      1761\n",
      "\n"
     ]
    },
    {
     "data": {
      "image/png": "[encoded data removed]",
      "text/plain": [
       "<Figure size 864x576 with 2 Axes>"
      ]
     },
     "metadata": {
      "needs_background": "light"
     },
     "output_type": "display_data"
    }
   ],
   "source": [
    "# Results Breakdown\n",
    "print(classification_report(y_test, preds))\n",
    "\n",
    "sns.set_context('talk')\n",
    "cm = confusion_matrix(y_test, preds)\n",
    "plt.figure(figsize = (12,8)) \n",
    "ax = sns.heatmap(cm, annot=True, fmt='d', cmap='Blues',\n",
    "                xticklabels=['Not Churn 0', 'Churn 1'], \n",
    "                 yticklabels=['Not Churn 0', 'Churn 1'])\n",
    "ax.set(title=\"SVM Confusion Matrix\");\n",
    "ax.set_xlabel('Predicted');\n",
    "ax.set_ylabel('True');"
   ]
  },
  {
   "cell_type": "code",
   "execution_count": 66,
   "id": "3012558a",
   "metadata": {},
   "outputs": [
    {
     "data": {
      "text/plain": [
       "[0.7331061896649631,\n",
       " 0.7933797408666727,\n",
       " 0.7331061896649631,\n",
       " 0.7473543200894934]"
      ]
     },
     "execution_count": 66,
     "metadata": {},
     "output_type": "execute_result"
    }
   ],
   "source": [
    "SVM_results = list()\n",
    "for key in keys:\n",
    "       SVM_results.append(svm_result.get(key))\n",
    "SVM_results "
   ]
  },
  {
   "cell_type": "code",
   "execution_count": 67,
   "id": "6933fcaf",
   "metadata": {},
   "outputs": [
    {
     "data": {
      "text/plain": [
       "[array([0.9       , 0.49794802]),\n",
       " array([0.71638331, 0.77944325]),\n",
       " array([0.79776248, 0.60767947])]"
      ]
     },
     "execution_count": 67,
     "metadata": {},
     "output_type": "execute_result"
    }
   ],
   "source": [
    "SVM_rpf = []\n",
    "for element in elements:\n",
    "       SVM_rpf.append(svm_result.get(element))\n",
    "SVM_rpf  "
   ]
  },
  {
   "cell_type": "code",
   "execution_count": 68,
   "id": "6fbd3b6b",
   "metadata": {},
   "outputs": [],
   "source": [
    "pickle.dump(SVM_model, open('SVM_model.p','wb')) # wb: write - bytes"
   ]
  },
  {
   "cell_type": "markdown",
   "id": "dcb65e9c",
   "metadata": {},
   "source": [
    "### c. Random Forest"
   ]
  },
  {
   "cell_type": "code",
   "execution_count": 70,
   "id": "f818dc07",
   "metadata": {},
   "outputs": [
    {
     "name": "stdout",
     "output_type": "stream",
     "text": [
      "number of possible combinations for the parameters\n",
      "1200\n"
     ]
    }
   ],
   "source": [
    "# using GridSearchCV to identify the best performing parameters\n",
    "param_grid = {'n_estimators': [2*n+1 for n in range(20)],\n",
    "              'criterion':['gini', 'entropy'],\n",
    "             'max_depth' : [2*n+1 for n in range(10) ],\n",
    "             'max_features':[\"auto\", \"sqrt\", \"log2\"]}\n",
    "num_combinations = 1\n",
    "for n in param_grid.values(): num_combinations *=len(n)\n",
    "print(\"number of possible combinations for the parameters\")\n",
    "print(num_combinations)\n"
   ]
  },
  {
   "cell_type": "code",
   "execution_count": 109,
   "id": "d0515022",
   "metadata": {},
   "outputs": [
    {
     "data": {
      "text/plain": [
       "0.6372738336695822"
      ]
     },
     "execution_count": 109,
     "metadata": {},
     "output_type": "execute_result"
    }
   ],
   "source": [
    "RF_model = RandomForestClassifier(random_state = rs, bootstrap = True, class_weight = class_weight)\n",
    "search_rf = GridSearchCV(estimator=RF_model,\n",
    "                      param_grid=param_grid,\n",
    "                      scoring='f1',\n",
    "                      cv=skf,\n",
    "                      n_jobs = -1) # creating GridSearchCV object\n",
    "search_rf.fit(X_train_s, y_train)\n",
    "search_rf.best_score_"
   ]
  },
  {
   "cell_type": "code",
   "execution_count": 110,
   "id": "58ee9d2a",
   "metadata": {},
   "outputs": [
    {
     "data": {
      "text/plain": [
       "{'criterion': 'entropy',\n",
       " 'max_depth': 7,\n",
       " 'max_features': 'auto',\n",
       " 'n_estimators': 21}"
      ]
     },
     "execution_count": 110,
     "metadata": {},
     "output_type": "execute_result"
    }
   ],
   "source": [
    "search_rf.best_params_"
   ]
  },
  {
   "cell_type": "markdown",
   "id": "7b6e164e",
   "metadata": {},
   "source": [
    "building a random forest model using the best parameters"
   ]
  },
  {
   "cell_type": "code",
   "execution_count": 69,
   "id": "d0963295",
   "metadata": {},
   "outputs": [],
   "source": [
    "# choosing the best parameters to build the RF model.\n",
    "RF_model = RandomForestClassifier(random_state = rs, bootstrap = True, class_weight = class_weight, \n",
    "                                 n_estimators =29, \n",
    "                                 criterion = 'gini',\n",
    "                                 max_depth = 9 ,\n",
    "                                 max_features = 'log2')"
   ]
  },
  {
   "cell_type": "code",
   "execution_count": 70,
   "id": "39befcd0",
   "metadata": {},
   "outputs": [
    {
     "data": {
      "text/plain": [
       "{'accuracy': 0.7637705848949461,\n",
       " 'precision': array([0.88849558, 0.54041204]),\n",
       " 'Weighted precision': 0.7961872226342678,\n",
       " 'recall': array([0.77588872, 0.73019272]),\n",
       " 'Weighted recall': 0.7637705848949461,\n",
       " 'f1score': array([0.82838284, 0.62112933]),\n",
       " 'Weighted f1score': 0.7734212311206078}"
      ]
     },
     "execution_count": 70,
     "metadata": {},
     "output_type": "execute_result"
    }
   ],
   "source": [
    "RF_model.fit(X_train_s,y_train)\n",
    "preds = RF_model.predict(X_test_s)\n",
    "RF_result = evaluate_metrics(y_test,preds)\n",
    "RF_result"
   ]
  },
  {
   "cell_type": "code",
   "execution_count": 71,
   "id": "18e23ada",
   "metadata": {},
   "outputs": [
    {
     "name": "stdout",
     "output_type": "stream",
     "text": [
      "              precision    recall  f1-score   support\n",
      "\n",
      "           0       0.89      0.78      0.83      1294\n",
      "           1       0.54      0.73      0.62       467\n",
      "\n",
      "    accuracy                           0.76      1761\n",
      "   macro avg       0.71      0.75      0.72      1761\n",
      "weighted avg       0.80      0.76      0.77      1761\n",
      "\n"
     ]
    },
    {
     "data": {
      "image/png": "[encoded data removed]",
      "text/plain": [
       "<Figure size 864x576 with 2 Axes>"
      ]
     },
     "metadata": {
      "needs_background": "light"
     },
     "output_type": "display_data"
    }
   ],
   "source": [
    "# Results Breakdown\n",
    "print(classification_report(y_test, preds))\n",
    "\n",
    "sns.set_context('talk')\n",
    "cm = confusion_matrix(y_test, preds)\n",
    "plt.figure(figsize = (12,8)) \n",
    "ax = sns.heatmap(cm, annot=True, fmt='d', cmap='Blues',\n",
    "                xticklabels=['Not Churn 0', 'Churn 1'], \n",
    "                 yticklabels=['Not Churn 0', 'Churn 1'])\n",
    "ax.set(title=\"Random Forest Confusion Matrix\");\n",
    "ax.set_xlabel('Predicted');\n",
    "ax.set_ylabel('True');"
   ]
  },
  {
   "cell_type": "code",
   "execution_count": 72,
   "id": "6ee641c7",
   "metadata": {},
   "outputs": [
    {
     "data": {
      "text/plain": [
       "[0.7637705848949461,\n",
       " 0.7961872226342678,\n",
       " 0.7637705848949461,\n",
       " 0.7734212311206078]"
      ]
     },
     "execution_count": 72,
     "metadata": {},
     "output_type": "execute_result"
    }
   ],
   "source": [
    "RF_results = list()\n",
    "for key in keys:\n",
    "       RF_results.append(RF_result.get(key))\n",
    "RF_results "
   ]
  },
  {
   "cell_type": "code",
   "execution_count": 73,
   "id": "08ff9b48",
   "metadata": {},
   "outputs": [
    {
     "data": {
      "text/plain": [
       "[array([0.88849558, 0.54041204]),\n",
       " array([0.77588872, 0.73019272]),\n",
       " array([0.82838284, 0.62112933])]"
      ]
     },
     "execution_count": 73,
     "metadata": {},
     "output_type": "execute_result"
    }
   ],
   "source": [
    "RF_rpf = []\n",
    "for element in elements:\n",
    "       RF_rpf.append(RF_result.get(element))\n",
    "RF_rpf  "
   ]
  },
  {
   "cell_type": "code",
   "execution_count": 261,
   "id": "6f0c182c",
   "metadata": {},
   "outputs": [],
   "source": [
    "pickle.dump(rf_model, open('RF_model.p','wb')) # write it as bytes"
   ]
  },
  {
   "cell_type": "markdown",
   "id": "6f7153e3",
   "metadata": {},
   "source": [
    "### d. XGboost"
   ]
  },
  {
   "cell_type": "code",
   "execution_count": 237,
   "id": "ace97ff5",
   "metadata": {
    "scrolled": true
   },
   "outputs": [
    {
     "data": {
      "text/plain": [
       "{'objective': 'binary:logistic',\n",
       " 'use_label_encoder': True,\n",
       " 'base_score': None,\n",
       " 'booster': None,\n",
       " 'colsample_bylevel': None,\n",
       " 'colsample_bynode': None,\n",
       " 'colsample_bytree': None,\n",
       " 'enable_categorical': False,\n",
       " 'gamma': None,\n",
       " 'gpu_id': None,\n",
       " 'importance_type': None,\n",
       " 'interaction_constraints': None,\n",
       " 'learning_rate': None,\n",
       " 'max_delta_step': None,\n",
       " 'max_depth': None,\n",
       " 'min_child_weight': None,\n",
       " 'missing': nan,\n",
       " 'monotone_constraints': None,\n",
       " 'n_estimators': 100,\n",
       " 'n_jobs': None,\n",
       " 'num_parallel_tree': None,\n",
       " 'predictor': None,\n",
       " 'random_state': None,\n",
       " 'reg_alpha': None,\n",
       " 'reg_lambda': None,\n",
       " 'scale_pos_weight': None,\n",
       " 'subsample': None,\n",
       " 'tree_method': None,\n",
       " 'validate_parameters': None,\n",
       " 'verbosity': None}"
      ]
     },
     "execution_count": 237,
     "metadata": {},
     "output_type": "execute_result"
    }
   ],
   "source": [
    "xgb.XGBClassifier().get_params() # printing XGboost parameters"
   ]
  },
  {
   "cell_type": "code",
   "execution_count": 123,
   "id": "17f2caf7",
   "metadata": {},
   "outputs": [],
   "source": [
    "# Splitting part of the training set to become the validation set for training XGboost\n",
    "# Get the split indexes\n",
    "strat_shuf_split_valid = StratifiedShuffleSplit(n_splits=1, \n",
    "                                          test_size=0.15, # 25% to test the model peforamnce\n",
    "                                          random_state=rs)\n",
    "\n",
    "# We use 'next' to get the arrays from the generator object.\n",
    "XGtrain_idx, XGvalid_idx = next(strat_shuf_split_valid.split(X_train_s, y_train))\n",
    "\n",
    "# Create the train and validations sets\n",
    "X_XGtrain = X_train_s.iloc[XGtrain_idx] # loc[index,column]\n",
    "y_XGtrain = y_train.iloc[XGtrain_idx]\n",
    "\n",
    "X_XGvalid  = X_train_s.iloc[XGvalid_idx]\n",
    "y_XGvalid  = y_train.iloc[XGvalid_idx]"
   ]
  },
  {
   "cell_type": "code",
   "execution_count": 124,
   "id": "2b471e91",
   "metadata": {
    "scrolled": true
   },
   "outputs": [
    {
     "data": {
      "text/plain": [
       "array([0.6807704, 1.8829698, 0.6807704, ..., 0.6807704, 0.6807704,\n",
       "       1.8829698])"
      ]
     },
     "execution_count": 124,
     "metadata": {},
     "output_type": "execute_result"
    }
   ],
   "source": [
    "# weight parameter in XGBoost is per instance not per class.\n",
    "# Therefore, we need to assign the weight of each class to its instances\n",
    "from sklearn.utils import class_weight\n",
    "classes_weights = list(class_weight.compute_class_weight(class_weight = 'balanced',\n",
    "                                             classes = np.unique(y_XGtrain),\n",
    "                                             y = y_XGtrain))\n",
    "\n",
    "weights = np.ones(y_XGtrain.shape[0], dtype = 'float') # returns an array with predefined shape and values of 1\n",
    "for i, val in enumerate(y_XGtrain):\n",
    "    weights[i] = classes_weights[val]\n",
    "\n",
    "weights\n"
   ]
  },
  {
   "cell_type": "markdown",
   "id": "92a1ae85",
   "metadata": {},
   "source": [
    "performing GridSearchSV to find the best parameters for XGboost"
   ]
  },
  {
   "cell_type": "code",
   "execution_count": 240,
   "id": "61d07823",
   "metadata": {},
   "outputs": [
    {
     "name": "stdout",
     "output_type": "stream",
     "text": [
      "27\n"
     ]
    },
    {
     "data": {
      "text/plain": [
       "{'learning_rate': [0.02, 0.05, 0.1],\n",
       " 'max_depth': [2, 3, 5],\n",
       " 'n_estimators': [1000, 2000, 3000]}"
      ]
     },
     "execution_count": 240,
     "metadata": {},
     "output_type": "execute_result"
    }
   ],
   "source": [
    "learning_rate_list = [0.02, 0.05, 0.1]\n",
    "max_depth_list = [2, 3, 5]\n",
    "n_estimators_list = [1000, 2000, 3000]\n",
    "\n",
    "params_dict = {\"learning_rate\": learning_rate_list,\n",
    "               \"max_depth\": max_depth_list,\n",
    "               \"n_estimators\": n_estimators_list}\n",
    "\n",
    "num_combinations = 1\n",
    "for v in params_dict.values(): num_combinations *= len(v) \n",
    "\n",
    "print(num_combinations)\n",
    "params_dict"
   ]
  },
  {
   "cell_type": "code",
   "execution_count": 241,
   "id": "c56ffa60",
   "metadata": {},
   "outputs": [
    {
     "name": "stdout",
     "output_type": "stream",
     "text": [
      "Fitting 2 folds for each of 27 candidates, totalling 54 fits\n",
      "[CV 1/2] END learning_rate=0.02, max_depth=2, n_estimators=1000;, score=(train=nan, test=nan) total time=   5.5s\n",
      "[CV 2/2] END learning_rate=0.02, max_depth=2, n_estimators=1000;, score=(train=nan, test=nan) total time=   1.1s\n",
      "[CV 1/2] END learning_rate=0.02, max_depth=2, n_estimators=2000;, score=(train=nan, test=nan) total time=   2.1s\n",
      "[CV 2/2] END learning_rate=0.02, max_depth=2, n_estimators=2000;, score=(train=nan, test=nan) total time=   2.2s\n",
      "[CV 1/2] END learning_rate=0.02, max_depth=2, n_estimators=3000;, score=(train=nan, test=nan) total time=   3.8s\n",
      "[CV 2/2] END learning_rate=0.02, max_depth=2, n_estimators=3000;, score=(train=nan, test=nan) total time=   3.3s\n",
      "[CV 1/2] END learning_rate=0.02, max_depth=3, n_estimators=1000;, score=(train=nan, test=nan) total time=   1.3s\n",
      "[CV 2/2] END learning_rate=0.02, max_depth=3, n_estimators=1000;, score=(train=nan, test=nan) total time=   1.2s\n",
      "[CV 1/2] END learning_rate=0.02, max_depth=3, n_estimators=2000;, score=(train=nan, test=nan) total time=   2.6s\n",
      "[CV 2/2] END learning_rate=0.02, max_depth=3, n_estimators=2000;, score=(train=nan, test=nan) total time=   2.7s\n",
      "[CV 1/2] END learning_rate=0.02, max_depth=3, n_estimators=3000;, score=(train=nan, test=nan) total time=   3.8s\n",
      "[CV 2/2] END learning_rate=0.02, max_depth=3, n_estimators=3000;, score=(train=nan, test=nan) total time=   4.0s\n",
      "[CV 1/2] END learning_rate=0.02, max_depth=5, n_estimators=1000;, score=(train=nan, test=nan) total time=   1.8s\n",
      "[CV 2/2] END learning_rate=0.02, max_depth=5, n_estimators=1000;, score=(train=nan, test=nan) total time=   1.8s\n",
      "[CV 1/2] END learning_rate=0.02, max_depth=5, n_estimators=2000;, score=(train=nan, test=nan) total time=   3.6s\n",
      "[CV 2/2] END learning_rate=0.02, max_depth=5, n_estimators=2000;, score=(train=nan, test=nan) total time=   3.6s\n",
      "[CV 1/2] END learning_rate=0.02, max_depth=5, n_estimators=3000;, score=(train=nan, test=nan) total time=   5.4s\n",
      "[CV 2/2] END learning_rate=0.02, max_depth=5, n_estimators=3000;, score=(train=nan, test=nan) total time=   5.2s\n",
      "[CV 1/2] END learning_rate=0.05, max_depth=2, n_estimators=1000;, score=(train=nan, test=nan) total time=   1.1s\n",
      "[CV 2/2] END learning_rate=0.05, max_depth=2, n_estimators=1000;, score=(train=nan, test=nan) total time=   1.1s\n",
      "[CV 1/2] END learning_rate=0.05, max_depth=2, n_estimators=2000;, score=(train=nan, test=nan) total time=   2.3s\n",
      "[CV 2/2] END learning_rate=0.05, max_depth=2, n_estimators=2000;, score=(train=nan, test=nan) total time=   2.4s\n",
      "[CV 1/2] END learning_rate=0.05, max_depth=2, n_estimators=3000;, score=(train=nan, test=nan) total time=   3.7s\n",
      "[CV 2/2] END learning_rate=0.05, max_depth=2, n_estimators=3000;, score=(train=nan, test=nan) total time=   3.3s\n",
      "[CV 1/2] END learning_rate=0.05, max_depth=3, n_estimators=1000;, score=(train=nan, test=nan) total time=   1.2s\n",
      "[CV 2/2] END learning_rate=0.05, max_depth=3, n_estimators=1000;, score=(train=nan, test=nan) total time=   1.2s\n",
      "[CV 1/2] END learning_rate=0.05, max_depth=3, n_estimators=2000;, score=(train=nan, test=nan) total time=   2.7s\n",
      "[CV 2/2] END learning_rate=0.05, max_depth=3, n_estimators=2000;, score=(train=nan, test=nan) total time=   2.6s\n",
      "[CV 1/2] END learning_rate=0.05, max_depth=3, n_estimators=3000;, score=(train=nan, test=nan) total time=   3.9s\n",
      "[CV 2/2] END learning_rate=0.05, max_depth=3, n_estimators=3000;, score=(train=nan, test=nan) total time=   3.8s\n",
      "[CV 1/2] END learning_rate=0.05, max_depth=5, n_estimators=1000;, score=(train=nan, test=nan) total time=   1.7s\n",
      "[CV 2/2] END learning_rate=0.05, max_depth=5, n_estimators=1000;, score=(train=nan, test=nan) total time=   1.6s\n",
      "[CV 1/2] END learning_rate=0.05, max_depth=5, n_estimators=2000;, score=(train=nan, test=nan) total time=   4.0s\n",
      "[CV 2/2] END learning_rate=0.05, max_depth=5, n_estimators=2000;, score=(train=nan, test=nan) total time=   3.8s\n",
      "[CV 1/2] END learning_rate=0.05, max_depth=5, n_estimators=3000;, score=(train=nan, test=nan) total time=   5.2s\n",
      "[CV 2/2] END learning_rate=0.05, max_depth=5, n_estimators=3000;, score=(train=nan, test=nan) total time=   5.1s\n",
      "[CV 1/2] END learning_rate=0.1, max_depth=2, n_estimators=1000;, score=(train=nan, test=nan) total time=   1.1s\n",
      "[CV 2/2] END learning_rate=0.1, max_depth=2, n_estimators=1000;, score=(train=nan, test=nan) total time=   1.1s\n",
      "[CV 1/2] END learning_rate=0.1, max_depth=2, n_estimators=2000;, score=(train=nan, test=nan) total time=   2.3s\n",
      "[CV 2/2] END learning_rate=0.1, max_depth=2, n_estimators=2000;, score=(train=nan, test=nan) total time=   2.3s\n",
      "[CV 1/2] END learning_rate=0.1, max_depth=2, n_estimators=3000;, score=(train=nan, test=nan) total time=   3.4s\n",
      "[CV 2/2] END learning_rate=0.1, max_depth=2, n_estimators=3000;, score=(train=nan, test=nan) total time=   3.7s\n",
      "[CV 1/2] END learning_rate=0.1, max_depth=3, n_estimators=1000;, score=(train=nan, test=nan) total time=   1.3s\n",
      "[CV 2/2] END learning_rate=0.1, max_depth=3, n_estimators=1000;, score=(train=nan, test=nan) total time=   1.7s\n",
      "[CV 1/2] END learning_rate=0.1, max_depth=3, n_estimators=2000;, score=(train=nan, test=nan) total time=   3.0s\n",
      "[CV 2/2] END learning_rate=0.1, max_depth=3, n_estimators=2000;, score=(train=nan, test=nan) total time=   2.6s\n",
      "[CV 1/2] END learning_rate=0.1, max_depth=3, n_estimators=3000;, score=(train=nan, test=nan) total time=   3.8s\n",
      "[CV 2/2] END learning_rate=0.1, max_depth=3, n_estimators=3000;, score=(train=nan, test=nan) total time=   3.8s\n",
      "[CV 1/2] END learning_rate=0.1, max_depth=5, n_estimators=1000;, score=(train=nan, test=nan) total time=   1.8s\n",
      "[CV 2/2] END learning_rate=0.1, max_depth=5, n_estimators=1000;, score=(train=nan, test=nan) total time=   1.7s\n",
      "[CV 1/2] END learning_rate=0.1, max_depth=5, n_estimators=2000;, score=(train=nan, test=nan) total time=   3.3s\n",
      "[CV 2/2] END learning_rate=0.1, max_depth=5, n_estimators=2000;, score=(train=nan, test=nan) total time=   3.2s\n",
      "[CV 1/2] END learning_rate=0.1, max_depth=5, n_estimators=3000;, score=(train=nan, test=nan) total time=   5.4s\n",
      "[CV 2/2] END learning_rate=0.1, max_depth=5, n_estimators=3000;, score=(train=nan, test=nan) total time=   5.4s\n"
     ]
    },
    {
     "data": {
      "text/html": [
       "<style>#sk-container-id-42 {color: black;background-color: white;}#sk-container-id-42 pre{padding: 0;}#sk-container-id-42 div.sk-toggleable {background-color: white;}#sk-container-id-42 label.sk-toggleable__label {cursor: pointer;display: block;width: 100%;margin-bottom: 0;padding: 0.3em;box-sizing: border-box;text-align: center;}#sk-container-id-42 label.sk-toggleable__label-arrow:before {content: \"▸\";float: left;margin-right: 0.25em;color: #696969;}#sk-container-id-42 label.sk-toggleable__label-arrow:hover:before {color: black;}#sk-container-id-42 div.sk-estimator:hover label.sk-toggleable__label-arrow:before {color: black;}#sk-container-id-42 div.sk-toggleable__content {max-height: 0;max-width: 0;overflow: hidden;text-align: left;background-color: #f0f8ff;}#sk-container-id-42 div.sk-toggleable__content pre {margin: 0.2em;color: black;border-radius: 0.25em;background-color: #f0f8ff;}#sk-container-id-42 input.sk-toggleable__control:checked~div.sk-toggleable__content {max-height: 200px;max-width: 100%;overflow: auto;}#sk-container-id-42 input.sk-toggleable__control:checked~label.sk-toggleable__label-arrow:before {content: \"▾\";}#sk-container-id-42 div.sk-estimator input.sk-toggleable__control:checked~label.sk-toggleable__label {background-color: #d4ebff;}#sk-container-id-42 div.sk-label input.sk-toggleable__control:checked~label.sk-toggleable__label {background-color: #d4ebff;}#sk-container-id-42 input.sk-hidden--visually {border: 0;clip: rect(1px 1px 1px 1px);clip: rect(1px, 1px, 1px, 1px);height: 1px;margin: -1px;overflow: hidden;padding: 0;position: absolute;width: 1px;}#sk-container-id-42 div.sk-estimator {font-family: monospace;background-color: #f0f8ff;border: 1px dotted black;border-radius: 0.25em;box-sizing: border-box;margin-bottom: 0.5em;}#sk-container-id-42 div.sk-estimator:hover {background-color: #d4ebff;}#sk-container-id-42 div.sk-parallel-item::after {content: \"\";width: 100%;border-bottom: 1px solid gray;flex-grow: 1;}#sk-container-id-42 div.sk-label:hover label.sk-toggleable__label {background-color: #d4ebff;}#sk-container-id-42 div.sk-serial::before {content: \"\";position: absolute;border-left: 1px solid gray;box-sizing: border-box;top: 0;bottom: 0;left: 50%;z-index: 0;}#sk-container-id-42 div.sk-serial {display: flex;flex-direction: column;align-items: center;background-color: white;padding-right: 0.2em;padding-left: 0.2em;position: relative;}#sk-container-id-42 div.sk-item {position: relative;z-index: 1;}#sk-container-id-42 div.sk-parallel {display: flex;align-items: stretch;justify-content: center;background-color: white;position: relative;}#sk-container-id-42 div.sk-item::before, #sk-container-id-42 div.sk-parallel-item::before {content: \"\";position: absolute;border-left: 1px solid gray;box-sizing: border-box;top: 0;bottom: 0;left: 50%;z-index: -1;}#sk-container-id-42 div.sk-parallel-item {display: flex;flex-direction: column;z-index: 1;position: relative;background-color: white;}#sk-container-id-42 div.sk-parallel-item:first-child::after {align-self: flex-end;width: 50%;}#sk-container-id-42 div.sk-parallel-item:last-child::after {align-self: flex-start;width: 50%;}#sk-container-id-42 div.sk-parallel-item:only-child::after {width: 0;}#sk-container-id-42 div.sk-dashed-wrapped {border: 1px dashed gray;margin: 0 0.4em 0.5em 0.4em;box-sizing: border-box;padding-bottom: 0.4em;background-color: white;}#sk-container-id-42 div.sk-label label {font-family: monospace;font-weight: bold;display: inline-block;line-height: 1.2em;}#sk-container-id-42 div.sk-label-container {text-align: center;}#sk-container-id-42 div.sk-container {/* jupyter's `normalize.less` sets `[hidden] { display: none; }` but bootstrap.min.css set `[hidden] { display: none !important; }` so we also need the `!important` here to be able to override the default hidden behavior on the sphinx rendered scikit-learn.org. See: https://github.com/scikit-learn/scikit-learn/issues/21755 */display: inline-block !important;position: relative;}#sk-container-id-42 div.sk-text-repr-fallback {display: none;}</style><div id=\"sk-container-id-42\" class=\"sk-top-container\"><div class=\"sk-text-repr-fallback\"><pre>GridSearchCV(cv=2,\n",
       "             estimator=XGBClassifier(base_score=None, booster=None,\n",
       "                                     colsample_bylevel=None,\n",
       "                                     colsample_bynode=None,\n",
       "                                     colsample_bytree=0.25,\n",
       "                                     enable_categorical=False,\n",
       "                                     eval_metric=&#x27;auc&#x27;, gamma=None, gpu_id=None,\n",
       "                                     importance_type=None,\n",
       "                                     interaction_constraints=None,\n",
       "                                     learning_rate=None, max_delta_step=None,\n",
       "                                     max_depth=None, min_child_weight=None,\n",
       "                                     missing=nan, monotone...\n",
       "                                     random_state=None, reg_alpha=None,\n",
       "                                     reg_lambda=None, scale_pos_weight=None,\n",
       "                                     subsample=0.5, tree_method=None,\n",
       "                                     use_label_encoder=False,\n",
       "                                     validate_parameters=None, verbosity=None),\n",
       "             param_grid={&#x27;learning_rate&#x27;: [0.02, 0.05, 0.1],\n",
       "                         &#x27;max_depth&#x27;: [2, 3, 5],\n",
       "                         &#x27;n_estimators&#x27;: [1000, 2000, 3000]},\n",
       "             return_train_score=True,\n",
       "             scoring=&lt;function my_roc_auc_score at 0x000001D225C418B0&gt;,\n",
       "             verbose=4)</pre><b>In a Jupyter environment, please rerun this cell to show the HTML representation or trust the notebook. <br />On GitHub, the HTML representation is unable to render, please try loading this page with nbviewer.org.</b></div><div class=\"sk-container\" hidden><div class=\"sk-item sk-dashed-wrapped\"><div class=\"sk-label-container\"><div class=\"sk-label sk-toggleable\"><input class=\"sk-toggleable__control sk-hidden--visually\" id=\"sk-estimator-id-44\" type=\"checkbox\" ><label for=\"sk-estimator-id-44\" class=\"sk-toggleable__label sk-toggleable__label-arrow\">GridSearchCV</label><div class=\"sk-toggleable__content\"><pre>GridSearchCV(cv=2,\n",
       "             estimator=XGBClassifier(base_score=None, booster=None,\n",
       "                                     colsample_bylevel=None,\n",
       "                                     colsample_bynode=None,\n",
       "                                     colsample_bytree=0.25,\n",
       "                                     enable_categorical=False,\n",
       "                                     eval_metric=&#x27;auc&#x27;, gamma=None, gpu_id=None,\n",
       "                                     importance_type=None,\n",
       "                                     interaction_constraints=None,\n",
       "                                     learning_rate=None, max_delta_step=None,\n",
       "                                     max_depth=None, min_child_weight=None,\n",
       "                                     missing=nan, monotone...\n",
       "                                     random_state=None, reg_alpha=None,\n",
       "                                     reg_lambda=None, scale_pos_weight=None,\n",
       "                                     subsample=0.5, tree_method=None,\n",
       "                                     use_label_encoder=False,\n",
       "                                     validate_parameters=None, verbosity=None),\n",
       "             param_grid={&#x27;learning_rate&#x27;: [0.02, 0.05, 0.1],\n",
       "                         &#x27;max_depth&#x27;: [2, 3, 5],\n",
       "                         &#x27;n_estimators&#x27;: [1000, 2000, 3000]},\n",
       "             return_train_score=True,\n",
       "             scoring=&lt;function my_roc_auc_score at 0x000001D225C418B0&gt;,\n",
       "             verbose=4)</pre></div></div></div><div class=\"sk-parallel\"><div class=\"sk-parallel-item\"><div class=\"sk-item\"><div class=\"sk-label-container\"><div class=\"sk-label sk-toggleable\"><input class=\"sk-toggleable__control sk-hidden--visually\" id=\"sk-estimator-id-45\" type=\"checkbox\" ><label for=\"sk-estimator-id-45\" class=\"sk-toggleable__label sk-toggleable__label-arrow\">estimator: XGBClassifier</label><div class=\"sk-toggleable__content\"><pre>XGBClassifier(base_score=None, booster=None, colsample_bylevel=None,\n",
       "              colsample_bynode=None, colsample_bytree=0.25,\n",
       "              enable_categorical=False, eval_metric=&#x27;auc&#x27;, gamma=None,\n",
       "              gpu_id=None, importance_type=None, interaction_constraints=None,\n",
       "              learning_rate=None, max_delta_step=None, max_depth=None,\n",
       "              min_child_weight=None, missing=nan, monotone_constraints=None,\n",
       "              n_estimators=100, n_jobs=None, num_parallel_tree=None,\n",
       "              predictor=None, random_state=None, reg_alpha=None,\n",
       "              reg_lambda=None, scale_pos_weight=None, subsample=0.5,\n",
       "              tree_method=None, use_label_encoder=False,\n",
       "              validate_parameters=None, verbosity=None)</pre></div></div></div><div class=\"sk-serial\"><div class=\"sk-item\"><div class=\"sk-estimator sk-toggleable\"><input class=\"sk-toggleable__control sk-hidden--visually\" id=\"sk-estimator-id-46\" type=\"checkbox\" ><label for=\"sk-estimator-id-46\" class=\"sk-toggleable__label sk-toggleable__label-arrow\">XGBClassifier</label><div class=\"sk-toggleable__content\"><pre>XGBClassifier(base_score=None, booster=None, colsample_bylevel=None,\n",
       "              colsample_bynode=None, colsample_bytree=0.25,\n",
       "              enable_categorical=False, eval_metric=&#x27;auc&#x27;, gamma=None,\n",
       "              gpu_id=None, importance_type=None, interaction_constraints=None,\n",
       "              learning_rate=None, max_delta_step=None, max_depth=None,\n",
       "              min_child_weight=None, missing=nan, monotone_constraints=None,\n",
       "              n_estimators=100, n_jobs=None, num_parallel_tree=None,\n",
       "              predictor=None, random_state=None, reg_alpha=None,\n",
       "              reg_lambda=None, scale_pos_weight=None, subsample=0.5,\n",
       "              tree_method=None, use_label_encoder=False,\n",
       "              validate_parameters=None, verbosity=None)</pre></div></div></div></div></div></div></div></div></div></div>"
      ],
      "text/plain": [
       "GridSearchCV(cv=2,\n",
       "             estimator=XGBClassifier(base_score=None, booster=None,\n",
       "                                     colsample_bylevel=None,\n",
       "                                     colsample_bynode=None,\n",
       "                                     colsample_bytree=0.25,\n",
       "                                     enable_categorical=False,\n",
       "                                     eval_metric='auc', gamma=None, gpu_id=None,\n",
       "                                     importance_type=None,\n",
       "                                     interaction_constraints=None,\n",
       "                                     learning_rate=None, max_delta_step=None,\n",
       "                                     max_depth=None, min_child_weight=None,\n",
       "                                     missing=nan, monotone...\n",
       "                                     random_state=None, reg_alpha=None,\n",
       "                                     reg_lambda=None, scale_pos_weight=None,\n",
       "                                     subsample=0.5, tree_method=None,\n",
       "                                     use_label_encoder=False,\n",
       "                                     validate_parameters=None, verbosity=None),\n",
       "             param_grid={'learning_rate': [0.02, 0.05, 0.1],\n",
       "                         'max_depth': [2, 3, 5],\n",
       "                         'n_estimators': [1000, 2000, 3000]},\n",
       "             return_train_score=True,\n",
       "             scoring=<function my_roc_auc_score at 0x000001D225C418B0>,\n",
       "             verbose=4)"
      ]
     },
     "execution_count": 241,
     "metadata": {},
     "output_type": "execute_result"
    }
   ],
   "source": [
    "def my_roc_auc_score(model, X, y): return roc_auc_score(y, model.predict_proba(X)[:,1])\n",
    "\n",
    "model_xgboost_hp = GridSearchCV(estimator=xgb.XGBClassifier(subsample=0.5,\n",
    "                                                                colsample_bytree=0.25,\n",
    "                                                                eval_metric='auc',\n",
    "                                                                use_label_encoder=False),\n",
    "                                param_grid=params_dict,\n",
    "                                cv=2,\n",
    "                                scoring=my_roc_auc_score,\n",
    "                                return_train_score=True,\n",
    "                                verbose=4)\n",
    "\n",
    "model_xgboost_hp.fit(X_XGtrain,y_XGtrain)"
   ]
  },
  {
   "cell_type": "code",
   "execution_count": 242,
   "id": "743957a2",
   "metadata": {},
   "outputs": [
    {
     "data": {
      "text/plain": [
       "{'learning_rate': 0.02, 'max_depth': 2, 'n_estimators': 1000}"
      ]
     },
     "execution_count": 242,
     "metadata": {},
     "output_type": "execute_result"
    }
   ],
   "source": [
    "model_xgboost_hp.best_params_"
   ]
  },
  {
   "cell_type": "code",
   "execution_count": 125,
   "id": "be374f4c",
   "metadata": {},
   "outputs": [
    {
     "name": "stdout",
     "output_type": "stream",
     "text": [
      "[0]\tvalidation_0-auc:0.78669\n",
      "[1]\tvalidation_0-auc:0.78797\n",
      "[2]\tvalidation_0-auc:0.79301\n",
      "[3]\tvalidation_0-auc:0.81494\n",
      "[4]\tvalidation_0-auc:0.82489\n",
      "[5]\tvalidation_0-auc:0.82644\n",
      "[6]\tvalidation_0-auc:0.82522\n",
      "[7]\tvalidation_0-auc:0.82222\n",
      "[8]\tvalidation_0-auc:0.82644\n",
      "[9]\tvalidation_0-auc:0.83000\n",
      "[10]\tvalidation_0-auc:0.83022\n",
      "[11]\tvalidation_0-auc:0.83254\n",
      "[12]\tvalidation_0-auc:0.83303\n",
      "[13]\tvalidation_0-auc:0.83184\n",
      "[14]\tvalidation_0-auc:0.83229\n",
      "[15]\tvalidation_0-auc:0.83160\n",
      "[16]\tvalidation_0-auc:0.83317\n",
      "[17]\tvalidation_0-auc:0.83323\n",
      "[18]\tvalidation_0-auc:0.83221\n",
      "[19]\tvalidation_0-auc:0.83275\n",
      "[20]\tvalidation_0-auc:0.83210\n",
      "[21]\tvalidation_0-auc:0.83301\n",
      "[22]\tvalidation_0-auc:0.83332\n",
      "[23]\tvalidation_0-auc:0.83363\n",
      "[24]\tvalidation_0-auc:0.83397\n",
      "[25]\tvalidation_0-auc:0.83446\n",
      "[26]\tvalidation_0-auc:0.83454\n",
      "[27]\tvalidation_0-auc:0.83375\n",
      "[28]\tvalidation_0-auc:0.83356\n",
      "[29]\tvalidation_0-auc:0.83439\n",
      "[30]\tvalidation_0-auc:0.83546\n",
      "[31]\tvalidation_0-auc:0.83525\n",
      "[32]\tvalidation_0-auc:0.83573\n",
      "[33]\tvalidation_0-auc:0.83706\n",
      "[34]\tvalidation_0-auc:0.83845\n",
      "[35]\tvalidation_0-auc:0.83767\n",
      "[36]\tvalidation_0-auc:0.83824\n",
      "[37]\tvalidation_0-auc:0.83814\n",
      "[38]\tvalidation_0-auc:0.83729\n",
      "[39]\tvalidation_0-auc:0.83810\n",
      "[40]\tvalidation_0-auc:0.83779\n",
      "[41]\tvalidation_0-auc:0.83795\n",
      "[42]\tvalidation_0-auc:0.83839\n",
      "[43]\tvalidation_0-auc:0.83807\n",
      "[44]\tvalidation_0-auc:0.83859\n",
      "[45]\tvalidation_0-auc:0.83851\n",
      "[46]\tvalidation_0-auc:0.83890\n",
      "[47]\tvalidation_0-auc:0.83896\n",
      "[48]\tvalidation_0-auc:0.83915\n",
      "[49]\tvalidation_0-auc:0.83866\n",
      "[50]\tvalidation_0-auc:0.83903\n",
      "[51]\tvalidation_0-auc:0.83848\n",
      "[52]\tvalidation_0-auc:0.83820\n",
      "[53]\tvalidation_0-auc:0.83847\n",
      "[54]\tvalidation_0-auc:0.83908\n",
      "[55]\tvalidation_0-auc:0.83863\n",
      "[56]\tvalidation_0-auc:0.83945\n",
      "[57]\tvalidation_0-auc:0.83935\n",
      "[58]\tvalidation_0-auc:0.83913\n",
      "[59]\tvalidation_0-auc:0.83920\n",
      "[60]\tvalidation_0-auc:0.83883\n",
      "[61]\tvalidation_0-auc:0.83907\n",
      "[62]\tvalidation_0-auc:0.83890\n",
      "[63]\tvalidation_0-auc:0.83876\n",
      "[64]\tvalidation_0-auc:0.83870\n",
      "[65]\tvalidation_0-auc:0.83856\n",
      "[66]\tvalidation_0-auc:0.83857\n"
     ]
    },
    {
     "data": {
      "text/html": [
       "<style>#sk-container-id-2 {color: black;background-color: white;}#sk-container-id-2 pre{padding: 0;}#sk-container-id-2 div.sk-toggleable {background-color: white;}#sk-container-id-2 label.sk-toggleable__label {cursor: pointer;display: block;width: 100%;margin-bottom: 0;padding: 0.3em;box-sizing: border-box;text-align: center;}#sk-container-id-2 label.sk-toggleable__label-arrow:before {content: \"▸\";float: left;margin-right: 0.25em;color: #696969;}#sk-container-id-2 label.sk-toggleable__label-arrow:hover:before {color: black;}#sk-container-id-2 div.sk-estimator:hover label.sk-toggleable__label-arrow:before {color: black;}#sk-container-id-2 div.sk-toggleable__content {max-height: 0;max-width: 0;overflow: hidden;text-align: left;background-color: #f0f8ff;}#sk-container-id-2 div.sk-toggleable__content pre {margin: 0.2em;color: black;border-radius: 0.25em;background-color: #f0f8ff;}#sk-container-id-2 input.sk-toggleable__control:checked~div.sk-toggleable__content {max-height: 200px;max-width: 100%;overflow: auto;}#sk-container-id-2 input.sk-toggleable__control:checked~label.sk-toggleable__label-arrow:before {content: \"▾\";}#sk-container-id-2 div.sk-estimator input.sk-toggleable__control:checked~label.sk-toggleable__label {background-color: #d4ebff;}#sk-container-id-2 div.sk-label input.sk-toggleable__control:checked~label.sk-toggleable__label {background-color: #d4ebff;}#sk-container-id-2 input.sk-hidden--visually {border: 0;clip: rect(1px 1px 1px 1px);clip: rect(1px, 1px, 1px, 1px);height: 1px;margin: -1px;overflow: hidden;padding: 0;position: absolute;width: 1px;}#sk-container-id-2 div.sk-estimator {font-family: monospace;background-color: #f0f8ff;border: 1px dotted black;border-radius: 0.25em;box-sizing: border-box;margin-bottom: 0.5em;}#sk-container-id-2 div.sk-estimator:hover {background-color: #d4ebff;}#sk-container-id-2 div.sk-parallel-item::after {content: \"\";width: 100%;border-bottom: 1px solid gray;flex-grow: 1;}#sk-container-id-2 div.sk-label:hover label.sk-toggleable__label {background-color: #d4ebff;}#sk-container-id-2 div.sk-serial::before {content: \"\";position: absolute;border-left: 1px solid gray;box-sizing: border-box;top: 0;bottom: 0;left: 50%;z-index: 0;}#sk-container-id-2 div.sk-serial {display: flex;flex-direction: column;align-items: center;background-color: white;padding-right: 0.2em;padding-left: 0.2em;position: relative;}#sk-container-id-2 div.sk-item {position: relative;z-index: 1;}#sk-container-id-2 div.sk-parallel {display: flex;align-items: stretch;justify-content: center;background-color: white;position: relative;}#sk-container-id-2 div.sk-item::before, #sk-container-id-2 div.sk-parallel-item::before {content: \"\";position: absolute;border-left: 1px solid gray;box-sizing: border-box;top: 0;bottom: 0;left: 50%;z-index: -1;}#sk-container-id-2 div.sk-parallel-item {display: flex;flex-direction: column;z-index: 1;position: relative;background-color: white;}#sk-container-id-2 div.sk-parallel-item:first-child::after {align-self: flex-end;width: 50%;}#sk-container-id-2 div.sk-parallel-item:last-child::after {align-self: flex-start;width: 50%;}#sk-container-id-2 div.sk-parallel-item:only-child::after {width: 0;}#sk-container-id-2 div.sk-dashed-wrapped {border: 1px dashed gray;margin: 0 0.4em 0.5em 0.4em;box-sizing: border-box;padding-bottom: 0.4em;background-color: white;}#sk-container-id-2 div.sk-label label {font-family: monospace;font-weight: bold;display: inline-block;line-height: 1.2em;}#sk-container-id-2 div.sk-label-container {text-align: center;}#sk-container-id-2 div.sk-container {/* jupyter's `normalize.less` sets `[hidden] { display: none; }` but bootstrap.min.css set `[hidden] { display: none !important; }` so we also need the `!important` here to be able to override the default hidden behavior on the sphinx rendered scikit-learn.org. See: https://github.com/scikit-learn/scikit-learn/issues/21755 */display: inline-block !important;position: relative;}#sk-container-id-2 div.sk-text-repr-fallback {display: none;}</style><div id=\"sk-container-id-2\" class=\"sk-top-container\"><div class=\"sk-text-repr-fallback\"><pre>XGBClassifier(base_score=0.5, booster=&#x27;gbtree&#x27;, colsample_bylevel=1,\n",
       "              colsample_bynode=1, colsample_bytree=0.5,\n",
       "              enable_categorical=False, eval_metric=&#x27;auc&#x27;, gamma=0, gpu_id=-1,\n",
       "              importance_type=None, interaction_constraints=&#x27;&#x27;,\n",
       "              learning_rate=0.02, max_delta_step=0, max_depth=2,\n",
       "              min_child_weight=1, missing=nan, monotone_constraints=&#x27;()&#x27;,\n",
       "              n_estimators=1000, n_jobs=4, num_parallel_tree=1,\n",
       "              predictor=&#x27;auto&#x27;, random_state=0, reg_alpha=0, reg_lambda=1,\n",
       "              scale_pos_weight=1, subsample=0.5, tree_method=&#x27;exact&#x27;,\n",
       "              validate_parameters=1, verbosity=1)</pre><b>In a Jupyter environment, please rerun this cell to show the HTML representation or trust the notebook. <br />On GitHub, the HTML representation is unable to render, please try loading this page with nbviewer.org.</b></div><div class=\"sk-container\" hidden><div class=\"sk-item\"><div class=\"sk-estimator sk-toggleable\"><input class=\"sk-toggleable__control sk-hidden--visually\" id=\"sk-estimator-id-2\" type=\"checkbox\" checked><label for=\"sk-estimator-id-2\" class=\"sk-toggleable__label sk-toggleable__label-arrow\">XGBClassifier</label><div class=\"sk-toggleable__content\"><pre>XGBClassifier(base_score=0.5, booster=&#x27;gbtree&#x27;, colsample_bylevel=1,\n",
       "              colsample_bynode=1, colsample_bytree=0.5,\n",
       "              enable_categorical=False, eval_metric=&#x27;auc&#x27;, gamma=0, gpu_id=-1,\n",
       "              importance_type=None, interaction_constraints=&#x27;&#x27;,\n",
       "              learning_rate=0.02, max_delta_step=0, max_depth=2,\n",
       "              min_child_weight=1, missing=nan, monotone_constraints=&#x27;()&#x27;,\n",
       "              n_estimators=1000, n_jobs=4, num_parallel_tree=1,\n",
       "              predictor=&#x27;auto&#x27;, random_state=0, reg_alpha=0, reg_lambda=1,\n",
       "              scale_pos_weight=1, subsample=0.5, tree_method=&#x27;exact&#x27;,\n",
       "              validate_parameters=1, verbosity=1)</pre></div></div></div></div></div>"
      ],
      "text/plain": [
       "XGBClassifier(base_score=0.5, booster='gbtree', colsample_bylevel=1,\n",
       "              colsample_bynode=1, colsample_bytree=0.5,\n",
       "              enable_categorical=False, eval_metric='auc', gamma=0, gpu_id=-1,\n",
       "              importance_type=None, interaction_constraints='',\n",
       "              learning_rate=0.02, max_delta_step=0, max_depth=2,\n",
       "              min_child_weight=1, missing=nan, monotone_constraints='()',\n",
       "              n_estimators=1000, n_jobs=4, num_parallel_tree=1,\n",
       "              predictor='auto', random_state=0, reg_alpha=0, reg_lambda=1,\n",
       "              scale_pos_weight=1, subsample=0.5, tree_method='exact',\n",
       "              validate_parameters=1, verbosity=1)"
      ]
     },
     "execution_count": 125,
     "metadata": {},
     "output_type": "execute_result"
    }
   ],
   "source": [
    "# Initiating XGboost object\n",
    "model_xgboost = xgb.XGBClassifier(learning_rate=0.02,\n",
    "                                      max_depth=2,\n",
    "                                      n_estimators=1000,\n",
    "                                      subsample=0.5,\n",
    "                                      colsample_bytree=0.5,\n",
    "                                      eval_metric='auc',\n",
    "                                      verbosity=1)\n",
    "\n",
    "\n",
    "eval_set = [(X_XGvalid, y_XGvalid)]\n",
    "\n",
    "model_xgboost.fit(X_XGtrain,\n",
    "                  y_XGtrain,\n",
    "                  early_stopping_rounds=10,\n",
    "                  eval_set=eval_set,\n",
    "                  verbose=True,\n",
    "                  sample_weight = weights)"
   ]
  },
  {
   "cell_type": "code",
   "execution_count": 126,
   "id": "e8c88472",
   "metadata": {},
   "outputs": [
    {
     "data": {
      "text/plain": [
       "{'accuracy': 0.7387847813742192,\n",
       " 'precision': array([0.9017341 , 0.50484094]),\n",
       " 'Weighted precision': 0.796481913606637,\n",
       " 'recall': array([0.72333849, 0.78158458]),\n",
       " 'Weighted recall': 0.7387847813742192,\n",
       " 'f1score': array([0.80274443, 0.61344538]),\n",
       " 'Weighted f1score': 0.7525441669767395}"
      ]
     },
     "execution_count": 126,
     "metadata": {},
     "output_type": "execute_result"
    }
   ],
   "source": [
    "preds = model_xgboost.predict(X_test_s)\n",
    "XG_result = evaluate_metrics(y_test,preds)\n",
    "XG_result"
   ]
  },
  {
   "cell_type": "code",
   "execution_count": 127,
   "id": "5e32476a",
   "metadata": {},
   "outputs": [
    {
     "name": "stdout",
     "output_type": "stream",
     "text": [
      "              precision    recall  f1-score   support\n",
      "\n",
      "           0       0.90      0.72      0.80      1294\n",
      "           1       0.50      0.78      0.61       467\n",
      "\n",
      "    accuracy                           0.74      1761\n",
      "   macro avg       0.70      0.75      0.71      1761\n",
      "weighted avg       0.80      0.74      0.75      1761\n",
      "\n"
     ]
    },
    {
     "data": {
      "image/png": "[encoded data removed]",
      "text/plain": [
       "<Figure size 864x576 with 2 Axes>"
      ]
     },
     "metadata": {
      "needs_background": "light"
     },
     "output_type": "display_data"
    }
   ],
   "source": [
    "# Results Breakdown\n",
    "print(classification_report(y_test, preds))\n",
    "\n",
    "sns.set_context('talk')\n",
    "cm = confusion_matrix(y_test, preds)\n",
    "plt.figure(figsize = (12,8)) \n",
    "ax = sns.heatmap(cm, annot=True, fmt='d', cmap='Blues',\n",
    "                xticklabels=['Not Churn 0', 'Churn 1'], \n",
    "                 yticklabels=['Not Churn 0', 'Churn 1'])\n",
    "ax.set(title=\"XGBoost Confusion Matrix\");\n",
    "ax.set_xlabel('Predicted');\n",
    "ax.set_ylabel('True');"
   ]
  },
  {
   "cell_type": "code",
   "execution_count": 128,
   "id": "2fe0b476",
   "metadata": {},
   "outputs": [
    {
     "data": {
      "text/plain": [
       "[0.7387847813742192, 0.796481913606637, 0.7387847813742192, 0.7525441669767395]"
      ]
     },
     "execution_count": 128,
     "metadata": {},
     "output_type": "execute_result"
    }
   ],
   "source": [
    "XG_results = list()\n",
    "for key in keys:\n",
    "       XG_results.append(XG_result.get(key))\n",
    "XG_results "
   ]
  },
  {
   "cell_type": "code",
   "execution_count": 129,
   "id": "1bfebcbc",
   "metadata": {},
   "outputs": [
    {
     "data": {
      "text/plain": [
       "[array([0.9017341 , 0.50484094]),\n",
       " array([0.72333849, 0.78158458]),\n",
       " array([0.80274443, 0.61344538])]"
      ]
     },
     "execution_count": 129,
     "metadata": {},
     "output_type": "execute_result"
    }
   ],
   "source": [
    "XG_rpf = []\n",
    "for element in elements:\n",
    "       XG_rpf.append(XG_result.get(element))\n",
    "XG_rpf "
   ]
  },
  {
   "cell_type": "code",
   "execution_count": 368,
   "id": "af18563a",
   "metadata": {},
   "outputs": [],
   "source": [
    "pickle.dump(model_xgboost, open('model_xgboost.p','wb')) # write it as bytes"
   ]
  },
  {
   "cell_type": "markdown",
   "id": "32895858",
   "metadata": {},
   "source": [
    "### e. Light Gradient Boosted Machine LGBM"
   ]
  },
  {
   "cell_type": "code",
   "execution_count": 67,
   "id": "50d87a4f",
   "metadata": {},
   "outputs": [
    {
     "data": {
      "text/plain": [
       "{'boosting_type': 'gbdt',\n",
       " 'class_weight': None,\n",
       " 'colsample_bytree': 1.0,\n",
       " 'importance_type': 'split',\n",
       " 'learning_rate': 0.1,\n",
       " 'max_depth': -1,\n",
       " 'min_child_samples': 20,\n",
       " 'min_child_weight': 0.001,\n",
       " 'min_split_gain': 0.0,\n",
       " 'n_estimators': 100,\n",
       " 'n_jobs': -1,\n",
       " 'num_leaves': 31,\n",
       " 'objective': None,\n",
       " 'random_state': None,\n",
       " 'reg_alpha': 0.0,\n",
       " 'reg_lambda': 0.0,\n",
       " 'silent': 'warn',\n",
       " 'subsample': 1.0,\n",
       " 'subsample_for_bin': 200000,\n",
       " 'subsample_freq': 0}"
      ]
     },
     "execution_count": 67,
     "metadata": {},
     "output_type": "execute_result"
    }
   ],
   "source": [
    "LGBMClassifier().get_params() # printing XGboost parameters"
   ]
  },
  {
   "cell_type": "code",
   "execution_count": 172,
   "id": "699bde3f",
   "metadata": {},
   "outputs": [
    {
     "data": {
      "text/plain": [
       "0.6398977444027638"
      ]
     },
     "execution_count": 172,
     "metadata": {},
     "output_type": "execute_result"
    }
   ],
   "source": [
    "# defining the parameters to be tuned:\n",
    "n_estimators= [100, 200, 300, 500, 1000]\n",
    "num_leaves= [15, 20, 30]\n",
    "colsample_bytree= [0.6, 0.8, 1]\n",
    "subsample= [0.6, 0.8, 1]\n",
    "max_depth= [1, 3, 5, 7, 9, 11]\n",
    "reg_alpha= [0.6, 0.8, 1]\n",
    "reg_lambda= [ 0.6, 0.8, 1]\n",
    "min_split_gain=[0.02, 0.04]\n",
    "learning_rate = [0.1, 0.2, 0.3]\n",
    "\n",
    "param_grid = {\n",
    "    'n_estimators':n_estimators,\n",
    "    'num_leaves':num_leaves,\n",
    "    'colsample_bytree':colsample_bytree,\n",
    "    'subsample':subsample,\n",
    "    'max_depth':max_depth,\n",
    "    'reg_alpha':reg_alpha,\n",
    "    'reg_lambda':reg_lambda,\n",
    "    'min_split_gain':min_split_gain,\n",
    "    'learning_rate':learning_rate\n",
    "    \n",
    "}\n",
    "\n",
    "LGBM_model = LGBMClassifier( random_state = rs, bootstrap = True, class_weight = class_weight )\n",
    "\n",
    "\n",
    "search_lgbm = GridSearchCV(estimator=LGBM_model,\n",
    "                      param_grid=param_grid,\n",
    "                      scoring='f1',\n",
    "                      cv=skf,\n",
    "                      n_jobs = -1) # creating GridSearchCV object\n",
    "\n",
    "search_lgbm.fit(X_train_s, y_train)\n",
    "search_lgbm.best_score_"
   ]
  },
  {
   "cell_type": "code",
   "execution_count": 173,
   "id": "a83974d3",
   "metadata": {},
   "outputs": [
    {
     "data": {
      "text/plain": [
       "{'colsample_bytree': 0.6,\n",
       " 'learning_rate': 0.2,\n",
       " 'max_depth': 1,\n",
       " 'min_split_gain': 0.02,\n",
       " 'n_estimators': 300,\n",
       " 'num_leaves': 15,\n",
       " 'reg_alpha': 0.6,\n",
       " 'reg_lambda': 0.8,\n",
       " 'subsample': 0.6}"
      ]
     },
     "execution_count": 173,
     "metadata": {},
     "output_type": "execute_result"
    }
   ],
   "source": [
    "search_lgbm.best_params_"
   ]
  },
  {
   "cell_type": "code",
   "execution_count": 147,
   "id": "2bc5c7ea",
   "metadata": {},
   "outputs": [
    {
     "data": {
      "text/html": [
       "<style>#sk-container-id-8 {color: black;background-color: white;}#sk-container-id-8 pre{padding: 0;}#sk-container-id-8 div.sk-toggleable {background-color: white;}#sk-container-id-8 label.sk-toggleable__label {cursor: pointer;display: block;width: 100%;margin-bottom: 0;padding: 0.3em;box-sizing: border-box;text-align: center;}#sk-container-id-8 label.sk-toggleable__label-arrow:before {content: \"▸\";float: left;margin-right: 0.25em;color: #696969;}#sk-container-id-8 label.sk-toggleable__label-arrow:hover:before {color: black;}#sk-container-id-8 div.sk-estimator:hover label.sk-toggleable__label-arrow:before {color: black;}#sk-container-id-8 div.sk-toggleable__content {max-height: 0;max-width: 0;overflow: hidden;text-align: left;background-color: #f0f8ff;}#sk-container-id-8 div.sk-toggleable__content pre {margin: 0.2em;color: black;border-radius: 0.25em;background-color: #f0f8ff;}#sk-container-id-8 input.sk-toggleable__control:checked~div.sk-toggleable__content {max-height: 200px;max-width: 100%;overflow: auto;}#sk-container-id-8 input.sk-toggleable__control:checked~label.sk-toggleable__label-arrow:before {content: \"▾\";}#sk-container-id-8 div.sk-estimator input.sk-toggleable__control:checked~label.sk-toggleable__label {background-color: #d4ebff;}#sk-container-id-8 div.sk-label input.sk-toggleable__control:checked~label.sk-toggleable__label {background-color: #d4ebff;}#sk-container-id-8 input.sk-hidden--visually {border: 0;clip: rect(1px 1px 1px 1px);clip: rect(1px, 1px, 1px, 1px);height: 1px;margin: -1px;overflow: hidden;padding: 0;position: absolute;width: 1px;}#sk-container-id-8 div.sk-estimator {font-family: monospace;background-color: #f0f8ff;border: 1px dotted black;border-radius: 0.25em;box-sizing: border-box;margin-bottom: 0.5em;}#sk-container-id-8 div.sk-estimator:hover {background-color: #d4ebff;}#sk-container-id-8 div.sk-parallel-item::after {content: \"\";width: 100%;border-bottom: 1px solid gray;flex-grow: 1;}#sk-container-id-8 div.sk-label:hover label.sk-toggleable__label {background-color: #d4ebff;}#sk-container-id-8 div.sk-serial::before {content: \"\";position: absolute;border-left: 1px solid gray;box-sizing: border-box;top: 0;bottom: 0;left: 50%;z-index: 0;}#sk-container-id-8 div.sk-serial {display: flex;flex-direction: column;align-items: center;background-color: white;padding-right: 0.2em;padding-left: 0.2em;position: relative;}#sk-container-id-8 div.sk-item {position: relative;z-index: 1;}#sk-container-id-8 div.sk-parallel {display: flex;align-items: stretch;justify-content: center;background-color: white;position: relative;}#sk-container-id-8 div.sk-item::before, #sk-container-id-8 div.sk-parallel-item::before {content: \"\";position: absolute;border-left: 1px solid gray;box-sizing: border-box;top: 0;bottom: 0;left: 50%;z-index: -1;}#sk-container-id-8 div.sk-parallel-item {display: flex;flex-direction: column;z-index: 1;position: relative;background-color: white;}#sk-container-id-8 div.sk-parallel-item:first-child::after {align-self: flex-end;width: 50%;}#sk-container-id-8 div.sk-parallel-item:last-child::after {align-self: flex-start;width: 50%;}#sk-container-id-8 div.sk-parallel-item:only-child::after {width: 0;}#sk-container-id-8 div.sk-dashed-wrapped {border: 1px dashed gray;margin: 0 0.4em 0.5em 0.4em;box-sizing: border-box;padding-bottom: 0.4em;background-color: white;}#sk-container-id-8 div.sk-label label {font-family: monospace;font-weight: bold;display: inline-block;line-height: 1.2em;}#sk-container-id-8 div.sk-label-container {text-align: center;}#sk-container-id-8 div.sk-container {/* jupyter's `normalize.less` sets `[hidden] { display: none; }` but bootstrap.min.css set `[hidden] { display: none !important; }` so we also need the `!important` here to be able to override the default hidden behavior on the sphinx rendered scikit-learn.org. See: https://github.com/scikit-learn/scikit-learn/issues/21755 */display: inline-block !important;position: relative;}#sk-container-id-8 div.sk-text-repr-fallback {display: none;}</style><div id=\"sk-container-id-8\" class=\"sk-top-container\"><div class=\"sk-text-repr-fallback\"><pre>LGBMClassifier(boosting_type=&#x27;goss&#x27;, class_weight={0: 0.26537, 1: 0.9},\n",
       "               colsample_bytree=0.6, learning_rate=0.2, max_depth=7,\n",
       "               min_split_gain=0.02, n_estimators=300, num_leaves=15,\n",
       "               reg_alpha=0.6, reg_lambda=0.8, subsample=0.6)</pre><b>In a Jupyter environment, please rerun this cell to show the HTML representation or trust the notebook. <br />On GitHub, the HTML representation is unable to render, please try loading this page with nbviewer.org.</b></div><div class=\"sk-container\" hidden><div class=\"sk-item\"><div class=\"sk-estimator sk-toggleable\"><input class=\"sk-toggleable__control sk-hidden--visually\" id=\"sk-estimator-id-8\" type=\"checkbox\" checked><label for=\"sk-estimator-id-8\" class=\"sk-toggleable__label sk-toggleable__label-arrow\">LGBMClassifier</label><div class=\"sk-toggleable__content\"><pre>LGBMClassifier(boosting_type=&#x27;goss&#x27;, class_weight={0: 0.26537, 1: 0.9},\n",
       "               colsample_bytree=0.6, learning_rate=0.2, max_depth=7,\n",
       "               min_split_gain=0.02, n_estimators=300, num_leaves=15,\n",
       "               reg_alpha=0.6, reg_lambda=0.8, subsample=0.6)</pre></div></div></div></div></div>"
      ],
      "text/plain": [
       "LGBMClassifier(boosting_type='goss', class_weight={0: 0.26537, 1: 0.9},\n",
       "               colsample_bytree=0.6, learning_rate=0.2, max_depth=7,\n",
       "               min_split_gain=0.02, n_estimators=300, num_leaves=15,\n",
       "               reg_alpha=0.6, reg_lambda=0.8, subsample=0.6)"
      ]
     },
     "execution_count": 147,
     "metadata": {},
     "output_type": "execute_result"
    }
   ],
   "source": [
    "\n",
    "class_weight = {0: 0.26537, \n",
    "                1: 0.9}\n",
    "\n",
    "clf_lgbm = LGBMClassifier(\n",
    "  learning_rate = 0.2,\n",
    "        n_estimators=300,\n",
    "        num_leaves=15,\n",
    "        colsample_bytree=0.6,\n",
    "        subsample= 0.6,\n",
    "        max_depth=7,\n",
    "        reg_alpha=0.6,\n",
    "        reg_lambda= 0.8,\n",
    "        min_split_gain=.02,\n",
    "        class_weight = class_weight,\n",
    "        boosting_type= 'goss'\n",
    "    )\n",
    "# using the same train and validations set we used in XGboost.\n",
    "clf_lgbm.fit(X_train_s,y_train,\n",
    "        eval_set= [(X_test_s, y_test)], \n",
    "        eval_metric='recall', \n",
    "        verbose=0, \n",
    "        early_stopping_rounds=30\n",
    "       )\n"
   ]
  },
  {
   "cell_type": "code",
   "execution_count": 148,
   "id": "98e7fb83",
   "metadata": {},
   "outputs": [
    {
     "data": {
      "text/plain": [
       "{'accuracy': 0.7410562180579217,\n",
       " 'precision': array([0.91403162, 0.50734312]),\n",
       " 'Weighted precision': 0.8061818035101427,\n",
       " 'recall': array([0.71483771, 0.8137045 ]),\n",
       " 'Weighted recall': 0.7410562180579217,\n",
       " 'f1score': array([0.80225499, 0.625     ]),\n",
       " 'Weighted f1score': 0.7552486957215531}"
      ]
     },
     "execution_count": 148,
     "metadata": {},
     "output_type": "execute_result"
    }
   ],
   "source": [
    "preds = clf_lgbm.predict(X_test_s)\n",
    "lgbm_result = evaluate_metrics(y_test,preds)\n",
    "lgbm_result\n"
   ]
  },
  {
   "cell_type": "code",
   "execution_count": 149,
   "id": "e71a8b0f",
   "metadata": {},
   "outputs": [
    {
     "name": "stdout",
     "output_type": "stream",
     "text": [
      "              precision    recall  f1-score   support\n",
      "\n",
      "           0       0.91      0.71      0.80      1294\n",
      "           1       0.51      0.81      0.62       467\n",
      "\n",
      "    accuracy                           0.74      1761\n",
      "   macro avg       0.71      0.76      0.71      1761\n",
      "weighted avg       0.81      0.74      0.76      1761\n",
      "\n"
     ]
    },
    {
     "data": {
      "image/png": "[encoded data removed]",
      "text/plain": [
       "<Figure size 864x576 with 2 Axes>"
      ]
     },
     "metadata": {
      "needs_background": "light"
     },
     "output_type": "display_data"
    }
   ],
   "source": [
    "# Results Breakdown\n",
    "print(classification_report(y_test, preds))\n",
    "\n",
    "sns.set_context('talk')\n",
    "cm = confusion_matrix(y_test, preds)\n",
    "plt.figure(figsize = (12,8)) \n",
    "ax = sns.heatmap(cm, annot=True, fmt='d', cmap='Blues',\n",
    "                xticklabels=['Not Churn 0', 'Churn 1'], \n",
    "                 yticklabels=['Not Churn 0', 'Churn 1'])\n",
    "ax.set(title=\"LGBM Confusion Matrix\");\n",
    "ax.set_xlabel('Predicted');\n",
    "ax.set_ylabel('True');"
   ]
  },
  {
   "cell_type": "code",
   "execution_count": 150,
   "id": "96253fcd",
   "metadata": {},
   "outputs": [
    {
     "data": {
      "text/plain": [
       "[0.7410562180579217,\n",
       " 0.8061818035101427,\n",
       " 0.7410562180579217,\n",
       " 0.7552486957215531]"
      ]
     },
     "execution_count": 150,
     "metadata": {},
     "output_type": "execute_result"
    }
   ],
   "source": [
    "LGBM_results = list()\n",
    "for key in keys:\n",
    "       LGBM_results.append(lgbm_result.get(key))\n",
    "LGBM_results "
   ]
  },
  {
   "cell_type": "code",
   "execution_count": 143,
   "id": "1a1b4036",
   "metadata": {},
   "outputs": [
    {
     "data": {
      "text/plain": [
       "[array([0.91403162, 0.50734312]),\n",
       " array([0.71483771, 0.8137045 ]),\n",
       " array([0.80225499, 0.625     ])]"
      ]
     },
     "execution_count": 143,
     "metadata": {},
     "output_type": "execute_result"
    }
   ],
   "source": [
    "LGBM_rpf = []\n",
    "for element in elements:\n",
    "       LGBM_rpf.append(lgbm_result.get(element))\n",
    "LGBM_rpf "
   ]
  },
  {
   "cell_type": "code",
   "execution_count": 144,
   "id": "533faaad",
   "metadata": {},
   "outputs": [],
   "source": [
    "pickle.dump(clf_lgbm, open('clf_lgbm.p','wb')) # write it as bytes"
   ]
  },
  {
   "cell_type": "code",
   "execution_count": 145,
   "id": "9efcda46",
   "metadata": {},
   "outputs": [
    {
     "data": {
      "text/html": [
       "<div>\n",
       "<style scoped>\n",
       "    .dataframe tbody tr th:only-of-type {\n",
       "        vertical-align: middle;\n",
       "    }\n",
       "\n",
       "    .dataframe tbody tr th {\n",
       "        vertical-align: top;\n",
       "    }\n",
       "\n",
       "    .dataframe thead th {\n",
       "        text-align: right;\n",
       "    }\n",
       "</style>\n",
       "<table border=\"1\" class=\"dataframe\">\n",
       "  <thead>\n",
       "    <tr style=\"text-align: right;\">\n",
       "      <th></th>\n",
       "      <th>Logistic Regression</th>\n",
       "      <th>SVM</th>\n",
       "      <th>Random Forest</th>\n",
       "      <th>XGboost</th>\n",
       "      <th>LGBM</th>\n",
       "    </tr>\n",
       "    <tr>\n",
       "      <th>Metric</th>\n",
       "      <th></th>\n",
       "      <th></th>\n",
       "      <th></th>\n",
       "      <th></th>\n",
       "      <th></th>\n",
       "    </tr>\n",
       "  </thead>\n",
       "  <tbody>\n",
       "    <tr>\n",
       "      <th>Accuracy</th>\n",
       "      <td>0.749006</td>\n",
       "      <td>0.733106</td>\n",
       "      <td>0.763771</td>\n",
       "      <td>0.738785</td>\n",
       "      <td>0.741056</td>\n",
       "    </tr>\n",
       "    <tr>\n",
       "      <th>Weighted Precision</th>\n",
       "      <td>0.798956</td>\n",
       "      <td>0.793380</td>\n",
       "      <td>0.796187</td>\n",
       "      <td>0.796482</td>\n",
       "      <td>0.806182</td>\n",
       "    </tr>\n",
       "    <tr>\n",
       "      <th>Weighted Recall</th>\n",
       "      <td>0.749006</td>\n",
       "      <td>0.733106</td>\n",
       "      <td>0.763771</td>\n",
       "      <td>0.738785</td>\n",
       "      <td>0.741056</td>\n",
       "    </tr>\n",
       "    <tr>\n",
       "      <th>Weighted F1score</th>\n",
       "      <td>0.761563</td>\n",
       "      <td>0.747354</td>\n",
       "      <td>0.773421</td>\n",
       "      <td>0.752544</td>\n",
       "      <td>0.755249</td>\n",
       "    </tr>\n",
       "  </tbody>\n",
       "</table>\n",
       "</div>"
      ],
      "text/plain": [
       "                     Logistic Regression       SVM  Random Forest   XGboost  \\\n",
       "Metric                                                                        \n",
       "Accuracy                        0.749006  0.733106       0.763771  0.738785   \n",
       " Weighted Precision             0.798956  0.793380       0.796187  0.796482   \n",
       "Weighted Recall                 0.749006  0.733106       0.763771  0.738785   \n",
       "Weighted F1score                0.761563  0.747354       0.773421  0.752544   \n",
       "\n",
       "                         LGBM  \n",
       "Metric                         \n",
       "Accuracy             0.741056  \n",
       " Weighted Precision  0.806182  \n",
       "Weighted Recall      0.741056  \n",
       "Weighted F1score     0.755249  "
      ]
     },
     "metadata": {},
     "output_type": "display_data"
    }
   ],
   "source": [
    "final_results= {\n",
    "    'Metric': ['Accuracy',' Weighted Precision','Weighted Recall','Weighted F1score'],\n",
    "    'Logistic Regression' :lr_results,\n",
    "    'SVM'                 :SVM_results,\n",
    "    'Random Forest'      :RF_results,\n",
    "    'XGboost'            :XG_results,\n",
    "    'LGBM'               :LGBM_results}\n",
    "final_results = pd.DataFrame(final_results).set_index('Metric')\n",
    "display(final_results)    "
   ]
  },
  {
   "cell_type": "code",
   "execution_count": 146,
   "id": "e659e2e4",
   "metadata": {},
   "outputs": [
    {
     "data": {
      "text/html": [
       "<div>\n",
       "<style scoped>\n",
       "    .dataframe tbody tr th:only-of-type {\n",
       "        vertical-align: middle;\n",
       "    }\n",
       "\n",
       "    .dataframe tbody tr th {\n",
       "        vertical-align: top;\n",
       "    }\n",
       "\n",
       "    .dataframe thead th {\n",
       "        text-align: right;\n",
       "    }\n",
       "</style>\n",
       "<table border=\"1\" class=\"dataframe\">\n",
       "  <thead>\n",
       "    <tr style=\"text-align: right;\">\n",
       "      <th>classes</th>\n",
       "      <th>0</th>\n",
       "      <th>1</th>\n",
       "    </tr>\n",
       "  </thead>\n",
       "  <tbody>\n",
       "    <tr>\n",
       "      <th>LR Precision</th>\n",
       "      <td>0.900376</td>\n",
       "      <td>0.517934</td>\n",
       "    </tr>\n",
       "    <tr>\n",
       "      <th>LR Recall</th>\n",
       "      <td>0.740340</td>\n",
       "      <td>0.773019</td>\n",
       "    </tr>\n",
       "    <tr>\n",
       "      <th>LR F1score</th>\n",
       "      <td>0.812553</td>\n",
       "      <td>0.620275</td>\n",
       "    </tr>\n",
       "    <tr>\n",
       "      <th>SVM Precision</th>\n",
       "      <td>0.900000</td>\n",
       "      <td>0.497948</td>\n",
       "    </tr>\n",
       "    <tr>\n",
       "      <th>SVM Recall</th>\n",
       "      <td>0.716383</td>\n",
       "      <td>0.779443</td>\n",
       "    </tr>\n",
       "    <tr>\n",
       "      <th>SVM F1score</th>\n",
       "      <td>0.797762</td>\n",
       "      <td>0.607679</td>\n",
       "    </tr>\n",
       "    <tr>\n",
       "      <th>RF Precision</th>\n",
       "      <td>0.888496</td>\n",
       "      <td>0.540412</td>\n",
       "    </tr>\n",
       "    <tr>\n",
       "      <th>RF Recall</th>\n",
       "      <td>0.775889</td>\n",
       "      <td>0.730193</td>\n",
       "    </tr>\n",
       "    <tr>\n",
       "      <th>RF F1 score</th>\n",
       "      <td>0.828383</td>\n",
       "      <td>0.621129</td>\n",
       "    </tr>\n",
       "    <tr>\n",
       "      <th>XG Precision</th>\n",
       "      <td>0.901734</td>\n",
       "      <td>0.504841</td>\n",
       "    </tr>\n",
       "    <tr>\n",
       "      <th>XG Recall</th>\n",
       "      <td>0.723338</td>\n",
       "      <td>0.781585</td>\n",
       "    </tr>\n",
       "    <tr>\n",
       "      <th>XG F1 score</th>\n",
       "      <td>0.802744</td>\n",
       "      <td>0.613445</td>\n",
       "    </tr>\n",
       "    <tr>\n",
       "      <th>LGBM Precision</th>\n",
       "      <td>0.914032</td>\n",
       "      <td>0.507343</td>\n",
       "    </tr>\n",
       "    <tr>\n",
       "      <th>LGBM Recall</th>\n",
       "      <td>0.714838</td>\n",
       "      <td>0.813704</td>\n",
       "    </tr>\n",
       "    <tr>\n",
       "      <th>LGBM F1 score</th>\n",
       "      <td>0.802255</td>\n",
       "      <td>0.625000</td>\n",
       "    </tr>\n",
       "  </tbody>\n",
       "</table>\n",
       "</div>"
      ],
      "text/plain": [
       "classes                0         1\n",
       "LR Precision    0.900376  0.517934\n",
       "LR Recall       0.740340  0.773019\n",
       "LR F1score      0.812553  0.620275\n",
       "SVM Precision   0.900000  0.497948\n",
       "SVM Recall      0.716383  0.779443\n",
       "SVM F1score     0.797762  0.607679\n",
       "RF Precision    0.888496  0.540412\n",
       "RF Recall       0.775889  0.730193\n",
       "RF F1 score     0.828383  0.621129\n",
       "XG Precision    0.901734  0.504841\n",
       "XG Recall       0.723338  0.781585\n",
       "XG F1 score     0.802744  0.613445\n",
       "LGBM Precision  0.914032  0.507343\n",
       "LGBM Recall     0.714838  0.813704\n",
       "LGBM F1 score   0.802255  0.625000"
      ]
     },
     "execution_count": 146,
     "metadata": {},
     "output_type": "execute_result"
    }
   ],
   "source": [
    "final_results_per_class = {\n",
    "    'classes': [0,1],\n",
    "    'LR Precision' :lr_rpf[0],\n",
    "    'LR Recall' :lr_rpf[1],\n",
    "    'LR F1score' :lr_rpf[2],\n",
    "    'SVM Precision':SVM_rpf[0],\n",
    "    'SVM Recall':SVM_rpf[1],\n",
    "    'SVM F1score':SVM_rpf[2],\n",
    "    'RF Precision':RF_rpf[0],\n",
    "    'RF Recall':RF_rpf[1],\n",
    "    'RF F1 score':RF_rpf[2],\n",
    "    'XG Precision':XG_rpf[0],\n",
    "    'XG Recall':XG_rpf[1],\n",
    "    'XG F1 score':XG_rpf[2],\n",
    "    'LGBM Precision':LGBM_rpf[0],\n",
    "    'LGBM Recall':LGBM_rpf[1],\n",
    "    'LGBM F1 score':LGBM_rpf[2]}\n",
    "final_results_per_class = pd.DataFrame(final_results_per_class).set_index('classes')\n",
    "final_results_per_class.T"
   ]
  },
  {
   "cell_type": "markdown",
   "id": "03fc96c5",
   "metadata": {},
   "source": [
    "### main outcomes:"
   ]
  },
  {
   "cell_type": "markdown",
   "id": "b54e7854",
   "metadata": {},
   "source": [
    "* The data is sckewed by a percentage of approximately 70% to those who did not churn\n",
    "* Random Forest Scored the highest accuracy, however, since reducing the number of churn is our main target, accuracy is not enough as a pefromance metrics\n",
    "* XGboost scored the highest recall for churn class (1).however, it scored poorly on those who didn't churn which makes the prediction ineligible.\n",
    "* LGBM scored decent recall average as it's weighted recall is not scewed by class 0"
   ]
  },
  {
   "cell_type": "markdown",
   "id": "fa29915e",
   "metadata": {},
   "source": [
    "### Proposal for feature work:\n",
    "* implementing LGBM model on a larger dataset (more than 10000 rows), since it's not suitable for small datasets and tuning it's parameters in small datasets has an unoticeable effect"
   ]
  }
 ],
 "metadata": {
  "kernelspec": {
   "display_name": "Python 3",
   "language": "python",
   "name": "python3"
  },
  "language_info": {
   "codemirror_mode": {
    "name": "ipython",
    "version": 3
   },
   "file_extension": ".py",
   "mimetype": "text/x-python",
   "name": "python",
   "nbconvert_exporter": "python",
   "pygments_lexer": "ipython3",
   "version": "3.8.8"
  }
 },
 "nbformat": 4,
 "nbformat_minor": 5
}
