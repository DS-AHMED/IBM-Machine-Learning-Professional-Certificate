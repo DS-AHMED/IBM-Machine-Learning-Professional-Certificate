{
 "cells": [
  {
   "cell_type": "markdown",
   "id": "79fb106b",
   "metadata": {},
   "source": [
    "# Data Science Research Project 2\n",
    "## Pridicting Customer Churn in Telecom Industry \n",
    "\n",
    "<b>1- General Information about the dataset</b>"
   ]
  },
  {
   "cell_type": "markdown",
   "id": "d8351365",
   "metadata": {},
   "source": [
    "<b>2- Project Opjectives:\n",
    "* to utilize light gradient boosted machine (LGBM) in predicting customer churn and understand features importance.\n",
    "* modeling umbalanced classes.\n",
    "* to tune LGBM parameters using GridSearchCV to find the best performing parametes that suits the dataset.\n",
    "* benchmarking the results to other research papers that used the same dataset for churn prediction.</b>"
   ]
  },
  {
   "cell_type": "markdown",
   "id": "4eb977b7",
   "metadata": {},
   "source": [
    "### Required Libraries"
   ]
  },
  {
   "cell_type": "code",
   "execution_count": 1,
   "id": "d14d3baf",
   "metadata": {},
   "outputs": [
    {
     "name": "stderr",
     "output_type": "stream",
     "text": [
      "C:\\Users\\HP\\anaconda3\\lib\\site-packages\\xgboost\\compat.py:36: FutureWarning: pandas.Int64Index is deprecated and will be removed from pandas in a future version. Use pandas.Index with the appropriate dtype instead.\n",
      "  from pandas import MultiIndex, Int64Index\n",
      "C:\\Users\\HP\\anaconda3\\lib\\site-packages\\dask\\dataframe\\utils.py:369: FutureWarning: pandas.Int64Index is deprecated and will be removed from pandas in a future version. Use pandas.Index with the appropriate dtype instead.\n",
      "  _numeric_index_types = (pd.Int64Index, pd.Float64Index, pd.UInt64Index)\n",
      "C:\\Users\\HP\\anaconda3\\lib\\site-packages\\dask\\dataframe\\utils.py:369: FutureWarning: pandas.Float64Index is deprecated and will be removed from pandas in a future version. Use pandas.Index with the appropriate dtype instead.\n",
      "  _numeric_index_types = (pd.Int64Index, pd.Float64Index, pd.UInt64Index)\n",
      "C:\\Users\\HP\\anaconda3\\lib\\site-packages\\dask\\dataframe\\utils.py:369: FutureWarning: pandas.UInt64Index is deprecated and will be removed from pandas in a future version. Use pandas.Index with the appropriate dtype instead.\n",
      "  _numeric_index_types = (pd.Int64Index, pd.Float64Index, pd.UInt64Index)\n"
     ]
    }
   ],
   "source": [
    "# Dataframe and plotting libraries\n",
    "import numpy as np # For linear algebra\n",
    "import pandas as pd # For data frame manipulation\n",
    "import seaborn as sns # For visualization I\n",
    "import matplotlib.pyplot as plt # For visualization II\n",
    "\n",
    "\n",
    "# Machine Learing libraries\n",
    "from sklearn.linear_model import LogisticRegression # Model 1\n",
    "from sklearn.ensemble import RandomForestClassifier # Model 2\n",
    "from sklearn.svm import SVC                         # Model 3\n",
    "import xgboost as xgb                               # Model 4\n",
    "from lightgbm import LGBMClassifier                 # Model 5\n",
    "\n",
    "from sklearn.model_selection import StratifiedShuffleSplit # To stratify split\n",
    "from sklearn.model_selection import StratifiedKFold # To stratify kfolds\n",
    "from sklearn.model_selection import GridSearchCV # To find best parameters \n",
    "from sklearn.metrics import accuracy_score, precision_recall_fscore_support # To evaluate models\n",
    "from sklearn.metrics import classification_report # To evaluate models\n",
    "from sklearn.metrics import confusion_matrix # To plot models outcome\n",
    "\n",
    "\n",
    "from sklearn.preprocessing import MinMaxScaler # To scale data\n",
    "from imblearn.under_sampling import RandomUnderSampler # To undersample data\n",
    "from imblearn.over_sampling import RandomOverSampler, SMOTE # To oversample and resample data\n",
    "\n",
    "\n",
    "\n",
    "# Utility library\n",
    "import pickle # Save the ML object model.\n",
    "import os # To access directory\n",
    "import warnings  # To mute warnings\n",
    "warnings.filterwarnings(\"ignore\") # Mute warning\n",
    "\n",
    "%matplotlib inline "
   ]
  },
  {
   "cell_type": "markdown",
   "id": "8dc64d13",
   "metadata": {},
   "source": [
    "## Useful function for evaluation"
   ]
  },
  {
   "cell_type": "code",
   "execution_count": 2,
   "id": "37acfd60",
   "metadata": {},
   "outputs": [],
   "source": [
    "# Defining auxiliary function 1\n",
    "rs = 123 # Setting random state to '123' in all models and sampling.\n",
    "\n",
    "# Defining auxiliary function 2\n",
    "# evaluation metrics stored in a dictionary\n",
    "def evaluate_metrics(yt, yp):\n",
    "    results_pos = {}\n",
    "    results_pos['accuracy'] = accuracy_score(yt, yp)\n",
    "    \n",
    "    precision, recall, f_beta, _ = precision_recall_fscore_support(yt, yp)\n",
    "    W_precision, W_recall, W_fbeta, _ = precision_recall_fscore_support(yt, yp, average = 'weighted')\n",
    "    \n",
    "    results_pos['precision'] = precision\n",
    "    results_pos['Weighted precision'] = W_precision\n",
    "    results_pos['recall'] = recall\n",
    "    results_pos['Weighted recall'] = W_recall\n",
    "    results_pos['f1score'] = f_beta\n",
    "    results_pos['Weighted f1score'] = W_fbeta\n",
    "    return results_pos\n",
    "\n",
    "# Extract and sort feature coefficients\n",
    "def get_feature_coefs(regression_model, label_index, columns):\n",
    "    coef_dict = {}\n",
    "    for coef, feat in zip(regression_model.coef_[label_index, :], columns):\n",
    "        if abs(coef) >= 0.01:\n",
    "            coef_dict[feat] = coef\n",
    "    # Sort coefficients\n",
    "    coef_dict = {k: v for k, v in sorted(coef_dict.items(), key=lambda item: item[1])}\n",
    "    return coef_dict\n",
    "\n",
    "# Generate bar colors based on if value is negative or positive\n",
    "def get_bar_colors(values):\n",
    "    color_vals = []\n",
    "    for val in values:\n",
    "        if val <= 0:\n",
    "            color_vals.append('r')\n",
    "        else:\n",
    "            color_vals.append('g')\n",
    "    return color_vals\n",
    "\n",
    "# Visualize coefficients\n",
    "def visualize_coefs(coef_dict):\n",
    "    features = list(coef_dict.keys())\n",
    "    values = list(coef_dict.values())\n",
    "    y_pos = np.arange(len(features))\n",
    "    color_vals = get_bar_colors(values)\n",
    "    plt.rcdefaults()\n",
    "    fig, ax = plt.subplots(figsize = (10, 6))\n",
    "    ax.barh(y_pos, values, align='center', color=color_vals)\n",
    "    ax.set_yticks(y_pos)\n",
    "    ax.set_yticklabels(features)\n",
    "    # labels read top-to-bottom\n",
    "    ax.invert_yaxis()  \n",
    "    ax.set_xlabel('Feature Coefficients')\n",
    "    ax.set_title('')\n",
    "    plt.show()\n",
    "    "
   ]
  },
  {
   "cell_type": "markdown",
   "id": "3a6cca2c",
   "metadata": {},
   "source": [
    "## Importing the dataset"
   ]
  },
  {
   "cell_type": "code",
   "execution_count": 53,
   "id": "1b464f2c",
   "metadata": {},
   "outputs": [],
   "source": [
    "df = pd.read_csv('Telecom_customer_churn.csv')# Reading the dataset\n",
    "df = df.rename(columns = {\"change_mou\": \"tenure\", \"mou_Mean\": \"contract\"})"
   ]
  },
  {
   "cell_type": "markdown",
   "id": "5e43bbba",
   "metadata": {},
   "source": [
    "## Preprossing and General Understanding of the Data"
   ]
  },
  {
   "cell_type": "code",
   "execution_count": 54,
   "id": "45fde02f",
   "metadata": {},
   "outputs": [
    {
     "name": "stdout",
     "output_type": "stream",
     "text": [
      "The dataset first three rows are\n"
     ]
    },
    {
     "data": {
      "text/html": [
       "<div>\n",
       "<style scoped>\n",
       "    .dataframe tbody tr th:only-of-type {\n",
       "        vertical-align: middle;\n",
       "    }\n",
       "\n",
       "    .dataframe tbody tr th {\n",
       "        vertical-align: top;\n",
       "    }\n",
       "\n",
       "    .dataframe thead th {\n",
       "        text-align: right;\n",
       "    }\n",
       "</style>\n",
       "<table border=\"1\" class=\"dataframe\">\n",
       "  <thead>\n",
       "    <tr style=\"text-align: right;\">\n",
       "      <th></th>\n",
       "      <th>rev_Mean</th>\n",
       "      <th>contract</th>\n",
       "      <th>totmrc_Mean</th>\n",
       "      <th>da_Mean</th>\n",
       "      <th>ovrmou_Mean</th>\n",
       "      <th>ovrrev_Mean</th>\n",
       "      <th>vceovr_Mean</th>\n",
       "      <th>datovr_Mean</th>\n",
       "      <th>roam_Mean</th>\n",
       "      <th>tenure</th>\n",
       "      <th>...</th>\n",
       "      <th>forgntvl</th>\n",
       "      <th>ethnic</th>\n",
       "      <th>kid0_2</th>\n",
       "      <th>kid3_5</th>\n",
       "      <th>kid6_10</th>\n",
       "      <th>kid11_15</th>\n",
       "      <th>kid16_17</th>\n",
       "      <th>creditcd</th>\n",
       "      <th>eqpdays</th>\n",
       "      <th>Customer_ID</th>\n",
       "    </tr>\n",
       "  </thead>\n",
       "  <tbody>\n",
       "    <tr>\n",
       "      <th>0</th>\n",
       "      <td>23.9975</td>\n",
       "      <td>219.25</td>\n",
       "      <td>22.500</td>\n",
       "      <td>0.2475</td>\n",
       "      <td>0.00</td>\n",
       "      <td>0.0</td>\n",
       "      <td>0.0</td>\n",
       "      <td>0.0</td>\n",
       "      <td>0.0</td>\n",
       "      <td>-157.25</td>\n",
       "      <td>...</td>\n",
       "      <td>0.0</td>\n",
       "      <td>N</td>\n",
       "      <td>U</td>\n",
       "      <td>U</td>\n",
       "      <td>U</td>\n",
       "      <td>U</td>\n",
       "      <td>U</td>\n",
       "      <td>Y</td>\n",
       "      <td>361.0</td>\n",
       "      <td>1000001</td>\n",
       "    </tr>\n",
       "    <tr>\n",
       "      <th>1</th>\n",
       "      <td>57.4925</td>\n",
       "      <td>482.75</td>\n",
       "      <td>37.425</td>\n",
       "      <td>0.2475</td>\n",
       "      <td>22.75</td>\n",
       "      <td>9.1</td>\n",
       "      <td>9.1</td>\n",
       "      <td>0.0</td>\n",
       "      <td>0.0</td>\n",
       "      <td>532.25</td>\n",
       "      <td>...</td>\n",
       "      <td>0.0</td>\n",
       "      <td>Z</td>\n",
       "      <td>U</td>\n",
       "      <td>U</td>\n",
       "      <td>U</td>\n",
       "      <td>U</td>\n",
       "      <td>U</td>\n",
       "      <td>Y</td>\n",
       "      <td>240.0</td>\n",
       "      <td>1000002</td>\n",
       "    </tr>\n",
       "    <tr>\n",
       "      <th>2</th>\n",
       "      <td>16.9900</td>\n",
       "      <td>10.25</td>\n",
       "      <td>16.990</td>\n",
       "      <td>0.0000</td>\n",
       "      <td>0.00</td>\n",
       "      <td>0.0</td>\n",
       "      <td>0.0</td>\n",
       "      <td>0.0</td>\n",
       "      <td>0.0</td>\n",
       "      <td>-4.25</td>\n",
       "      <td>...</td>\n",
       "      <td>0.0</td>\n",
       "      <td>N</td>\n",
       "      <td>U</td>\n",
       "      <td>Y</td>\n",
       "      <td>U</td>\n",
       "      <td>U</td>\n",
       "      <td>U</td>\n",
       "      <td>Y</td>\n",
       "      <td>1504.0</td>\n",
       "      <td>1000003</td>\n",
       "    </tr>\n",
       "  </tbody>\n",
       "</table>\n",
       "<p>3 rows × 100 columns</p>\n",
       "</div>"
      ],
      "text/plain": [
       "   rev_Mean  contract  totmrc_Mean  da_Mean  ovrmou_Mean  ovrrev_Mean  \\\n",
       "0   23.9975    219.25       22.500   0.2475         0.00          0.0   \n",
       "1   57.4925    482.75       37.425   0.2475        22.75          9.1   \n",
       "2   16.9900     10.25       16.990   0.0000         0.00          0.0   \n",
       "\n",
       "   vceovr_Mean  datovr_Mean  roam_Mean  tenure  ...  forgntvl  ethnic  kid0_2  \\\n",
       "0          0.0          0.0        0.0 -157.25  ...       0.0       N       U   \n",
       "1          9.1          0.0        0.0  532.25  ...       0.0       Z       U   \n",
       "2          0.0          0.0        0.0   -4.25  ...       0.0       N       U   \n",
       "\n",
       "   kid3_5  kid6_10  kid11_15  kid16_17  creditcd  eqpdays  Customer_ID  \n",
       "0       U        U         U         U         Y    361.0      1000001  \n",
       "1       U        U         U         U         Y    240.0      1000002  \n",
       "2       Y        U         U         U         Y   1504.0      1000003  \n",
       "\n",
       "[3 rows x 100 columns]"
      ]
     },
     "metadata": {},
     "output_type": "display_data"
    },
    {
     "name": "stdout",
     "output_type": "stream",
     "text": [
      "\n",
      "The dataset last three rows are\n"
     ]
    },
    {
     "data": {
      "text/html": [
       "<div>\n",
       "<style scoped>\n",
       "    .dataframe tbody tr th:only-of-type {\n",
       "        vertical-align: middle;\n",
       "    }\n",
       "\n",
       "    .dataframe tbody tr th {\n",
       "        vertical-align: top;\n",
       "    }\n",
       "\n",
       "    .dataframe thead th {\n",
       "        text-align: right;\n",
       "    }\n",
       "</style>\n",
       "<table border=\"1\" class=\"dataframe\">\n",
       "  <thead>\n",
       "    <tr style=\"text-align: right;\">\n",
       "      <th></th>\n",
       "      <th>rev_Mean</th>\n",
       "      <th>contract</th>\n",
       "      <th>totmrc_Mean</th>\n",
       "      <th>da_Mean</th>\n",
       "      <th>ovrmou_Mean</th>\n",
       "      <th>ovrrev_Mean</th>\n",
       "      <th>vceovr_Mean</th>\n",
       "      <th>datovr_Mean</th>\n",
       "      <th>roam_Mean</th>\n",
       "      <th>tenure</th>\n",
       "      <th>...</th>\n",
       "      <th>forgntvl</th>\n",
       "      <th>ethnic</th>\n",
       "      <th>kid0_2</th>\n",
       "      <th>kid3_5</th>\n",
       "      <th>kid6_10</th>\n",
       "      <th>kid11_15</th>\n",
       "      <th>kid16_17</th>\n",
       "      <th>creditcd</th>\n",
       "      <th>eqpdays</th>\n",
       "      <th>Customer_ID</th>\n",
       "    </tr>\n",
       "  </thead>\n",
       "  <tbody>\n",
       "    <tr>\n",
       "      <th>99997</th>\n",
       "      <td>NaN</td>\n",
       "      <td>NaN</td>\n",
       "      <td>NaN</td>\n",
       "      <td>NaN</td>\n",
       "      <td>NaN</td>\n",
       "      <td>NaN</td>\n",
       "      <td>NaN</td>\n",
       "      <td>NaN</td>\n",
       "      <td>NaN</td>\n",
       "      <td>NaN</td>\n",
       "      <td>...</td>\n",
       "      <td>0.0</td>\n",
       "      <td>U</td>\n",
       "      <td>Y</td>\n",
       "      <td>Y</td>\n",
       "      <td>U</td>\n",
       "      <td>U</td>\n",
       "      <td>U</td>\n",
       "      <td>N</td>\n",
       "      <td>433.0</td>\n",
       "      <td>1099998</td>\n",
       "    </tr>\n",
       "    <tr>\n",
       "      <th>99998</th>\n",
       "      <td>NaN</td>\n",
       "      <td>NaN</td>\n",
       "      <td>NaN</td>\n",
       "      <td>NaN</td>\n",
       "      <td>NaN</td>\n",
       "      <td>NaN</td>\n",
       "      <td>NaN</td>\n",
       "      <td>NaN</td>\n",
       "      <td>NaN</td>\n",
       "      <td>NaN</td>\n",
       "      <td>...</td>\n",
       "      <td>0.0</td>\n",
       "      <td>S</td>\n",
       "      <td>U</td>\n",
       "      <td>U</td>\n",
       "      <td>U</td>\n",
       "      <td>U</td>\n",
       "      <td>U</td>\n",
       "      <td>N</td>\n",
       "      <td>75.0</td>\n",
       "      <td>1099999</td>\n",
       "    </tr>\n",
       "    <tr>\n",
       "      <th>99999</th>\n",
       "      <td>NaN</td>\n",
       "      <td>NaN</td>\n",
       "      <td>NaN</td>\n",
       "      <td>NaN</td>\n",
       "      <td>NaN</td>\n",
       "      <td>NaN</td>\n",
       "      <td>NaN</td>\n",
       "      <td>NaN</td>\n",
       "      <td>NaN</td>\n",
       "      <td>NaN</td>\n",
       "      <td>...</td>\n",
       "      <td>0.0</td>\n",
       "      <td>H</td>\n",
       "      <td>U</td>\n",
       "      <td>U</td>\n",
       "      <td>U</td>\n",
       "      <td>U</td>\n",
       "      <td>U</td>\n",
       "      <td>N</td>\n",
       "      <td>5.0</td>\n",
       "      <td>1100000</td>\n",
       "    </tr>\n",
       "  </tbody>\n",
       "</table>\n",
       "<p>3 rows × 100 columns</p>\n",
       "</div>"
      ],
      "text/plain": [
       "       rev_Mean  contract  totmrc_Mean  da_Mean  ovrmou_Mean  ovrrev_Mean  \\\n",
       "99997       NaN       NaN          NaN      NaN          NaN          NaN   \n",
       "99998       NaN       NaN          NaN      NaN          NaN          NaN   \n",
       "99999       NaN       NaN          NaN      NaN          NaN          NaN   \n",
       "\n",
       "       vceovr_Mean  datovr_Mean  roam_Mean  tenure  ...  forgntvl  ethnic  \\\n",
       "99997          NaN          NaN        NaN     NaN  ...       0.0       U   \n",
       "99998          NaN          NaN        NaN     NaN  ...       0.0       S   \n",
       "99999          NaN          NaN        NaN     NaN  ...       0.0       H   \n",
       "\n",
       "       kid0_2  kid3_5  kid6_10  kid11_15  kid16_17  creditcd  eqpdays  \\\n",
       "99997       Y       Y        U         U         U         N    433.0   \n",
       "99998       U       U        U         U         U         N     75.0   \n",
       "99999       U       U        U         U         U         N      5.0   \n",
       "\n",
       "       Customer_ID  \n",
       "99997      1099998  \n",
       "99998      1099999  \n",
       "99999      1100000  \n",
       "\n",
       "[3 rows x 100 columns]"
      ]
     },
     "metadata": {},
     "output_type": "display_data"
    }
   ],
   "source": [
    "print('The dataset first three rows are')\n",
    "display(df.head(3))\n",
    "print('')\n",
    "print('The dataset last three rows are')\n",
    "display(df.tail(3))"
   ]
  },
  {
   "cell_type": "code",
   "execution_count": 55,
   "id": "2080ac8d",
   "metadata": {
    "scrolled": true
   },
   "outputs": [
    {
     "name": "stdout",
     "output_type": "stream",
     "text": [
      "Checking for missing values per column:\n",
      "rev_Mean        357\n",
      "contract        357\n",
      "totmrc_Mean     357\n",
      "da_Mean         357\n",
      "ovrmou_Mean     357\n",
      "               ... \n",
      "kid11_15       1732\n",
      "kid16_17       1732\n",
      "creditcd       1732\n",
      "eqpdays           1\n",
      "Customer_ID       0\n",
      "Length: 100, dtype: int64\n"
     ]
    }
   ],
   "source": [
    "print('Checking for missing values per column:')\n",
    "print(df.isna().sum())"
   ]
  },
  {
   "cell_type": "markdown",
   "id": "9e3f25b5",
   "metadata": {},
   "source": [
    "there're a lot of columns that has missing values more than 5 percent of the number of rows, which can significantly skew the data, this is why we will drop these columns"
   ]
  },
  {
   "cell_type": "code",
   "execution_count": 56,
   "id": "f9a8f5fb",
   "metadata": {},
   "outputs": [],
   "source": [
    "a = df.isna().sum() # counting the number of NA values in each columns\n",
    "delete = df.columns[(a>5000)] # filtering out the columns that have more than 5000 NA values"
   ]
  },
  {
   "cell_type": "code",
   "execution_count": 57,
   "id": "52616836",
   "metadata": {},
   "outputs": [],
   "source": [
    "df.drop(delete, axis = 1, inplace = True) # droping columns that contains NA values for more than 5% of the data size"
   ]
  },
  {
   "cell_type": "code",
   "execution_count": 58,
   "id": "d81fa2ba",
   "metadata": {},
   "outputs": [],
   "source": [
    "df = df.dropna() # droping rows that contains NA values for the rest of the columns"
   ]
  },
  {
   "cell_type": "markdown",
   "id": "0fb2addc",
   "metadata": {},
   "source": [
    "as can be seen below, after droping the columns with significant number of NA values, removing NA values from the rest of the columns did not reduce the data size significantly."
   ]
  },
  {
   "cell_type": "code",
   "execution_count": 59,
   "id": "7095c010",
   "metadata": {},
   "outputs": [
    {
     "data": {
      "text/plain": [
       "(93893, 89)"
      ]
     },
     "execution_count": 59,
     "metadata": {},
     "output_type": "execute_result"
    }
   ],
   "source": [
    "df.shape "
   ]
  },
  {
   "cell_type": "code",
   "execution_count": 60,
   "id": "38226751",
   "metadata": {},
   "outputs": [
    {
     "data": {
      "text/html": [
       "<div>\n",
       "<style scoped>\n",
       "    .dataframe tbody tr th:only-of-type {\n",
       "        vertical-align: middle;\n",
       "    }\n",
       "\n",
       "    .dataframe tbody tr th {\n",
       "        vertical-align: top;\n",
       "    }\n",
       "\n",
       "    .dataframe thead th {\n",
       "        text-align: right;\n",
       "    }\n",
       "</style>\n",
       "<table border=\"1\" class=\"dataframe\">\n",
       "  <thead>\n",
       "    <tr style=\"text-align: right;\">\n",
       "      <th></th>\n",
       "      <th>rev_Mean</th>\n",
       "      <th>contract</th>\n",
       "      <th>totmrc_Mean</th>\n",
       "      <th>da_Mean</th>\n",
       "      <th>ovrmou_Mean</th>\n",
       "      <th>ovrrev_Mean</th>\n",
       "      <th>vceovr_Mean</th>\n",
       "      <th>datovr_Mean</th>\n",
       "      <th>roam_Mean</th>\n",
       "      <th>tenure</th>\n",
       "      <th>...</th>\n",
       "      <th>forgntvl</th>\n",
       "      <th>ethnic</th>\n",
       "      <th>kid0_2</th>\n",
       "      <th>kid3_5</th>\n",
       "      <th>kid6_10</th>\n",
       "      <th>kid11_15</th>\n",
       "      <th>kid16_17</th>\n",
       "      <th>creditcd</th>\n",
       "      <th>eqpdays</th>\n",
       "      <th>Customer_ID</th>\n",
       "    </tr>\n",
       "  </thead>\n",
       "  <tbody>\n",
       "    <tr>\n",
       "      <th>0</th>\n",
       "      <td>23.997500</td>\n",
       "      <td>219.250000</td>\n",
       "      <td>22.50</td>\n",
       "      <td>0.2475</td>\n",
       "      <td>0.000000</td>\n",
       "      <td>0.000000</td>\n",
       "      <td>0.000000</td>\n",
       "      <td>0.00</td>\n",
       "      <td>0.00</td>\n",
       "      <td>-157.250000</td>\n",
       "      <td>...</td>\n",
       "      <td>0.0</td>\n",
       "      <td>N</td>\n",
       "      <td>U</td>\n",
       "      <td>U</td>\n",
       "      <td>U</td>\n",
       "      <td>U</td>\n",
       "      <td>U</td>\n",
       "      <td>Y</td>\n",
       "      <td>361.0</td>\n",
       "      <td>1000001</td>\n",
       "    </tr>\n",
       "    <tr>\n",
       "      <th>1</th>\n",
       "      <td>16.990000</td>\n",
       "      <td>10.250000</td>\n",
       "      <td>16.99</td>\n",
       "      <td>0.0000</td>\n",
       "      <td>0.000000</td>\n",
       "      <td>0.000000</td>\n",
       "      <td>0.000000</td>\n",
       "      <td>0.00</td>\n",
       "      <td>0.00</td>\n",
       "      <td>-4.250000</td>\n",
       "      <td>...</td>\n",
       "      <td>0.0</td>\n",
       "      <td>N</td>\n",
       "      <td>U</td>\n",
       "      <td>Y</td>\n",
       "      <td>U</td>\n",
       "      <td>U</td>\n",
       "      <td>U</td>\n",
       "      <td>Y</td>\n",
       "      <td>1504.0</td>\n",
       "      <td>1000003</td>\n",
       "    </tr>\n",
       "    <tr>\n",
       "      <th>2</th>\n",
       "      <td>38.000000</td>\n",
       "      <td>7.500000</td>\n",
       "      <td>38.00</td>\n",
       "      <td>0.0000</td>\n",
       "      <td>0.000000</td>\n",
       "      <td>0.000000</td>\n",
       "      <td>0.000000</td>\n",
       "      <td>0.00</td>\n",
       "      <td>0.00</td>\n",
       "      <td>-1.500000</td>\n",
       "      <td>...</td>\n",
       "      <td>0.0</td>\n",
       "      <td>U</td>\n",
       "      <td>Y</td>\n",
       "      <td>U</td>\n",
       "      <td>U</td>\n",
       "      <td>U</td>\n",
       "      <td>U</td>\n",
       "      <td>Y</td>\n",
       "      <td>1812.0</td>\n",
       "      <td>1000004</td>\n",
       "    </tr>\n",
       "    <tr>\n",
       "      <th>3</th>\n",
       "      <td>55.230000</td>\n",
       "      <td>570.500000</td>\n",
       "      <td>71.98</td>\n",
       "      <td>0.0000</td>\n",
       "      <td>0.000000</td>\n",
       "      <td>0.000000</td>\n",
       "      <td>0.000000</td>\n",
       "      <td>0.00</td>\n",
       "      <td>0.00</td>\n",
       "      <td>38.500000</td>\n",
       "      <td>...</td>\n",
       "      <td>0.0</td>\n",
       "      <td>I</td>\n",
       "      <td>U</td>\n",
       "      <td>U</td>\n",
       "      <td>U</td>\n",
       "      <td>U</td>\n",
       "      <td>U</td>\n",
       "      <td>Y</td>\n",
       "      <td>434.0</td>\n",
       "      <td>1000005</td>\n",
       "    </tr>\n",
       "    <tr>\n",
       "      <th>4</th>\n",
       "      <td>82.275000</td>\n",
       "      <td>1312.250000</td>\n",
       "      <td>75.00</td>\n",
       "      <td>1.2375</td>\n",
       "      <td>0.000000</td>\n",
       "      <td>0.000000</td>\n",
       "      <td>0.000000</td>\n",
       "      <td>0.00</td>\n",
       "      <td>0.00</td>\n",
       "      <td>156.750000</td>\n",
       "      <td>...</td>\n",
       "      <td>0.0</td>\n",
       "      <td>U</td>\n",
       "      <td>U</td>\n",
       "      <td>U</td>\n",
       "      <td>U</td>\n",
       "      <td>U</td>\n",
       "      <td>U</td>\n",
       "      <td>Y</td>\n",
       "      <td>458.0</td>\n",
       "      <td>1000006</td>\n",
       "    </tr>\n",
       "    <tr>\n",
       "      <th>...</th>\n",
       "      <td>...</td>\n",
       "      <td>...</td>\n",
       "      <td>...</td>\n",
       "      <td>...</td>\n",
       "      <td>...</td>\n",
       "      <td>...</td>\n",
       "      <td>...</td>\n",
       "      <td>...</td>\n",
       "      <td>...</td>\n",
       "      <td>...</td>\n",
       "      <td>...</td>\n",
       "      <td>...</td>\n",
       "      <td>...</td>\n",
       "      <td>...</td>\n",
       "      <td>...</td>\n",
       "      <td>...</td>\n",
       "      <td>...</td>\n",
       "      <td>...</td>\n",
       "      <td>...</td>\n",
       "      <td>...</td>\n",
       "      <td>...</td>\n",
       "    </tr>\n",
       "    <tr>\n",
       "      <th>93888</th>\n",
       "      <td>34.990000</td>\n",
       "      <td>6.333333</td>\n",
       "      <td>44.99</td>\n",
       "      <td>0.0000</td>\n",
       "      <td>0.000000</td>\n",
       "      <td>0.000000</td>\n",
       "      <td>0.000000</td>\n",
       "      <td>0.00</td>\n",
       "      <td>0.00</td>\n",
       "      <td>-6.333333</td>\n",
       "      <td>...</td>\n",
       "      <td>0.0</td>\n",
       "      <td>N</td>\n",
       "      <td>U</td>\n",
       "      <td>U</td>\n",
       "      <td>Y</td>\n",
       "      <td>U</td>\n",
       "      <td>U</td>\n",
       "      <td>Y</td>\n",
       "      <td>118.0</td>\n",
       "      <td>1099982</td>\n",
       "    </tr>\n",
       "    <tr>\n",
       "      <th>93889</th>\n",
       "      <td>85.150000</td>\n",
       "      <td>815.000000</td>\n",
       "      <td>87.99</td>\n",
       "      <td>0.0000</td>\n",
       "      <td>1.000000</td>\n",
       "      <td>0.390000</td>\n",
       "      <td>0.000000</td>\n",
       "      <td>0.39</td>\n",
       "      <td>0.39</td>\n",
       "      <td>0.000000</td>\n",
       "      <td>...</td>\n",
       "      <td>0.0</td>\n",
       "      <td>H</td>\n",
       "      <td>U</td>\n",
       "      <td>U</td>\n",
       "      <td>U</td>\n",
       "      <td>U</td>\n",
       "      <td>U</td>\n",
       "      <td>Y</td>\n",
       "      <td>230.0</td>\n",
       "      <td>1099985</td>\n",
       "    </tr>\n",
       "    <tr>\n",
       "      <th>93890</th>\n",
       "      <td>71.993333</td>\n",
       "      <td>724.000000</td>\n",
       "      <td>70.00</td>\n",
       "      <td>0.0000</td>\n",
       "      <td>4.333333</td>\n",
       "      <td>1.083333</td>\n",
       "      <td>1.083333</td>\n",
       "      <td>0.00</td>\n",
       "      <td>0.91</td>\n",
       "      <td>-40.000000</td>\n",
       "      <td>...</td>\n",
       "      <td>0.0</td>\n",
       "      <td>S</td>\n",
       "      <td>U</td>\n",
       "      <td>U</td>\n",
       "      <td>U</td>\n",
       "      <td>U</td>\n",
       "      <td>U</td>\n",
       "      <td>Y</td>\n",
       "      <td>882.0</td>\n",
       "      <td>1099986</td>\n",
       "    </tr>\n",
       "    <tr>\n",
       "      <th>93891</th>\n",
       "      <td>117.490000</td>\n",
       "      <td>384.000000</td>\n",
       "      <td>29.99</td>\n",
       "      <td>0.0000</td>\n",
       "      <td>250.000000</td>\n",
       "      <td>87.500000</td>\n",
       "      <td>87.500000</td>\n",
       "      <td>0.00</td>\n",
       "      <td>0.00</td>\n",
       "      <td>0.000000</td>\n",
       "      <td>...</td>\n",
       "      <td>0.0</td>\n",
       "      <td>S</td>\n",
       "      <td>U</td>\n",
       "      <td>U</td>\n",
       "      <td>U</td>\n",
       "      <td>U</td>\n",
       "      <td>U</td>\n",
       "      <td>Y</td>\n",
       "      <td>489.0</td>\n",
       "      <td>1099987</td>\n",
       "    </tr>\n",
       "    <tr>\n",
       "      <th>93892</th>\n",
       "      <td>95.170000</td>\n",
       "      <td>1745.000000</td>\n",
       "      <td>84.99</td>\n",
       "      <td>0.9900</td>\n",
       "      <td>45.000000</td>\n",
       "      <td>11.250000</td>\n",
       "      <td>11.250000</td>\n",
       "      <td>0.00</td>\n",
       "      <td>4.69</td>\n",
       "      <td>122.000000</td>\n",
       "      <td>...</td>\n",
       "      <td>0.0</td>\n",
       "      <td>N</td>\n",
       "      <td>U</td>\n",
       "      <td>U</td>\n",
       "      <td>U</td>\n",
       "      <td>U</td>\n",
       "      <td>Y</td>\n",
       "      <td>Y</td>\n",
       "      <td>464.0</td>\n",
       "      <td>1099994</td>\n",
       "    </tr>\n",
       "  </tbody>\n",
       "</table>\n",
       "<p>93893 rows × 89 columns</p>\n",
       "</div>"
      ],
      "text/plain": [
       "         rev_Mean     contract  totmrc_Mean  da_Mean  ovrmou_Mean  \\\n",
       "0       23.997500   219.250000        22.50   0.2475     0.000000   \n",
       "1       16.990000    10.250000        16.99   0.0000     0.000000   \n",
       "2       38.000000     7.500000        38.00   0.0000     0.000000   \n",
       "3       55.230000   570.500000        71.98   0.0000     0.000000   \n",
       "4       82.275000  1312.250000        75.00   1.2375     0.000000   \n",
       "...           ...          ...          ...      ...          ...   \n",
       "93888   34.990000     6.333333        44.99   0.0000     0.000000   \n",
       "93889   85.150000   815.000000        87.99   0.0000     1.000000   \n",
       "93890   71.993333   724.000000        70.00   0.0000     4.333333   \n",
       "93891  117.490000   384.000000        29.99   0.0000   250.000000   \n",
       "93892   95.170000  1745.000000        84.99   0.9900    45.000000   \n",
       "\n",
       "       ovrrev_Mean  vceovr_Mean  datovr_Mean  roam_Mean      tenure  ...  \\\n",
       "0         0.000000     0.000000         0.00       0.00 -157.250000  ...   \n",
       "1         0.000000     0.000000         0.00       0.00   -4.250000  ...   \n",
       "2         0.000000     0.000000         0.00       0.00   -1.500000  ...   \n",
       "3         0.000000     0.000000         0.00       0.00   38.500000  ...   \n",
       "4         0.000000     0.000000         0.00       0.00  156.750000  ...   \n",
       "...            ...          ...          ...        ...         ...  ...   \n",
       "93888     0.000000     0.000000         0.00       0.00   -6.333333  ...   \n",
       "93889     0.390000     0.000000         0.39       0.39    0.000000  ...   \n",
       "93890     1.083333     1.083333         0.00       0.91  -40.000000  ...   \n",
       "93891    87.500000    87.500000         0.00       0.00    0.000000  ...   \n",
       "93892    11.250000    11.250000         0.00       4.69  122.000000  ...   \n",
       "\n",
       "       forgntvl  ethnic  kid0_2  kid3_5  kid6_10  kid11_15  kid16_17  \\\n",
       "0           0.0       N       U       U        U         U         U   \n",
       "1           0.0       N       U       Y        U         U         U   \n",
       "2           0.0       U       Y       U        U         U         U   \n",
       "3           0.0       I       U       U        U         U         U   \n",
       "4           0.0       U       U       U        U         U         U   \n",
       "...         ...     ...     ...     ...      ...       ...       ...   \n",
       "93888       0.0       N       U       U        Y         U         U   \n",
       "93889       0.0       H       U       U        U         U         U   \n",
       "93890       0.0       S       U       U        U         U         U   \n",
       "93891       0.0       S       U       U        U         U         U   \n",
       "93892       0.0       N       U       U        U         U         Y   \n",
       "\n",
       "       creditcd  eqpdays  Customer_ID  \n",
       "0             Y    361.0      1000001  \n",
       "1             Y   1504.0      1000003  \n",
       "2             Y   1812.0      1000004  \n",
       "3             Y    434.0      1000005  \n",
       "4             Y    458.0      1000006  \n",
       "...         ...      ...          ...  \n",
       "93888         Y    118.0      1099982  \n",
       "93889         Y    230.0      1099985  \n",
       "93890         Y    882.0      1099986  \n",
       "93891         Y    489.0      1099987  \n",
       "93892         Y    464.0      1099994  \n",
       "\n",
       "[93893 rows x 89 columns]"
      ]
     },
     "execution_count": 60,
     "metadata": {},
     "output_type": "execute_result"
    }
   ],
   "source": [
    "# reseting the index as removing rows will affect the previous indexing\n",
    "df.reset_index(inplace= True)\n",
    "df.drop('index', inplace=True, axis=1)\n",
    "df"
   ]
  },
  {
   "cell_type": "code",
   "execution_count": 61,
   "id": "0802ee56",
   "metadata": {},
   "outputs": [
    {
     "name": "stdout",
     "output_type": "stream",
     "text": [
      "displaying the new shape of the data\n"
     ]
    },
    {
     "data": {
      "text/plain": [
       "(93893, 89)"
      ]
     },
     "execution_count": 61,
     "metadata": {},
     "output_type": "execute_result"
    }
   ],
   "source": [
    "print('displaying the new shape of the data')\n",
    "df.shape"
   ]
  },
  {
   "cell_type": "code",
   "execution_count": 62,
   "id": "4c181623",
   "metadata": {},
   "outputs": [
    {
     "name": "stdout",
     "output_type": "stream",
     "text": [
      "The data frame encompasses 93893 instances and 89 features\n",
      "\n",
      "The features data types are as follows,\n",
      "float64    65\n",
      "object     14\n",
      "int64      10\n",
      "dtype: int64\n"
     ]
    }
   ],
   "source": [
    "print(f'The data frame encompasses {df.shape[0]} instances and {df.shape[1]} features\\n')\n",
    "print('The features data types are as follows,')\n",
    "print(df.dtypes.value_counts())"
   ]
  },
  {
   "cell_type": "markdown",
   "id": "af411070",
   "metadata": {},
   "source": [
    "As we're using decision trees algorithm as the base model of LGBM ensamble algorithm, we don't need to do feature scaling or encode the non numeric columns. However, because we're going to benchmark the results with other machine learning algoirthm that might require encoding and feature scaling such as logistic regression, we will do those steps right now so we wont have to do them later.\n",
    "\n",
    "### Encoding the Data:\n",
    "For columns that has only two values, they will be converted to 1s and 0s, but for columns that have 3 values and more they will be one hot encoded."
   ]
  },
  {
   "cell_type": "code",
   "execution_count": 63,
   "id": "974f0397",
   "metadata": {},
   "outputs": [],
   "source": [
    "pd.set_option('display.max_rows', None) # increasing the number of rows that can be shown to see all column values"
   ]
  },
  {
   "cell_type": "code",
   "execution_count": 64,
   "id": "9ca338ec",
   "metadata": {},
   "outputs": [
    {
     "data": {
      "text/html": [
       "<div>\n",
       "<style scoped>\n",
       "    .dataframe tbody tr th:only-of-type {\n",
       "        vertical-align: middle;\n",
       "    }\n",
       "\n",
       "    .dataframe tbody tr th {\n",
       "        vertical-align: top;\n",
       "    }\n",
       "\n",
       "    .dataframe thead th {\n",
       "        text-align: right;\n",
       "    }\n",
       "</style>\n",
       "<table border=\"1\" class=\"dataframe\">\n",
       "  <thead>\n",
       "    <tr style=\"text-align: right;\">\n",
       "      <th></th>\n",
       "      <th>Unique Values</th>\n",
       "    </tr>\n",
       "    <tr>\n",
       "      <th>Variable</th>\n",
       "      <th></th>\n",
       "    </tr>\n",
       "  </thead>\n",
       "  <tbody>\n",
       "    <tr>\n",
       "      <th>rev_Mean</th>\n",
       "      <td>35968</td>\n",
       "    </tr>\n",
       "    <tr>\n",
       "      <th>contract</th>\n",
       "      <td>9368</td>\n",
       "    </tr>\n",
       "    <tr>\n",
       "      <th>totmrc_Mean</th>\n",
       "      <td>7924</td>\n",
       "    </tr>\n",
       "    <tr>\n",
       "      <th>da_Mean</th>\n",
       "      <td>165</td>\n",
       "    </tr>\n",
       "    <tr>\n",
       "      <th>ovrmou_Mean</th>\n",
       "      <td>2506</td>\n",
       "    </tr>\n",
       "    <tr>\n",
       "      <th>ovrrev_Mean</th>\n",
       "      <td>11679</td>\n",
       "    </tr>\n",
       "    <tr>\n",
       "      <th>vceovr_Mean</th>\n",
       "      <td>7179</td>\n",
       "    </tr>\n",
       "    <tr>\n",
       "      <th>datovr_Mean</th>\n",
       "      <td>731</td>\n",
       "    </tr>\n",
       "    <tr>\n",
       "      <th>roam_Mean</th>\n",
       "      <td>5104</td>\n",
       "    </tr>\n",
       "    <tr>\n",
       "      <th>tenure</th>\n",
       "      <td>7481</td>\n",
       "    </tr>\n",
       "    <tr>\n",
       "      <th>change_rev</th>\n",
       "      <td>31186</td>\n",
       "    </tr>\n",
       "    <tr>\n",
       "      <th>drop_vce_Mean</th>\n",
       "      <td>321</td>\n",
       "    </tr>\n",
       "    <tr>\n",
       "      <th>drop_dat_Mean</th>\n",
       "      <td>60</td>\n",
       "    </tr>\n",
       "    <tr>\n",
       "      <th>blck_vce_Mean</th>\n",
       "      <td>431</td>\n",
       "    </tr>\n",
       "    <tr>\n",
       "      <th>blck_dat_Mean</th>\n",
       "      <td>52</td>\n",
       "    </tr>\n",
       "    <tr>\n",
       "      <th>unan_vce_Mean</th>\n",
       "      <td>964</td>\n",
       "    </tr>\n",
       "    <tr>\n",
       "      <th>unan_dat_Mean</th>\n",
       "      <td>50</td>\n",
       "    </tr>\n",
       "    <tr>\n",
       "      <th>plcd_vce_Mean</th>\n",
       "      <td>2849</td>\n",
       "    </tr>\n",
       "    <tr>\n",
       "      <th>plcd_dat_Mean</th>\n",
       "      <td>370</td>\n",
       "    </tr>\n",
       "    <tr>\n",
       "      <th>recv_vce_Mean</th>\n",
       "      <td>1782</td>\n",
       "    </tr>\n",
       "    <tr>\n",
       "      <th>recv_sms_Mean</th>\n",
       "      <td>93</td>\n",
       "    </tr>\n",
       "    <tr>\n",
       "      <th>comp_vce_Mean</th>\n",
       "      <td>2273</td>\n",
       "    </tr>\n",
       "    <tr>\n",
       "      <th>comp_dat_Mean</th>\n",
       "      <td>348</td>\n",
       "    </tr>\n",
       "    <tr>\n",
       "      <th>custcare_Mean</th>\n",
       "      <td>204</td>\n",
       "    </tr>\n",
       "    <tr>\n",
       "      <th>ccrndmou_Mean</th>\n",
       "      <td>442</td>\n",
       "    </tr>\n",
       "    <tr>\n",
       "      <th>cc_mou_Mean</th>\n",
       "      <td>8894</td>\n",
       "    </tr>\n",
       "    <tr>\n",
       "      <th>inonemin_Mean</th>\n",
       "      <td>1279</td>\n",
       "    </tr>\n",
       "    <tr>\n",
       "      <th>threeway_Mean</th>\n",
       "      <td>88</td>\n",
       "    </tr>\n",
       "    <tr>\n",
       "      <th>mou_cvce_Mean</th>\n",
       "      <td>65572</td>\n",
       "    </tr>\n",
       "    <tr>\n",
       "      <th>mou_cdat_Mean</th>\n",
       "      <td>4146</td>\n",
       "    </tr>\n",
       "    <tr>\n",
       "      <th>mou_rvce_Mean</th>\n",
       "      <td>49669</td>\n",
       "    </tr>\n",
       "    <tr>\n",
       "      <th>owylis_vce_Mean</th>\n",
       "      <td>869</td>\n",
       "    </tr>\n",
       "    <tr>\n",
       "      <th>mouowylisv_Mean</th>\n",
       "      <td>25959</td>\n",
       "    </tr>\n",
       "    <tr>\n",
       "      <th>iwylis_vce_Mean</th>\n",
       "      <td>520</td>\n",
       "    </tr>\n",
       "    <tr>\n",
       "      <th>mouiwylisv_Mean</th>\n",
       "      <td>20517</td>\n",
       "    </tr>\n",
       "    <tr>\n",
       "      <th>peak_vce_Mean</th>\n",
       "      <td>2086</td>\n",
       "    </tr>\n",
       "    <tr>\n",
       "      <th>peak_dat_Mean</th>\n",
       "      <td>229</td>\n",
       "    </tr>\n",
       "    <tr>\n",
       "      <th>mou_peav_Mean</th>\n",
       "      <td>61269</td>\n",
       "    </tr>\n",
       "    <tr>\n",
       "      <th>mou_pead_Mean</th>\n",
       "      <td>2967</td>\n",
       "    </tr>\n",
       "    <tr>\n",
       "      <th>opk_vce_Mean</th>\n",
       "      <td>1889</td>\n",
       "    </tr>\n",
       "    <tr>\n",
       "      <th>opk_dat_Mean</th>\n",
       "      <td>246</td>\n",
       "    </tr>\n",
       "    <tr>\n",
       "      <th>mou_opkv_Mean</th>\n",
       "      <td>56905</td>\n",
       "    </tr>\n",
       "    <tr>\n",
       "      <th>mou_opkd_Mean</th>\n",
       "      <td>3328</td>\n",
       "    </tr>\n",
       "    <tr>\n",
       "      <th>drop_blk_Mean</th>\n",
       "      <td>501</td>\n",
       "    </tr>\n",
       "    <tr>\n",
       "      <th>attempt_Mean</th>\n",
       "      <td>2863</td>\n",
       "    </tr>\n",
       "    <tr>\n",
       "      <th>complete_Mean</th>\n",
       "      <td>2303</td>\n",
       "    </tr>\n",
       "    <tr>\n",
       "      <th>callfwdv_Mean</th>\n",
       "      <td>41</td>\n",
       "    </tr>\n",
       "    <tr>\n",
       "      <th>callwait_Mean</th>\n",
       "      <td>253</td>\n",
       "    </tr>\n",
       "    <tr>\n",
       "      <th>churn</th>\n",
       "      <td>2</td>\n",
       "    </tr>\n",
       "    <tr>\n",
       "      <th>months</th>\n",
       "      <td>55</td>\n",
       "    </tr>\n",
       "    <tr>\n",
       "      <th>uniqsubs</th>\n",
       "      <td>15</td>\n",
       "    </tr>\n",
       "    <tr>\n",
       "      <th>actvsubs</th>\n",
       "      <td>12</td>\n",
       "    </tr>\n",
       "    <tr>\n",
       "      <th>new_cell</th>\n",
       "      <td>3</td>\n",
       "    </tr>\n",
       "    <tr>\n",
       "      <th>crclscod</th>\n",
       "      <td>53</td>\n",
       "    </tr>\n",
       "    <tr>\n",
       "      <th>asl_flag</th>\n",
       "      <td>2</td>\n",
       "    </tr>\n",
       "    <tr>\n",
       "      <th>totcalls</th>\n",
       "      <td>12047</td>\n",
       "    </tr>\n",
       "    <tr>\n",
       "      <th>totmou</th>\n",
       "      <td>23384</td>\n",
       "    </tr>\n",
       "    <tr>\n",
       "      <th>totrev</th>\n",
       "      <td>72496</td>\n",
       "    </tr>\n",
       "    <tr>\n",
       "      <th>adjrev</th>\n",
       "      <td>71748</td>\n",
       "    </tr>\n",
       "    <tr>\n",
       "      <th>adjmou</th>\n",
       "      <td>23098</td>\n",
       "    </tr>\n",
       "    <tr>\n",
       "      <th>adjqty</th>\n",
       "      <td>12000</td>\n",
       "    </tr>\n",
       "    <tr>\n",
       "      <th>avgrev</th>\n",
       "      <td>14461</td>\n",
       "    </tr>\n",
       "    <tr>\n",
       "      <th>avgmou</th>\n",
       "      <td>55799</td>\n",
       "    </tr>\n",
       "    <tr>\n",
       "      <th>avgqty</th>\n",
       "      <td>33834</td>\n",
       "    </tr>\n",
       "    <tr>\n",
       "      <th>avg3mou</th>\n",
       "      <td>3049</td>\n",
       "    </tr>\n",
       "    <tr>\n",
       "      <th>avg3qty</th>\n",
       "      <td>1416</td>\n",
       "    </tr>\n",
       "    <tr>\n",
       "      <th>avg3rev</th>\n",
       "      <td>498</td>\n",
       "    </tr>\n",
       "    <tr>\n",
       "      <th>avg6mou</th>\n",
       "      <td>2910</td>\n",
       "    </tr>\n",
       "    <tr>\n",
       "      <th>avg6qty</th>\n",
       "      <td>1359</td>\n",
       "    </tr>\n",
       "    <tr>\n",
       "      <th>avg6rev</th>\n",
       "      <td>443</td>\n",
       "    </tr>\n",
       "    <tr>\n",
       "      <th>area</th>\n",
       "      <td>19</td>\n",
       "    </tr>\n",
       "    <tr>\n",
       "      <th>dualband</th>\n",
       "      <td>3</td>\n",
       "    </tr>\n",
       "    <tr>\n",
       "      <th>refurb_new</th>\n",
       "      <td>2</td>\n",
       "    </tr>\n",
       "    <tr>\n",
       "      <th>hnd_price</th>\n",
       "      <td>17</td>\n",
       "    </tr>\n",
       "    <tr>\n",
       "      <th>phones</th>\n",
       "      <td>24</td>\n",
       "    </tr>\n",
       "    <tr>\n",
       "      <th>models</th>\n",
       "      <td>14</td>\n",
       "    </tr>\n",
       "    <tr>\n",
       "      <th>truck</th>\n",
       "      <td>2</td>\n",
       "    </tr>\n",
       "    <tr>\n",
       "      <th>rv</th>\n",
       "      <td>2</td>\n",
       "    </tr>\n",
       "    <tr>\n",
       "      <th>marital</th>\n",
       "      <td>5</td>\n",
       "    </tr>\n",
       "    <tr>\n",
       "      <th>forgntvl</th>\n",
       "      <td>2</td>\n",
       "    </tr>\n",
       "    <tr>\n",
       "      <th>ethnic</th>\n",
       "      <td>17</td>\n",
       "    </tr>\n",
       "    <tr>\n",
       "      <th>kid0_2</th>\n",
       "      <td>2</td>\n",
       "    </tr>\n",
       "    <tr>\n",
       "      <th>kid3_5</th>\n",
       "      <td>2</td>\n",
       "    </tr>\n",
       "    <tr>\n",
       "      <th>kid6_10</th>\n",
       "      <td>2</td>\n",
       "    </tr>\n",
       "    <tr>\n",
       "      <th>kid11_15</th>\n",
       "      <td>2</td>\n",
       "    </tr>\n",
       "    <tr>\n",
       "      <th>kid16_17</th>\n",
       "      <td>2</td>\n",
       "    </tr>\n",
       "    <tr>\n",
       "      <th>creditcd</th>\n",
       "      <td>2</td>\n",
       "    </tr>\n",
       "    <tr>\n",
       "      <th>eqpdays</th>\n",
       "      <td>1528</td>\n",
       "    </tr>\n",
       "  </tbody>\n",
       "</table>\n",
       "</div>"
      ],
      "text/plain": [
       "                 Unique Values\n",
       "Variable                      \n",
       "rev_Mean                 35968\n",
       "contract                  9368\n",
       "totmrc_Mean               7924\n",
       "da_Mean                    165\n",
       "ovrmou_Mean               2506\n",
       "ovrrev_Mean              11679\n",
       "vceovr_Mean               7179\n",
       "datovr_Mean                731\n",
       "roam_Mean                 5104\n",
       "tenure                    7481\n",
       "change_rev               31186\n",
       "drop_vce_Mean              321\n",
       "drop_dat_Mean               60\n",
       "blck_vce_Mean              431\n",
       "blck_dat_Mean               52\n",
       "unan_vce_Mean              964\n",
       "unan_dat_Mean               50\n",
       "plcd_vce_Mean             2849\n",
       "plcd_dat_Mean              370\n",
       "recv_vce_Mean             1782\n",
       "recv_sms_Mean               93\n",
       "comp_vce_Mean             2273\n",
       "comp_dat_Mean              348\n",
       "custcare_Mean              204\n",
       "ccrndmou_Mean              442\n",
       "cc_mou_Mean               8894\n",
       "inonemin_Mean             1279\n",
       "threeway_Mean               88\n",
       "mou_cvce_Mean            65572\n",
       "mou_cdat_Mean             4146\n",
       "mou_rvce_Mean            49669\n",
       "owylis_vce_Mean            869\n",
       "mouowylisv_Mean          25959\n",
       "iwylis_vce_Mean            520\n",
       "mouiwylisv_Mean          20517\n",
       "peak_vce_Mean             2086\n",
       "peak_dat_Mean              229\n",
       "mou_peav_Mean            61269\n",
       "mou_pead_Mean             2967\n",
       "opk_vce_Mean              1889\n",
       "opk_dat_Mean               246\n",
       "mou_opkv_Mean            56905\n",
       "mou_opkd_Mean             3328\n",
       "drop_blk_Mean              501\n",
       "attempt_Mean              2863\n",
       "complete_Mean             2303\n",
       "callfwdv_Mean               41\n",
       "callwait_Mean              253\n",
       "churn                        2\n",
       "months                      55\n",
       "uniqsubs                    15\n",
       "actvsubs                    12\n",
       "new_cell                     3\n",
       "crclscod                    53\n",
       "asl_flag                     2\n",
       "totcalls                 12047\n",
       "totmou                   23384\n",
       "totrev                   72496\n",
       "adjrev                   71748\n",
       "adjmou                   23098\n",
       "adjqty                   12000\n",
       "avgrev                   14461\n",
       "avgmou                   55799\n",
       "avgqty                   33834\n",
       "avg3mou                   3049\n",
       "avg3qty                   1416\n",
       "avg3rev                    498\n",
       "avg6mou                   2910\n",
       "avg6qty                   1359\n",
       "avg6rev                    443\n",
       "area                        19\n",
       "dualband                     3\n",
       "refurb_new                   2\n",
       "hnd_price                   17\n",
       "phones                      24\n",
       "models                      14\n",
       "truck                        2\n",
       "rv                           2\n",
       "marital                      5\n",
       "forgntvl                     2\n",
       "ethnic                      17\n",
       "kid0_2                       2\n",
       "kid3_5                       2\n",
       "kid6_10                      2\n",
       "kid11_15                     2\n",
       "kid16_17                     2\n",
       "creditcd                     2\n",
       "eqpdays                   1528"
      ]
     },
     "execution_count": 64,
     "metadata": {},
     "output_type": "execute_result"
    }
   ],
   "source": [
    "# dropping 'customerID' column first.\n",
    "df.drop('Customer_ID', inplace=True, axis=1)\n",
    "df_uniques = pd.DataFrame([[i, len(df[i].unique())] for i in df.columns], columns=['Variable', 'Unique Values']).set_index('Variable')\n",
    "df_uniques"
   ]
  },
  {
   "cell_type": "code",
   "execution_count": 65,
   "id": "aa5b6c02",
   "metadata": {},
   "outputs": [],
   "source": [
    "pd.reset_option('all') # reseting the number of rows that can be shown to default"
   ]
  },
  {
   "cell_type": "code",
   "execution_count": 66,
   "id": "537191bd",
   "metadata": {},
   "outputs": [],
   "source": [
    "object_variables = df.columns[df.dtypes == 'object']  # checking object columns"
   ]
  },
  {
   "cell_type": "code",
   "execution_count": 67,
   "id": "dd6827ff",
   "metadata": {},
   "outputs": [
    {
     "data": {
      "text/plain": [
       "['churn',\n",
       " 'asl_flag',\n",
       " 'refurb_new',\n",
       " 'truck',\n",
       " 'rv',\n",
       " 'forgntvl',\n",
       " 'kid0_2',\n",
       " 'kid3_5',\n",
       " 'kid6_10',\n",
       " 'kid11_15',\n",
       " 'kid16_17',\n",
       " 'creditcd']"
      ]
     },
     "execution_count": 67,
     "metadata": {},
     "output_type": "execute_result"
    }
   ],
   "source": [
    "binary_variables = list(df_uniques[df_uniques['Unique Values'] == 2].index) # taking only binary columns\n",
    "binary_variables"
   ]
  },
  {
   "cell_type": "code",
   "execution_count": 68,
   "id": "9489e69a",
   "metadata": {},
   "outputs": [
    {
     "data": {
      "text/plain": [
       "['ethnic', 'crclscod', 'dualband', 'area', 'marital', 'new_cell']"
      ]
     },
     "execution_count": 68,
     "metadata": {},
     "output_type": "execute_result"
    }
   ],
   "source": [
    "nonbinary_object_variables = list(set(object_variables) - set(binary_variables))\n",
    "nonbinary_object_variables"
   ]
  },
  {
   "cell_type": "code",
   "execution_count": 69,
   "id": "2cfac926",
   "metadata": {},
   "outputs": [
    {
     "data": {
      "text/plain": [
       "[['ethnic',\n",
       "  ['N',\n",
       "   'U',\n",
       "   'I',\n",
       "   'S',\n",
       "   'F',\n",
       "   'J',\n",
       "   'Z',\n",
       "   'M',\n",
       "   'H',\n",
       "   'G',\n",
       "   'D',\n",
       "   'O',\n",
       "   'R',\n",
       "   'B',\n",
       "   'P',\n",
       "   'X',\n",
       "   'C']],\n",
       " ['crclscod',\n",
       "  ['A',\n",
       "   'C',\n",
       "   'B',\n",
       "   'BA',\n",
       "   'D',\n",
       "   'G',\n",
       "   'CA',\n",
       "   'AA',\n",
       "   'U',\n",
       "   'Z',\n",
       "   'E',\n",
       "   'EA',\n",
       "   'J',\n",
       "   'E4',\n",
       "   'W',\n",
       "   'DA',\n",
       "   'Y',\n",
       "   'CC',\n",
       "   'GA',\n",
       "   'D4',\n",
       "   'D5',\n",
       "   'H',\n",
       "   'ZA',\n",
       "   'JF',\n",
       "   'K',\n",
       "   'B2',\n",
       "   'Z1',\n",
       "   'O',\n",
       "   'M',\n",
       "   'U1',\n",
       "   'Z4',\n",
       "   'A2',\n",
       "   'V',\n",
       "   'I',\n",
       "   'TP',\n",
       "   'EM',\n",
       "   'C2',\n",
       "   'C5',\n",
       "   'Z5',\n",
       "   'D2',\n",
       "   'GY',\n",
       "   'ZY',\n",
       "   'E2',\n",
       "   'A3',\n",
       "   'V1',\n",
       "   'Z2',\n",
       "   'CY',\n",
       "   'EC',\n",
       "   'P1',\n",
       "   'IF',\n",
       "   'ZF',\n",
       "   'EF',\n",
       "   'L']],\n",
       " ['dualband', ['Y', 'N', 'T']],\n",
       " ['area',\n",
       "  ['NORTHWEST/ROCKY MOUNTAIN AREA',\n",
       "   'GREAT LAKES AREA',\n",
       "   'CHICAGO AREA',\n",
       "   'NEW ENGLAND AREA',\n",
       "   'DALLAS AREA',\n",
       "   'CENTRAL/SOUTH TEXAS AREA',\n",
       "   'TENNESSEE AREA',\n",
       "   'MIDWEST AREA',\n",
       "   'PHILADELPHIA AREA',\n",
       "   'OHIO AREA',\n",
       "   'HOUSTON AREA',\n",
       "   'SOUTHWEST AREA',\n",
       "   'NEW YORK CITY AREA',\n",
       "   'ATLANTIC SOUTH AREA',\n",
       "   'SOUTH FLORIDA AREA',\n",
       "   'CALIFORNIA NORTH AREA',\n",
       "   'DC/MARYLAND/VIRGINIA AREA',\n",
       "   'NORTH FLORIDA AREA',\n",
       "   'LOS ANGELES AREA']],\n",
       " ['marital', ['S', 'M', 'A', 'U', 'B']],\n",
       " ['new_cell', ['U', 'Y', 'N']]]"
      ]
     },
     "execution_count": 69,
     "metadata": {},
     "output_type": "execute_result"
    }
   ],
   "source": [
    "[[i, list(df[i].unique())] for i in nonbinary_object_variables]"
   ]
  },
  {
   "cell_type": "markdown",
   "id": "851135a0",
   "metadata": {},
   "source": [
    "for nonbinary_object_variables, if they have values that are more than 3, they will be label encoded, the rest will be one hot encoded"
   ]
  },
  {
   "cell_type": "code",
   "execution_count": 70,
   "id": "f10824be",
   "metadata": {},
   "outputs": [],
   "source": [
    "labelencoder_columns = ['crclscod', 'ethnic', 'area']\n",
    "onehotencoder_columns = ['dualband', 'new_cell', 'marital']"
   ]
  },
  {
   "cell_type": "markdown",
   "id": "0f320f24",
   "metadata": {},
   "source": [
    "For the rest of float and integer columns will be scale using min maxing scaling to values between 0 and 1"
   ]
  },
  {
   "cell_type": "code",
   "execution_count": 71,
   "id": "ccb42fb7",
   "metadata": {},
   "outputs": [
    {
     "data": {
      "text/plain": [
       "Index(['rev_Mean', 'contract', 'totmrc_Mean', 'da_Mean', 'ovrmou_Mean',\n",
       "       'ovrrev_Mean', 'vceovr_Mean', 'datovr_Mean', 'roam_Mean', 'tenure',\n",
       "       'change_rev', 'drop_vce_Mean', 'drop_dat_Mean', 'blck_vce_Mean',\n",
       "       'blck_dat_Mean', 'unan_vce_Mean', 'unan_dat_Mean', 'plcd_vce_Mean',\n",
       "       'plcd_dat_Mean', 'recv_vce_Mean', 'recv_sms_Mean', 'comp_vce_Mean',\n",
       "       'comp_dat_Mean', 'custcare_Mean', 'ccrndmou_Mean', 'cc_mou_Mean',\n",
       "       'inonemin_Mean', 'threeway_Mean', 'mou_cvce_Mean', 'mou_cdat_Mean',\n",
       "       'mou_rvce_Mean', 'owylis_vce_Mean', 'mouowylisv_Mean',\n",
       "       'iwylis_vce_Mean', 'mouiwylisv_Mean', 'peak_vce_Mean', 'peak_dat_Mean',\n",
       "       'mou_peav_Mean', 'mou_pead_Mean', 'opk_vce_Mean', 'opk_dat_Mean',\n",
       "       'mou_opkv_Mean', 'mou_opkd_Mean', 'drop_blk_Mean', 'attempt_Mean',\n",
       "       'complete_Mean', 'callfwdv_Mean', 'callwait_Mean', 'churn', 'months',\n",
       "       'uniqsubs', 'actvsubs', 'totcalls', 'totmou', 'totrev', 'adjrev',\n",
       "       'adjmou', 'adjqty', 'avgrev', 'avgmou', 'avgqty', 'avg3mou', 'avg3qty',\n",
       "       'avg3rev', 'avg6mou', 'avg6qty', 'avg6rev', 'hnd_price', 'phones',\n",
       "       'models', 'truck', 'rv', 'forgntvl', 'eqpdays'],\n",
       "      dtype='object')"
      ]
     },
     "execution_count": 71,
     "metadata": {},
     "output_type": "execute_result"
    }
   ],
   "source": [
    "# combining float and integer columns together\n",
    "float_int_variables = df.columns[(df.dtypes == 'float64') | (df.dtypes == 'int64')]\n",
    "float_int_variables"
   ]
  },
  {
   "cell_type": "code",
   "execution_count": 72,
   "id": "83d9a1b3",
   "metadata": {},
   "outputs": [
    {
     "data": {
      "text/plain": [
       "['vceovr_Mean',\n",
       " 'totrev',\n",
       " 'blck_dat_Mean',\n",
       " 'avgrev',\n",
       " 'comp_vce_Mean',\n",
       " 'avgmou',\n",
       " 'unan_dat_Mean',\n",
       " 'mou_opkd_Mean',\n",
       " 'avg3qty',\n",
       " 'adjqty',\n",
       " 'avg6qty',\n",
       " 'avg6rev',\n",
       " 'comp_dat_Mean',\n",
       " 'ccrndmou_Mean',\n",
       " 'mou_opkv_Mean',\n",
       " 'plcd_dat_Mean',\n",
       " 'inonemin_Mean',\n",
       " 'mou_cdat_Mean',\n",
       " 'adjrev',\n",
       " 'contract',\n",
       " 'roam_Mean',\n",
       " 'drop_dat_Mean',\n",
       " 'phones',\n",
       " 'tenure',\n",
       " 'plcd_vce_Mean',\n",
       " 'totmrc_Mean',\n",
       " 'custcare_Mean',\n",
       " 'attempt_Mean',\n",
       " 'callwait_Mean',\n",
       " 'threeway_Mean',\n",
       " 'rev_Mean',\n",
       " 'avg3mou',\n",
       " 'peak_dat_Mean',\n",
       " 'change_rev',\n",
       " 'adjmou',\n",
       " 'mouiwylisv_Mean',\n",
       " 'mouowylisv_Mean',\n",
       " 'avg3rev',\n",
       " 'owylis_vce_Mean',\n",
       " 'da_Mean',\n",
       " 'models',\n",
       " 'mou_cvce_Mean',\n",
       " 'ovrrev_Mean',\n",
       " 'recv_sms_Mean',\n",
       " 'mou_peav_Mean',\n",
       " 'unan_vce_Mean',\n",
       " 'totmou',\n",
       " 'blck_vce_Mean',\n",
       " 'peak_vce_Mean',\n",
       " 'hnd_price',\n",
       " 'uniqsubs',\n",
       " 'iwylis_vce_Mean',\n",
       " 'opk_vce_Mean',\n",
       " 'callfwdv_Mean',\n",
       " 'cc_mou_Mean',\n",
       " 'drop_vce_Mean',\n",
       " 'mou_rvce_Mean',\n",
       " 'opk_dat_Mean',\n",
       " 'recv_vce_Mean',\n",
       " 'totcalls',\n",
       " 'complete_Mean',\n",
       " 'mou_pead_Mean',\n",
       " 'datovr_Mean',\n",
       " 'eqpdays',\n",
       " 'ovrmou_Mean',\n",
       " 'avg6mou',\n",
       " 'avgqty',\n",
       " 'months',\n",
       " 'drop_blk_Mean',\n",
       " 'actvsubs']"
      ]
     },
     "execution_count": 72,
     "metadata": {},
     "output_type": "execute_result"
    }
   ],
   "source": [
    "# excluding the columns that already exist in other set of columns, such as binary columns.\n",
    "remaining = list(set(float_int_variables) - set(binary_variables))\n",
    "remaining"
   ]
  },
  {
   "cell_type": "markdown",
   "id": "5eba6771",
   "metadata": {},
   "source": [
    "To sum up what we've done so far!, we've create the following groups of columns:\n",
    "\n",
    "<ol>\n",
    "  <li><b>binary_variables:</b> it contains binary columns and will be encoded using LabelBinarizer.</li>\n",
    "  <li><b>labelencoder_columns:</b> it contains categorical columns that have more than 3 unique values and it will be encoded using label encoder.</li>\n",
    "  <li><b>onehotencoder_columns:</b> it contains categorical columns that have  3 unique values or less and it will be encoded using one hot encoder.</li>\n",
    "  <li><b>remaining:</b> it contains the remaining float and integer columns which will be scaled using min maxing scaling..</li>\n",
    "</ol>"
   ]
  },
  {
   "cell_type": "markdown",
   "id": "fe053ca7",
   "metadata": {},
   "source": [
    "now let's scale all kinds of variables we have"
   ]
  },
  {
   "cell_type": "code",
   "execution_count": 73,
   "id": "b44ff8de",
   "metadata": {
    "scrolled": false
   },
   "outputs": [
    {
     "name": "stdout",
     "output_type": "stream",
     "text": [
      "['churn', 'asl_flag', 'refurb_new', 'truck', 'rv', 'forgntvl', 'kid0_2', 'kid3_5', 'kid6_10', 'kid11_15', 'kid16_17', 'creditcd']\n",
      "['crclscod', 'ethnic', 'area']\n",
      "['dualband', 'new_cell', 'marital']\n",
      "['vceovr_Mean', 'totrev', 'blck_dat_Mean', 'avgrev', 'comp_vce_Mean', 'avgmou', 'unan_dat_Mean', 'mou_opkd_Mean', 'avg3qty', 'adjqty', 'avg6qty', 'avg6rev', 'comp_dat_Mean', 'ccrndmou_Mean', 'mou_opkv_Mean', 'plcd_dat_Mean', 'inonemin_Mean', 'mou_cdat_Mean', 'adjrev', 'contract', 'roam_Mean', 'drop_dat_Mean', 'phones', 'tenure', 'plcd_vce_Mean', 'totmrc_Mean', 'custcare_Mean', 'attempt_Mean', 'callwait_Mean', 'threeway_Mean', 'rev_Mean', 'avg3mou', 'peak_dat_Mean', 'change_rev', 'adjmou', 'mouiwylisv_Mean', 'mouowylisv_Mean', 'avg3rev', 'owylis_vce_Mean', 'da_Mean', 'models', 'mou_cvce_Mean', 'ovrrev_Mean', 'recv_sms_Mean', 'mou_peav_Mean', 'unan_vce_Mean', 'totmou', 'blck_vce_Mean', 'peak_vce_Mean', 'hnd_price', 'uniqsubs', 'iwylis_vce_Mean', 'opk_vce_Mean', 'callfwdv_Mean', 'cc_mou_Mean', 'drop_vce_Mean', 'mou_rvce_Mean', 'opk_dat_Mean', 'recv_vce_Mean', 'totcalls', 'complete_Mean', 'mou_pead_Mean', 'datovr_Mean', 'eqpdays', 'ovrmou_Mean', 'avg6mou', 'avgqty', 'months', 'drop_blk_Mean', 'actvsubs']\n"
     ]
    }
   ],
   "source": [
    "from sklearn.preprocessing import LabelBinarizer, LabelEncoder, OneHotEncoder\n",
    "\n",
    "lb, le, one = LabelBinarizer(), LabelEncoder(), OneHotEncoder() # Initialize encoding objects.\n",
    "\n",
    "print(binary_variables)\n",
    "print(labelencoder_columns)\n",
    "print(onehotencoder_columns)\n",
    "print(remaining)"
   ]
  },
  {
   "cell_type": "markdown",
   "id": "cb02905b",
   "metadata": {},
   "source": [
    "making sure that the  total number in all categories sums up to 88 which is the total number of columns we have after droping all columns with large number of NA values and droping customer_id columns as well:"
   ]
  },
  {
   "cell_type": "code",
   "execution_count": 74,
   "id": "9720bbc7",
   "metadata": {},
   "outputs": [
    {
     "data": {
      "text/plain": [
       "88"
      ]
     },
     "execution_count": 74,
     "metadata": {},
     "output_type": "execute_result"
    }
   ],
   "source": [
    "len(binary_variables) + len(labelencoder_columns) + len(onehotencoder_columns) + len(remaining)"
   ]
  },
  {
   "cell_type": "markdown",
   "id": "7a99df7d",
   "metadata": {},
   "source": [
    "Tranforming labelencoder_columns first"
   ]
  },
  {
   "cell_type": "code",
   "execution_count": 75,
   "id": "59dfcd76",
   "metadata": {},
   "outputs": [],
   "source": [
    "for column in labelencoder_columns:\n",
    "    df[column] = le.fit_transform(df[column])"
   ]
  },
  {
   "cell_type": "markdown",
   "id": "a836f919",
   "metadata": {},
   "source": [
    "Checking out the result"
   ]
  },
  {
   "cell_type": "code",
   "execution_count": 76,
   "id": "456a1405",
   "metadata": {
    "scrolled": true
   },
   "outputs": [
    {
     "name": "stdout",
     "output_type": "stream",
     "text": [
      "crclscod\n",
      "[ 0  1  2  3  4  5  6  7  8  9 10 11 12 13 14 15 16 17 18 19 20 21 22 23\n",
      " 24 25 26 27 28 29 30 31 32 33 34 35 36 37 38 39 40 41 42 43 44 45 46 47\n",
      " 48 49 50 51 52]\n",
      "ethnic\n",
      "[ 0  1  2  3  4  5  6  7  8  9 10 11 12 13 14 15 16]\n",
      "area\n",
      "[ 0  1  2  3  4  5  6  7  8  9 10 11 12 13 14 15 16 17 18]\n"
     ]
    }
   ],
   "source": [
    "for column in labelencoder_columns:\n",
    "    print(column)\n",
    "    print(df[column].sort_values().unique())"
   ]
  },
  {
   "cell_type": "markdown",
   "id": "8dfb747c",
   "metadata": {},
   "source": [
    "Transforming the binary vairables:"
   ]
  },
  {
   "cell_type": "code",
   "execution_count": 77,
   "id": "98528f2e",
   "metadata": {
    "scrolled": true
   },
   "outputs": [
    {
     "name": "stdout",
     "output_type": "stream",
     "text": [
      "churn\n",
      "[0 1]\n",
      "asl_flag\n",
      "[0 1]\n",
      "refurb_new\n",
      "[0 1]\n",
      "truck\n",
      "[0 1]\n",
      "rv\n",
      "[0 1]\n",
      "forgntvl\n",
      "[0 1]\n",
      "kid0_2\n",
      "[0 1]\n",
      "kid3_5\n",
      "[0 1]\n",
      "kid6_10\n",
      "[0 1]\n",
      "kid11_15\n",
      "[0 1]\n",
      "kid16_17\n",
      "[0 1]\n",
      "creditcd\n",
      "[0 1]\n"
     ]
    }
   ],
   "source": [
    "# Values after transforming \n",
    "for column in binary_variables:\n",
    "    df[column] = lb.fit_transform(df[column])\n",
    "for column in binary_variables:\n",
    "    print(column)\n",
    "    print(df[column].sort_values().unique())"
   ]
  },
  {
   "cell_type": "markdown",
   "id": "e9f11951",
   "metadata": {},
   "source": [
    "Creating nominal variables and transforming them:"
   ]
  },
  {
   "cell_type": "code",
   "execution_count": 78,
   "id": "4b191d77",
   "metadata": {},
   "outputs": [],
   "source": [
    "# we will use get_dummies from pandas instead of one hot encoder\n",
    "df = pd.get_dummies(df, columns = onehotencoder_columns, drop_first=True)"
   ]
  },
  {
   "cell_type": "markdown",
   "id": "d6bb40ed",
   "metadata": {},
   "source": [
    "Keep in mind that we will transform the rest of the features using min max scaling later on after splitting the data, because transforming before splitting the data will add more information from the test set to the training set, which in other words, it's a for of cheating."
   ]
  },
  {
   "cell_type": "markdown",
   "id": "6dd7967b",
   "metadata": {},
   "source": [
    "Congrats!, we have finished preprocessing the data, now we need to deal with the imbalanced target class"
   ]
  },
  {
   "cell_type": "markdown",
   "id": "cf1f3e87",
   "metadata": {},
   "source": [
    "### Modeling the imbalanced Target Feature"
   ]
  },
  {
   "cell_type": "code",
   "execution_count": 79,
   "id": "8817b303",
   "metadata": {},
   "outputs": [
    {
     "name": "stdout",
     "output_type": "stream",
     "text": [
      "The target feature is \"Churn\" where No means the customer did not churned and Ues means the customer churn.\n",
      "\n",
      "the ratios of classes are as follows\n",
      "0    0.502455\n",
      "1    0.497545\n",
      "Name: churn, dtype: float64\n"
     ]
    }
   ],
   "source": [
    "print('The target feature is \"Churn\" where No means the customer did not churned and Ues means the customer churn.')\n",
    "print('')\n",
    "print('the ratios of classes are as follows')\n",
    "print(df['churn'].value_counts(normalize = True))"
   ]
  },
  {
   "cell_type": "markdown",
   "id": "86d1fc80",
   "metadata": {},
   "source": [
    "As we can see above, there is a minor imbalance in the data. However, to seek better accuracy and peformance we will apply imbalanced data modeling techniques to optimize the minor imbalance between classes "
   ]
  },
  {
   "cell_type": "code",
   "execution_count": 80,
   "id": "f2740a9c",
   "metadata": {},
   "outputs": [
    {
     "data": {
      "image/png": "[encoded data removed]",
      "text/plain": [
       "<Figure size 1600x800 with 1 Axes>"
      ]
     },
     "metadata": {},
     "output_type": "display_data"
    }
   ],
   "source": [
    "# Plotting the ratio between classes\n",
    "from matplotlib.pyplot import figure\n",
    "\n",
    "fig, ax = plt.subplots(figsize=(16, 8))\n",
    "df['churn'].value_counts().plot.bar(color= ['blue','red'])\n",
    "ax.set_ylabel('Frequency',fontsize=16)\n",
    "ax.set_xlabel('Target Feature Class Distribution',fontsize=16)\n",
    "ax.set_title('Churn Status',fontsize=16)\n",
    "ax.locator_params('y', nbins=20)\n",
    "plt.show()"
   ]
  },
  {
   "cell_type": "markdown",
   "id": "1da55b5e",
   "metadata": {},
   "source": [
    "#### As we can observe from the above graph, the target attribute is skewed to those who did not churn by diffirence, which will slightly weaken the model performance in predicting customers who churned, the problem here is that our focus is the customers that are churning because they're the problem that needs to be solved, therefor we need to model the imbalanced data using techniques such as downsampling, reqeighting and resampling to see which one performs better with LGBM model. \n",
    "\n",
    "#### we will split the data first before applying the techniques for modeling imbalanced data"
   ]
  },
  {
   "cell_type": "code",
   "execution_count": 81,
   "id": "2b577593",
   "metadata": {},
   "outputs": [
    {
     "data": {
      "text/plain": [
       "['rev_Mean',\n",
       " 'contract',\n",
       " 'totmrc_Mean',\n",
       " 'da_Mean',\n",
       " 'ovrmou_Mean',\n",
       " 'ovrrev_Mean',\n",
       " 'vceovr_Mean',\n",
       " 'datovr_Mean',\n",
       " 'roam_Mean',\n",
       " 'tenure',\n",
       " 'change_rev',\n",
       " 'drop_vce_Mean',\n",
       " 'drop_dat_Mean',\n",
       " 'blck_vce_Mean',\n",
       " 'blck_dat_Mean',\n",
       " 'unan_vce_Mean',\n",
       " 'unan_dat_Mean',\n",
       " 'plcd_vce_Mean',\n",
       " 'plcd_dat_Mean',\n",
       " 'recv_vce_Mean',\n",
       " 'recv_sms_Mean',\n",
       " 'comp_vce_Mean',\n",
       " 'comp_dat_Mean',\n",
       " 'custcare_Mean',\n",
       " 'ccrndmou_Mean',\n",
       " 'cc_mou_Mean',\n",
       " 'inonemin_Mean',\n",
       " 'threeway_Mean',\n",
       " 'mou_cvce_Mean',\n",
       " 'mou_cdat_Mean',\n",
       " 'mou_rvce_Mean',\n",
       " 'owylis_vce_Mean',\n",
       " 'mouowylisv_Mean',\n",
       " 'iwylis_vce_Mean',\n",
       " 'mouiwylisv_Mean',\n",
       " 'peak_vce_Mean',\n",
       " 'peak_dat_Mean',\n",
       " 'mou_peav_Mean',\n",
       " 'mou_pead_Mean',\n",
       " 'opk_vce_Mean',\n",
       " 'opk_dat_Mean',\n",
       " 'mou_opkv_Mean',\n",
       " 'mou_opkd_Mean',\n",
       " 'drop_blk_Mean',\n",
       " 'attempt_Mean',\n",
       " 'complete_Mean',\n",
       " 'callfwdv_Mean',\n",
       " 'callwait_Mean',\n",
       " 'months',\n",
       " 'uniqsubs',\n",
       " 'actvsubs',\n",
       " 'crclscod',\n",
       " 'asl_flag',\n",
       " 'totcalls',\n",
       " 'totmou',\n",
       " 'totrev',\n",
       " 'adjrev',\n",
       " 'adjmou',\n",
       " 'adjqty',\n",
       " 'avgrev',\n",
       " 'avgmou',\n",
       " 'avgqty',\n",
       " 'avg3mou',\n",
       " 'avg3qty',\n",
       " 'avg3rev',\n",
       " 'avg6mou',\n",
       " 'avg6qty',\n",
       " 'avg6rev',\n",
       " 'area',\n",
       " 'refurb_new',\n",
       " 'hnd_price',\n",
       " 'phones',\n",
       " 'models',\n",
       " 'truck',\n",
       " 'rv',\n",
       " 'forgntvl',\n",
       " 'ethnic',\n",
       " 'kid0_2',\n",
       " 'kid3_5',\n",
       " 'kid6_10',\n",
       " 'kid11_15',\n",
       " 'kid16_17',\n",
       " 'creditcd',\n",
       " 'eqpdays',\n",
       " 'dualband_T',\n",
       " 'dualband_Y',\n",
       " 'new_cell_U',\n",
       " 'new_cell_Y',\n",
       " 'marital_B',\n",
       " 'marital_M',\n",
       " 'marital_S',\n",
       " 'marital_U']"
      ]
     },
     "execution_count": 81,
     "metadata": {},
     "output_type": "execute_result"
    }
   ],
   "source": [
    "# Identifying the feature columns\n",
    "feature_cols = df.drop('churn',axis = 1).columns.tolist()\n",
    "feature_cols"
   ]
  },
  {
   "cell_type": "code",
   "execution_count": 82,
   "id": "be953b4c",
   "metadata": {},
   "outputs": [],
   "source": [
    "# Get the split indexes\n",
    "strat_shuf_split = StratifiedShuffleSplit(n_splits=1, \n",
    "                                          test_size=0.25, # 25% to test the model peforamnce\n",
    "                                          random_state=rs)\n",
    "\n",
    "# We use 'next' to get the arrays from the generator object.\n",
    "train_idx, test_idx = next(strat_shuf_split.split(df[feature_cols], df['churn']))"
   ]
  },
  {
   "cell_type": "code",
   "execution_count": 83,
   "id": "5df5db31",
   "metadata": {},
   "outputs": [],
   "source": [
    "# Create the train and test sets\n",
    "X_train = df.loc[train_idx, feature_cols] # loc[index,column]\n",
    "y_train = df.loc[train_idx, 'churn']\n",
    "\n",
    "X_test  = df.loc[test_idx, feature_cols]\n",
    "y_test  = df.loc[test_idx, 'churn']"
   ]
  },
  {
   "cell_type": "code",
   "execution_count": 84,
   "id": "869db759",
   "metadata": {},
   "outputs": [
    {
     "data": {
      "image/png": "[encoded data removed]",
      "text/plain": [
       "<Figure size 1600x800 with 1 Axes>"
      ]
     },
     "metadata": {},
     "output_type": "display_data"
    }
   ],
   "source": [
    "# Plotting y_train distribution\n",
    "fig, ax = plt.subplots(figsize=(16, 8))\n",
    "y_train.value_counts().plot.bar(color= ['blue','red'])\n",
    "ax.set_xlabel('Churn Status',fontsize=16)\n",
    "ax.set_ylabel('Frequency',fontsize=16)\n",
    "ax.set_title('y_train Distribution',fontsize=16)\n",
    "ax.locator_params('y', nbins=20)\n",
    "plt.show()"
   ]
  },
  {
   "cell_type": "code",
   "execution_count": 85,
   "id": "e120086a",
   "metadata": {},
   "outputs": [
    {
     "data": {
      "image/png": "[encoded data removed]",
      "text/plain": [
       "<Figure size 1600x800 with 1 Axes>"
      ]
     },
     "metadata": {},
     "output_type": "display_data"
    }
   ],
   "source": [
    "# Plotting y_test distribution\n",
    "fig, ax = plt.subplots(figsize=(16, 8))\n",
    "y_test.value_counts().plot.bar(color= ['blue','red'])\n",
    "ax.set_xlabel('Churn Staatus',fontsize=16)\n",
    "ax.set_ylabel('Frequency',fontsize=16)\n",
    "ax.set_title('y_test Distribution',fontsize=16)\n",
    "ax.locator_params('y', nbins=20)\n",
    "plt.show()"
   ]
  },
  {
   "cell_type": "markdown",
   "id": "64643cb6",
   "metadata": {},
   "source": [
    "#### We will use Logistic Regression to see which modeling technique performs better.\n",
    "\n",
    "### a. Class Reweighting Teachnique\n",
    "\n",
    "We will add the label encoded variables to teh remaining variables because they're represented with numbers so that's why the need to be scaled as well"
   ]
  },
  {
   "cell_type": "code",
   "execution_count": 86,
   "id": "44d78ff1",
   "metadata": {},
   "outputs": [],
   "source": [
    "mm = MinMaxScaler()# initiating a class for minmaxscaler\n",
    "remaining = remaining + labelencoder_columns # adding the lists\n",
    "# creating a copy of the dataset to scale it\n",
    "X_train_s = X_train\n",
    "X_test_s = X_test\n",
    "X_train_s[remaining] = mm.fit_transform(X_train[remaining])\n",
    "X_test_s[remaining] = mm.transform(X_test[remaining])\n",
    "\n",
    "\n"
   ]
  },
  {
   "cell_type": "code",
   "execution_count": 37,
   "id": "94e2c1b8",
   "metadata": {
    "scrolled": true
   },
   "outputs": [
    {
     "name": "stdout",
     "output_type": "stream",
     "text": [
      "number of values in each class\n",
      "0    35382\n",
      "1    35037\n",
      "Name: churn, dtype: int64\n",
      "Proportion of each class\n",
      "0    0.50245\n",
      "1    0.49755\n",
      "Name: churn, dtype: float64\n"
     ]
    }
   ],
   "source": [
    "print('number of values in each class')\n",
    "print(y_train.value_counts())\n",
    "print('Proportion of each class')\n",
    "print(y_train.value_counts()/len(y_train.index))"
   ]
  },
  {
   "cell_type": "code",
   "execution_count": 38,
   "id": "05eb1f87",
   "metadata": {},
   "outputs": [],
   "source": [
    "class_weight = {}\n",
    "# we will distribute the weight of each class according to it's proportion of the total number of values.\n",
    "class_weight[0] = 0.49755\n",
    "class_weight[1] = 0.50245\n",
    "# notice the the proportion of the bigger class was given as the weight for the smaller class and vice versa"
   ]
  },
  {
   "cell_type": "code",
   "execution_count": 39,
   "id": "665f7f5e",
   "metadata": {},
   "outputs": [],
   "source": [
    "# Define a logistic regression with weight\n",
    "model = LogisticRegression(solver='saga', random_state=rs, class_weight=class_weight)\n",
    "model.fit(X_train_s, y_train)\n",
    "preds =  model.predict(X_test_s)"
   ]
  },
  {
   "cell_type": "code",
   "execution_count": 40,
   "id": "fa65978c",
   "metadata": {},
   "outputs": [
    {
     "data": {
      "text/plain": [
       "{'accuracy': 0.5868620601516572,\n",
       " 'precision': array([0.59284513, 0.58131516]),\n",
       " 'Weighted precision': 0.5871086325762442,\n",
       " 'recall': array([0.5676134 , 0.60630191]),\n",
       " 'Weighted recall': 0.5868620601516572,\n",
       " 'f1score': array([0.57995495, 0.59354568]),\n",
       " 'Weighted f1score': 0.5867167388268983}"
      ]
     },
     "execution_count": 40,
     "metadata": {},
     "output_type": "execute_result"
    }
   ],
   "source": [
    "# Results\n",
    "\n",
    "reweighted = evaluate_metrics(y_test,preds)\n",
    "reweighted"
   ]
  },
  {
   "cell_type": "code",
   "execution_count": 41,
   "id": "f77a5fd6",
   "metadata": {},
   "outputs": [
    {
     "data": {
      "text/plain": [
       "[0.5868620601516572,\n",
       " 0.5871086325762442,\n",
       " 0.5868620601516572,\n",
       " 0.5867167388268983]"
      ]
     },
     "execution_count": 41,
     "metadata": {},
     "output_type": "execute_result"
    }
   ],
   "source": [
    "# Storing evaluation metrics (average values)\n",
    "reweighted_results = list()\n",
    "keys = ['accuracy','Weighted precision','Weighted recall','Weighted f1score']\n",
    "for key in keys:\n",
    "       reweighted_results.append(reweighted.get(key))\n",
    "reweighted_results    "
   ]
  },
  {
   "cell_type": "code",
   "execution_count": 42,
   "id": "1973e2d0",
   "metadata": {},
   "outputs": [
    {
     "data": {
      "text/plain": [
       "[array([0.59284513, 0.58131516]),\n",
       " array([0.5676134 , 0.60630191]),\n",
       " array([0.57995495, 0.59354568])]"
      ]
     },
     "execution_count": 42,
     "metadata": {},
     "output_type": "execute_result"
    }
   ],
   "source": [
    "# storing evaluation metrics (per class)\n",
    "reweighted_rpf = []\n",
    "elements = ['precision','recall','f1score']\n",
    "for element in elements:\n",
    "       reweighted_rpf.append(reweighted.get(element))\n",
    "reweighted_rpf     "
   ]
  },
  {
   "cell_type": "markdown",
   "id": "64c73d70",
   "metadata": {},
   "source": [
    "### b. Undersampling Technique"
   ]
  },
  {
   "cell_type": "code",
   "execution_count": 87,
   "id": "9b4acc08",
   "metadata": {},
   "outputs": [],
   "source": [
    "under_sampler = RandomUnderSampler(random_state=rs) #initiating undersampling object\n",
    "X_under, y_under = under_sampler.fit_resample(X_train_s, y_train)"
   ]
  },
  {
   "cell_type": "code",
   "execution_count": 88,
   "id": "1dab7f37",
   "metadata": {},
   "outputs": [
    {
     "name": "stdout",
     "output_type": "stream",
     "text": [
      "y_train after undersampling\n"
     ]
    },
    {
     "data": {
      "text/plain": [
       "0    35037\n",
       "1    35037\n",
       "Name: churn, dtype: int64"
      ]
     },
     "execution_count": 88,
     "metadata": {},
     "output_type": "execute_result"
    }
   ],
   "source": [
    "print('y_train after undersampling')\n",
    "y_under.value_counts() "
   ]
  },
  {
   "cell_type": "code",
   "execution_count": 89,
   "id": "c7494403",
   "metadata": {},
   "outputs": [],
   "source": [
    "model = LogisticRegression(solver='saga', random_state=rs)\n",
    "model.fit(X_under, y_under)\n",
    "preds = model.predict(X_test_s)"
   ]
  },
  {
   "cell_type": "code",
   "execution_count": 90,
   "id": "7e8feda4",
   "metadata": {},
   "outputs": [
    {
     "data": {
      "text/plain": [
       "{'accuracy': 0.5878844679219563,\n",
       " 'precision': array([0.5935928 , 0.58255785]),\n",
       " 'Weighted precision': 0.5881025907413797,\n",
       " 'recall': array([0.57024163, 0.60570254]),\n",
       " 'Weighted recall': 0.5878844679219563,\n",
       " 'f1score': array([0.58168295, 0.59390479]),\n",
       " 'Weighted f1score': 0.5877636761184344}"
      ]
     },
     "execution_count": 90,
     "metadata": {},
     "output_type": "execute_result"
    }
   ],
   "source": [
    "undersampling = evaluate_metrics(y_test,preds)\n",
    "undersampling"
   ]
  },
  {
   "cell_type": "code",
   "execution_count": 91,
   "id": "dbd2910b",
   "metadata": {},
   "outputs": [
    {
     "ename": "NameError",
     "evalue": "name 'keys' is not defined",
     "output_type": "error",
     "traceback": [
      "\u001b[1;31m---------------------------------------------------------------------------\u001b[0m",
      "\u001b[1;31mNameError\u001b[0m                                 Traceback (most recent call last)",
      "\u001b[1;32m<ipython-input-91-5afe9c6b9c54>\u001b[0m in \u001b[0;36m<module>\u001b[1;34m\u001b[0m\n\u001b[0;32m      1\u001b[0m \u001b[1;31m# Storing evaluation metrics (average values)\u001b[0m\u001b[1;33m\u001b[0m\u001b[1;33m\u001b[0m\u001b[1;33m\u001b[0m\u001b[0m\n\u001b[0;32m      2\u001b[0m \u001b[0mundersampling_results\u001b[0m \u001b[1;33m=\u001b[0m \u001b[0mlist\u001b[0m\u001b[1;33m(\u001b[0m\u001b[1;33m)\u001b[0m\u001b[1;33m\u001b[0m\u001b[1;33m\u001b[0m\u001b[0m\n\u001b[1;32m----> 3\u001b[1;33m \u001b[1;32mfor\u001b[0m \u001b[0mkey\u001b[0m \u001b[1;32min\u001b[0m \u001b[0mkeys\u001b[0m\u001b[1;33m:\u001b[0m\u001b[1;33m\u001b[0m\u001b[1;33m\u001b[0m\u001b[0m\n\u001b[0m\u001b[0;32m      4\u001b[0m        \u001b[0mundersampling_results\u001b[0m\u001b[1;33m.\u001b[0m\u001b[0mappend\u001b[0m\u001b[1;33m(\u001b[0m\u001b[0mundersampling\u001b[0m\u001b[1;33m.\u001b[0m\u001b[0mget\u001b[0m\u001b[1;33m(\u001b[0m\u001b[0mkey\u001b[0m\u001b[1;33m)\u001b[0m\u001b[1;33m)\u001b[0m\u001b[1;33m\u001b[0m\u001b[1;33m\u001b[0m\u001b[0m\n\u001b[0;32m      5\u001b[0m \u001b[0mundersampling_results\u001b[0m\u001b[1;33m\u001b[0m\u001b[1;33m\u001b[0m\u001b[0m\n",
      "\u001b[1;31mNameError\u001b[0m: name 'keys' is not defined"
     ]
    }
   ],
   "source": [
    "# Storing evaluation metrics (average values)\n",
    "undersampling_results = list()\n",
    "for key in keys:\n",
    "       undersampling_results.append(undersampling.get(key))\n",
    "undersampling_results"
   ]
  },
  {
   "cell_type": "code",
   "execution_count": null,
   "id": "90839f75",
   "metadata": {},
   "outputs": [],
   "source": [
    "# storing evaluation metrics (per class)\n",
    "undersampling_rpf = []\n",
    "for element in elements:\n",
    "       undersampling_rpf.append(undersampling.get(element))\n",
    "undersampling_rpf    "
   ]
  },
  {
   "cell_type": "markdown",
   "id": "eb4a69ea",
   "metadata": {},
   "source": [
    "### c. Resampling Technique"
   ]
  },
  {
   "cell_type": "code",
   "execution_count": 49,
   "id": "a1e4fec7",
   "metadata": {},
   "outputs": [],
   "source": [
    "smote_sampler = SMOTE(random_state = rs) #Initiating SMOTE sampler\n",
    "X_smo, y_smo = smote_sampler.fit_resample(X_train_s, y_train)"
   ]
  },
  {
   "cell_type": "code",
   "execution_count": 50,
   "id": "c9486e75",
   "metadata": {},
   "outputs": [
    {
     "data": {
      "text/plain": [
       "0    35382\n",
       "1    35382\n",
       "Name: churn, dtype: int64"
      ]
     },
     "execution_count": 50,
     "metadata": {},
     "output_type": "execute_result"
    }
   ],
   "source": [
    "y_smo.value_counts()"
   ]
  },
  {
   "cell_type": "code",
   "execution_count": 51,
   "id": "6b03c6d0",
   "metadata": {},
   "outputs": [],
   "source": [
    "model = LogisticRegression(solver='saga', random_state=rs)"
   ]
  },
  {
   "cell_type": "code",
   "execution_count": 52,
   "id": "264f3fba",
   "metadata": {},
   "outputs": [],
   "source": [
    "model.fit(X_smo, y_smo)\n",
    "preds = model.predict(X_test_s)"
   ]
  },
  {
   "cell_type": "code",
   "execution_count": 53,
   "id": "43bdcc02",
   "metadata": {},
   "outputs": [
    {
     "data": {
      "text/plain": [
       "{'accuracy': 0.5874158643605691,\n",
       " 'precision': array([0.5932473 , 0.58199013]),\n",
       " 'Weighted precision': 0.587646532335464,\n",
       " 'recall': array([0.56905468, 0.60595941]),\n",
       " 'Weighted recall': 0.5874158643605691,\n",
       " 'f1score': array([0.58089922, 0.59373296]),\n",
       " 'Weighted f1score': 0.5872843778259789}"
      ]
     },
     "execution_count": 53,
     "metadata": {},
     "output_type": "execute_result"
    }
   ],
   "source": [
    "resampling = evaluate_metrics(y_test, preds)\n",
    "resampling"
   ]
  },
  {
   "cell_type": "code",
   "execution_count": 54,
   "id": "47a886da",
   "metadata": {},
   "outputs": [
    {
     "data": {
      "text/plain": [
       "[0.5874158643605691, 0.587646532335464, 0.5874158643605691, 0.5872843778259789]"
      ]
     },
     "execution_count": 54,
     "metadata": {},
     "output_type": "execute_result"
    }
   ],
   "source": [
    "# Storing evaluation metrics (average values)\n",
    "resampling_results = list()\n",
    "for key in keys:\n",
    "       resampling_results.append(resampling.get(key))\n",
    "resampling_results"
   ]
  },
  {
   "cell_type": "code",
   "execution_count": 55,
   "id": "c77f9eb6",
   "metadata": {},
   "outputs": [
    {
     "data": {
      "text/plain": [
       "[array([0.5932473 , 0.58199013]),\n",
       " array([0.56905468, 0.60595941]),\n",
       " array([0.58089922, 0.59373296])]"
      ]
     },
     "execution_count": 55,
     "metadata": {},
     "output_type": "execute_result"
    }
   ],
   "source": [
    "# storing evaluation metrics (per class)\n",
    "resampling_rpf = []\n",
    "for element in elements:\n",
    "       resampling_rpf.append(resampling.get(element))\n",
    "resampling_rpf   "
   ]
  },
  {
   "cell_type": "markdown",
   "id": "5332da6c",
   "metadata": {},
   "source": [
    "### d. None modeled data"
   ]
  },
  {
   "cell_type": "code",
   "execution_count": 56,
   "id": "6a1651a2",
   "metadata": {},
   "outputs": [
    {
     "data": {
      "text/plain": [
       "{'accuracy': 0.5869046604754196,\n",
       " 'precision': array([0.59093273, 0.58301223]),\n",
       " 'Weighted precision': 0.5869920512114533,\n",
       " 'recall': array([0.57795676, 0.59594143]),\n",
       " 'Weighted recall': 0.5869046604754196,\n",
       " 'f1score': array([0.58437272, 0.58940594]),\n",
       " 'Weighted f1score': 0.5868768935359434}"
      ]
     },
     "execution_count": 56,
     "metadata": {},
     "output_type": "execute_result"
    }
   ],
   "source": [
    "model = LogisticRegression(solver='saga', random_state=rs)\n",
    "model.fit(X_train_s, y_train)\n",
    "preds = model.predict(X_test_s)\n",
    "no_model = evaluate_metrics(y_test, preds)\n",
    "no_model"
   ]
  },
  {
   "cell_type": "code",
   "execution_count": 57,
   "id": "82ac0b5f",
   "metadata": {},
   "outputs": [
    {
     "data": {
      "text/plain": [
       "[0.5869046604754196,\n",
       " 0.5869920512114533,\n",
       " 0.5869046604754196,\n",
       " 0.5868768935359434]"
      ]
     },
     "execution_count": 57,
     "metadata": {},
     "output_type": "execute_result"
    }
   ],
   "source": [
    "# Storing evaluation metrics (average values)\n",
    "no_model_results = list()\n",
    "for key in keys:\n",
    "       no_model_results.append(no_model.get(key))\n",
    "no_model_results"
   ]
  },
  {
   "cell_type": "code",
   "execution_count": 58,
   "id": "01c0d8ad",
   "metadata": {},
   "outputs": [
    {
     "data": {
      "text/plain": [
       "[array([0.59093273, 0.58301223]),\n",
       " array([0.57795676, 0.59594143]),\n",
       " array([0.58437272, 0.58940594])]"
      ]
     },
     "execution_count": 58,
     "metadata": {},
     "output_type": "execute_result"
    }
   ],
   "source": [
    "# storing evaluation metrics (per class)\n",
    "no_model_rpf = []\n",
    "for element in elements:\n",
    "       no_model_rpf.append(no_model.get(element))\n",
    "no_model_rpf   "
   ]
  },
  {
   "cell_type": "code",
   "execution_count": 59,
   "id": "9ca6def2",
   "metadata": {},
   "outputs": [
    {
     "data": {
      "text/html": [
       "<div>\n",
       "<style scoped>\n",
       "    .dataframe tbody tr th:only-of-type {\n",
       "        vertical-align: middle;\n",
       "    }\n",
       "\n",
       "    .dataframe tbody tr th {\n",
       "        vertical-align: top;\n",
       "    }\n",
       "\n",
       "    .dataframe thead th {\n",
       "        text-align: right;\n",
       "    }\n",
       "</style>\n",
       "<table border=\"1\" class=\"dataframe\">\n",
       "  <thead>\n",
       "    <tr style=\"text-align: right;\">\n",
       "      <th></th>\n",
       "      <th>Reweighted</th>\n",
       "      <th>Undersampled</th>\n",
       "      <th>Resampled</th>\n",
       "      <th>no_model</th>\n",
       "    </tr>\n",
       "    <tr>\n",
       "      <th>Metric</th>\n",
       "      <th></th>\n",
       "      <th></th>\n",
       "      <th></th>\n",
       "      <th></th>\n",
       "    </tr>\n",
       "  </thead>\n",
       "  <tbody>\n",
       "    <tr>\n",
       "      <th>Accuracy</th>\n",
       "      <td>0.586862</td>\n",
       "      <td>0.587884</td>\n",
       "      <td>0.587416</td>\n",
       "      <td>0.586905</td>\n",
       "    </tr>\n",
       "    <tr>\n",
       "      <th>Weighted Recall</th>\n",
       "      <td>0.587109</td>\n",
       "      <td>0.588103</td>\n",
       "      <td>0.587647</td>\n",
       "      <td>0.586992</td>\n",
       "    </tr>\n",
       "    <tr>\n",
       "      <th>Weighted Precision</th>\n",
       "      <td>0.586862</td>\n",
       "      <td>0.587884</td>\n",
       "      <td>0.587416</td>\n",
       "      <td>0.586905</td>\n",
       "    </tr>\n",
       "    <tr>\n",
       "      <th>Weighted F1score</th>\n",
       "      <td>0.586717</td>\n",
       "      <td>0.587764</td>\n",
       "      <td>0.587284</td>\n",
       "      <td>0.586877</td>\n",
       "    </tr>\n",
       "  </tbody>\n",
       "</table>\n",
       "</div>"
      ],
      "text/plain": [
       "                    Reweighted  Undersampled  Resampled  no_model\n",
       "Metric                                                           \n",
       "Accuracy              0.586862      0.587884   0.587416  0.586905\n",
       " Weighted Recall      0.587109      0.588103   0.587647  0.586992\n",
       "Weighted Precision    0.586862      0.587884   0.587416  0.586905\n",
       "Weighted F1score      0.586717      0.587764   0.587284  0.586877"
      ]
     },
     "metadata": {},
     "output_type": "display_data"
    }
   ],
   "source": [
    "final_results= {\n",
    "    'Metric': ['Accuracy',' Weighted Recall','Weighted Precision','Weighted F1score'],\n",
    "    'Reweighted' :reweighted_results,\n",
    "    'Undersampled':undersampling_results,\n",
    "    'Resampled':resampling_results,\n",
    "    'no_model':no_model_results}\n",
    "final_results = pd.DataFrame(final_results).set_index('Metric')\n",
    "display(final_results)"
   ]
  },
  {
   "cell_type": "markdown",
   "id": "447699a7",
   "metadata": {},
   "source": [
    "Here is the best imbalanced data model for each performance metrics:\n",
    "* <b>Accuracy</b>: Reweighted - 0.750710\n",
    "* <b>Weighted Recall</b>: Reweighted - 0.0.801919\n",
    "* <b>Weighted Precision</b>: Reweighted - 0.750710\n",
    "* <b>Weighted F1score</b>: Resampled - 0.761361\n",
    "\n",
    "Identifying customers that are going to churn is more important than identifying customers that are going to stay with the company, since missing customers that are going to churn will damage the company, because losing customers simply means less profits. Therefore, we should pay attention to score high recall (True Positive Rate or TPR) even if that means lowers precision (), because high recall means reducing the number of customers that we don’t predict to churn while they’re actually going to churn, and high precision means reducing the number of customers that we don’t predict to stay at the company while they’re actually going to stay, the problem with scoring high precision is that it doesn’t guarantee that we’re going score high prediction for those who are going to churn, it just means that out of the people we predicted to churn, most of them are actually going to churn, but this is not enough, because what if there are people we didn’t predict that they’re going to churn in the first place and they’re actually going to churn, that’s why recall suited for our problem.  \n",
    "\n",
    "As we can see in the above table, the weighted model scored the highest value for recall, and it scored decent values in F1-score and precision, this is why we will model the data using weighting. Moreover, we can see that the data without in kind of trnasformation scored high result in the weighted recall, this is because the model was good at predicting 0s, which they refer to the people that didn't churn and they're the majority. However, the class in which we are intrerested in which is 1s, it represents the peole that churns and they're the minority, this is why without any model trnasformation, it scores very low results in recall since that model wasn't trained well on this class compared to the 0s class as we can see in the table bellow."
   ]
  },
  {
   "cell_type": "code",
   "execution_count": 60,
   "id": "0d5694f5",
   "metadata": {},
   "outputs": [
    {
     "data": {
      "text/html": [
       "<div>\n",
       "<style scoped>\n",
       "    .dataframe tbody tr th:only-of-type {\n",
       "        vertical-align: middle;\n",
       "    }\n",
       "\n",
       "    .dataframe tbody tr th {\n",
       "        vertical-align: top;\n",
       "    }\n",
       "\n",
       "    .dataframe thead th {\n",
       "        text-align: right;\n",
       "    }\n",
       "</style>\n",
       "<table border=\"1\" class=\"dataframe\">\n",
       "  <thead>\n",
       "    <tr style=\"text-align: right;\">\n",
       "      <th>classes</th>\n",
       "      <th>0</th>\n",
       "      <th>1</th>\n",
       "    </tr>\n",
       "  </thead>\n",
       "  <tbody>\n",
       "    <tr>\n",
       "      <th>Rewieghted Precision</th>\n",
       "      <td>0.592845</td>\n",
       "      <td>0.581315</td>\n",
       "    </tr>\n",
       "    <tr>\n",
       "      <th>Rewieghted recall</th>\n",
       "      <td>0.567613</td>\n",
       "      <td>0.606302</td>\n",
       "    </tr>\n",
       "    <tr>\n",
       "      <th>Rewieghted F1score</th>\n",
       "      <td>0.579955</td>\n",
       "      <td>0.593546</td>\n",
       "    </tr>\n",
       "    <tr>\n",
       "      <th>Undersampled precision</th>\n",
       "      <td>0.593593</td>\n",
       "      <td>0.582558</td>\n",
       "    </tr>\n",
       "    <tr>\n",
       "      <th>Undersampled recall</th>\n",
       "      <td>0.570242</td>\n",
       "      <td>0.605703</td>\n",
       "    </tr>\n",
       "    <tr>\n",
       "      <th>Undersampled F1 score</th>\n",
       "      <td>0.581683</td>\n",
       "      <td>0.593905</td>\n",
       "    </tr>\n",
       "    <tr>\n",
       "      <th>Resampled precision</th>\n",
       "      <td>0.593247</td>\n",
       "      <td>0.581990</td>\n",
       "    </tr>\n",
       "    <tr>\n",
       "      <th>Resampled recall</th>\n",
       "      <td>0.569055</td>\n",
       "      <td>0.605959</td>\n",
       "    </tr>\n",
       "    <tr>\n",
       "      <th>Resampled F1 score</th>\n",
       "      <td>0.580899</td>\n",
       "      <td>0.593733</td>\n",
       "    </tr>\n",
       "    <tr>\n",
       "      <th>no_model precision</th>\n",
       "      <td>0.590933</td>\n",
       "      <td>0.583012</td>\n",
       "    </tr>\n",
       "    <tr>\n",
       "      <th>no_model recall</th>\n",
       "      <td>0.577957</td>\n",
       "      <td>0.595941</td>\n",
       "    </tr>\n",
       "    <tr>\n",
       "      <th>no_model F1 score</th>\n",
       "      <td>0.584373</td>\n",
       "      <td>0.589406</td>\n",
       "    </tr>\n",
       "  </tbody>\n",
       "</table>\n",
       "</div>"
      ],
      "text/plain": [
       "classes                        0         1\n",
       "Rewieghted Precision    0.592845  0.581315\n",
       "Rewieghted recall       0.567613  0.606302\n",
       "Rewieghted F1score      0.579955  0.593546\n",
       "Undersampled precision  0.593593  0.582558\n",
       "Undersampled recall     0.570242  0.605703\n",
       "Undersampled F1 score   0.581683  0.593905\n",
       "Resampled precision     0.593247  0.581990\n",
       "Resampled recall        0.569055  0.605959\n",
       "Resampled F1 score      0.580899  0.593733\n",
       "no_model precision      0.590933  0.583012\n",
       "no_model recall         0.577957  0.595941\n",
       "no_model F1 score       0.584373  0.589406"
      ]
     },
     "execution_count": 60,
     "metadata": {},
     "output_type": "execute_result"
    }
   ],
   "source": [
    "final_results_per_class = {\n",
    "    'classes': [0,1],\n",
    "    'Rewieghted Precision' :reweighted_rpf[0],\n",
    "    'Rewieghted recall' :reweighted_rpf[1],\n",
    "    'Rewieghted F1score' :reweighted_rpf[2],\n",
    "    'Undersampled precision':undersampling_rpf[0],\n",
    "    'Undersampled recall':undersampling_rpf[1],\n",
    "    'Undersampled F1 score':undersampling_rpf[2],\n",
    "    'Resampled precision':resampling_rpf[0],\n",
    "    'Resampled recall':resampling_rpf[1],\n",
    "    'Resampled F1 score':resampling_rpf[2],\n",
    "    'no_model precision':no_model_rpf[0],\n",
    "    'no_model recall':no_model_rpf[1],\n",
    "    'no_model F1 score':no_model_rpf[2]}\n",
    "final_results_per_class = pd.DataFrame(final_results_per_class).set_index('classes')\n",
    "final_results_per_class.T"
   ]
  },
  {
   "cell_type": "markdown",
   "id": "17d816f4",
   "metadata": {},
   "source": [
    "<b>Based on the performance for each technique per class and for the weighted performance, we can conclude that reweighting technique the best one to choose.</b>"
   ]
  },
  {
   "cell_type": "markdown",
   "id": "2db661bd",
   "metadata": {},
   "source": [
    "## Machine learning\n",
    "\n",
    "We will start by training multiple classification machine learning models and finally we will train LGBM model and compare it's performance to the rest of the models\n",
    "\n",
    "### a. Logistic Regression"
   ]
  },
  {
   "cell_type": "code",
   "execution_count": 61,
   "id": "c5edb02d",
   "metadata": {},
   "outputs": [],
   "source": [
    "# # using stratifiedkfold to guarantee even distribution in classes between training and testing sets\n",
    "# skf = StratifiedKFold(shuffle=True, random_state=rs , n_splits= 4 ) # 4 splits only to reduce time. \n",
    "\n",
    "# # Identifying the param_grid to loop through it using GridSearchCV\n",
    "# param_grid = {'C':[0.01,0.1,0.5,1,10],\n",
    "#               'penalty':['l1', 'l2']}\n",
    "# model = LogisticRegression(random_state = rs, solver = 'saga')\n",
    "\n",
    "# search_lr = GridSearchCV(estimator=model,\n",
    "#                       param_grid=param_grid,\n",
    "#                       scoring='accuracy',\n",
    "#                       cv=skf,\n",
    "#                       n_jobs= -1) \n",
    "# search_lr.fit(X_under, y_under)"
   ]
  },
  {
   "cell_type": "code",
   "execution_count": 63,
   "id": "2e59d2ad",
   "metadata": {},
   "outputs": [],
   "source": [
    "search_lr.best_score_"
   ]
  },
  {
   "cell_type": "code",
   "execution_count": null,
   "id": "be0ac366",
   "metadata": {},
   "outputs": [],
   "source": [
    "search_lr.best_params_"
   ]
  },
  {
   "cell_type": "code",
   "execution_count": 92,
   "id": "cf68dfc8",
   "metadata": {},
   "outputs": [],
   "source": [
    "lr_model = LogisticRegression(random_state = rs, C = 10,   penalty = 'l1', solver = 'saga', )"
   ]
  },
  {
   "cell_type": "code",
   "execution_count": 93,
   "id": "b9019e71",
   "metadata": {},
   "outputs": [
    {
     "name": "stdout",
     "output_type": "stream",
     "text": [
      "Wall time: 13.9 s\n"
     ]
    },
    {
     "data": {
      "text/html": [
       "<style>#sk-container-id-2 {color: black;background-color: white;}#sk-container-id-2 pre{padding: 0;}#sk-container-id-2 div.sk-toggleable {background-color: white;}#sk-container-id-2 label.sk-toggleable__label {cursor: pointer;display: block;width: 100%;margin-bottom: 0;padding: 0.3em;box-sizing: border-box;text-align: center;}#sk-container-id-2 label.sk-toggleable__label-arrow:before {content: \"▸\";float: left;margin-right: 0.25em;color: #696969;}#sk-container-id-2 label.sk-toggleable__label-arrow:hover:before {color: black;}#sk-container-id-2 div.sk-estimator:hover label.sk-toggleable__label-arrow:before {color: black;}#sk-container-id-2 div.sk-toggleable__content {max-height: 0;max-width: 0;overflow: hidden;text-align: left;background-color: #f0f8ff;}#sk-container-id-2 div.sk-toggleable__content pre {margin: 0.2em;color: black;border-radius: 0.25em;background-color: #f0f8ff;}#sk-container-id-2 input.sk-toggleable__control:checked~div.sk-toggleable__content {max-height: 200px;max-width: 100%;overflow: auto;}#sk-container-id-2 input.sk-toggleable__control:checked~label.sk-toggleable__label-arrow:before {content: \"▾\";}#sk-container-id-2 div.sk-estimator input.sk-toggleable__control:checked~label.sk-toggleable__label {background-color: #d4ebff;}#sk-container-id-2 div.sk-label input.sk-toggleable__control:checked~label.sk-toggleable__label {background-color: #d4ebff;}#sk-container-id-2 input.sk-hidden--visually {border: 0;clip: rect(1px 1px 1px 1px);clip: rect(1px, 1px, 1px, 1px);height: 1px;margin: -1px;overflow: hidden;padding: 0;position: absolute;width: 1px;}#sk-container-id-2 div.sk-estimator {font-family: monospace;background-color: #f0f8ff;border: 1px dotted black;border-radius: 0.25em;box-sizing: border-box;margin-bottom: 0.5em;}#sk-container-id-2 div.sk-estimator:hover {background-color: #d4ebff;}#sk-container-id-2 div.sk-parallel-item::after {content: \"\";width: 100%;border-bottom: 1px solid gray;flex-grow: 1;}#sk-container-id-2 div.sk-label:hover label.sk-toggleable__label {background-color: #d4ebff;}#sk-container-id-2 div.sk-serial::before {content: \"\";position: absolute;border-left: 1px solid gray;box-sizing: border-box;top: 0;bottom: 0;left: 50%;z-index: 0;}#sk-container-id-2 div.sk-serial {display: flex;flex-direction: column;align-items: center;background-color: white;padding-right: 0.2em;padding-left: 0.2em;position: relative;}#sk-container-id-2 div.sk-item {position: relative;z-index: 1;}#sk-container-id-2 div.sk-parallel {display: flex;align-items: stretch;justify-content: center;background-color: white;position: relative;}#sk-container-id-2 div.sk-item::before, #sk-container-id-2 div.sk-parallel-item::before {content: \"\";position: absolute;border-left: 1px solid gray;box-sizing: border-box;top: 0;bottom: 0;left: 50%;z-index: -1;}#sk-container-id-2 div.sk-parallel-item {display: flex;flex-direction: column;z-index: 1;position: relative;background-color: white;}#sk-container-id-2 div.sk-parallel-item:first-child::after {align-self: flex-end;width: 50%;}#sk-container-id-2 div.sk-parallel-item:last-child::after {align-self: flex-start;width: 50%;}#sk-container-id-2 div.sk-parallel-item:only-child::after {width: 0;}#sk-container-id-2 div.sk-dashed-wrapped {border: 1px dashed gray;margin: 0 0.4em 0.5em 0.4em;box-sizing: border-box;padding-bottom: 0.4em;background-color: white;}#sk-container-id-2 div.sk-label label {font-family: monospace;font-weight: bold;display: inline-block;line-height: 1.2em;}#sk-container-id-2 div.sk-label-container {text-align: center;}#sk-container-id-2 div.sk-container {/* jupyter's `normalize.less` sets `[hidden] { display: none; }` but bootstrap.min.css set `[hidden] { display: none !important; }` so we also need the `!important` here to be able to override the default hidden behavior on the sphinx rendered scikit-learn.org. See: https://github.com/scikit-learn/scikit-learn/issues/21755 */display: inline-block !important;position: relative;}#sk-container-id-2 div.sk-text-repr-fallback {display: none;}</style><div id=\"sk-container-id-2\" class=\"sk-top-container\"><div class=\"sk-text-repr-fallback\"><pre>LogisticRegression(C=10, penalty=&#x27;l1&#x27;, random_state=123, solver=&#x27;saga&#x27;)</pre><b>In a Jupyter environment, please rerun this cell to show the HTML representation or trust the notebook. <br />On GitHub, the HTML representation is unable to render, please try loading this page with nbviewer.org.</b></div><div class=\"sk-container\" hidden><div class=\"sk-item\"><div class=\"sk-estimator sk-toggleable\"><input class=\"sk-toggleable__control sk-hidden--visually\" id=\"sk-estimator-id-2\" type=\"checkbox\" checked><label for=\"sk-estimator-id-2\" class=\"sk-toggleable__label sk-toggleable__label-arrow\">LogisticRegression</label><div class=\"sk-toggleable__content\"><pre>LogisticRegression(C=10, penalty=&#x27;l1&#x27;, random_state=123, solver=&#x27;saga&#x27;)</pre></div></div></div></div></div>"
      ],
      "text/plain": [
       "LogisticRegression(C=10, penalty='l1', random_state=123, solver='saga')"
      ]
     },
     "execution_count": 93,
     "metadata": {},
     "output_type": "execute_result"
    }
   ],
   "source": [
    "%%time\n",
    "lr_model.fit(X_under, y_under)"
   ]
  },
  {
   "cell_type": "code",
   "execution_count": 94,
   "id": "be0e04b5",
   "metadata": {},
   "outputs": [],
   "source": [
    "preds = lr_model.predict(X_test)"
   ]
  },
  {
   "cell_type": "code",
   "execution_count": 95,
   "id": "4435c892",
   "metadata": {},
   "outputs": [
    {
     "data": {
      "text/plain": [
       "{'accuracy': 0.589077276987305,\n",
       " 'precision': array([0.59489535, 0.58365567]),\n",
       " 'Weighted precision': 0.5893032771896773,\n",
       " 'recall': array([0.57108944, 0.60724377]),\n",
       " 'Weighted recall': 0.589077276987305,\n",
       " 'f1score': array([0.58274937, 0.59521611]),\n",
       " 'Weighted f1score': 0.588951940403823}"
      ]
     },
     "execution_count": 95,
     "metadata": {},
     "output_type": "execute_result"
    }
   ],
   "source": [
    "lr = evaluate_metrics(y_test, preds)\n",
    "lr # results dict"
   ]
  },
  {
   "cell_type": "code",
   "execution_count": 96,
   "id": "9a6eb9d4",
   "metadata": {},
   "outputs": [
    {
     "name": "stdout",
     "output_type": "stream",
     "text": [
      "              precision    recall  f1-score   support\n",
      "\n",
      "           0       0.59      0.57      0.58     11795\n",
      "           1       0.58      0.61      0.60     11679\n",
      "\n",
      "    accuracy                           0.59     23474\n",
      "   macro avg       0.59      0.59      0.59     23474\n",
      "weighted avg       0.59      0.59      0.59     23474\n",
      "\n"
     ]
    },
    {
     "data": {
      "image/png": "[encoded data removed]",
      "text/plain": [
       "<Figure size 1200x800 with 2 Axes>"
      ]
     },
     "metadata": {},
     "output_type": "display_data"
    }
   ],
   "source": [
    "# Results Breakdown\n",
    "print(classification_report(y_test, preds))\n",
    "\n",
    "sns.set_context('talk')\n",
    "cm = confusion_matrix(y_test, preds)\n",
    "plt.figure(figsize = (12,8)) \n",
    "ax = sns.heatmap(cm, annot=True, fmt='d', cmap='Blues',\n",
    "                xticklabels=['Not Churn 0', 'Churn 1'], \n",
    "                 yticklabels=['Not Churn 0', 'Churn 1'])\n",
    "ax.set(title=\"logistic Regression Confusion Matrix\");\n",
    "ax.set_xlabel('Predicted');\n",
    "ax.set_ylabel('True');"
   ]
  },
  {
   "cell_type": "code",
   "execution_count": 98,
   "id": "8ecb957c",
   "metadata": {},
   "outputs": [],
   "source": [
    "#Storing evaluation metrics (average values)\n",
    "lr_results = list()\n",
    "for key in keys:\n",
    "       lr_results.append(lr.get(key))\n",
    "lr_results "
   ]
  },
  {
   "cell_type": "code",
   "execution_count": null,
   "id": "470a3beb",
   "metadata": {},
   "outputs": [],
   "source": [
    "# storing evaluation metrics (per class)\n",
    "lr_rpf = []\n",
    "for element in elements:\n",
    "       lr_rpf.append(lr.get(element))\n",
    "lr_rpf   "
   ]
  },
  {
   "cell_type": "code",
   "execution_count": null,
   "id": "eac133e9",
   "metadata": {},
   "outputs": [],
   "source": [
    "# Saving the ML model in case we need it int he future so we don't have to train it again.\n",
    "pickle.dump(search_lr, open('search_lr.p','wb')) # wb: write - bytes\n",
    "pickle.dump(lr_model, open('lr_model.p','wb')) # wb: write - bytes"
   ]
  },
  {
   "cell_type": "markdown",
   "id": "a26a5e68",
   "metadata": {},
   "source": [
    "### Feature Importance\n",
    "\n",
    "<b>Feature Weight</b>\n",
    "using logisitc regression we can find the weight of each feature on the model, which basically represent each feature importance."
   ]
  },
  {
   "cell_type": "code",
   "execution_count": 99,
   "id": "9871407c",
   "metadata": {},
   "outputs": [],
   "source": [
    "# this function will take the coeficients of the LR model and take the ones with highest value and lowest value so that we visualize them\n",
    "from collections import OrderedDict\n",
    "def highest_and_lowest_values(d):\n",
    "    sorted_d = dict(OrderedDict(sorted(d.items(), key=lambda item: item[1], reverse=True)))\n",
    "    highest_3 = dict(list(sorted_d.items())[:10])\n",
    "    lowest_3 = dict(list(sorted_d.items())[-10:])\n",
    "    return {**highest_3, **lowest_3}"
   ]
  },
  {
   "cell_type": "code",
   "execution_count": 100,
   "id": "292ea7b3",
   "metadata": {},
   "outputs": [
    {
     "data": {
      "text/plain": [
       "{'avgmou': 5.831152241814756,\n",
       " 'change_rev': 4.8771118416899855,\n",
       " 'rev_Mean': 4.6332453101381255,\n",
       " 'roam_Mean': 3.721904311024457,\n",
       " 'totmou': 3.4382567942504485,\n",
       " 'avg6qty': 3.371929575131473,\n",
       " 'adjmou': 2.6282963139591553,\n",
       " 'ovrrev_Mean': 2.147032331610352,\n",
       " 'mou_pead_Mean': 2.117040007292697,\n",
       " 'uniqsubs': 2.0250501935175214,\n",
       " 'adjqty': -1.9158796543684304,\n",
       " 'opk_vce_Mean': -2.2363625755254986,\n",
       " 'blck_dat_Mean': -2.2906780540282887,\n",
       " 'threeway_Mean': -2.5313080183520777,\n",
       " 'avg3rev': -2.931929959241557,\n",
       " 'adjrev': -3.265069805180823,\n",
       " 'avg6mou': -3.2953517669300214,\n",
       " 'peak_vce_Mean': -3.617828465957049,\n",
       " 'tenure': -3.9778571954755892,\n",
       " 'contract': -4.28917629672046}"
      ]
     },
     "execution_count": 100,
     "metadata": {},
     "output_type": "execute_result"
    }
   ],
   "source": [
    "# Get the coefficents for Class 1, Less Often\n",
    "coef_dict = get_feature_coefs(lr_model, 0, feature_cols)\n",
    "top_dict = highest_and_lowest_values(coef_dict)\n",
    "top_dict"
   ]
  },
  {
   "cell_type": "code",
   "execution_count": 101,
   "id": "6994c243",
   "metadata": {},
   "outputs": [
    {
     "data": {
      "image/png": "[encoded data removed]",
      "text/plain": [
       "<Figure size 1000x600 with 1 Axes>"
      ]
     },
     "metadata": {},
     "output_type": "display_data"
    }
   ],
   "source": [
    "visualize_coefs(top_dict)"
   ]
  },
  {
   "cell_type": "markdown",
   "id": "58f3aec6",
   "metadata": {},
   "source": [
    "### b. Support Vector Machine "
   ]
  },
  {
   "cell_type": "markdown",
   "id": "dce9c29a",
   "metadata": {},
   "source": [
    "due the high valume of data, and low computational power of the used machine, we will not implement SVM, but we will leave the codes incase someone wants to use it"
   ]
  },
  {
   "cell_type": "code",
   "execution_count": 73,
   "id": "88e0c65c",
   "metadata": {},
   "outputs": [],
   "source": [
    "# # Identifying the param_grid to loop through it using GridSearchCV\n",
    "# params_grid = {\n",
    "#     'C': [0.1,1, 10, 100],\n",
    "#     'kernel': ['poly', 'rbf', 'sigmoid']\n",
    "# }\n",
    "\n",
    "# model = SVC(class_weight=class_weight)\n",
    "\n",
    "# # Define a GridSearchCV to search the best parameters\n",
    "# SVC_search = GridSearchCV(estimator = model, \n",
    "#                            param_grid = params_grid, \n",
    "#                            scoring='f1',\n",
    "#                            cv = skf, verbose = 1)\n",
    "# # Search the best parameters with training data\n",
    "# SVC_search.fit(X_under, y_under.values.ravel())\n",
    "# best_params = SVC_search.best_params_\n",
    "# best_params"
   ]
  },
  {
   "cell_type": "code",
   "execution_count": 71,
   "id": "e0b27438",
   "metadata": {},
   "outputs": [],
   "source": [
    "SVM_model = SVC(C=1, kernel='rbf')\n",
    "SVM_model.fit(X_under, y_under.values.ravel())\n",
    "preds = SVM_model.predict(X_test_s)"
   ]
  },
  {
   "cell_type": "code",
   "execution_count": 76,
   "id": "7a0bd1ac",
   "metadata": {
    "scrolled": true
   },
   "outputs": [],
   "source": [
    "# svm_result = evaluate_metrics(y_test, preds)\n",
    "# svm_result"
   ]
  },
  {
   "cell_type": "code",
   "execution_count": 77,
   "id": "8e50c3d1",
   "metadata": {},
   "outputs": [],
   "source": [
    "# # Results Breakdown\n",
    "# print(classification_report(y_test, preds))\n",
    "\n",
    "# sns.set_context('talk')\n",
    "# cm = confusion_matrix(y_test, preds)\n",
    "# plt.figure(figsize = (12,8)) \n",
    "# ax = sns.heatmap(cm, annot=True, fmt='d', cmap='Blues',\n",
    "#                 xticklabels=['Not Churn 0', 'Churn 1'], \n",
    "#                  yticklabels=['Not Churn 0', 'Churn 1'])\n",
    "# ax.set(title=\"logistic Regression Confusion Matrix\");\n",
    "# ax.set_xlabel('Predicted');\n",
    "# ax.set_ylabel('True');"
   ]
  },
  {
   "cell_type": "code",
   "execution_count": 78,
   "id": "3012558a",
   "metadata": {},
   "outputs": [],
   "source": [
    "# SVM_results = list()\n",
    "# for key in keys:\n",
    "#        SVM_results.append(svm_result.get(key))\n",
    "# SVM_results "
   ]
  },
  {
   "cell_type": "code",
   "execution_count": 80,
   "id": "6933fcaf",
   "metadata": {},
   "outputs": [],
   "source": [
    "# SVM_rpf = []\n",
    "# for element in elements:\n",
    "#        SVM_rpf.append(svm_result.get(element))\n",
    "# SVM_rpf  "
   ]
  },
  {
   "cell_type": "code",
   "execution_count": 81,
   "id": "6fbd3b6b",
   "metadata": {},
   "outputs": [],
   "source": [
    "# pickle.dump(SVM_model, open('SVM_model.p','wb')) # wb: write - bytes"
   ]
  },
  {
   "cell_type": "markdown",
   "id": "dcb65e9c",
   "metadata": {},
   "source": [
    "### c. Random Forest"
   ]
  },
  {
   "cell_type": "code",
   "execution_count": null,
   "id": "f818dc07",
   "metadata": {},
   "outputs": [],
   "source": [
    "# we can't use grid search with random forest due to high time complexity\n",
    "\n",
    "# # using GridSearchCV to identify the best performing parameters\n",
    "# param_grid = {'n_estimators': [2*n+1 for n in range(20)],\n",
    "#               'criterion':['gini', 'entropy'],\n",
    "#              'max_depth' : [2*n+1 for n in range(10) ],\n",
    "#              'max_features':[\"auto\", \"sqrt\", \"log2\"]}\n",
    "# num_combinations = 1\n",
    "# for n in param_grid.values(): num_combinations *=len(n)\n",
    "# print(\"number of possible combinations for the parameters\")\n",
    "# print(num_combinations)\n",
    "\n"
   ]
  },
  {
   "cell_type": "code",
   "execution_count": null,
   "id": "d0515022",
   "metadata": {},
   "outputs": [],
   "source": [
    "# RF_model = RandomForestClassifier(random_state = rs, bootstrap = True, class_weight = class_weight)\n",
    "# search_rf = GridSearchCV(estimator=RF_model,\n",
    "#                       param_grid=param_grid,\n",
    "#                       scoring='f1',\n",
    "#                       cv=skf,\n",
    "#                       n_jobs = -1) # creating GridSearchCV object\n",
    "# search_rf.fit(X_train_s, y_train)\n",
    "# search_rf.best_score_"
   ]
  },
  {
   "cell_type": "code",
   "execution_count": null,
   "id": "58ee9d2a",
   "metadata": {},
   "outputs": [],
   "source": [
    "# search_rf.best_params_"
   ]
  },
  {
   "cell_type": "markdown",
   "id": "7b6e164e",
   "metadata": {},
   "source": [
    "building a random forest model using the best parameters"
   ]
  },
  {
   "cell_type": "code",
   "execution_count": 281,
   "id": "d0963295",
   "metadata": {},
   "outputs": [],
   "source": [
    "# choosing the best parameters to build the RF model.\n",
    "RF_model = RandomForestClassifier(random_state = rs, bootstrap = True, \n",
    "                                 n_estimators =29, \n",
    "                                 criterion = 'gini',\n",
    "                                 max_depth = 9 ,\n",
    "                                 max_features = 'log2')"
   ]
  },
  {
   "cell_type": "code",
   "execution_count": 282,
   "id": "6ffc61af",
   "metadata": {},
   "outputs": [
    {
     "name": "stdout",
     "output_type": "stream",
     "text": [
      "Wall time: 4.33 s\n"
     ]
    },
    {
     "data": {
      "text/plain": [
       "{'accuracy': 0.6044985941893158,\n",
       " 'precision': array([0.62449182, 0.58943909]),\n",
       " 'Weighted precision': 0.6070520646007987,\n",
       " 'recall': array([0.53395507, 0.67574279]),\n",
       " 'Weighted recall': 0.6044985941893158,\n",
       " 'f1score': array([0.57568556, 0.62964736]),\n",
       " 'Weighted f1score': 0.6025331285522392}"
      ]
     },
     "execution_count": 282,
     "metadata": {},
     "output_type": "execute_result"
    }
   ],
   "source": [
    "%%time\n",
    "RF_model.fit(X_under, y_under)\n",
    "preds = RF_model.predict(X_test_s)\n",
    "RF_result = evaluate_metrics(y_test,preds)\n",
    "RF_result"
   ]
  },
  {
   "cell_type": "code",
   "execution_count": 283,
   "id": "18e23ada",
   "metadata": {},
   "outputs": [
    {
     "name": "stdout",
     "output_type": "stream",
     "text": [
      "              precision    recall  f1-score   support\n",
      "\n",
      "           0       0.62      0.53      0.58     11795\n",
      "           1       0.59      0.68      0.63     11679\n",
      "\n",
      "    accuracy                           0.60     23474\n",
      "   macro avg       0.61      0.60      0.60     23474\n",
      "weighted avg       0.61      0.60      0.60     23474\n",
      "\n"
     ]
    },
    {
     "data": {
      "image/png": "[encoded data removed]",
      "text/plain": [
       "<Figure size 1200x800 with 2 Axes>"
      ]
     },
     "metadata": {},
     "output_type": "display_data"
    }
   ],
   "source": [
    "# Results Breakdown\n",
    "print(classification_report(y_test, preds))\n",
    "\n",
    "sns.set_context('talk')\n",
    "cm = confusion_matrix(y_test, preds)\n",
    "plt.figure(figsize = (12,8)) \n",
    "ax = sns.heatmap(cm, annot=True, fmt='d', cmap='Blues',\n",
    "                xticklabels=['Not Churn 0', 'Churn 1'], \n",
    "                 yticklabels=['Not Churn 0', 'Churn 1'])\n",
    "ax.set(title=\"Random Forest Confusion Matrix\");\n",
    "ax.set_xlabel('Predicted');\n",
    "ax.set_ylabel('True');"
   ]
  },
  {
   "cell_type": "code",
   "execution_count": 284,
   "id": "6ee641c7",
   "metadata": {},
   "outputs": [
    {
     "data": {
      "text/plain": [
       "[0.6044985941893158,\n",
       " 0.6070520646007987,\n",
       " 0.6044985941893158,\n",
       " 0.6025331285522392]"
      ]
     },
     "execution_count": 284,
     "metadata": {},
     "output_type": "execute_result"
    }
   ],
   "source": [
    "RF_results = list()\n",
    "for key in keys:\n",
    "       RF_results.append(RF_result.get(key))\n",
    "RF_results "
   ]
  },
  {
   "cell_type": "code",
   "execution_count": 285,
   "id": "08ff9b48",
   "metadata": {},
   "outputs": [
    {
     "data": {
      "text/plain": [
       "[array([0.62449182, 0.58943909]),\n",
       " array([0.53395507, 0.67574279]),\n",
       " array([0.57568556, 0.62964736])]"
      ]
     },
     "execution_count": 285,
     "metadata": {},
     "output_type": "execute_result"
    }
   ],
   "source": [
    "RF_rpf = []\n",
    "for element in elements:\n",
    "       RF_rpf.append(RF_result.get(element))\n",
    "RF_rpf  "
   ]
  },
  {
   "cell_type": "code",
   "execution_count": 286,
   "id": "6f0c182c",
   "metadata": {},
   "outputs": [],
   "source": [
    "pickle.dump(RF_model, open('RF_model.p','wb')) # write it as bytes"
   ]
  },
  {
   "cell_type": "markdown",
   "id": "6f7153e3",
   "metadata": {},
   "source": [
    "### d. XGboost"
   ]
  },
  {
   "cell_type": "code",
   "execution_count": 54,
   "id": "ace97ff5",
   "metadata": {
    "scrolled": true
   },
   "outputs": [
    {
     "data": {
      "text/plain": [
       "{'objective': 'binary:logistic',\n",
       " 'use_label_encoder': True,\n",
       " 'base_score': None,\n",
       " 'booster': None,\n",
       " 'colsample_bylevel': None,\n",
       " 'colsample_bynode': None,\n",
       " 'colsample_bytree': None,\n",
       " 'enable_categorical': False,\n",
       " 'gamma': None,\n",
       " 'gpu_id': None,\n",
       " 'importance_type': None,\n",
       " 'interaction_constraints': None,\n",
       " 'learning_rate': None,\n",
       " 'max_delta_step': None,\n",
       " 'max_depth': None,\n",
       " 'min_child_weight': None,\n",
       " 'missing': nan,\n",
       " 'monotone_constraints': None,\n",
       " 'n_estimators': 100,\n",
       " 'n_jobs': None,\n",
       " 'num_parallel_tree': None,\n",
       " 'predictor': None,\n",
       " 'random_state': None,\n",
       " 'reg_alpha': None,\n",
       " 'reg_lambda': None,\n",
       " 'scale_pos_weight': None,\n",
       " 'subsample': None,\n",
       " 'tree_method': None,\n",
       " 'validate_parameters': None,\n",
       " 'verbosity': None}"
      ]
     },
     "execution_count": 54,
     "metadata": {},
     "output_type": "execute_result"
    }
   ],
   "source": [
    "xgb.XGBClassifier().get_params() # printing XGboost parameters"
   ]
  },
  {
   "cell_type": "code",
   "execution_count": 287,
   "id": "17f2caf7",
   "metadata": {},
   "outputs": [],
   "source": [
    "# Splitting part of the training set to become the validation set for training XGboost\n",
    "# Get the split indexes\n",
    "strat_shuf_split_valid = StratifiedShuffleSplit(n_splits=1, \n",
    "                                          test_size=0.15, # 15% to test the model peforamnce\n",
    "                                          random_state=rs)\n",
    "\n",
    "# We use 'next' to get the arrays from the generator object.\n",
    "XGtrain_idx, XGvalid_idx = next(strat_shuf_split_valid.split(X_under, y_under))\n",
    "\n",
    "# Create the train and validations sets\n",
    "X_XGtrain = X_under.loc[XGtrain_idx, X_under.columns] # loc[index,column]\n",
    "y_XGtrain = y_under.loc[XGtrain_idx]\n",
    "\n",
    "X_XGvalid  = X_under.loc[XGvalid_idx, X_under.columns]\n",
    "y_XGvalid  = y_under.loc[XGvalid_idx]"
   ]
  },
  {
   "cell_type": "code",
   "execution_count": 91,
   "id": "2b471e91",
   "metadata": {
    "scrolled": true
   },
   "outputs": [],
   "source": [
    "# # weight parameter in XGBoost is per instance not per class.\n",
    "# # Therefore, we need to assign the weight of each class to its instances\n",
    "# from sklearn.utils import class_weight\n",
    "# classes_weights = list(class_weight.compute_class_weight(class_weight = 'balanced',\n",
    "#                                              classes = np.unique(y_XGtrain),\n",
    "#                                              y = y_XGtrain))\n",
    "\n",
    "# weights = np.ones(y_XGtrain.shape[0], dtype = 'float') # returns an array with predefined shape and values of 1\n",
    "# for i, val in enumerate(y_XGtrain):\n",
    "#     weights[i] = classes_weights[val]\n",
    "\n",
    "# weights\n"
   ]
  },
  {
   "cell_type": "markdown",
   "id": "92a1ae85",
   "metadata": {},
   "source": [
    "performing GridSearchSV to find the best parameters for XGboost"
   ]
  },
  {
   "cell_type": "code",
   "execution_count": 92,
   "id": "61d07823",
   "metadata": {},
   "outputs": [],
   "source": [
    "# learning_rate_list = [0.02, 0.05, 0.1]\n",
    "# max_depth_list = [2, 3, 5]\n",
    "# n_estimators_list = [1000, 2000, 3000]\n",
    "\n",
    "# params_dict = {\"learning_rate\": learning_rate_list,\n",
    "#                \"max_depth\": max_depth_list,\n",
    "#                \"n_estimators\": n_estimators_list}\n",
    "\n",
    "# num_combinations = 1\n",
    "# for v in params_dict.values(): num_combinations *= len(v) \n",
    "\n",
    "# print(num_combinations)\n",
    "# params_dict"
   ]
  },
  {
   "cell_type": "code",
   "execution_count": 93,
   "id": "c56ffa60",
   "metadata": {},
   "outputs": [],
   "source": [
    "# def my_roc_auc_score(model, X, y): return roc_auc_score(y, model.predict_proba(X)[:,1])\n",
    "\n",
    "# model_xgboost_hp = GridSearchCV(estimator=xgb.XGBClassifier(subsample=0.5,\n",
    "#                                                                 colsample_bytree=0.25,\n",
    "#                                                                 eval_metric='auc',\n",
    "#                                                                 use_label_encoder=False),\n",
    "#                                 param_grid=params_dict,\n",
    "#                                 cv=2,\n",
    "#                                 scoring=my_roc_auc_score,\n",
    "#                                 return_train_score=True,\n",
    "#                                 verbose=4)\n",
    "\n",
    "# model_xgboost_hp.fit(X_XGtrain,y_XGtrain)"
   ]
  },
  {
   "cell_type": "code",
   "execution_count": 94,
   "id": "743957a2",
   "metadata": {},
   "outputs": [],
   "source": [
    "# model_xgboost_hp.best_params_"
   ]
  },
  {
   "cell_type": "code",
   "execution_count": 288,
   "id": "be374f4c",
   "metadata": {},
   "outputs": [
    {
     "name": "stdout",
     "output_type": "stream",
     "text": [
      "[0]\tvalidation_0-auc:0.55306\n",
      "[1]\tvalidation_0-auc:0.60857\n",
      "[2]\tvalidation_0-auc:0.61552\n",
      "[3]\tvalidation_0-auc:0.61737\n",
      "[4]\tvalidation_0-auc:0.61943\n",
      "[5]\tvalidation_0-auc:0.62099\n",
      "[6]\tvalidation_0-auc:0.62102\n",
      "[7]\tvalidation_0-auc:0.62249\n",
      "[8]\tvalidation_0-auc:0.62294\n",
      "[9]\tvalidation_0-auc:0.62263\n",
      "[10]\tvalidation_0-auc:0.62315\n",
      "[11]\tvalidation_0-auc:0.62772\n",
      "[12]\tvalidation_0-auc:0.62745\n",
      "[13]\tvalidation_0-auc:0.62670\n",
      "[14]\tvalidation_0-auc:0.62749\n",
      "[15]\tvalidation_0-auc:0.62698\n",
      "[16]\tvalidation_0-auc:0.62696\n",
      "[17]\tvalidation_0-auc:0.62714\n",
      "[18]\tvalidation_0-auc:0.62672\n",
      "[19]\tvalidation_0-auc:0.62742\n",
      "[20]\tvalidation_0-auc:0.62762\n",
      "[21]\tvalidation_0-auc:0.62801\n",
      "[22]\tvalidation_0-auc:0.62791\n",
      "[23]\tvalidation_0-auc:0.62970\n",
      "[24]\tvalidation_0-auc:0.62969\n",
      "[25]\tvalidation_0-auc:0.62960\n",
      "[26]\tvalidation_0-auc:0.62952\n",
      "[27]\tvalidation_0-auc:0.63027\n",
      "[28]\tvalidation_0-auc:0.63017\n",
      "[29]\tvalidation_0-auc:0.63000\n",
      "[30]\tvalidation_0-auc:0.63014\n",
      "[31]\tvalidation_0-auc:0.63001\n",
      "[32]\tvalidation_0-auc:0.62977\n",
      "[33]\tvalidation_0-auc:0.62956\n",
      "[34]\tvalidation_0-auc:0.63024\n",
      "[35]\tvalidation_0-auc:0.63018\n",
      "[36]\tvalidation_0-auc:0.63019\n",
      "[37]\tvalidation_0-auc:0.63096\n",
      "[38]\tvalidation_0-auc:0.63127\n",
      "[39]\tvalidation_0-auc:0.63121\n",
      "[40]\tvalidation_0-auc:0.63111\n",
      "[41]\tvalidation_0-auc:0.63193\n",
      "[42]\tvalidation_0-auc:0.63182\n",
      "[43]\tvalidation_0-auc:0.63178\n",
      "[44]\tvalidation_0-auc:0.63240\n",
      "[45]\tvalidation_0-auc:0.63237\n",
      "[46]\tvalidation_0-auc:0.63286\n",
      "[47]\tvalidation_0-auc:0.63247\n",
      "[48]\tvalidation_0-auc:0.63224\n",
      "[49]\tvalidation_0-auc:0.63231\n",
      "[50]\tvalidation_0-auc:0.63267\n",
      "[51]\tvalidation_0-auc:0.63261\n",
      "[52]\tvalidation_0-auc:0.63258\n",
      "[53]\tvalidation_0-auc:0.63266\n",
      "[54]\tvalidation_0-auc:0.63287\n",
      "[55]\tvalidation_0-auc:0.63316\n",
      "[56]\tvalidation_0-auc:0.63337\n",
      "[57]\tvalidation_0-auc:0.63360\n",
      "[58]\tvalidation_0-auc:0.63380\n",
      "[59]\tvalidation_0-auc:0.63381\n",
      "[60]\tvalidation_0-auc:0.63402\n",
      "[61]\tvalidation_0-auc:0.63396\n",
      "[62]\tvalidation_0-auc:0.63390\n",
      "[63]\tvalidation_0-auc:0.63468\n",
      "[64]\tvalidation_0-auc:0.63471\n",
      "[65]\tvalidation_0-auc:0.63461\n",
      "[66]\tvalidation_0-auc:0.63453\n",
      "[67]\tvalidation_0-auc:0.63480\n",
      "[68]\tvalidation_0-auc:0.63470\n",
      "[69]\tvalidation_0-auc:0.63482\n",
      "[70]\tvalidation_0-auc:0.63507\n",
      "[71]\tvalidation_0-auc:0.63548\n",
      "[72]\tvalidation_0-auc:0.63613\n",
      "[73]\tvalidation_0-auc:0.63615\n",
      "[74]\tvalidation_0-auc:0.63617\n",
      "[75]\tvalidation_0-auc:0.63643\n",
      "[76]\tvalidation_0-auc:0.63667\n",
      "[77]\tvalidation_0-auc:0.63686\n",
      "[78]\tvalidation_0-auc:0.63685\n",
      "[79]\tvalidation_0-auc:0.63697\n",
      "[80]\tvalidation_0-auc:0.63705\n",
      "[81]\tvalidation_0-auc:0.63707\n",
      "[82]\tvalidation_0-auc:0.63717\n",
      "[83]\tvalidation_0-auc:0.63716\n",
      "[84]\tvalidation_0-auc:0.63712\n",
      "[85]\tvalidation_0-auc:0.63728\n",
      "[86]\tvalidation_0-auc:0.63744\n",
      "[87]\tvalidation_0-auc:0.63760\n",
      "[88]\tvalidation_0-auc:0.63769\n",
      "[89]\tvalidation_0-auc:0.63786\n",
      "[90]\tvalidation_0-auc:0.63796\n",
      "[91]\tvalidation_0-auc:0.63809\n",
      "[92]\tvalidation_0-auc:0.63816\n",
      "[93]\tvalidation_0-auc:0.63829\n",
      "[94]\tvalidation_0-auc:0.63842\n",
      "[95]\tvalidation_0-auc:0.63852\n",
      "[96]\tvalidation_0-auc:0.63856\n",
      "[97]\tvalidation_0-auc:0.63864\n",
      "[98]\tvalidation_0-auc:0.63892\n",
      "[99]\tvalidation_0-auc:0.63902\n",
      "[100]\tvalidation_0-auc:0.63926\n",
      "[101]\tvalidation_0-auc:0.63928\n",
      "[102]\tvalidation_0-auc:0.63938\n",
      "[103]\tvalidation_0-auc:0.63936\n",
      "[104]\tvalidation_0-auc:0.63935\n",
      "[105]\tvalidation_0-auc:0.63928\n",
      "[106]\tvalidation_0-auc:0.63933\n",
      "[107]\tvalidation_0-auc:0.63955\n",
      "[108]\tvalidation_0-auc:0.63955\n",
      "[109]\tvalidation_0-auc:0.63956\n",
      "[110]\tvalidation_0-auc:0.63963\n",
      "[111]\tvalidation_0-auc:0.63958\n",
      "[112]\tvalidation_0-auc:0.63960\n",
      "[113]\tvalidation_0-auc:0.63978\n",
      "[114]\tvalidation_0-auc:0.63988\n",
      "[115]\tvalidation_0-auc:0.63987\n",
      "[116]\tvalidation_0-auc:0.63995\n",
      "[117]\tvalidation_0-auc:0.64024\n",
      "[118]\tvalidation_0-auc:0.64019\n",
      "[119]\tvalidation_0-auc:0.64032\n",
      "[120]\tvalidation_0-auc:0.64060\n",
      "[121]\tvalidation_0-auc:0.64099\n",
      "[122]\tvalidation_0-auc:0.64094\n",
      "[123]\tvalidation_0-auc:0.64101\n",
      "[124]\tvalidation_0-auc:0.64106\n",
      "[125]\tvalidation_0-auc:0.64131\n",
      "[126]\tvalidation_0-auc:0.64158\n",
      "[127]\tvalidation_0-auc:0.64183\n",
      "[128]\tvalidation_0-auc:0.64203\n",
      "[129]\tvalidation_0-auc:0.64250\n",
      "[130]\tvalidation_0-auc:0.64250\n",
      "[131]\tvalidation_0-auc:0.64252\n",
      "[132]\tvalidation_0-auc:0.64251\n",
      "[133]\tvalidation_0-auc:0.64286\n",
      "[134]\tvalidation_0-auc:0.64286\n",
      "[135]\tvalidation_0-auc:0.64306\n",
      "[136]\tvalidation_0-auc:0.64333\n",
      "[137]\tvalidation_0-auc:0.64348\n",
      "[138]\tvalidation_0-auc:0.64371\n",
      "[139]\tvalidation_0-auc:0.64388\n",
      "[140]\tvalidation_0-auc:0.64408\n",
      "[141]\tvalidation_0-auc:0.64407\n",
      "[142]\tvalidation_0-auc:0.64442\n",
      "[143]\tvalidation_0-auc:0.64455\n",
      "[144]\tvalidation_0-auc:0.64464\n",
      "[145]\tvalidation_0-auc:0.64458\n",
      "[146]\tvalidation_0-auc:0.64455\n",
      "[147]\tvalidation_0-auc:0.64488\n",
      "[148]\tvalidation_0-auc:0.64498\n",
      "[149]\tvalidation_0-auc:0.64508\n",
      "[150]\tvalidation_0-auc:0.64514\n",
      "[151]\tvalidation_0-auc:0.64525\n",
      "[152]\tvalidation_0-auc:0.64556\n",
      "[153]\tvalidation_0-auc:0.64560\n",
      "[154]\tvalidation_0-auc:0.64552\n",
      "[155]\tvalidation_0-auc:0.64558\n",
      "[156]\tvalidation_0-auc:0.64593\n",
      "[157]\tvalidation_0-auc:0.64610\n",
      "[158]\tvalidation_0-auc:0.64626\n",
      "[159]\tvalidation_0-auc:0.64633\n",
      "[160]\tvalidation_0-auc:0.64633\n",
      "[161]\tvalidation_0-auc:0.64657\n",
      "[162]\tvalidation_0-auc:0.64676\n",
      "[163]\tvalidation_0-auc:0.64690\n",
      "[164]\tvalidation_0-auc:0.64693\n",
      "[165]\tvalidation_0-auc:0.64721\n",
      "[166]\tvalidation_0-auc:0.64737\n",
      "[167]\tvalidation_0-auc:0.64753\n",
      "[168]\tvalidation_0-auc:0.64780\n",
      "[169]\tvalidation_0-auc:0.64797\n",
      "[170]\tvalidation_0-auc:0.64809\n",
      "[171]\tvalidation_0-auc:0.64817\n",
      "[172]\tvalidation_0-auc:0.64812\n",
      "[173]\tvalidation_0-auc:0.64831\n",
      "[174]\tvalidation_0-auc:0.64845\n",
      "[175]\tvalidation_0-auc:0.64865\n",
      "[176]\tvalidation_0-auc:0.64872\n",
      "[177]\tvalidation_0-auc:0.64892\n",
      "[178]\tvalidation_0-auc:0.64913\n",
      "[179]\tvalidation_0-auc:0.64923\n",
      "[180]\tvalidation_0-auc:0.64930\n",
      "[181]\tvalidation_0-auc:0.64941\n",
      "[182]\tvalidation_0-auc:0.64943\n",
      "[183]\tvalidation_0-auc:0.64957\n",
      "[184]\tvalidation_0-auc:0.64956\n",
      "[185]\tvalidation_0-auc:0.64970\n",
      "[186]\tvalidation_0-auc:0.64982\n",
      "[187]\tvalidation_0-auc:0.64993\n",
      "[188]\tvalidation_0-auc:0.64999\n",
      "[189]\tvalidation_0-auc:0.65015\n",
      "[190]\tvalidation_0-auc:0.65019\n",
      "[191]\tvalidation_0-auc:0.65033\n",
      "[192]\tvalidation_0-auc:0.65033\n",
      "[193]\tvalidation_0-auc:0.65045\n",
      "[194]\tvalidation_0-auc:0.65051\n",
      "[195]\tvalidation_0-auc:0.65063\n",
      "[196]\tvalidation_0-auc:0.65074\n",
      "[197]\tvalidation_0-auc:0.65072\n",
      "[198]\tvalidation_0-auc:0.65071\n",
      "[199]\tvalidation_0-auc:0.65084\n",
      "[200]\tvalidation_0-auc:0.65114\n",
      "[201]\tvalidation_0-auc:0.65117\n",
      "[202]\tvalidation_0-auc:0.65130\n",
      "[203]\tvalidation_0-auc:0.65138\n",
      "[204]\tvalidation_0-auc:0.65153\n",
      "[205]\tvalidation_0-auc:0.65164\n",
      "[206]\tvalidation_0-auc:0.65184\n",
      "[207]\tvalidation_0-auc:0.65205\n",
      "[208]\tvalidation_0-auc:0.65206\n",
      "[209]\tvalidation_0-auc:0.65214\n",
      "[210]\tvalidation_0-auc:0.65233\n",
      "[211]\tvalidation_0-auc:0.65230\n",
      "[212]\tvalidation_0-auc:0.65261\n",
      "[213]\tvalidation_0-auc:0.65262\n",
      "[214]\tvalidation_0-auc:0.65268\n",
      "[215]\tvalidation_0-auc:0.65268\n",
      "[216]\tvalidation_0-auc:0.65279\n",
      "[217]\tvalidation_0-auc:0.65294\n",
      "[218]\tvalidation_0-auc:0.65294\n",
      "[219]\tvalidation_0-auc:0.65305\n",
      "[220]\tvalidation_0-auc:0.65312\n",
      "[221]\tvalidation_0-auc:0.65318\n",
      "[222]\tvalidation_0-auc:0.65321\n",
      "[223]\tvalidation_0-auc:0.65322\n",
      "[224]\tvalidation_0-auc:0.65319\n",
      "[225]\tvalidation_0-auc:0.65336\n",
      "[226]\tvalidation_0-auc:0.65343\n",
      "[227]\tvalidation_0-auc:0.65346\n",
      "[228]\tvalidation_0-auc:0.65364\n",
      "[229]\tvalidation_0-auc:0.65366\n",
      "[230]\tvalidation_0-auc:0.65385\n",
      "[231]\tvalidation_0-auc:0.65385\n",
      "[232]\tvalidation_0-auc:0.65407\n",
      "[233]\tvalidation_0-auc:0.65416\n",
      "[234]\tvalidation_0-auc:0.65434\n",
      "[235]\tvalidation_0-auc:0.65433\n",
      "[236]\tvalidation_0-auc:0.65443\n",
      "[237]\tvalidation_0-auc:0.65453\n",
      "[238]\tvalidation_0-auc:0.65449\n",
      "[239]\tvalidation_0-auc:0.65460\n",
      "[240]\tvalidation_0-auc:0.65472\n",
      "[241]\tvalidation_0-auc:0.65476\n",
      "[242]\tvalidation_0-auc:0.65478\n",
      "[243]\tvalidation_0-auc:0.65481\n",
      "[244]\tvalidation_0-auc:0.65481\n",
      "[245]\tvalidation_0-auc:0.65486\n",
      "[246]\tvalidation_0-auc:0.65491\n",
      "[247]\tvalidation_0-auc:0.65493\n",
      "[248]\tvalidation_0-auc:0.65494\n",
      "[249]\tvalidation_0-auc:0.65501\n",
      "[250]\tvalidation_0-auc:0.65515\n",
      "[251]\tvalidation_0-auc:0.65513\n",
      "[252]\tvalidation_0-auc:0.65515\n",
      "[253]\tvalidation_0-auc:0.65530\n",
      "[254]\tvalidation_0-auc:0.65538\n",
      "[255]\tvalidation_0-auc:0.65535\n",
      "[256]\tvalidation_0-auc:0.65544\n",
      "[257]\tvalidation_0-auc:0.65563\n",
      "[258]\tvalidation_0-auc:0.65559\n",
      "[259]\tvalidation_0-auc:0.65577\n",
      "[260]\tvalidation_0-auc:0.65573\n",
      "[261]\tvalidation_0-auc:0.65583\n",
      "[262]\tvalidation_0-auc:0.65600\n",
      "[263]\tvalidation_0-auc:0.65605\n",
      "[264]\tvalidation_0-auc:0.65622\n",
      "[265]\tvalidation_0-auc:0.65633\n",
      "[266]\tvalidation_0-auc:0.65628\n",
      "[267]\tvalidation_0-auc:0.65639\n"
     ]
    },
    {
     "name": "stdout",
     "output_type": "stream",
     "text": [
      "[268]\tvalidation_0-auc:0.65655\n",
      "[269]\tvalidation_0-auc:0.65654\n",
      "[270]\tvalidation_0-auc:0.65654\n",
      "[271]\tvalidation_0-auc:0.65660\n",
      "[272]\tvalidation_0-auc:0.65663\n",
      "[273]\tvalidation_0-auc:0.65672\n",
      "[274]\tvalidation_0-auc:0.65667\n",
      "[275]\tvalidation_0-auc:0.65674\n",
      "[276]\tvalidation_0-auc:0.65676\n",
      "[277]\tvalidation_0-auc:0.65675\n",
      "[278]\tvalidation_0-auc:0.65678\n",
      "[279]\tvalidation_0-auc:0.65690\n",
      "[280]\tvalidation_0-auc:0.65704\n",
      "[281]\tvalidation_0-auc:0.65711\n",
      "[282]\tvalidation_0-auc:0.65720\n",
      "[283]\tvalidation_0-auc:0.65724\n",
      "[284]\tvalidation_0-auc:0.65737\n",
      "[285]\tvalidation_0-auc:0.65744\n",
      "[286]\tvalidation_0-auc:0.65744\n",
      "[287]\tvalidation_0-auc:0.65742\n",
      "[288]\tvalidation_0-auc:0.65745\n",
      "[289]\tvalidation_0-auc:0.65762\n",
      "[290]\tvalidation_0-auc:0.65777\n",
      "[291]\tvalidation_0-auc:0.65784\n",
      "[292]\tvalidation_0-auc:0.65789\n",
      "[293]\tvalidation_0-auc:0.65797\n",
      "[294]\tvalidation_0-auc:0.65803\n",
      "[295]\tvalidation_0-auc:0.65815\n",
      "[296]\tvalidation_0-auc:0.65811\n",
      "[297]\tvalidation_0-auc:0.65819\n",
      "[298]\tvalidation_0-auc:0.65825\n",
      "[299]\tvalidation_0-auc:0.65822\n",
      "[300]\tvalidation_0-auc:0.65831\n",
      "[301]\tvalidation_0-auc:0.65849\n",
      "[302]\tvalidation_0-auc:0.65854\n",
      "[303]\tvalidation_0-auc:0.65855\n",
      "[304]\tvalidation_0-auc:0.65862\n",
      "[305]\tvalidation_0-auc:0.65871\n",
      "[306]\tvalidation_0-auc:0.65874\n",
      "[307]\tvalidation_0-auc:0.65881\n",
      "[308]\tvalidation_0-auc:0.65886\n",
      "[309]\tvalidation_0-auc:0.65888\n",
      "[310]\tvalidation_0-auc:0.65907\n",
      "[311]\tvalidation_0-auc:0.65922\n",
      "[312]\tvalidation_0-auc:0.65921\n",
      "[313]\tvalidation_0-auc:0.65926\n",
      "[314]\tvalidation_0-auc:0.65933\n",
      "[315]\tvalidation_0-auc:0.65939\n",
      "[316]\tvalidation_0-auc:0.65957\n",
      "[317]\tvalidation_0-auc:0.65962\n",
      "[318]\tvalidation_0-auc:0.65968\n",
      "[319]\tvalidation_0-auc:0.65969\n",
      "[320]\tvalidation_0-auc:0.65969\n",
      "[321]\tvalidation_0-auc:0.65982\n",
      "[322]\tvalidation_0-auc:0.65989\n",
      "[323]\tvalidation_0-auc:0.65997\n",
      "[324]\tvalidation_0-auc:0.66010\n",
      "[325]\tvalidation_0-auc:0.66007\n",
      "[326]\tvalidation_0-auc:0.66011\n",
      "[327]\tvalidation_0-auc:0.66019\n",
      "[328]\tvalidation_0-auc:0.66019\n",
      "[329]\tvalidation_0-auc:0.66025\n",
      "[330]\tvalidation_0-auc:0.66030\n",
      "[331]\tvalidation_0-auc:0.66034\n",
      "[332]\tvalidation_0-auc:0.66035\n",
      "[333]\tvalidation_0-auc:0.66046\n",
      "[334]\tvalidation_0-auc:0.66047\n",
      "[335]\tvalidation_0-auc:0.66047\n",
      "[336]\tvalidation_0-auc:0.66050\n",
      "[337]\tvalidation_0-auc:0.66055\n",
      "[338]\tvalidation_0-auc:0.66059\n",
      "[339]\tvalidation_0-auc:0.66059\n",
      "[340]\tvalidation_0-auc:0.66072\n",
      "[341]\tvalidation_0-auc:0.66075\n",
      "[342]\tvalidation_0-auc:0.66085\n",
      "[343]\tvalidation_0-auc:0.66083\n",
      "[344]\tvalidation_0-auc:0.66091\n",
      "[345]\tvalidation_0-auc:0.66104\n",
      "[346]\tvalidation_0-auc:0.66108\n",
      "[347]\tvalidation_0-auc:0.66116\n",
      "[348]\tvalidation_0-auc:0.66119\n",
      "[349]\tvalidation_0-auc:0.66126\n",
      "[350]\tvalidation_0-auc:0.66144\n",
      "[351]\tvalidation_0-auc:0.66159\n",
      "[352]\tvalidation_0-auc:0.66165\n",
      "[353]\tvalidation_0-auc:0.66172\n",
      "[354]\tvalidation_0-auc:0.66172\n",
      "[355]\tvalidation_0-auc:0.66178\n",
      "[356]\tvalidation_0-auc:0.66178\n",
      "[357]\tvalidation_0-auc:0.66185\n",
      "[358]\tvalidation_0-auc:0.66193\n",
      "[359]\tvalidation_0-auc:0.66201\n",
      "[360]\tvalidation_0-auc:0.66213\n",
      "[361]\tvalidation_0-auc:0.66211\n",
      "[362]\tvalidation_0-auc:0.66214\n",
      "[363]\tvalidation_0-auc:0.66216\n",
      "[364]\tvalidation_0-auc:0.66216\n",
      "[365]\tvalidation_0-auc:0.66220\n",
      "[366]\tvalidation_0-auc:0.66232\n",
      "[367]\tvalidation_0-auc:0.66235\n",
      "[368]\tvalidation_0-auc:0.66244\n",
      "[369]\tvalidation_0-auc:0.66241\n",
      "[370]\tvalidation_0-auc:0.66251\n",
      "[371]\tvalidation_0-auc:0.66251\n",
      "[372]\tvalidation_0-auc:0.66261\n",
      "[373]\tvalidation_0-auc:0.66262\n",
      "[374]\tvalidation_0-auc:0.66263\n",
      "[375]\tvalidation_0-auc:0.66270\n",
      "[376]\tvalidation_0-auc:0.66277\n",
      "[377]\tvalidation_0-auc:0.66275\n",
      "[378]\tvalidation_0-auc:0.66279\n",
      "[379]\tvalidation_0-auc:0.66286\n",
      "[380]\tvalidation_0-auc:0.66298\n",
      "[381]\tvalidation_0-auc:0.66298\n",
      "[382]\tvalidation_0-auc:0.66306\n",
      "[383]\tvalidation_0-auc:0.66307\n",
      "[384]\tvalidation_0-auc:0.66321\n",
      "[385]\tvalidation_0-auc:0.66327\n",
      "[386]\tvalidation_0-auc:0.66331\n",
      "[387]\tvalidation_0-auc:0.66331\n",
      "[388]\tvalidation_0-auc:0.66336\n",
      "[389]\tvalidation_0-auc:0.66334\n",
      "[390]\tvalidation_0-auc:0.66337\n",
      "[391]\tvalidation_0-auc:0.66343\n",
      "[392]\tvalidation_0-auc:0.66339\n",
      "[393]\tvalidation_0-auc:0.66343\n",
      "[394]\tvalidation_0-auc:0.66349\n",
      "[395]\tvalidation_0-auc:0.66347\n",
      "[396]\tvalidation_0-auc:0.66344\n",
      "[397]\tvalidation_0-auc:0.66349\n",
      "[398]\tvalidation_0-auc:0.66355\n",
      "[399]\tvalidation_0-auc:0.66361\n",
      "[400]\tvalidation_0-auc:0.66368\n",
      "[401]\tvalidation_0-auc:0.66373\n",
      "[402]\tvalidation_0-auc:0.66388\n",
      "[403]\tvalidation_0-auc:0.66396\n",
      "[404]\tvalidation_0-auc:0.66402\n",
      "[405]\tvalidation_0-auc:0.66404\n",
      "[406]\tvalidation_0-auc:0.66408\n",
      "[407]\tvalidation_0-auc:0.66416\n",
      "[408]\tvalidation_0-auc:0.66427\n",
      "[409]\tvalidation_0-auc:0.66431\n",
      "[410]\tvalidation_0-auc:0.66433\n",
      "[411]\tvalidation_0-auc:0.66439\n",
      "[412]\tvalidation_0-auc:0.66440\n",
      "[413]\tvalidation_0-auc:0.66446\n",
      "[414]\tvalidation_0-auc:0.66454\n",
      "[415]\tvalidation_0-auc:0.66461\n",
      "[416]\tvalidation_0-auc:0.66466\n",
      "[417]\tvalidation_0-auc:0.66468\n",
      "[418]\tvalidation_0-auc:0.66470\n",
      "[419]\tvalidation_0-auc:0.66480\n",
      "[420]\tvalidation_0-auc:0.66483\n",
      "[421]\tvalidation_0-auc:0.66489\n",
      "[422]\tvalidation_0-auc:0.66496\n",
      "[423]\tvalidation_0-auc:0.66507\n",
      "[424]\tvalidation_0-auc:0.66505\n",
      "[425]\tvalidation_0-auc:0.66507\n",
      "[426]\tvalidation_0-auc:0.66508\n",
      "[427]\tvalidation_0-auc:0.66511\n",
      "[428]\tvalidation_0-auc:0.66511\n",
      "[429]\tvalidation_0-auc:0.66514\n",
      "[430]\tvalidation_0-auc:0.66526\n",
      "[431]\tvalidation_0-auc:0.66535\n",
      "[432]\tvalidation_0-auc:0.66535\n",
      "[433]\tvalidation_0-auc:0.66535\n",
      "[434]\tvalidation_0-auc:0.66542\n",
      "[435]\tvalidation_0-auc:0.66545\n",
      "[436]\tvalidation_0-auc:0.66546\n",
      "[437]\tvalidation_0-auc:0.66549\n",
      "[438]\tvalidation_0-auc:0.66553\n",
      "[439]\tvalidation_0-auc:0.66558\n",
      "[440]\tvalidation_0-auc:0.66565\n",
      "[441]\tvalidation_0-auc:0.66574\n",
      "[442]\tvalidation_0-auc:0.66574\n",
      "[443]\tvalidation_0-auc:0.66584\n",
      "[444]\tvalidation_0-auc:0.66592\n",
      "[445]\tvalidation_0-auc:0.66600\n",
      "[446]\tvalidation_0-auc:0.66602\n",
      "[447]\tvalidation_0-auc:0.66604\n",
      "[448]\tvalidation_0-auc:0.66608\n",
      "[449]\tvalidation_0-auc:0.66605\n",
      "[450]\tvalidation_0-auc:0.66612\n",
      "[451]\tvalidation_0-auc:0.66611\n",
      "[452]\tvalidation_0-auc:0.66617\n",
      "[453]\tvalidation_0-auc:0.66618\n",
      "[454]\tvalidation_0-auc:0.66623\n",
      "[455]\tvalidation_0-auc:0.66627\n",
      "[456]\tvalidation_0-auc:0.66629\n",
      "[457]\tvalidation_0-auc:0.66637\n",
      "[458]\tvalidation_0-auc:0.66638\n",
      "[459]\tvalidation_0-auc:0.66638\n",
      "[460]\tvalidation_0-auc:0.66653\n",
      "[461]\tvalidation_0-auc:0.66654\n",
      "[462]\tvalidation_0-auc:0.66659\n",
      "[463]\tvalidation_0-auc:0.66655\n",
      "[464]\tvalidation_0-auc:0.66657\n",
      "[465]\tvalidation_0-auc:0.66659\n",
      "[466]\tvalidation_0-auc:0.66658\n",
      "[467]\tvalidation_0-auc:0.66657\n",
      "[468]\tvalidation_0-auc:0.66662\n",
      "[469]\tvalidation_0-auc:0.66661\n",
      "[470]\tvalidation_0-auc:0.66660\n",
      "[471]\tvalidation_0-auc:0.66662\n",
      "[472]\tvalidation_0-auc:0.66669\n",
      "[473]\tvalidation_0-auc:0.66666\n",
      "[474]\tvalidation_0-auc:0.66666\n",
      "[475]\tvalidation_0-auc:0.66669\n",
      "[476]\tvalidation_0-auc:0.66670\n",
      "[477]\tvalidation_0-auc:0.66674\n",
      "[478]\tvalidation_0-auc:0.66677\n",
      "[479]\tvalidation_0-auc:0.66690\n",
      "[480]\tvalidation_0-auc:0.66692\n",
      "[481]\tvalidation_0-auc:0.66695\n",
      "[482]\tvalidation_0-auc:0.66697\n",
      "[483]\tvalidation_0-auc:0.66697\n",
      "[484]\tvalidation_0-auc:0.66705\n",
      "[485]\tvalidation_0-auc:0.66716\n",
      "[486]\tvalidation_0-auc:0.66720\n",
      "[487]\tvalidation_0-auc:0.66724\n",
      "[488]\tvalidation_0-auc:0.66728\n",
      "[489]\tvalidation_0-auc:0.66735\n",
      "[490]\tvalidation_0-auc:0.66742\n",
      "[491]\tvalidation_0-auc:0.66744\n",
      "[492]\tvalidation_0-auc:0.66746\n",
      "[493]\tvalidation_0-auc:0.66753\n",
      "[494]\tvalidation_0-auc:0.66756\n",
      "[495]\tvalidation_0-auc:0.66760\n",
      "[496]\tvalidation_0-auc:0.66762\n",
      "[497]\tvalidation_0-auc:0.66767\n",
      "[498]\tvalidation_0-auc:0.66776\n",
      "[499]\tvalidation_0-auc:0.66778\n",
      "[500]\tvalidation_0-auc:0.66787\n",
      "[501]\tvalidation_0-auc:0.66793\n",
      "[502]\tvalidation_0-auc:0.66802\n",
      "[503]\tvalidation_0-auc:0.66803\n",
      "[504]\tvalidation_0-auc:0.66811\n",
      "[505]\tvalidation_0-auc:0.66813\n",
      "[506]\tvalidation_0-auc:0.66814\n",
      "[507]\tvalidation_0-auc:0.66818\n",
      "[508]\tvalidation_0-auc:0.66818\n",
      "[509]\tvalidation_0-auc:0.66821\n",
      "[510]\tvalidation_0-auc:0.66824\n",
      "[511]\tvalidation_0-auc:0.66824\n",
      "[512]\tvalidation_0-auc:0.66829\n",
      "[513]\tvalidation_0-auc:0.66830\n",
      "[514]\tvalidation_0-auc:0.66838\n",
      "[515]\tvalidation_0-auc:0.66837\n",
      "[516]\tvalidation_0-auc:0.66832\n",
      "[517]\tvalidation_0-auc:0.66838\n",
      "[518]\tvalidation_0-auc:0.66840\n",
      "[519]\tvalidation_0-auc:0.66842\n",
      "[520]\tvalidation_0-auc:0.66847\n",
      "[521]\tvalidation_0-auc:0.66852\n",
      "[522]\tvalidation_0-auc:0.66854\n",
      "[523]\tvalidation_0-auc:0.66856\n",
      "[524]\tvalidation_0-auc:0.66856\n",
      "[525]\tvalidation_0-auc:0.66857\n",
      "[526]\tvalidation_0-auc:0.66858\n",
      "[527]\tvalidation_0-auc:0.66863\n",
      "[528]\tvalidation_0-auc:0.66865\n",
      "[529]\tvalidation_0-auc:0.66875\n",
      "[530]\tvalidation_0-auc:0.66877\n",
      "[531]\tvalidation_0-auc:0.66878\n",
      "[532]\tvalidation_0-auc:0.66881\n"
     ]
    },
    {
     "name": "stdout",
     "output_type": "stream",
     "text": [
      "[533]\tvalidation_0-auc:0.66878\n",
      "[534]\tvalidation_0-auc:0.66879\n",
      "[535]\tvalidation_0-auc:0.66885\n",
      "[536]\tvalidation_0-auc:0.66889\n",
      "[537]\tvalidation_0-auc:0.66893\n",
      "[538]\tvalidation_0-auc:0.66894\n",
      "[539]\tvalidation_0-auc:0.66896\n",
      "[540]\tvalidation_0-auc:0.66905\n",
      "[541]\tvalidation_0-auc:0.66905\n",
      "[542]\tvalidation_0-auc:0.66911\n",
      "[543]\tvalidation_0-auc:0.66914\n",
      "[544]\tvalidation_0-auc:0.66925\n",
      "[545]\tvalidation_0-auc:0.66928\n",
      "[546]\tvalidation_0-auc:0.66926\n",
      "[547]\tvalidation_0-auc:0.66936\n",
      "[548]\tvalidation_0-auc:0.66937\n",
      "[549]\tvalidation_0-auc:0.66945\n",
      "[550]\tvalidation_0-auc:0.66947\n",
      "[551]\tvalidation_0-auc:0.66952\n",
      "[552]\tvalidation_0-auc:0.66949\n",
      "[553]\tvalidation_0-auc:0.66958\n",
      "[554]\tvalidation_0-auc:0.66965\n",
      "[555]\tvalidation_0-auc:0.66969\n",
      "[556]\tvalidation_0-auc:0.66970\n",
      "[557]\tvalidation_0-auc:0.66975\n",
      "[558]\tvalidation_0-auc:0.66972\n",
      "[559]\tvalidation_0-auc:0.66977\n",
      "[560]\tvalidation_0-auc:0.66982\n",
      "[561]\tvalidation_0-auc:0.66990\n",
      "[562]\tvalidation_0-auc:0.66993\n",
      "[563]\tvalidation_0-auc:0.66999\n",
      "[564]\tvalidation_0-auc:0.67001\n",
      "[565]\tvalidation_0-auc:0.67002\n",
      "[566]\tvalidation_0-auc:0.67004\n",
      "[567]\tvalidation_0-auc:0.67001\n",
      "[568]\tvalidation_0-auc:0.67004\n",
      "[569]\tvalidation_0-auc:0.67005\n",
      "[570]\tvalidation_0-auc:0.67009\n",
      "[571]\tvalidation_0-auc:0.67017\n",
      "[572]\tvalidation_0-auc:0.67018\n",
      "[573]\tvalidation_0-auc:0.67018\n",
      "[574]\tvalidation_0-auc:0.67020\n",
      "[575]\tvalidation_0-auc:0.67022\n",
      "[576]\tvalidation_0-auc:0.67023\n",
      "[577]\tvalidation_0-auc:0.67023\n",
      "[578]\tvalidation_0-auc:0.67032\n",
      "[579]\tvalidation_0-auc:0.67033\n",
      "[580]\tvalidation_0-auc:0.67037\n",
      "[581]\tvalidation_0-auc:0.67040\n",
      "[582]\tvalidation_0-auc:0.67042\n",
      "[583]\tvalidation_0-auc:0.67046\n",
      "[584]\tvalidation_0-auc:0.67053\n",
      "[585]\tvalidation_0-auc:0.67054\n",
      "[586]\tvalidation_0-auc:0.67055\n",
      "[587]\tvalidation_0-auc:0.67054\n",
      "[588]\tvalidation_0-auc:0.67054\n",
      "[589]\tvalidation_0-auc:0.67055\n",
      "[590]\tvalidation_0-auc:0.67061\n",
      "[591]\tvalidation_0-auc:0.67065\n",
      "[592]\tvalidation_0-auc:0.67071\n",
      "[593]\tvalidation_0-auc:0.67074\n",
      "[594]\tvalidation_0-auc:0.67078\n",
      "[595]\tvalidation_0-auc:0.67084\n",
      "[596]\tvalidation_0-auc:0.67093\n",
      "[597]\tvalidation_0-auc:0.67089\n",
      "[598]\tvalidation_0-auc:0.67090\n",
      "[599]\tvalidation_0-auc:0.67089\n",
      "[600]\tvalidation_0-auc:0.67087\n",
      "[601]\tvalidation_0-auc:0.67088\n",
      "[602]\tvalidation_0-auc:0.67092\n",
      "[603]\tvalidation_0-auc:0.67094\n",
      "[604]\tvalidation_0-auc:0.67098\n",
      "[605]\tvalidation_0-auc:0.67105\n",
      "[606]\tvalidation_0-auc:0.67107\n",
      "[607]\tvalidation_0-auc:0.67113\n",
      "[608]\tvalidation_0-auc:0.67117\n",
      "[609]\tvalidation_0-auc:0.67121\n",
      "[610]\tvalidation_0-auc:0.67120\n",
      "[611]\tvalidation_0-auc:0.67122\n",
      "[612]\tvalidation_0-auc:0.67123\n",
      "[613]\tvalidation_0-auc:0.67127\n",
      "[614]\tvalidation_0-auc:0.67129\n",
      "[615]\tvalidation_0-auc:0.67135\n",
      "[616]\tvalidation_0-auc:0.67139\n",
      "[617]\tvalidation_0-auc:0.67140\n",
      "[618]\tvalidation_0-auc:0.67143\n",
      "[619]\tvalidation_0-auc:0.67142\n",
      "[620]\tvalidation_0-auc:0.67145\n",
      "[621]\tvalidation_0-auc:0.67145\n",
      "[622]\tvalidation_0-auc:0.67147\n",
      "[623]\tvalidation_0-auc:0.67148\n",
      "[624]\tvalidation_0-auc:0.67151\n",
      "[625]\tvalidation_0-auc:0.67155\n",
      "[626]\tvalidation_0-auc:0.67159\n",
      "[627]\tvalidation_0-auc:0.67158\n",
      "[628]\tvalidation_0-auc:0.67161\n",
      "[629]\tvalidation_0-auc:0.67164\n",
      "[630]\tvalidation_0-auc:0.67171\n",
      "[631]\tvalidation_0-auc:0.67171\n",
      "[632]\tvalidation_0-auc:0.67172\n",
      "[633]\tvalidation_0-auc:0.67179\n",
      "[634]\tvalidation_0-auc:0.67181\n",
      "[635]\tvalidation_0-auc:0.67183\n",
      "[636]\tvalidation_0-auc:0.67187\n",
      "[637]\tvalidation_0-auc:0.67189\n",
      "[638]\tvalidation_0-auc:0.67194\n",
      "[639]\tvalidation_0-auc:0.67199\n",
      "[640]\tvalidation_0-auc:0.67200\n",
      "[641]\tvalidation_0-auc:0.67202\n",
      "[642]\tvalidation_0-auc:0.67202\n",
      "[643]\tvalidation_0-auc:0.67205\n",
      "[644]\tvalidation_0-auc:0.67205\n",
      "[645]\tvalidation_0-auc:0.67207\n",
      "[646]\tvalidation_0-auc:0.67208\n",
      "[647]\tvalidation_0-auc:0.67216\n",
      "[648]\tvalidation_0-auc:0.67219\n",
      "[649]\tvalidation_0-auc:0.67222\n",
      "[650]\tvalidation_0-auc:0.67228\n",
      "[651]\tvalidation_0-auc:0.67231\n",
      "[652]\tvalidation_0-auc:0.67232\n",
      "[653]\tvalidation_0-auc:0.67231\n",
      "[654]\tvalidation_0-auc:0.67234\n",
      "[655]\tvalidation_0-auc:0.67234\n",
      "[656]\tvalidation_0-auc:0.67234\n",
      "[657]\tvalidation_0-auc:0.67239\n",
      "[658]\tvalidation_0-auc:0.67241\n",
      "[659]\tvalidation_0-auc:0.67243\n",
      "[660]\tvalidation_0-auc:0.67246\n",
      "[661]\tvalidation_0-auc:0.67249\n",
      "[662]\tvalidation_0-auc:0.67255\n",
      "[663]\tvalidation_0-auc:0.67261\n",
      "[664]\tvalidation_0-auc:0.67258\n",
      "[665]\tvalidation_0-auc:0.67259\n",
      "[666]\tvalidation_0-auc:0.67262\n",
      "[667]\tvalidation_0-auc:0.67264\n",
      "[668]\tvalidation_0-auc:0.67264\n",
      "[669]\tvalidation_0-auc:0.67271\n",
      "[670]\tvalidation_0-auc:0.67274\n",
      "[671]\tvalidation_0-auc:0.67277\n",
      "[672]\tvalidation_0-auc:0.67280\n",
      "[673]\tvalidation_0-auc:0.67281\n",
      "[674]\tvalidation_0-auc:0.67287\n",
      "[675]\tvalidation_0-auc:0.67289\n",
      "[676]\tvalidation_0-auc:0.67293\n",
      "[677]\tvalidation_0-auc:0.67291\n",
      "[678]\tvalidation_0-auc:0.67290\n",
      "[679]\tvalidation_0-auc:0.67296\n",
      "[680]\tvalidation_0-auc:0.67296\n",
      "[681]\tvalidation_0-auc:0.67299\n",
      "[682]\tvalidation_0-auc:0.67306\n",
      "[683]\tvalidation_0-auc:0.67307\n",
      "[684]\tvalidation_0-auc:0.67311\n",
      "[685]\tvalidation_0-auc:0.67317\n",
      "[686]\tvalidation_0-auc:0.67319\n",
      "[687]\tvalidation_0-auc:0.67321\n",
      "[688]\tvalidation_0-auc:0.67324\n",
      "[689]\tvalidation_0-auc:0.67326\n",
      "[690]\tvalidation_0-auc:0.67326\n",
      "[691]\tvalidation_0-auc:0.67328\n",
      "[692]\tvalidation_0-auc:0.67332\n",
      "[693]\tvalidation_0-auc:0.67331\n",
      "[694]\tvalidation_0-auc:0.67327\n",
      "[695]\tvalidation_0-auc:0.67329\n",
      "[696]\tvalidation_0-auc:0.67332\n",
      "[697]\tvalidation_0-auc:0.67339\n",
      "[698]\tvalidation_0-auc:0.67342\n",
      "[699]\tvalidation_0-auc:0.67345\n",
      "[700]\tvalidation_0-auc:0.67346\n",
      "[701]\tvalidation_0-auc:0.67349\n",
      "[702]\tvalidation_0-auc:0.67355\n",
      "[703]\tvalidation_0-auc:0.67358\n",
      "[704]\tvalidation_0-auc:0.67356\n",
      "[705]\tvalidation_0-auc:0.67359\n",
      "[706]\tvalidation_0-auc:0.67360\n",
      "[707]\tvalidation_0-auc:0.67363\n",
      "[708]\tvalidation_0-auc:0.67369\n",
      "[709]\tvalidation_0-auc:0.67371\n",
      "[710]\tvalidation_0-auc:0.67376\n",
      "[711]\tvalidation_0-auc:0.67378\n",
      "[712]\tvalidation_0-auc:0.67381\n",
      "[713]\tvalidation_0-auc:0.67379\n",
      "[714]\tvalidation_0-auc:0.67381\n",
      "[715]\tvalidation_0-auc:0.67380\n",
      "[716]\tvalidation_0-auc:0.67378\n",
      "[717]\tvalidation_0-auc:0.67384\n",
      "[718]\tvalidation_0-auc:0.67390\n",
      "[719]\tvalidation_0-auc:0.67391\n",
      "[720]\tvalidation_0-auc:0.67391\n",
      "[721]\tvalidation_0-auc:0.67389\n",
      "[722]\tvalidation_0-auc:0.67390\n",
      "[723]\tvalidation_0-auc:0.67390\n",
      "[724]\tvalidation_0-auc:0.67392\n",
      "[725]\tvalidation_0-auc:0.67395\n",
      "[726]\tvalidation_0-auc:0.67395\n",
      "[727]\tvalidation_0-auc:0.67393\n",
      "[728]\tvalidation_0-auc:0.67398\n",
      "[729]\tvalidation_0-auc:0.67399\n",
      "[730]\tvalidation_0-auc:0.67402\n",
      "[731]\tvalidation_0-auc:0.67403\n",
      "[732]\tvalidation_0-auc:0.67401\n",
      "[733]\tvalidation_0-auc:0.67401\n",
      "[734]\tvalidation_0-auc:0.67406\n",
      "[735]\tvalidation_0-auc:0.67405\n",
      "[736]\tvalidation_0-auc:0.67405\n",
      "[737]\tvalidation_0-auc:0.67404\n",
      "[738]\tvalidation_0-auc:0.67409\n",
      "[739]\tvalidation_0-auc:0.67411\n",
      "[740]\tvalidation_0-auc:0.67409\n",
      "[741]\tvalidation_0-auc:0.67410\n",
      "[742]\tvalidation_0-auc:0.67409\n",
      "[743]\tvalidation_0-auc:0.67411\n",
      "[744]\tvalidation_0-auc:0.67411\n",
      "[745]\tvalidation_0-auc:0.67414\n",
      "[746]\tvalidation_0-auc:0.67416\n",
      "[747]\tvalidation_0-auc:0.67419\n",
      "[748]\tvalidation_0-auc:0.67420\n",
      "[749]\tvalidation_0-auc:0.67421\n",
      "[750]\tvalidation_0-auc:0.67428\n",
      "[751]\tvalidation_0-auc:0.67431\n",
      "[752]\tvalidation_0-auc:0.67431\n",
      "[753]\tvalidation_0-auc:0.67429\n",
      "[754]\tvalidation_0-auc:0.67431\n",
      "[755]\tvalidation_0-auc:0.67436\n",
      "[756]\tvalidation_0-auc:0.67441\n",
      "[757]\tvalidation_0-auc:0.67441\n",
      "[758]\tvalidation_0-auc:0.67445\n",
      "[759]\tvalidation_0-auc:0.67446\n",
      "[760]\tvalidation_0-auc:0.67446\n",
      "[761]\tvalidation_0-auc:0.67447\n",
      "[762]\tvalidation_0-auc:0.67445\n",
      "[763]\tvalidation_0-auc:0.67444\n",
      "[764]\tvalidation_0-auc:0.67447\n",
      "[765]\tvalidation_0-auc:0.67448\n",
      "[766]\tvalidation_0-auc:0.67449\n",
      "[767]\tvalidation_0-auc:0.67449\n",
      "[768]\tvalidation_0-auc:0.67451\n",
      "[769]\tvalidation_0-auc:0.67456\n",
      "[770]\tvalidation_0-auc:0.67458\n",
      "[771]\tvalidation_0-auc:0.67458\n",
      "[772]\tvalidation_0-auc:0.67459\n",
      "[773]\tvalidation_0-auc:0.67459\n",
      "[774]\tvalidation_0-auc:0.67461\n",
      "[775]\tvalidation_0-auc:0.67463\n",
      "[776]\tvalidation_0-auc:0.67466\n",
      "[777]\tvalidation_0-auc:0.67469\n",
      "[778]\tvalidation_0-auc:0.67474\n",
      "[779]\tvalidation_0-auc:0.67478\n",
      "[780]\tvalidation_0-auc:0.67476\n",
      "[781]\tvalidation_0-auc:0.67480\n",
      "[782]\tvalidation_0-auc:0.67483\n",
      "[783]\tvalidation_0-auc:0.67485\n",
      "[784]\tvalidation_0-auc:0.67488\n",
      "[785]\tvalidation_0-auc:0.67491\n",
      "[786]\tvalidation_0-auc:0.67491\n",
      "[787]\tvalidation_0-auc:0.67492\n",
      "[788]\tvalidation_0-auc:0.67493\n",
      "[789]\tvalidation_0-auc:0.67495\n",
      "[790]\tvalidation_0-auc:0.67495\n",
      "[791]\tvalidation_0-auc:0.67493\n",
      "[792]\tvalidation_0-auc:0.67496\n",
      "[793]\tvalidation_0-auc:0.67499\n",
      "[794]\tvalidation_0-auc:0.67500\n",
      "[795]\tvalidation_0-auc:0.67500\n",
      "[796]\tvalidation_0-auc:0.67499\n",
      "[797]\tvalidation_0-auc:0.67498\n"
     ]
    },
    {
     "name": "stdout",
     "output_type": "stream",
     "text": [
      "[798]\tvalidation_0-auc:0.67496\n",
      "[799]\tvalidation_0-auc:0.67497\n",
      "[800]\tvalidation_0-auc:0.67502\n",
      "[801]\tvalidation_0-auc:0.67507\n",
      "[802]\tvalidation_0-auc:0.67510\n",
      "[803]\tvalidation_0-auc:0.67514\n",
      "[804]\tvalidation_0-auc:0.67516\n",
      "[805]\tvalidation_0-auc:0.67520\n",
      "[806]\tvalidation_0-auc:0.67517\n",
      "[807]\tvalidation_0-auc:0.67518\n",
      "[808]\tvalidation_0-auc:0.67521\n",
      "[809]\tvalidation_0-auc:0.67521\n",
      "[810]\tvalidation_0-auc:0.67523\n",
      "[811]\tvalidation_0-auc:0.67525\n",
      "[812]\tvalidation_0-auc:0.67528\n",
      "[813]\tvalidation_0-auc:0.67530\n",
      "[814]\tvalidation_0-auc:0.67530\n",
      "[815]\tvalidation_0-auc:0.67530\n",
      "[816]\tvalidation_0-auc:0.67528\n",
      "[817]\tvalidation_0-auc:0.67529\n",
      "[818]\tvalidation_0-auc:0.67530\n",
      "[819]\tvalidation_0-auc:0.67528\n",
      "[820]\tvalidation_0-auc:0.67527\n",
      "[821]\tvalidation_0-auc:0.67528\n",
      "[822]\tvalidation_0-auc:0.67525\n",
      "[823]\tvalidation_0-auc:0.67526\n",
      "[824]\tvalidation_0-auc:0.67527\n",
      "[825]\tvalidation_0-auc:0.67527\n",
      "Wall time: 51.9 s\n"
     ]
    },
    {
     "data": {
      "text/html": [
       "<style>#sk-container-id-53 {color: black;background-color: white;}#sk-container-id-53 pre{padding: 0;}#sk-container-id-53 div.sk-toggleable {background-color: white;}#sk-container-id-53 label.sk-toggleable__label {cursor: pointer;display: block;width: 100%;margin-bottom: 0;padding: 0.3em;box-sizing: border-box;text-align: center;}#sk-container-id-53 label.sk-toggleable__label-arrow:before {content: \"▸\";float: left;margin-right: 0.25em;color: #696969;}#sk-container-id-53 label.sk-toggleable__label-arrow:hover:before {color: black;}#sk-container-id-53 div.sk-estimator:hover label.sk-toggleable__label-arrow:before {color: black;}#sk-container-id-53 div.sk-toggleable__content {max-height: 0;max-width: 0;overflow: hidden;text-align: left;background-color: #f0f8ff;}#sk-container-id-53 div.sk-toggleable__content pre {margin: 0.2em;color: black;border-radius: 0.25em;background-color: #f0f8ff;}#sk-container-id-53 input.sk-toggleable__control:checked~div.sk-toggleable__content {max-height: 200px;max-width: 100%;overflow: auto;}#sk-container-id-53 input.sk-toggleable__control:checked~label.sk-toggleable__label-arrow:before {content: \"▾\";}#sk-container-id-53 div.sk-estimator input.sk-toggleable__control:checked~label.sk-toggleable__label {background-color: #d4ebff;}#sk-container-id-53 div.sk-label input.sk-toggleable__control:checked~label.sk-toggleable__label {background-color: #d4ebff;}#sk-container-id-53 input.sk-hidden--visually {border: 0;clip: rect(1px 1px 1px 1px);clip: rect(1px, 1px, 1px, 1px);height: 1px;margin: -1px;overflow: hidden;padding: 0;position: absolute;width: 1px;}#sk-container-id-53 div.sk-estimator {font-family: monospace;background-color: #f0f8ff;border: 1px dotted black;border-radius: 0.25em;box-sizing: border-box;margin-bottom: 0.5em;}#sk-container-id-53 div.sk-estimator:hover {background-color: #d4ebff;}#sk-container-id-53 div.sk-parallel-item::after {content: \"\";width: 100%;border-bottom: 1px solid gray;flex-grow: 1;}#sk-container-id-53 div.sk-label:hover label.sk-toggleable__label {background-color: #d4ebff;}#sk-container-id-53 div.sk-serial::before {content: \"\";position: absolute;border-left: 1px solid gray;box-sizing: border-box;top: 0;bottom: 0;left: 50%;z-index: 0;}#sk-container-id-53 div.sk-serial {display: flex;flex-direction: column;align-items: center;background-color: white;padding-right: 0.2em;padding-left: 0.2em;position: relative;}#sk-container-id-53 div.sk-item {position: relative;z-index: 1;}#sk-container-id-53 div.sk-parallel {display: flex;align-items: stretch;justify-content: center;background-color: white;position: relative;}#sk-container-id-53 div.sk-item::before, #sk-container-id-53 div.sk-parallel-item::before {content: \"\";position: absolute;border-left: 1px solid gray;box-sizing: border-box;top: 0;bottom: 0;left: 50%;z-index: -1;}#sk-container-id-53 div.sk-parallel-item {display: flex;flex-direction: column;z-index: 1;position: relative;background-color: white;}#sk-container-id-53 div.sk-parallel-item:first-child::after {align-self: flex-end;width: 50%;}#sk-container-id-53 div.sk-parallel-item:last-child::after {align-self: flex-start;width: 50%;}#sk-container-id-53 div.sk-parallel-item:only-child::after {width: 0;}#sk-container-id-53 div.sk-dashed-wrapped {border: 1px dashed gray;margin: 0 0.4em 0.5em 0.4em;box-sizing: border-box;padding-bottom: 0.4em;background-color: white;}#sk-container-id-53 div.sk-label label {font-family: monospace;font-weight: bold;display: inline-block;line-height: 1.2em;}#sk-container-id-53 div.sk-label-container {text-align: center;}#sk-container-id-53 div.sk-container {/* jupyter's `normalize.less` sets `[hidden] { display: none; }` but bootstrap.min.css set `[hidden] { display: none !important; }` so we also need the `!important` here to be able to override the default hidden behavior on the sphinx rendered scikit-learn.org. See: https://github.com/scikit-learn/scikit-learn/issues/21755 */display: inline-block !important;position: relative;}#sk-container-id-53 div.sk-text-repr-fallback {display: none;}</style><div id=\"sk-container-id-53\" class=\"sk-top-container\"><div class=\"sk-text-repr-fallback\"><pre>XGBClassifier(base_score=0.5, booster=&#x27;gbtree&#x27;, colsample_bylevel=1,\n",
       "              colsample_bynode=1, colsample_bytree=0.5,\n",
       "              enable_categorical=False, eval_metric=&#x27;auc&#x27;, gamma=0, gpu_id=-1,\n",
       "              importance_type=None, interaction_constraints=&#x27;&#x27;,\n",
       "              learning_rate=0.02, max_delta_step=0, max_depth=2,\n",
       "              min_child_weight=1, missing=nan, monotone_constraints=&#x27;()&#x27;,\n",
       "              n_estimators=1000, n_jobs=4, num_parallel_tree=1,\n",
       "              predictor=&#x27;auto&#x27;, random_state=0, reg_alpha=0, reg_lambda=1,\n",
       "              scale_pos_weight=1, subsample=0.5, tree_method=&#x27;exact&#x27;,\n",
       "              validate_parameters=1, verbosity=1)</pre><b>In a Jupyter environment, please rerun this cell to show the HTML representation or trust the notebook. <br />On GitHub, the HTML representation is unable to render, please try loading this page with nbviewer.org.</b></div><div class=\"sk-container\" hidden><div class=\"sk-item\"><div class=\"sk-estimator sk-toggleable\"><input class=\"sk-toggleable__control sk-hidden--visually\" id=\"sk-estimator-id-53\" type=\"checkbox\" checked><label for=\"sk-estimator-id-53\" class=\"sk-toggleable__label sk-toggleable__label-arrow\">XGBClassifier</label><div class=\"sk-toggleable__content\"><pre>XGBClassifier(base_score=0.5, booster=&#x27;gbtree&#x27;, colsample_bylevel=1,\n",
       "              colsample_bynode=1, colsample_bytree=0.5,\n",
       "              enable_categorical=False, eval_metric=&#x27;auc&#x27;, gamma=0, gpu_id=-1,\n",
       "              importance_type=None, interaction_constraints=&#x27;&#x27;,\n",
       "              learning_rate=0.02, max_delta_step=0, max_depth=2,\n",
       "              min_child_weight=1, missing=nan, monotone_constraints=&#x27;()&#x27;,\n",
       "              n_estimators=1000, n_jobs=4, num_parallel_tree=1,\n",
       "              predictor=&#x27;auto&#x27;, random_state=0, reg_alpha=0, reg_lambda=1,\n",
       "              scale_pos_weight=1, subsample=0.5, tree_method=&#x27;exact&#x27;,\n",
       "              validate_parameters=1, verbosity=1)</pre></div></div></div></div></div>"
      ],
      "text/plain": [
       "XGBClassifier(base_score=0.5, booster='gbtree', colsample_bylevel=1,\n",
       "              colsample_bynode=1, colsample_bytree=0.5,\n",
       "              enable_categorical=False, eval_metric='auc', gamma=0, gpu_id=-1,\n",
       "              importance_type=None, interaction_constraints='',\n",
       "              learning_rate=0.02, max_delta_step=0, max_depth=2,\n",
       "              min_child_weight=1, missing=nan, monotone_constraints='()',\n",
       "              n_estimators=1000, n_jobs=4, num_parallel_tree=1,\n",
       "              predictor='auto', random_state=0, reg_alpha=0, reg_lambda=1,\n",
       "              scale_pos_weight=1, subsample=0.5, tree_method='exact',\n",
       "              validate_parameters=1, verbosity=1)"
      ]
     },
     "execution_count": 288,
     "metadata": {},
     "output_type": "execute_result"
    }
   ],
   "source": [
    "%%time\n",
    "# Initiating XGboost object\n",
    "model_xgboost = xgb.XGBClassifier(learning_rate=0.02,\n",
    "                                      max_depth=2,\n",
    "                                      n_estimators=1000,\n",
    "                                      subsample=0.5,\n",
    "                                      colsample_bytree=0.5,\n",
    "                                      eval_metric='auc',\n",
    "                                      verbosity=1)\n",
    "\n",
    "\n",
    "eval_set = [(X_XGvalid, y_XGvalid)]\n",
    "\n",
    "model_xgboost.fit(X_XGtrain,\n",
    "                  y_XGtrain,\n",
    "                  early_stopping_rounds=10,\n",
    "                  eval_set=eval_set,\n",
    "                  verbose=True)"
   ]
  },
  {
   "cell_type": "code",
   "execution_count": 289,
   "id": "e8c88472",
   "metadata": {},
   "outputs": [
    {
     "data": {
      "text/plain": [
       "{'accuracy': 0.621623924341825,\n",
       " 'precision': array([0.63363611, 0.61121272]),\n",
       " 'Weighted precision': 0.6224798226639335,\n",
       " 'recall': array([0.58550233, 0.65810429]),\n",
       " 'Weighted recall': 0.621623924341825,\n",
       " 'f1score': array([0.60861902, 0.63379236]),\n",
       " 'Weighted f1score': 0.621143492418645}"
      ]
     },
     "execution_count": 289,
     "metadata": {},
     "output_type": "execute_result"
    }
   ],
   "source": [
    "preds = model_xgboost.predict(X_test_s)\n",
    "XG_result = evaluate_metrics(y_test,preds)\n",
    "XG_result"
   ]
  },
  {
   "cell_type": "code",
   "execution_count": 290,
   "id": "5e32476a",
   "metadata": {},
   "outputs": [
    {
     "name": "stdout",
     "output_type": "stream",
     "text": [
      "              precision    recall  f1-score   support\n",
      "\n",
      "           0       0.63      0.59      0.61     11795\n",
      "           1       0.61      0.66      0.63     11679\n",
      "\n",
      "    accuracy                           0.62     23474\n",
      "   macro avg       0.62      0.62      0.62     23474\n",
      "weighted avg       0.62      0.62      0.62     23474\n",
      "\n"
     ]
    },
    {
     "data": {
      "image/png": "[encoded data removed]",
      "text/plain": [
       "<Figure size 1200x800 with 2 Axes>"
      ]
     },
     "metadata": {},
     "output_type": "display_data"
    }
   ],
   "source": [
    "# Results Breakdown\n",
    "print(classification_report(y_test, preds))\n",
    "\n",
    "sns.set_context('talk')\n",
    "cm = confusion_matrix(y_test, preds)\n",
    "plt.figure(figsize = (12,8)) \n",
    "ax = sns.heatmap(cm, annot=True, fmt='d', cmap='Blues',\n",
    "                xticklabels=['Not Churn 0', 'Churn 1'], \n",
    "                 yticklabels=['Not Churn 0', 'Churn 1'])\n",
    "ax.set(title=\"XGBoost Confusion Matrix\");\n",
    "ax.set_xlabel('Predicted');\n",
    "ax.set_ylabel('True');"
   ]
  },
  {
   "cell_type": "code",
   "execution_count": 291,
   "id": "2fe0b476",
   "metadata": {},
   "outputs": [
    {
     "data": {
      "text/plain": [
       "[0.621623924341825, 0.6224798226639335, 0.621623924341825, 0.621143492418645]"
      ]
     },
     "execution_count": 291,
     "metadata": {},
     "output_type": "execute_result"
    }
   ],
   "source": [
    "XG_results = list()\n",
    "for key in keys:\n",
    "       XG_results.append(XG_result.get(key))\n",
    "XG_results "
   ]
  },
  {
   "cell_type": "code",
   "execution_count": 292,
   "id": "1bfebcbc",
   "metadata": {},
   "outputs": [
    {
     "data": {
      "text/plain": [
       "[array([0.63363611, 0.61121272]),\n",
       " array([0.58550233, 0.65810429]),\n",
       " array([0.60861902, 0.63379236])]"
      ]
     },
     "execution_count": 292,
     "metadata": {},
     "output_type": "execute_result"
    }
   ],
   "source": [
    "XG_rpf = []\n",
    "for element in elements:\n",
    "       XG_rpf.append(XG_result.get(element))\n",
    "XG_rpf "
   ]
  },
  {
   "cell_type": "code",
   "execution_count": 293,
   "id": "af18563a",
   "metadata": {},
   "outputs": [],
   "source": [
    "pickle.dump(model_xgboost, open('model_xgboost.p','wb')) # write it as bytes"
   ]
  },
  {
   "cell_type": "markdown",
   "id": "32895858",
   "metadata": {},
   "source": [
    "### e. Light Gradient Boosted Machine LGBM"
   ]
  },
  {
   "cell_type": "code",
   "execution_count": 294,
   "id": "50d87a4f",
   "metadata": {},
   "outputs": [
    {
     "data": {
      "text/plain": [
       "{'boosting_type': 'gbdt',\n",
       " 'class_weight': None,\n",
       " 'colsample_bytree': 1.0,\n",
       " 'importance_type': 'split',\n",
       " 'learning_rate': 0.1,\n",
       " 'max_depth': -1,\n",
       " 'min_child_samples': 20,\n",
       " 'min_child_weight': 0.001,\n",
       " 'min_split_gain': 0.0,\n",
       " 'n_estimators': 100,\n",
       " 'n_jobs': -1,\n",
       " 'num_leaves': 31,\n",
       " 'objective': None,\n",
       " 'random_state': None,\n",
       " 'reg_alpha': 0.0,\n",
       " 'reg_lambda': 0.0,\n",
       " 'silent': 'warn',\n",
       " 'subsample': 1.0,\n",
       " 'subsample_for_bin': 200000,\n",
       " 'subsample_freq': 0}"
      ]
     },
     "execution_count": 294,
     "metadata": {},
     "output_type": "execute_result"
    }
   ],
   "source": [
    "LGBMClassifier().get_params() # printing LGBM parameters"
   ]
  },
  {
   "cell_type": "code",
   "execution_count": 295,
   "id": "699bde3f",
   "metadata": {},
   "outputs": [],
   "source": [
    "# # defining the parameters to be tuned:\n",
    "# n_estimators= [100, 200, 300, 500, 1000]\n",
    "# num_leaves= [15, 20, 30]\n",
    "# colsample_bytree= [0.6, 0.8, 1]\n",
    "# subsample= [0.6, 0.8, 1]\n",
    "# max_depth= [1, 3, 5, 7, 9, 11]\n",
    "# reg_alpha= [0.6, 0.8, 1]\n",
    "# reg_lambda= [ 0.6, 0.8, 1]\n",
    "# min_split_gain=[0.02, 0.04]\n",
    "# learning_rate = [0.1, 0.2, 0.3]\n",
    "\n",
    "# param_grid = {\n",
    "#     'n_estimators':n_estimators,\n",
    "#     'num_leaves':num_leaves,\n",
    "#     'colsample_bytree':colsample_bytree,\n",
    "#     'subsample':subsample,\n",
    "#     'max_depth':max_depth,\n",
    "#     'reg_alpha':reg_alpha,\n",
    "#     'reg_lambda':reg_lambda,\n",
    "#     'min_split_gain':min_split_gain,\n",
    "#     'learning_rate':learning_rate\n",
    "    \n",
    "# }\n",
    "\n",
    "# LGBM_model = LGBMClassifier( random_state = rs, bootstrap = True, class_weight = class_weight )\n",
    "\n",
    "\n",
    "# search_lgbm = GridSearchCV(estimator=LGBM_model,\n",
    "#                       param_grid=param_grid,\n",
    "#                       scoring='f1',\n",
    "#                       cv=skf,\n",
    "#                       n_jobs = -1) # creating GridSearchCV object\n",
    "\n",
    "# search_lgbm.fit(X_train_s, y_train)\n",
    "# search_lgbm.best_score_"
   ]
  },
  {
   "cell_type": "code",
   "execution_count": 296,
   "id": "a83974d3",
   "metadata": {},
   "outputs": [],
   "source": [
    "# search_lgbm.best_params_"
   ]
  },
  {
   "cell_type": "code",
   "execution_count": 298,
   "id": "2bc5c7ea",
   "metadata": {},
   "outputs": [
    {
     "name": "stdout",
     "output_type": "stream",
     "text": [
      "Wall time: 2.17 s\n"
     ]
    },
    {
     "data": {
      "text/html": [
       "<style>#sk-container-id-55 {color: black;background-color: white;}#sk-container-id-55 pre{padding: 0;}#sk-container-id-55 div.sk-toggleable {background-color: white;}#sk-container-id-55 label.sk-toggleable__label {cursor: pointer;display: block;width: 100%;margin-bottom: 0;padding: 0.3em;box-sizing: border-box;text-align: center;}#sk-container-id-55 label.sk-toggleable__label-arrow:before {content: \"▸\";float: left;margin-right: 0.25em;color: #696969;}#sk-container-id-55 label.sk-toggleable__label-arrow:hover:before {color: black;}#sk-container-id-55 div.sk-estimator:hover label.sk-toggleable__label-arrow:before {color: black;}#sk-container-id-55 div.sk-toggleable__content {max-height: 0;max-width: 0;overflow: hidden;text-align: left;background-color: #f0f8ff;}#sk-container-id-55 div.sk-toggleable__content pre {margin: 0.2em;color: black;border-radius: 0.25em;background-color: #f0f8ff;}#sk-container-id-55 input.sk-toggleable__control:checked~div.sk-toggleable__content {max-height: 200px;max-width: 100%;overflow: auto;}#sk-container-id-55 input.sk-toggleable__control:checked~label.sk-toggleable__label-arrow:before {content: \"▾\";}#sk-container-id-55 div.sk-estimator input.sk-toggleable__control:checked~label.sk-toggleable__label {background-color: #d4ebff;}#sk-container-id-55 div.sk-label input.sk-toggleable__control:checked~label.sk-toggleable__label {background-color: #d4ebff;}#sk-container-id-55 input.sk-hidden--visually {border: 0;clip: rect(1px 1px 1px 1px);clip: rect(1px, 1px, 1px, 1px);height: 1px;margin: -1px;overflow: hidden;padding: 0;position: absolute;width: 1px;}#sk-container-id-55 div.sk-estimator {font-family: monospace;background-color: #f0f8ff;border: 1px dotted black;border-radius: 0.25em;box-sizing: border-box;margin-bottom: 0.5em;}#sk-container-id-55 div.sk-estimator:hover {background-color: #d4ebff;}#sk-container-id-55 div.sk-parallel-item::after {content: \"\";width: 100%;border-bottom: 1px solid gray;flex-grow: 1;}#sk-container-id-55 div.sk-label:hover label.sk-toggleable__label {background-color: #d4ebff;}#sk-container-id-55 div.sk-serial::before {content: \"\";position: absolute;border-left: 1px solid gray;box-sizing: border-box;top: 0;bottom: 0;left: 50%;z-index: 0;}#sk-container-id-55 div.sk-serial {display: flex;flex-direction: column;align-items: center;background-color: white;padding-right: 0.2em;padding-left: 0.2em;position: relative;}#sk-container-id-55 div.sk-item {position: relative;z-index: 1;}#sk-container-id-55 div.sk-parallel {display: flex;align-items: stretch;justify-content: center;background-color: white;position: relative;}#sk-container-id-55 div.sk-item::before, #sk-container-id-55 div.sk-parallel-item::before {content: \"\";position: absolute;border-left: 1px solid gray;box-sizing: border-box;top: 0;bottom: 0;left: 50%;z-index: -1;}#sk-container-id-55 div.sk-parallel-item {display: flex;flex-direction: column;z-index: 1;position: relative;background-color: white;}#sk-container-id-55 div.sk-parallel-item:first-child::after {align-self: flex-end;width: 50%;}#sk-container-id-55 div.sk-parallel-item:last-child::after {align-self: flex-start;width: 50%;}#sk-container-id-55 div.sk-parallel-item:only-child::after {width: 0;}#sk-container-id-55 div.sk-dashed-wrapped {border: 1px dashed gray;margin: 0 0.4em 0.5em 0.4em;box-sizing: border-box;padding-bottom: 0.4em;background-color: white;}#sk-container-id-55 div.sk-label label {font-family: monospace;font-weight: bold;display: inline-block;line-height: 1.2em;}#sk-container-id-55 div.sk-label-container {text-align: center;}#sk-container-id-55 div.sk-container {/* jupyter's `normalize.less` sets `[hidden] { display: none; }` but bootstrap.min.css set `[hidden] { display: none !important; }` so we also need the `!important` here to be able to override the default hidden behavior on the sphinx rendered scikit-learn.org. See: https://github.com/scikit-learn/scikit-learn/issues/21755 */display: inline-block !important;position: relative;}#sk-container-id-55 div.sk-text-repr-fallback {display: none;}</style><div id=\"sk-container-id-55\" class=\"sk-top-container\"><div class=\"sk-text-repr-fallback\"><pre>LGBMClassifier(boosting_type=&#x27;goss&#x27;, colsample_bytree=0.6, max_depth=3,\n",
       "               min_split_gain=0.02, n_estimators=300, num_leaves=15,\n",
       "               reg_alpha=0.6, reg_lambda=0.8, subsample=0.6)</pre><b>In a Jupyter environment, please rerun this cell to show the HTML representation or trust the notebook. <br />On GitHub, the HTML representation is unable to render, please try loading this page with nbviewer.org.</b></div><div class=\"sk-container\" hidden><div class=\"sk-item\"><div class=\"sk-estimator sk-toggleable\"><input class=\"sk-toggleable__control sk-hidden--visually\" id=\"sk-estimator-id-55\" type=\"checkbox\" checked><label for=\"sk-estimator-id-55\" class=\"sk-toggleable__label sk-toggleable__label-arrow\">LGBMClassifier</label><div class=\"sk-toggleable__content\"><pre>LGBMClassifier(boosting_type=&#x27;goss&#x27;, colsample_bytree=0.6, max_depth=3,\n",
       "               min_split_gain=0.02, n_estimators=300, num_leaves=15,\n",
       "               reg_alpha=0.6, reg_lambda=0.8, subsample=0.6)</pre></div></div></div></div></div>"
      ],
      "text/plain": [
       "LGBMClassifier(boosting_type='goss', colsample_bytree=0.6, max_depth=3,\n",
       "               min_split_gain=0.02, n_estimators=300, num_leaves=15,\n",
       "               reg_alpha=0.6, reg_lambda=0.8, subsample=0.6)"
      ]
     },
     "execution_count": 298,
     "metadata": {},
     "output_type": "execute_result"
    }
   ],
   "source": [
    "%%time\n",
    "clf_lgbm = LGBMClassifier(\n",
    "  learning_rate = 0.1,\n",
    "        n_estimators=300,\n",
    "        num_leaves=15,\n",
    "        colsample_bytree=0.6,\n",
    "        subsample= 0.6,\n",
    "        max_depth=3,\n",
    "        reg_alpha=0.6,\n",
    "        reg_lambda= 0.8,\n",
    "        min_split_gain=.02,\n",
    "        boosting_type= 'goss'\n",
    "    )\n",
    "# using the same train and validations set we used in XGboost.\n",
    "clf_lgbm.fit(X_XGtrain,\n",
    "                  y_XGtrain,\n",
    "        eval_set= [(X_XGvalid, y_XGvalid)], \n",
    "        eval_metric='auc', \n",
    "        verbose=0, \n",
    "        early_stopping_rounds=30\n",
    "       )\n"
   ]
  },
  {
   "cell_type": "code",
   "execution_count": 299,
   "id": "98e7fb83",
   "metadata": {},
   "outputs": [
    {
     "data": {
      "text/plain": [
       "{'accuracy': 0.6262247593081708,\n",
       " 'precision': array([0.63560463, 0.61775436]),\n",
       " 'Weighted precision': 0.6267235997403037,\n",
       " 'recall': array([0.60025435, 0.65245312]),\n",
       " 'Weighted recall': 0.6262247593081708,\n",
       " 'f1score': array([0.61742391, 0.6346298 ]),\n",
       " 'Weighted f1score': 0.6259843430605043}"
      ]
     },
     "execution_count": 299,
     "metadata": {},
     "output_type": "execute_result"
    }
   ],
   "source": [
    "preds = clf_lgbm.predict(X_test_s)\n",
    "lgbm_result = evaluate_metrics(y_test,preds)\n",
    "lgbm_result\n"
   ]
  },
  {
   "cell_type": "code",
   "execution_count": 300,
   "id": "e71a8b0f",
   "metadata": {},
   "outputs": [
    {
     "name": "stdout",
     "output_type": "stream",
     "text": [
      "              precision    recall  f1-score   support\n",
      "\n",
      "           0       0.64      0.60      0.62     11795\n",
      "           1       0.62      0.65      0.63     11679\n",
      "\n",
      "    accuracy                           0.63     23474\n",
      "   macro avg       0.63      0.63      0.63     23474\n",
      "weighted avg       0.63      0.63      0.63     23474\n",
      "\n"
     ]
    },
    {
     "data": {
      "image/png": "[encoded data removed]",
      "text/plain": [
       "<Figure size 1200x800 with 2 Axes>"
      ]
     },
     "metadata": {},
     "output_type": "display_data"
    }
   ],
   "source": [
    "# Results Breakdown\n",
    "print(classification_report(y_test, preds))\n",
    "\n",
    "sns.set_context('talk')\n",
    "cm = confusion_matrix(y_test, preds)\n",
    "plt.figure(figsize = (12,8)) \n",
    "ax = sns.heatmap(cm, annot=True, fmt='d', cmap='Blues',\n",
    "                xticklabels=['Not Churn 0', 'Churn 1'], \n",
    "                 yticklabels=['Not Churn 0', 'Churn 1'])\n",
    "ax.set(title=\"LGBM Confusion Matrix\");\n",
    "ax.set_xlabel('Predicted');\n",
    "ax.set_ylabel('True');"
   ]
  },
  {
   "cell_type": "code",
   "execution_count": 301,
   "id": "96253fcd",
   "metadata": {},
   "outputs": [
    {
     "data": {
      "text/plain": [
       "[0.6262247593081708,\n",
       " 0.6267235997403037,\n",
       " 0.6262247593081708,\n",
       " 0.6259843430605043]"
      ]
     },
     "execution_count": 301,
     "metadata": {},
     "output_type": "execute_result"
    }
   ],
   "source": [
    "LGBM_results = list()\n",
    "for key in keys:\n",
    "       LGBM_results.append(lgbm_result.get(key))\n",
    "LGBM_results "
   ]
  },
  {
   "cell_type": "code",
   "execution_count": 302,
   "id": "1a1b4036",
   "metadata": {},
   "outputs": [
    {
     "data": {
      "text/plain": [
       "[array([0.63560463, 0.61775436]),\n",
       " array([0.60025435, 0.65245312]),\n",
       " array([0.61742391, 0.6346298 ])]"
      ]
     },
     "execution_count": 302,
     "metadata": {},
     "output_type": "execute_result"
    }
   ],
   "source": [
    "LGBM_rpf = []\n",
    "for element in elements:\n",
    "       LGBM_rpf.append(lgbm_result.get(element))\n",
    "LGBM_rpf "
   ]
  },
  {
   "cell_type": "code",
   "execution_count": null,
   "id": "533faaad",
   "metadata": {},
   "outputs": [],
   "source": [
    "pickle.dump(clf_lgbm, open('clf_lgbm.p','wb')) # write it as bytes"
   ]
  },
  {
   "cell_type": "code",
   "execution_count": 304,
   "id": "9efcda46",
   "metadata": {},
   "outputs": [
    {
     "data": {
      "text/html": [
       "<div>\n",
       "<style scoped>\n",
       "    .dataframe tbody tr th:only-of-type {\n",
       "        vertical-align: middle;\n",
       "    }\n",
       "\n",
       "    .dataframe tbody tr th {\n",
       "        vertical-align: top;\n",
       "    }\n",
       "\n",
       "    .dataframe thead th {\n",
       "        text-align: right;\n",
       "    }\n",
       "</style>\n",
       "<table border=\"1\" class=\"dataframe\">\n",
       "  <thead>\n",
       "    <tr style=\"text-align: right;\">\n",
       "      <th></th>\n",
       "      <th>Logistic Regression</th>\n",
       "      <th>Random Forest</th>\n",
       "      <th>XGboost</th>\n",
       "      <th>LGBM</th>\n",
       "    </tr>\n",
       "    <tr>\n",
       "      <th>Metric</th>\n",
       "      <th></th>\n",
       "      <th></th>\n",
       "      <th></th>\n",
       "      <th></th>\n",
       "    </tr>\n",
       "  </thead>\n",
       "  <tbody>\n",
       "    <tr>\n",
       "      <th>Accuracy</th>\n",
       "      <td>0.589077</td>\n",
       "      <td>0.604499</td>\n",
       "      <td>0.621624</td>\n",
       "      <td>0.626225</td>\n",
       "    </tr>\n",
       "    <tr>\n",
       "      <th>Weighted Precision</th>\n",
       "      <td>0.589303</td>\n",
       "      <td>0.607052</td>\n",
       "      <td>0.622480</td>\n",
       "      <td>0.626724</td>\n",
       "    </tr>\n",
       "    <tr>\n",
       "      <th>Weighted Recall</th>\n",
       "      <td>0.589077</td>\n",
       "      <td>0.604499</td>\n",
       "      <td>0.621624</td>\n",
       "      <td>0.626225</td>\n",
       "    </tr>\n",
       "    <tr>\n",
       "      <th>Weighted F1score</th>\n",
       "      <td>0.588952</td>\n",
       "      <td>0.602533</td>\n",
       "      <td>0.621143</td>\n",
       "      <td>0.625984</td>\n",
       "    </tr>\n",
       "  </tbody>\n",
       "</table>\n",
       "</div>"
      ],
      "text/plain": [
       "                     Logistic Regression  Random Forest   XGboost      LGBM\n",
       "Metric                                                                     \n",
       "Accuracy                        0.589077       0.604499  0.621624  0.626225\n",
       " Weighted Precision             0.589303       0.607052  0.622480  0.626724\n",
       "Weighted Recall                 0.589077       0.604499  0.621624  0.626225\n",
       "Weighted F1score                0.588952       0.602533  0.621143  0.625984"
      ]
     },
     "metadata": {},
     "output_type": "display_data"
    }
   ],
   "source": [
    "final_results= {\n",
    "    'Metric': ['Accuracy',' Weighted Precision','Weighted Recall','Weighted F1score'],\n",
    "    'Logistic Regression' :lr_results,\n",
    "    'Random Forest'      :RF_results,\n",
    "    'XGboost'            :XG_results,\n",
    "    'LGBM'               :LGBM_results}\n",
    "final_results = pd.DataFrame(final_results).set_index('Metric')\n",
    "display(final_results)    "
   ]
  },
  {
   "cell_type": "code",
   "execution_count": 306,
   "id": "e659e2e4",
   "metadata": {},
   "outputs": [
    {
     "data": {
      "text/html": [
       "<div>\n",
       "<style scoped>\n",
       "    .dataframe tbody tr th:only-of-type {\n",
       "        vertical-align: middle;\n",
       "    }\n",
       "\n",
       "    .dataframe tbody tr th {\n",
       "        vertical-align: top;\n",
       "    }\n",
       "\n",
       "    .dataframe thead th {\n",
       "        text-align: right;\n",
       "    }\n",
       "</style>\n",
       "<table border=\"1\" class=\"dataframe\">\n",
       "  <thead>\n",
       "    <tr style=\"text-align: right;\">\n",
       "      <th>classes</th>\n",
       "      <th>0</th>\n",
       "      <th>1</th>\n",
       "    </tr>\n",
       "  </thead>\n",
       "  <tbody>\n",
       "    <tr>\n",
       "      <th>LR Precision</th>\n",
       "      <td>0.594895</td>\n",
       "      <td>0.583656</td>\n",
       "    </tr>\n",
       "    <tr>\n",
       "      <th>LR Recall</th>\n",
       "      <td>0.571089</td>\n",
       "      <td>0.607244</td>\n",
       "    </tr>\n",
       "    <tr>\n",
       "      <th>LR F1score</th>\n",
       "      <td>0.582749</td>\n",
       "      <td>0.595216</td>\n",
       "    </tr>\n",
       "    <tr>\n",
       "      <th>RF Precision</th>\n",
       "      <td>0.624492</td>\n",
       "      <td>0.589439</td>\n",
       "    </tr>\n",
       "    <tr>\n",
       "      <th>RF Recall</th>\n",
       "      <td>0.533955</td>\n",
       "      <td>0.675743</td>\n",
       "    </tr>\n",
       "    <tr>\n",
       "      <th>RF F1 score</th>\n",
       "      <td>0.575686</td>\n",
       "      <td>0.629647</td>\n",
       "    </tr>\n",
       "    <tr>\n",
       "      <th>XG Precision</th>\n",
       "      <td>0.633636</td>\n",
       "      <td>0.611213</td>\n",
       "    </tr>\n",
       "    <tr>\n",
       "      <th>XG Recall</th>\n",
       "      <td>0.585502</td>\n",
       "      <td>0.658104</td>\n",
       "    </tr>\n",
       "    <tr>\n",
       "      <th>XG F1 score</th>\n",
       "      <td>0.608619</td>\n",
       "      <td>0.633792</td>\n",
       "    </tr>\n",
       "    <tr>\n",
       "      <th>LGBM Precision</th>\n",
       "      <td>0.635605</td>\n",
       "      <td>0.617754</td>\n",
       "    </tr>\n",
       "    <tr>\n",
       "      <th>LGBM Recall</th>\n",
       "      <td>0.600254</td>\n",
       "      <td>0.652453</td>\n",
       "    </tr>\n",
       "    <tr>\n",
       "      <th>LGBM F1 score</th>\n",
       "      <td>0.617424</td>\n",
       "      <td>0.634630</td>\n",
       "    </tr>\n",
       "  </tbody>\n",
       "</table>\n",
       "</div>"
      ],
      "text/plain": [
       "classes                0         1\n",
       "LR Precision    0.594895  0.583656\n",
       "LR Recall       0.571089  0.607244\n",
       "LR F1score      0.582749  0.595216\n",
       "RF Precision    0.624492  0.589439\n",
       "RF Recall       0.533955  0.675743\n",
       "RF F1 score     0.575686  0.629647\n",
       "XG Precision    0.633636  0.611213\n",
       "XG Recall       0.585502  0.658104\n",
       "XG F1 score     0.608619  0.633792\n",
       "LGBM Precision  0.635605  0.617754\n",
       "LGBM Recall     0.600254  0.652453\n",
       "LGBM F1 score   0.617424  0.634630"
      ]
     },
     "execution_count": 306,
     "metadata": {},
     "output_type": "execute_result"
    }
   ],
   "source": [
    "final_results_per_class = {\n",
    "    'classes': [0,1],\n",
    "    'LR Precision' :lr_rpf[0],\n",
    "    'LR Recall' :lr_rpf[1],\n",
    "    'LR F1score' :lr_rpf[2],\n",
    "    'RF Precision':RF_rpf[0],\n",
    "    'RF Recall':RF_rpf[1],\n",
    "    'RF F1 score':RF_rpf[2],\n",
    "    'XG Precision':XG_rpf[0],\n",
    "    'XG Recall':XG_rpf[1],\n",
    "    'XG F1 score':XG_rpf[2],\n",
    "    'LGBM Precision':LGBM_rpf[0],\n",
    "    'LGBM Recall':LGBM_rpf[1],\n",
    "    'LGBM F1 score':LGBM_rpf[2]}\n",
    "final_results_per_class = pd.DataFrame(final_results_per_class).set_index('classes')\n",
    "final_results_per_class.T"
   ]
  },
  {
   "cell_type": "markdown",
   "id": "03fc96c5",
   "metadata": {},
   "source": [
    "### main outcomes:"
   ]
  },
  {
   "cell_type": "markdown",
   "id": "b54e7854",
   "metadata": {},
   "source": [
    "* The data is sckewed by a percentage of approximately 70% to those who did not churn\n",
    "* Random Forest Scored the highest accuracy, however, since reducing the number of churn is our main target, accuracy is not enough as a pefromance metrics\n",
    "* XGboost scored the highest recall for churn class (1).however, it scored poorly on those who didn't churn which makes the prediction ineligible.\n",
    "* LGBM scored decent recall average as it's weighted recall is not scewed by class 0"
   ]
  },
  {
   "cell_type": "markdown",
   "id": "fa29915e",
   "metadata": {},
   "source": [
    "### Proposal for feature work:\n",
    "* implementing LGBM model on a larger dataset (more than 10000 rows), since it's not suitable for small datasets and tuning it's parameters in small datasets has an unoticeable effect"
   ]
  }
 ],
 "metadata": {
  "kernelspec": {
   "display_name": "Python 3",
   "language": "python",
   "name": "python3"
  },
  "language_info": {
   "codemirror_mode": {
    "name": "ipython",
    "version": 3
   },
   "file_extension": ".py",
   "mimetype": "text/x-python",
   "name": "python",
   "nbconvert_exporter": "python",
   "pygments_lexer": "ipython3",
   "version": "3.8.8"
  }
 },
 "nbformat": 4,
 "nbformat_minor": 5
}
